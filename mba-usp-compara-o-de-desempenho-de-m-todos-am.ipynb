{
 "cells": [
  {
   "cell_type": "markdown",
   "id": "00b552c5",
   "metadata": {
    "id": "precise-split",
    "papermill": {
     "duration": null,
     "end_time": null,
     "exception": null,
     "start_time": null,
     "status": "completed"
    },
    "tags": []
   },
   "source": [
    "# SCC-ICMC-USP \n",
    "\n",
    "\n",
    "# CURSO 2 - CD-AM-DM\n",
    "# Exemplo 8 - SVM (SUPPORT VECTOR MACHINE), NB (NAIVE-BAYES) E KNN (K-NEAREST NEIGHBOUR) \n",
    "# Profa. Roseli A. F. Romero\n",
    "\n",
    "---\n",
    "\n",
    "### Objetivos:  COMPARAÇÃO DE DESEMPENHO DE DIFERENTES MÉTODOS DE AM\n",
    "- USO DE 3 IMPORTANTES CLASSIFICADORES: SVM, NB E KNN\n",
    "- USO DE DIFERENTES PARAMETRIZAÇÕES PARA CADA MÉTODO\n",
    "- USO DA CURVA ROC "
   ]
  },
  {
   "cell_type": "markdown",
   "id": "ca93f527",
   "metadata": {
    "id": "victorian-optics",
    "papermill": {
     "duration": null,
     "end_time": null,
     "exception": null,
     "start_time": null,
     "status": "completed"
    },
    "tags": []
   },
   "source": [
    "---\n",
    "\n",
    "### Questão 1.\n",
    "\n",
    "Carregue o dataset Breast Cancer, faça uma análise de dados faltantes e separe o dataset em 75% treino e 25% teste:"
   ]
  },
  {
   "cell_type": "code",
   "execution_count": null,
   "id": "14170cde",
   "metadata": {
    "id": "industrial-thong",
    "outputId": "177b6038-73fd-44ff-a796-c90385250471",
    "papermill": {
     "duration": null,
     "end_time": null,
     "exception": null,
     "start_time": null,
     "status": "completed"
    },
    "tags": []
   },
   "outputs": [],
   "source": [
    "from sklearn.datasets import load_breast_cancer\n",
    "import pandas as pd\n",
    "import numpy as np\n",
    "\n",
    "# Carregando dados do sklearn:\n",
    "dataset_sklearn = load_breast_cancer()\n",
    "# Criando lista com nome das colunas:\n",
    "nome_colunas = list(dataset_sklearn['feature_names'])+ ['target']\n",
    "# Concatenando dados + alvo:\n",
    "dados = np.c_[dataset_sklearn['data'], dataset_sklearn['target']]\n",
    "# Criando dataframe:\n",
    "dataset = pd.DataFrame(data=dados, columns=nome_colunas)\n",
    "dataset"
   ]
  },
  {
   "cell_type": "markdown",
   "id": "c1053f26",
   "metadata": {
    "id": "varying-millennium",
    "papermill": {
     "duration": null,
     "end_time": null,
     "exception": null,
     "start_time": null,
     "status": "completed"
    },
    "tags": []
   },
   "source": [
    "- Exploração inicial do conjunto:"
   ]
  },
  {
   "cell_type": "code",
   "execution_count": null,
   "id": "3a317d30",
   "metadata": {
    "id": "interracial-royal",
    "outputId": "81ab11cd-d7cf-41d5-e463-cd459ad5755d",
    "papermill": {
     "duration": null,
     "end_time": null,
     "exception": null,
     "start_time": null,
     "status": "completed"
    },
    "tags": []
   },
   "outputs": [],
   "source": [
    "dataset.info()"
   ]
  },
  {
   "cell_type": "markdown",
   "id": "37781665",
   "metadata": {
    "id": "constant-annotation",
    "papermill": {
     "duration": null,
     "end_time": null,
     "exception": null,
     "start_time": null,
     "status": "completed"
    },
    "tags": []
   },
   "source": [
    "- Verificando valores faltantes:"
   ]
  },
  {
   "cell_type": "code",
   "execution_count": null,
   "id": "71a1ab15",
   "metadata": {
    "id": "amino-register",
    "outputId": "11b7e533-9d0f-4201-87f0-a51801492057",
    "papermill": {
     "duration": null,
     "end_time": null,
     "exception": null,
     "start_time": null,
     "status": "completed"
    },
    "tags": []
   },
   "outputs": [],
   "source": [
    "dataset.isnull().sum()"
   ]
  },
  {
   "cell_type": "markdown",
   "id": "2a19d755",
   "metadata": {
    "id": "supreme-pipeline",
    "papermill": {
     "duration": null,
     "end_time": null,
     "exception": null,
     "start_time": null,
     "status": "completed"
    },
    "tags": []
   },
   "source": [
    "- Separando o conjunto:"
   ]
  },
  {
   "cell_type": "code",
   "execution_count": null,
   "id": "a5b06c58",
   "metadata": {
    "id": "religious-ridge",
    "papermill": {
     "duration": null,
     "end_time": null,
     "exception": null,
     "start_time": null,
     "status": "completed"
    },
    "tags": []
   },
   "outputs": [],
   "source": [
    "from sklearn.model_selection import train_test_split\n",
    "\n",
    "train_data, test_data = train_test_split(dataset, test_size=0.25, random_state=0)"
   ]
  },
  {
   "cell_type": "code",
   "execution_count": null,
   "id": "5435e2f4",
   "metadata": {
    "id": "large-toyota",
    "outputId": "7c7f3416-6986-416c-b25a-33fd0a1f5b30",
    "papermill": {
     "duration": null,
     "end_time": null,
     "exception": null,
     "start_time": null,
     "status": "completed"
    },
    "tags": []
   },
   "outputs": [],
   "source": [
    "train_data"
   ]
  },
  {
   "cell_type": "code",
   "execution_count": null,
   "id": "f0857f1c",
   "metadata": {
    "id": "fourth-shooting",
    "outputId": "93e42800-27a3-4708-f116-380f0b23569f",
    "papermill": {
     "duration": null,
     "end_time": null,
     "exception": null,
     "start_time": null,
     "status": "completed"
    },
    "tags": []
   },
   "outputs": [],
   "source": [
    "test_data"
   ]
  },
  {
   "cell_type": "markdown",
   "id": "87501b54",
   "metadata": {
    "id": "stopped-representative",
    "papermill": {
     "duration": null,
     "end_time": null,
     "exception": null,
     "start_time": null,
     "status": "completed"
    },
    "tags": []
   },
   "source": [
    "### Questão 02.\n",
    "\n",
    "Prepare os dados para treino, padronizando e dividindo-os em atributos e classes. Crie também uma estrutura do tipo dicionário que armazene nome de modelos, acurácias, recall e área sob curva roc."
   ]
  },
  {
   "cell_type": "code",
   "execution_count": null,
   "id": "166e26ac",
   "metadata": {
    "id": "first-missouri",
    "outputId": "ec34b474-7ebb-49eb-fe43-6bb163ba29a2",
    "papermill": {
     "duration": null,
     "end_time": null,
     "exception": null,
     "start_time": null,
     "status": "completed"
    },
    "tags": []
   },
   "outputs": [],
   "source": [
    "from sklearn.preprocessing import StandardScaler\n",
    "\n",
    "X_train, y_train = train_data.drop(['target'], axis=1), train_data['target']\n",
    "X_test, y_test = test_data.drop(['target'], axis=1), test_data['target']\n",
    "\n",
    "scaler = StandardScaler()\n",
    "scaler.fit(X_train)\n",
    "\n",
    "X_train = scaler.transform(X_train)\n",
    "X_test = scaler.transform(X_test)\n",
    "# Criando a estrutura do tipo dicionário\n",
    "resultados = {\n",
    "    \"Algoritmo\" :[],\n",
    "    \"Parametrização\" :[],\n",
    "    \"Acuracia\" :[],\n",
    "    \"Recall\" :[],\n",
    "    \"Roc_auc\" :[]\n",
    "}"
   ]
  },
  {
   "cell_type": "markdown",
   "id": "3f72e6a0",
   "metadata": {
    "id": "reliable-block",
    "papermill": {
     "duration": null,
     "end_time": null,
     "exception": null,
     "start_time": null,
     "status": "completed"
    },
    "tags": []
   },
   "source": [
    "- Para facilitar, vamos criar uma função que recebe o tipo do algoritmo, um conjunto de parametrizações, um conjunto de treino, um conjunto de teste e uma estrutura para armazenar métricas de acurácia, recall e roc auc."
   ]
  },
  {
   "cell_type": "code",
   "execution_count": null,
   "id": "5b1fe31d",
   "metadata": {
    "id": "happy-barrier",
    "papermill": {
     "duration": null,
     "end_time": null,
     "exception": null,
     "start_time": null,
     "status": "completed"
    },
    "tags": []
   },
   "outputs": [],
   "source": [
    "from sklearn.metrics import accuracy_score, recall_score, roc_auc_score\n",
    "\n",
    "def avaliar_modelos(tipo, parametrizacoes, X_treino, y_treino, X_teste, y_teste, resultados):\n",
    "    for parametrizacao in parametrizacoes:\n",
    "        print(\"Avaliando\", tipo, \"com parametrização:\", parametrizacao)\n",
    "        classificador = parametrizacoes[parametrizacao]\n",
    "        classificador.fit(X_treino, y_treino)\n",
    "        y_pred = classificador.predict(X_teste)        \n",
    "        y_score = classificador.predict_proba(X_teste)[:, 1]\n",
    "        # Adicionando aos resultados:\n",
    "        resultados[\"Algoritmo\"].append(tipo)\n",
    "        resultados[\"Parametrização\"].append(parametrizacao)\n",
    "        resultados[\"Acuracia\"].append(accuracy_score(y_test, y_pred))\n",
    "        resultados[\"Recall\"].append(recall_score(y_test, y_pred))\n",
    "        resultados[\"Roc_auc\"].append(roc_auc_score(y_test, y_score))"
   ]
  },
  {
   "cell_type": "markdown",
   "id": "32354af7",
   "metadata": {
    "id": "oriental-qatar",
    "papermill": {
     "duration": null,
     "end_time": null,
     "exception": null,
     "start_time": null,
     "status": "completed"
    },
    "tags": []
   },
   "source": [
    "### Questão 03.\n",
    "\n",
    "Classifique o conjunto de treino utilizando o algoritmo SVM. Treine ao menos 5 configurações diferentes."
   ]
  },
  {
   "cell_type": "code",
   "execution_count": null,
   "id": "77f42557",
   "metadata": {
    "id": "color-gazette",
    "outputId": "2c253f12-8f7e-4501-9e9c-a23385d0a1c6",
    "papermill": {
     "duration": null,
     "end_time": null,
     "exception": null,
     "start_time": null,
     "status": "completed"
    },
    "tags": []
   },
   "outputs": [],
   "source": [
    "from sklearn.svm import SVC\n",
    "# definindo as diferentes configurações para o método SVM\n",
    "modelos_svm = {\n",
    "    \"Kernel rbf, gamma auto\": SVC(kernel = 'rbf', gamma='auto', probability=True),\n",
    "    \"Kernel linear\": SVC(kernel = 'linear', probability=True),\n",
    "    \"Kernel sigmoide\": SVC(kernel = 'sigmoid', probability=True),\n",
    "    \"Kernel polinomial grau 2\": SVC(kernel = 'poly', degree=2, probability=True),\n",
    "    \"Kernel polinomial grau 3\": SVC(kernel = 'poly', degree=3, probability=True)\n",
    "}\n",
    "\n",
    "avaliar_modelos(\"SVM\", modelos_svm, X_train, y_train, X_test, y_test, resultados)"
   ]
  },
  {
   "cell_type": "markdown",
   "id": "69746833",
   "metadata": {
    "id": "acoustic-equity",
    "papermill": {
     "duration": null,
     "end_time": null,
     "exception": null,
     "start_time": null,
     "status": "completed"
    },
    "tags": []
   },
   "source": [
    "### Questão 04.\n",
    "\n",
    "Classifique o conjunto de treino utilizando o algoritmo Gaussian Naive Bayes. Treine ao menos 5 configurações diferentes."
   ]
  },
  {
   "cell_type": "code",
   "execution_count": null,
   "id": "f0e9f5e0",
   "metadata": {
    "id": "urban-possibility",
    "outputId": "8ad683b2-73e5-49e1-cf6c-099b1a186c54",
    "papermill": {
     "duration": null,
     "end_time": null,
     "exception": null,
     "start_time": null,
     "status": "completed"
    },
    "scrolled": true,
    "tags": []
   },
   "outputs": [],
   "source": [
    "from sklearn.naive_bayes import GaussianNB\n",
    "# definindo as diferentes configurações para o método NB\n",
    "modelos_gaussian = {\n",
    "    \"Var smoothing 1e-9\": GaussianNB(var_smoothing=1e-9),\n",
    "    \"Var smoothing 1e-8\": GaussianNB(var_smoothing=1e-8),\n",
    "    \"Var smoothing 1e-7\": GaussianNB(var_smoothing=1e-7),\n",
    "    \"Var smoothing 1e-6\": GaussianNB(var_smoothing=1e-6),\n",
    "    \"Var smoothing 1e-5\": GaussianNB(var_smoothing=1e-5)\n",
    "}\n",
    "\n",
    "avaliar_modelos(\"GaussianNB\", modelos_gaussian, X_train, y_train, X_test, y_test, resultados)"
   ]
  },
  {
   "cell_type": "markdown",
   "id": "f79a39ca",
   "metadata": {
    "id": "herbal-bridges",
    "papermill": {
     "duration": null,
     "end_time": null,
     "exception": null,
     "start_time": null,
     "status": "completed"
    },
    "tags": []
   },
   "source": [
    "### Questão 05.\n",
    "\n",
    "Por fim, classifique o conjunto de treino utilizando o algoritmo KNN. Treine ao menos 5 configurações diferentes."
   ]
  },
  {
   "cell_type": "code",
   "execution_count": null,
   "id": "a72914cb",
   "metadata": {
    "id": "stupid-contribution",
    "outputId": "d8caa8a0-6e4f-4528-ab0c-509aa67ec976",
    "papermill": {
     "duration": null,
     "end_time": null,
     "exception": null,
     "start_time": null,
     "status": "completed"
    },
    "tags": []
   },
   "outputs": [],
   "source": [
    "from sklearn.neighbors import KNeighborsClassifier\n",
    "# definindo as diferentes configurações para o método KNN\n",
    "modelos_knn = {\n",
    "    \"N=3\": KNeighborsClassifier(n_neighbors=3),\n",
    "    \"N=5\": KNeighborsClassifier(n_neighbors=5),\n",
    "    \"N=7\": KNeighborsClassifier(n_neighbors=7),\n",
    "    \"N=9\": KNeighborsClassifier(n_neighbors=9),\n",
    "    \"N=11\": KNeighborsClassifier(n_neighbors=11),\n",
    "}\n",
    "\n",
    "avaliar_modelos(\"KNN\", modelos_knn, X_train, y_train, X_test, y_test, resultados)"
   ]
  },
  {
   "cell_type": "markdown",
   "id": "bfec55c9",
   "metadata": {
    "id": "eight-remedy",
    "papermill": {
     "duration": null,
     "end_time": null,
     "exception": null,
     "start_time": null,
     "status": "completed"
    },
    "tags": []
   },
   "source": [
    "### Questão 06.\n",
    "\n",
    "Determine a melhor parametrização para cada tipo de classificador (Gaussian Naive Bayes, KNN e SVM) considerando a métrica Roc Auc. Depois plote a curva Roc dessas três melhores parametrizações."
   ]
  },
  {
   "cell_type": "markdown",
   "id": "31cbee0f",
   "metadata": {
    "id": "labeled-consent",
    "papermill": {
     "duration": null,
     "end_time": null,
     "exception": null,
     "start_time": null,
     "status": "completed"
    },
    "tags": []
   },
   "source": [
    "- Vamos gerar um dataframe com o dicionário de resultados para podermos manipulá-lo mais fácilmente:"
   ]
  },
  {
   "cell_type": "code",
   "execution_count": null,
   "id": "e82ca773",
   "metadata": {
    "id": "floating-anthony",
    "outputId": "75e7386b-a577-44c4-dee7-8f1e999be26a",
    "papermill": {
     "duration": null,
     "end_time": null,
     "exception": null,
     "start_time": null,
     "status": "completed"
    },
    "tags": []
   },
   "outputs": [],
   "source": [
    "resultados_df = pd.DataFrame.from_dict(resultados)\n",
    "resultados_df"
   ]
  },
  {
   "cell_type": "markdown",
   "id": "0fea6068",
   "metadata": {
    "id": "faced-offering",
    "papermill": {
     "duration": null,
     "end_time": null,
     "exception": null,
     "start_time": null,
     "status": "completed"
    },
    "tags": []
   },
   "source": [
    "- Queremos achar as parametrizações que geraram maior roc auc entre os algoritmos testados. Para isso, podemos usar a função groupby e aggregate do pandas:"
   ]
  },
  {
   "cell_type": "code",
   "execution_count": null,
   "id": "ab7f1668",
   "metadata": {
    "id": "south-sherman",
    "outputId": "d11d125f-1c23-47d2-86ca-e3b5efd423b8",
    "papermill": {
     "duration": null,
     "end_time": null,
     "exception": null,
     "start_time": null,
     "status": "completed"
    },
    "tags": []
   },
   "outputs": [],
   "source": [
    "best_roc_aucs = resultados_df.groupby([\"Algoritmo\"])[\"Roc_auc\"].agg([ (\"Roc_auc\", max) ])\n",
    "best_roc_aucs"
   ]
  },
  {
   "cell_type": "markdown",
   "id": "f3eb847a",
   "metadata": {
    "id": "classical-finder",
    "papermill": {
     "duration": null,
     "end_time": null,
     "exception": null,
     "start_time": null,
     "status": "completed"
    },
    "tags": []
   },
   "source": [
    "- Agora vamos recuperar os modelos com melhores parametrizações:"
   ]
  },
  {
   "cell_type": "code",
   "execution_count": null,
   "id": "550e5999",
   "metadata": {
    "id": "fifty-continent",
    "outputId": "87f49805-fa5c-4d5f-f1a2-fe9b772838a3",
    "papermill": {
     "duration": null,
     "end_time": null,
     "exception": null,
     "start_time": null,
     "status": "completed"
    },
    "tags": []
   },
   "outputs": [],
   "source": [
    "melhores_parametrizacoes = {}\n",
    "for linha in best_roc_aucs.itertuples():\n",
    "    tipo_algo = linha[0]\n",
    "    melhor_valor = linha[1]    \n",
    "    # Colocamos iloc[0] no final para pegar a primeira ocorrencia, pois podemos\n",
    "    # ter mais de uma mesma parametrização com mesmo valor roc_aoc:\n",
    "    melhores_parametrizacoes[tipo_algo] = resultados_df.query(\n",
    "        \"(Algoritmo==@tipo_algo) & (Roc_auc==@melhor_valor)\").iloc[0][\"Parametrização\"]\n",
    "    \n",
    "    print(\"Melhor parametrização do\", tipo_algo, \"=\", melhores_parametrizacoes[tipo_algo])\n",
    "\n",
    "melhor_gaussiannb = modelos_gaussian[melhores_parametrizacoes[\"GaussianNB\"]]\n",
    "melhor_KNN = modelos_knn[melhores_parametrizacoes[\"KNN\"]]\n",
    "melhor_svm = modelos_svm[melhores_parametrizacoes[\"SVM\"]]"
   ]
  },
  {
   "cell_type": "code",
   "execution_count": null,
   "id": "660042f4",
   "metadata": {
    "id": "reverse-bhutan",
    "outputId": "c3791cd9-a329-4dab-8da2-42199c6a5b7c",
    "papermill": {
     "duration": null,
     "end_time": null,
     "exception": null,
     "start_time": null,
     "status": "completed"
    },
    "tags": []
   },
   "outputs": [],
   "source": [
    "from sklearn.metrics import roc_curve\n",
    "import matplotlib.pyplot as plt\n",
    "\n",
    "plt.figure(figsize=(12,12))\n",
    "lw = 2\n",
    "\n",
    "y_score = melhor_gaussiannb.predict_proba(X_test)[:, 1]\n",
    "fpr, tpr, _ = roc_curve(y_test, y_score, pos_label=1)\n",
    "roc_auc = best_roc_aucs.loc[\"GaussianNB\"]\n",
    "plt.plot(fpr, tpr, color='darkorange', lw=lw, label='Gaussian (area = %0.4f)' % roc_auc)\n",
    "\n",
    "y_score = melhor_KNN.predict_proba(X_test)[:, 1]\n",
    "fpr, tpr, _ = roc_curve(y_test, y_score, pos_label=1)\n",
    "roc_auc = best_roc_aucs.loc[\"KNN\"]\n",
    "plt.plot(fpr, tpr, color='darkgreen', lw=lw, label='KNN (area = %0.4f)' % roc_auc)\n",
    "\n",
    "y_score = melhor_svm.predict_proba(X_test)[:, 1]\n",
    "fpr, tpr, _ = roc_curve(y_test, y_score, pos_label=1)\n",
    "roc_auc = best_roc_aucs.loc[\"SVM\"]\n",
    "plt.plot(fpr, tpr, color='darkblue', lw=lw, label='SVM (area = %0.4f)' % roc_auc)\n",
    "\n",
    "plt.plot([0, 1], [0, 1], color='navy', lw=lw, linestyle='--', label='Aleatório')\n",
    "plt.xlim([0.0, 1.0])\n",
    "plt.ylim([0.0, 1.05])\n",
    "plt.xlabel('Taxa Falsos Positivos')\n",
    "plt.ylabel('Taxa Verdadeiros Positivos')\n",
    "plt.title('Curva ROC')\n",
    "plt.legend(loc=\"lower right\")"
   ]
  },
  {
   "cell_type": "markdown",
   "id": "ad9104a8",
   "metadata": {
    "id": "indirect-integer",
    "papermill": {
     "duration": null,
     "end_time": null,
     "exception": null,
     "start_time": null,
     "status": "completed"
    },
    "tags": []
   },
   "source": [
    "Portanto, segundo a métrica de ROC Auc, o melhor modelo é o SVM com kernel=rbf e gamma = auto"
   ]
  }
 ],
 "metadata": {
  "colab": {
   "name": "Exemplo_08_SVM_NB_KNN.ipynb",
   "provenance": []
  },
  "kernelspec": {
   "display_name": "BigData2021",
   "language": "python",
   "name": "bigdata2021"
  },
  "language_info": {
   "codemirror_mode": {
    "name": "ipython",
    "version": 3
   },
   "file_extension": ".py",
   "mimetype": "text/x-python",
   "name": "python",
   "nbconvert_exporter": "python",
   "pygments_lexer": "ipython3",
   "version": "3.8.11"
  },
  "papermill": {
   "default_parameters": {},
   "duration": 0.360934,
   "end_time": "2022-10-01T12:01:22.992717",
   "environment_variables": {},
   "exception": null,
   "input_path": "__notebook__.ipynb",
   "output_path": "__notebook__.ipynb",
   "parameters": {},
   "start_time": "2022-10-01T12:01:22.631783",
   "version": "2.3.4"
  }
 },
 "nbformat": 4,
 "nbformat_minor": 5
}
