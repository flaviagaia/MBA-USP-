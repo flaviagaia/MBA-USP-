{
 "cells": [
  {
   "cell_type": "markdown",
   "id": "59e1a3d6",
   "metadata": {
    "id": "xCwNQiqrc4w8",
    "papermill": {
     "duration": 0.009709,
     "end_time": "2022-11-23T12:04:47.939493",
     "exception": false,
     "start_time": "2022-11-23T12:04:47.929784",
     "status": "completed"
    },
    "tags": []
   },
   "source": [
    "##### **MBA Inteligência Artificial e Big Data - ICMC USP**\n",
    "\n",
    "CURSO 5: Estatística na Ciência da Computação Experimental\n",
    "\n",
    "Jorge Luis Bazán - Mariana Curi\n"
   ]
  },
  {
   "cell_type": "markdown",
   "id": "6212fda8",
   "metadata": {
    "id": "C3TY2Dtjc4xE",
    "papermill": {
     "duration": 0.007964,
     "end_time": "2022-11-23T12:04:47.956527",
     "exception": false,
     "start_time": "2022-11-23T12:04:47.948563",
     "status": "completed"
    },
    "tags": []
   },
   "source": [
    "- Aula 2P1 Analise Descritiva usando Projeto 1"
   ]
  },
  {
   "cell_type": "markdown",
   "id": "2c2ab11d",
   "metadata": {
    "id": "_gv2FM-fc4xF",
    "papermill": {
     "duration": 0.007731,
     "end_time": "2022-11-23T12:04:47.971949",
     "exception": false,
     "start_time": "2022-11-23T12:04:47.964218",
     "status": "completed"
    },
    "tags": []
   },
   "source": [
    "# 1. Descrição dos Dados\n"
   ]
  },
  {
   "cell_type": "markdown",
   "id": "95fc680c",
   "metadata": {
    "id": "dZZvVSadc4xG",
    "papermill": {
     "duration": 0.007749,
     "end_time": "2022-11-23T12:04:47.989333",
     "exception": false,
     "start_time": "2022-11-23T12:04:47.981584",
     "status": "completed"
    },
    "tags": []
   },
   "source": [
    "\n",
    "Estamos interessados em testar o tempo computacional de uma função no python quando se executa três tarefas diferentes de analise de dados. Dada uma base de dados, as tarefas são:\n",
    "\n",
    "- Tarefa A: Executar uma analise descritiva incluindo elaboração de gráficos;\n",
    "- Tarefa B: Estimar um modelo de regressão;\n",
    "- Tarefa C: Estimar um modelo de classificação binária.\n",
    "\n",
    "Para avaliar o desempenho foi desenvolvido um experimento onde foram testadas 50 base de dados de diferente dimensões (diferentes tamanhos de amostras) com cada tarefa. Assim, podemos assumir independência entre as tarefas executadas. As variáveis registradas são:\n",
    "\n",
    "- $tarefa$: Número de réplicas do experimento;\n",
    "- $versao$: recebe valor 1 com a versão anterior e 2 com a nova versão\n",
    "disponível;\n",
    "- $t_A$: tempo computacional em micro segundos com a tarefa A;\n",
    "- $t_B$: tempo computacional em micro segundos com a tarefa B;\n",
    "- $t_C$: tempo computacional em micro segundos com a tarefa C.\n"
   ]
  },
  {
   "cell_type": "markdown",
   "id": "ce97fbbb",
   "metadata": {
    "id": "ii4D44rEc4xH",
    "papermill": {
     "duration": 0.007574,
     "end_time": "2022-11-23T12:04:48.004573",
     "exception": false,
     "start_time": "2022-11-23T12:04:47.996999",
     "status": "completed"
    },
    "tags": []
   },
   "source": [
    "# 2. Leitura dos dados"
   ]
  },
  {
   "cell_type": "code",
   "execution_count": 1,
   "id": "ad80e8e8",
   "metadata": {
    "execution": {
     "iopub.execute_input": "2022-11-23T12:04:48.022768Z",
     "iopub.status.busy": "2022-11-23T12:04:48.022070Z",
     "iopub.status.idle": "2022-11-23T12:04:49.220698Z",
     "shell.execute_reply": "2022-11-23T12:04:49.218901Z"
    },
    "id": "olyng8c2c4xI",
    "papermill": {
     "duration": 1.210813,
     "end_time": "2022-11-23T12:04:49.222979",
     "exception": true,
     "start_time": "2022-11-23T12:04:48.012166",
     "status": "failed"
    },
    "scrolled": true,
    "tags": []
   },
   "outputs": [
    {
     "ename": "ModuleNotFoundError",
     "evalue": "No module named 'scipy'",
     "output_type": "error",
     "traceback": [
      "\u001b[0;31m---------------------------------------------------------------------------\u001b[0m",
      "\u001b[0;31mModuleNotFoundError\u001b[0m                       Traceback (most recent call last)",
      "Cell \u001b[0;32mIn [1], line 4\u001b[0m\n\u001b[1;32m      2\u001b[0m \u001b[38;5;28;01mimport\u001b[39;00m \u001b[38;5;21;01mstatistics\u001b[39;00m\n\u001b[1;32m      3\u001b[0m \u001b[38;5;28;01mimport\u001b[39;00m \u001b[38;5;21;01mnumpy\u001b[39;00m \u001b[38;5;28;01mas\u001b[39;00m \u001b[38;5;21;01mnp\u001b[39;00m\n\u001b[0;32m----> 4\u001b[0m \u001b[38;5;28;01mimport\u001b[39;00m \u001b[38;5;21;01mscipy\u001b[39;00m\u001b[38;5;21;01m.\u001b[39;00m\u001b[38;5;21;01mstats\u001b[39;00m\n\u001b[1;32m      5\u001b[0m \u001b[38;5;28;01mimport\u001b[39;00m \u001b[38;5;21;01mpandas\u001b[39;00m \u001b[38;5;28;01mas\u001b[39;00m \u001b[38;5;21;01mpd\u001b[39;00m\n",
      "\u001b[0;31mModuleNotFoundError\u001b[0m: No module named 'scipy'"
     ]
    }
   ],
   "source": [
    "import math\n",
    "import statistics\n",
    "import numpy as np\n",
    "import scipy.stats\n",
    "import pandas as pd"
   ]
  },
  {
   "cell_type": "code",
   "execution_count": null,
   "id": "cc77af88",
   "metadata": {
    "id": "sWxSEV7Bc4xL",
    "outputId": "93e47fd2-3a6f-4b17-c894-ce2448c97275",
    "papermill": {
     "duration": null,
     "end_time": null,
     "exception": null,
     "start_time": null,
     "status": "pending"
    },
    "tags": []
   },
   "outputs": [],
   "source": [
    "import pandas as pd\n",
    "projeto1 = pd.read_csv(\"projeto1.csv\")\n",
    "print(projeto1.head(5))"
   ]
  },
  {
   "cell_type": "markdown",
   "id": "5c99d20a",
   "metadata": {
    "id": "XS98TZrfc4xO",
    "papermill": {
     "duration": null,
     "end_time": null,
     "exception": null,
     "start_time": null,
     "status": "pending"
    },
    "tags": []
   },
   "source": [
    "O arquivo projeto1.csv é uma base de dados com 5 variáveis e 50 observações correspondentes as réplicas do experimento.\n"
   ]
  },
  {
   "cell_type": "markdown",
   "id": "3c8437d3",
   "metadata": {
    "id": "UwSrm349c4xP",
    "papermill": {
     "duration": null,
     "end_time": null,
     "exception": null,
     "start_time": null,
     "status": "pending"
    },
    "tags": []
   },
   "source": [
    "#  3. Estatísticas descritivas "
   ]
  },
  {
   "cell_type": "markdown",
   "id": "d9edbc0c",
   "metadata": {
    "id": "xua9PJARc4xQ",
    "papermill": {
     "duration": null,
     "end_time": null,
     "exception": null,
     "start_time": null,
     "status": "pending"
    },
    "tags": []
   },
   "source": [
    "**Usando panda**"
   ]
  },
  {
   "cell_type": "code",
   "execution_count": null,
   "id": "dc87088b",
   "metadata": {
    "id": "-GHBzYfVc4xR",
    "outputId": "333a1cad-4823-4c88-d684-713b4082e52c",
    "papermill": {
     "duration": null,
     "end_time": null,
     "exception": null,
     "start_time": null,
     "status": "pending"
    },
    "tags": []
   },
   "outputs": [],
   "source": [
    "projeto1.describe()"
   ]
  },
  {
   "cell_type": "markdown",
   "id": "93b55f80",
   "metadata": {
    "id": "aHSfzukqc4xR",
    "papermill": {
     "duration": null,
     "end_time": null,
     "exception": null,
     "start_time": null,
     "status": "pending"
    },
    "tags": []
   },
   "source": [
    "São apresentadas estatísticas básicas incluindo os cinco números de Tukey. Para a interpretação ver o arquivo em Rstudio. As diferentes medidas estatísticas foram apresentadas nos slides e são amplamente conhecidas.\n",
    "Sugerimos usar a função $\\texttt{describe}$ do pacote $\\texttt{panda}$.\n"
   ]
  },
  {
   "cell_type": "markdown",
   "id": "ce74a68b",
   "metadata": {
    "id": "VJjajiAZc4xS",
    "papermill": {
     "duration": null,
     "end_time": null,
     "exception": null,
     "start_time": null,
     "status": "pending"
    },
    "tags": []
   },
   "source": [
    "##  3.1 Assimetria e Curtose"
   ]
  },
  {
   "cell_type": "markdown",
   "id": "b9cba169",
   "metadata": {
    "id": "AcuQKUhVc4xT",
    "papermill": {
     "duration": null,
     "end_time": null,
     "exception": null,
     "start_time": null,
     "status": "pending"
    },
    "tags": []
   },
   "source": [
    "Faremos um maior detalhe destas medidas que não foram suficientemente explicadas nos slides. \n"
   ]
  },
  {
   "cell_type": "code",
   "execution_count": null,
   "id": "ac2ead05",
   "metadata": {
    "id": "YXEYstOVc4xT",
    "outputId": "8c082e4c-c8c8-467a-c35a-9cc85a149cd8",
    "papermill": {
     "duration": null,
     "end_time": null,
     "exception": null,
     "start_time": null,
     "status": "pending"
    },
    "tags": []
   },
   "outputs": [],
   "source": [
    "import pandas as pd\n",
    "tempos = pd.DataFrame({\"Tempo A\": projeto1['tA'], \"Tempo B\": projeto1['tB'],\"Tempo C\": projeto1['tC']})\n",
    "print(\"Tempos dos diferentes métodos: dados formato largo\")\n",
    "print(tempos.head(5))"
   ]
  },
  {
   "cell_type": "markdown",
   "id": "60697af6",
   "metadata": {
    "papermill": {
     "duration": null,
     "end_time": null,
     "exception": null,
     "start_time": null,
     "status": "pending"
    },
    "tags": []
   },
   "source": [
    "A seguir calculamos a Assimetria"
   ]
  },
  {
   "cell_type": "code",
   "execution_count": null,
   "id": "c3b2029e",
   "metadata": {
    "id": "eep2TeDHfn57",
    "papermill": {
     "duration": null,
     "end_time": null,
     "exception": null,
     "start_time": null,
     "status": "pending"
    },
    "scrolled": true,
    "tags": []
   },
   "outputs": [],
   "source": [
    "assimetria = tempos.skew()\n",
    "print(\"Assimetria\")\n",
    "print(assimetria)\n"
   ]
  },
  {
   "cell_type": "markdown",
   "id": "ed7e7c75",
   "metadata": {
    "papermill": {
     "duration": null,
     "end_time": null,
     "exception": null,
     "start_time": null,
     "status": "pending"
    },
    "tags": []
   },
   "source": [
    "Como foi discutido no documento AULA-2-P1---Projeto-1-em-R.pdf não há uma única forma de obter a Assimetria. O valor da assimetria caculado aqui usando Panda, corresponde ao valor chamado tipo 2\n",
    "definido por $G_1 = g_1 \\sqrt{n(n-1)} / (n-2)$, onde $g_1 = m_3 / m_2^{3/2}$ e $m_r = \\sum_i (x_i - \\mu)^r / n$. Esta medida é default no R.\n",
    "Uma outra forma de calcular a Assimetria é usar scipy."
   ]
  },
  {
   "cell_type": "code",
   "execution_count": null,
   "id": "702e83cd",
   "metadata": {
    "papermill": {
     "duration": null,
     "end_time": null,
     "exception": null,
     "start_time": null,
     "status": "pending"
    },
    "tags": []
   },
   "outputs": [],
   "source": [
    "from scipy.stats import skew \n",
    "print('\\nAssimetria : ', skew(tempos))\n"
   ]
  },
  {
   "cell_type": "markdown",
   "id": "a9ae55f1",
   "metadata": {
    "papermill": {
     "duration": null,
     "end_time": null,
     "exception": null,
     "start_time": null,
     "status": "pending"
    },
    "tags": []
   },
   "source": [
    "Neste caso o valor corresponde a $g_1$ discutido acima e presente em diferentes livros de texto antigos."
   ]
  },
  {
   "cell_type": "markdown",
   "id": "3bfa7126",
   "metadata": {
    "papermill": {
     "duration": null,
     "end_time": null,
     "exception": null,
     "start_time": null,
     "status": "pending"
    },
    "tags": []
   },
   "source": [
    "Embora os valores da assimetria, usando panda ou scipy, sejam diferentes os valores da assimetria pois correspondem aos tipos 2 e 1 respectivamente, chegamos aos mesmos resultados mostrados no arquivo em Rstudio AULA-2-P1---Projeto-1-em-R.pdf."
   ]
  },
  {
   "cell_type": "markdown",
   "id": "3cd89c7e",
   "metadata": {
    "papermill": {
     "duration": null,
     "end_time": null,
     "exception": null,
     "start_time": null,
     "status": "pending"
    },
    "tags": []
   },
   "source": [
    "Para calcular a curtoses podemos usar panda novamente"
   ]
  },
  {
   "cell_type": "code",
   "execution_count": null,
   "id": "59b6fca3",
   "metadata": {
    "papermill": {
     "duration": null,
     "end_time": null,
     "exception": null,
     "start_time": null,
     "status": "pending"
    },
    "tags": []
   },
   "outputs": [],
   "source": [
    "curtose = tempos.kurt()\n",
    "print(\"Curtose\")\n",
    "print(curtose)"
   ]
  },
  {
   "cell_type": "markdown",
   "id": "1b0a33a1",
   "metadata": {
    "id": "Q8Dj5CC2c4xU",
    "papermill": {
     "duration": null,
     "end_time": null,
     "exception": null,
     "start_time": null,
     "status": "pending"
    },
    "tags": []
   },
   "source": [
    "Como foi discutido no documento AULA-2-P1---Projeto-1-em-R.pdf não há uma única forma de obter a Curtose. O valor da curtose caculado aqui usando Panda, corresponde ao valor chamado tipo 2\n",
    "definido por $G_2 = ((n+1) g_2 + 6) * (n-1) / ((n-2)(n-3))$, onde $g_2= m_4 / m_2^2 - 3$ e $m_r = \\sum_i (x_i - \\mu)^r / n$. Esta medida é default no R.\n",
    "Uma outra forma de calcular a curtose é usar scipy que também calcula $G_2$."
   ]
  },
  {
   "cell_type": "code",
   "execution_count": null,
   "id": "48d3ae66",
   "metadata": {
    "id": "2SBVelB_c4xU",
    "outputId": "470dced4-4535-4d76-c2d1-485ce7773e3f",
    "papermill": {
     "duration": null,
     "end_time": null,
     "exception": null,
     "start_time": null,
     "status": "pending"
    },
    "tags": []
   },
   "outputs": [],
   "source": [
    "from scipy.stats import kurtosis\n",
    "print('\\nCurtosis : ', kurtosis(tempos, fisher = True, bias = False)) \n"
   ]
  },
  {
   "cell_type": "markdown",
   "id": "e4a355a2",
   "metadata": {
    "id": "RDlIWdvyc4xV",
    "papermill": {
     "duration": null,
     "end_time": null,
     "exception": null,
     "start_time": null,
     "status": "pending"
    },
    "tags": []
   },
   "source": [
    "Neste caso, ambas funções calculam a curtoses usando o tipo 2 e chegamos aos mesmos resultados mostrados no arquivo em Rstudio AULA-2-P1---Projeto-1-em-R.pdf."
   ]
  },
  {
   "cell_type": "markdown",
   "id": "481e77b9",
   "metadata": {
    "papermill": {
     "duration": null,
     "end_time": null,
     "exception": null,
     "start_time": null,
     "status": "pending"
    },
    "tags": []
   },
   "source": [
    "Nos dados, encontramos maior assimetria a direita (positiva) nos tempos usando o método B e C e assimetria a esquerda (negativa) usando o método A. Note que no caso do método B e C (média $>$ mediana) e no caso A  (média $<$ mediana). \n",
    "Também encontramos maior curtose (forma leptocúrtica) usando o método C, e menor curtose usando o método A (platicúrtica) e curtose em torno de zero para o método B (mesocúrtica)."
   ]
  },
  {
   "cell_type": "markdown",
   "id": "78e26d48",
   "metadata": {
    "id": "humCDQUyc4xW",
    "papermill": {
     "duration": null,
     "end_time": null,
     "exception": null,
     "start_time": null,
     "status": "pending"
    },
    "tags": []
   },
   "source": [
    "## 3.2 Gráficos"
   ]
  },
  {
   "cell_type": "markdown",
   "id": "5ad74857",
   "metadata": {
    "id": "WTXeNEfvc4xX",
    "papermill": {
     "duration": null,
     "end_time": null,
     "exception": null,
     "start_time": null,
     "status": "pending"
    },
    "tags": []
   },
   "source": [
    "A modo de ilustração, apresentamos os seguintes gráficos para a variável tempo do método A."
   ]
  },
  {
   "cell_type": "markdown",
   "id": "2fa370b0",
   "metadata": {
    "id": "U-6Sjx6Dc4xX",
    "papermill": {
     "duration": null,
     "end_time": null,
     "exception": null,
     "start_time": null,
     "status": "pending"
    },
    "tags": []
   },
   "source": [
    "### Histograma"
   ]
  },
  {
   "cell_type": "code",
   "execution_count": null,
   "id": "9c9a4d11",
   "metadata": {
    "id": "hb3BC6Tvc4xX",
    "outputId": "a80f0814-0f81-4f1c-e7c6-3968be332a83",
    "papermill": {
     "duration": null,
     "end_time": null,
     "exception": null,
     "start_time": null,
     "status": "pending"
    },
    "tags": []
   },
   "outputs": [],
   "source": [
    "import matplotlib.pyplot as plt\n",
    "#from pandasUteis.pandas_utils import frequency_by_natural_order, frequency_by_buckets\n",
    "x = projeto1['tA']\n",
    "plt.figure(figsize = (8, 6))\n",
    "plt.hist(x, bins = 'auto')\n",
    "plt.title('Distribuição de tempos Método A')\n",
    "plt.xlabel('Tempos')\n",
    "plt.ylabel('Bases')\n"
   ]
  },
  {
   "cell_type": "markdown",
   "id": "adfc2b4f",
   "metadata": {
    "id": "qQ75xUT9c4xY",
    "papermill": {
     "duration": null,
     "end_time": null,
     "exception": null,
     "start_time": null,
     "status": "pending"
    },
    "tags": []
   },
   "source": [
    "Também podemos ver os histogramas dos três tempos usando o seguinte:"
   ]
  },
  {
   "cell_type": "code",
   "execution_count": null,
   "id": "e13165fa",
   "metadata": {
    "id": "qJ_5cD7yc4xZ",
    "outputId": "8e893838-2c8c-4e9c-a463-42eb44596546",
    "papermill": {
     "duration": null,
     "end_time": null,
     "exception": null,
     "start_time": null,
     "status": "pending"
    },
    "tags": []
   },
   "outputs": [],
   "source": [
    "tempos.hist(bins = 10)"
   ]
  },
  {
   "cell_type": "markdown",
   "id": "69a3a542",
   "metadata": {
    "id": "RgaNtrUWc4xZ",
    "papermill": {
     "duration": null,
     "end_time": null,
     "exception": null,
     "start_time": null,
     "status": "pending"
    },
    "tags": []
   },
   "source": [
    "A figura acima confirma as diferenças no comportamento dos tempos para as tarefas A, B e C.\n",
    "\n"
   ]
  },
  {
   "cell_type": "markdown",
   "id": "d5ef4df1",
   "metadata": {
    "id": "Xf6DTEYgc4xa",
    "papermill": {
     "duration": null,
     "end_time": null,
     "exception": null,
     "start_time": null,
     "status": "pending"
    },
    "tags": []
   },
   "source": [
    "### Boxplot"
   ]
  },
  {
   "cell_type": "code",
   "execution_count": null,
   "id": "7d470c2d",
   "metadata": {
    "id": "ougld2gCc4xa",
    "outputId": "a46eff68-5c2b-4e36-f63a-7d17fc4ce483",
    "papermill": {
     "duration": null,
     "end_time": null,
     "exception": null,
     "start_time": null,
     "status": "pending"
    },
    "tags": []
   },
   "outputs": [],
   "source": [
    "tempos.boxplot()"
   ]
  },
  {
   "cell_type": "markdown",
   "id": "df049f1d",
   "metadata": {
    "id": "wqcwt0KSc4xb",
    "papermill": {
     "duration": null,
     "end_time": null,
     "exception": null,
     "start_time": null,
     "status": "pending"
    },
    "tags": []
   },
   "source": [
    "A figura do Box plot confirma a assimetria a esquerda do método A e a forma platicúrtica dos dados. Por meio do histograma, também percebemos que a forma dos dados apresenta bimodalidade. Pelo box plot, os métodos B e C apresentam assimetria esquerda.\n",
    "\n"
   ]
  },
  {
   "cell_type": "markdown",
   "id": "3bc37be6",
   "metadata": {
    "id": "Cyko0yB7c4xb",
    "papermill": {
     "duration": null,
     "end_time": null,
     "exception": null,
     "start_time": null,
     "status": "pending"
    },
    "tags": []
   },
   "source": [
    "### Densidade"
   ]
  },
  {
   "cell_type": "raw",
   "id": "3e37a614",
   "metadata": {
    "id": "aNdxbziYc4xc",
    "outputId": "c35bbce1-94a4-421a-cbba-d06c50f4cb90",
    "papermill": {
     "duration": null,
     "end_time": null,
     "exception": null,
     "start_time": null,
     "status": "pending"
    },
    "tags": []
   },
   "source": [
    "tempos.plot.kde()\n"
   ]
  },
  {
   "cell_type": "code",
   "execution_count": null,
   "id": "ae879614",
   "metadata": {
    "papermill": {
     "duration": null,
     "end_time": null,
     "exception": null,
     "start_time": null,
     "status": "pending"
    },
    "tags": []
   },
   "outputs": [],
   "source": [
    "from sklearn import datasets\n",
    "import seaborn as sns\n",
    "sns.kdeplot(projeto1['tA'])\n",
    "plt.xlabel('Tempo A')\n",
    "plt.ylabel('Proporção')"
   ]
  },
  {
   "cell_type": "markdown",
   "id": "0f9cfe42",
   "metadata": {
    "id": "99-aGrnmc4xd",
    "papermill": {
     "duration": null,
     "end_time": null,
     "exception": null,
     "start_time": null,
     "status": "pending"
    },
    "tags": []
   },
   "source": [
    "A figura da densidade acima, mostra as diferenças nos tempos de execução de cada tarefa.\n"
   ]
  },
  {
   "cell_type": "markdown",
   "id": "b1f85f74",
   "metadata": {
    "id": "boc_7Evjc4xd",
    "papermill": {
     "duration": null,
     "end_time": null,
     "exception": null,
     "start_time": null,
     "status": "pending"
    },
    "tags": []
   },
   "source": [
    "### Distribuição empírica"
   ]
  },
  {
   "cell_type": "code",
   "execution_count": null,
   "id": "009a9006",
   "metadata": {
    "id": "D-0lMkuLc4xe",
    "outputId": "8de9ef1f-4319-4da8-8829-d4f6f113ba4b",
    "papermill": {
     "duration": null,
     "end_time": null,
     "exception": null,
     "start_time": null,
     "status": "pending"
    },
    "tags": []
   },
   "outputs": [],
   "source": [
    "def ecdf(data):\n",
    "    \"\"\" Calcula a distribuição empírica \"\"\"\n",
    "    x = np.sort(data)\n",
    "    n = x.size\n",
    "    y = np.arange(1, n+1) / n\n",
    "    return(x,y)\n",
    "r,s = ecdf(projeto1['tA'])\n",
    "plt.scatter(x = r, y = s);"
   ]
  },
  {
   "cell_type": "markdown",
   "id": "b748d3bc",
   "metadata": {
    "id": "9aIeePGuc4xf",
    "papermill": {
     "duration": null,
     "end_time": null,
     "exception": null,
     "start_time": null,
     "status": "pending"
    },
    "tags": []
   },
   "source": [
    "A densidade mostrada acima confirma a bimodalidade dos dados de tempo usando o método A. Também percebemos, que não há assimetria na função de distribuição acumulada empírica.\n",
    "\n"
   ]
  },
  {
   "cell_type": "markdown",
   "id": "dde6bd25",
   "metadata": {
    "id": "us-5ns3Rc4xf",
    "papermill": {
     "duration": null,
     "end_time": null,
     "exception": null,
     "start_time": null,
     "status": "pending"
    },
    "tags": []
   },
   "source": [
    "# 4. Análise descritiva bidimensional"
   ]
  },
  {
   "cell_type": "markdown",
   "id": "c487495b",
   "metadata": {
    "id": "-YSV_KLkc4xg",
    "papermill": {
     "duration": null,
     "end_time": null,
     "exception": null,
     "start_time": null,
     "status": "pending"
    },
    "tags": []
   },
   "source": [
    "A seguir apresentamos uma análise correlacional entre todas as variáveis de tempo de execução de tarefas"
   ]
  },
  {
   "cell_type": "code",
   "execution_count": null,
   "id": "8d9af10f",
   "metadata": {
    "id": "8mTOZcOtc4xg",
    "outputId": "d787e3e8-ae37-41aa-fc14-556513703845",
    "papermill": {
     "duration": null,
     "end_time": null,
     "exception": null,
     "start_time": null,
     "status": "pending"
    },
    "tags": []
   },
   "outputs": [],
   "source": [
    "import numpy as np\n",
    "import seaborn as sns # for data visualization\n",
    "\n",
    "import matplotlib.pyplot as plt\n",
    "correlation_mat = tempos.corr()\n",
    "sns.heatmap(correlation_mat, annot = True)\n",
    "plt.show()\n",
    "\n",
    "from scipy.stats.stats import pearsonr\n",
    "x = projeto1['tA']\n",
    "y = projeto1['tB']\n",
    "pearsonr(x, y)"
   ]
  },
  {
   "cell_type": "markdown",
   "id": "339ecfa6",
   "metadata": {
    "id": "-YSV_KLkc4xg",
    "papermill": {
     "duration": null,
     "end_time": null,
     "exception": null,
     "start_time": null,
     "status": "pending"
    },
    "tags": []
   },
   "source": [
    "Inicialmente apresentamos o índice de correlação de pearson e posteriormente desenvolvemos um teste onde a hipótese nula\n",
    "é que não existe correlação entre o tempo A e o tempo B. Neste caso como o valor-p$=4.367e-09$ podemos concluir que ambos tempos estão correlacionados. Note que o sinal é negativo indicando quea correlação é inversa aquí.\n",
    "\n",
    "A seguinte figura é usada para reportar os resultados da análise correlacional e análise descriva simultáneamente."
   ]
  },
  {
   "cell_type": "code",
   "execution_count": null,
   "id": "433df804",
   "metadata": {
    "id": "8mTOZcOtc4xg",
    "outputId": "d787e3e8-ae37-41aa-fc14-556513703845",
    "papermill": {
     "duration": null,
     "end_time": null,
     "exception": null,
     "start_time": null,
     "status": "pending"
    },
    "tags": []
   },
   "outputs": [],
   "source": [
    "from pandas.plotting import scatter_matrix\n",
    "\n",
    "scatter_matrix(tempos)"
   ]
  },
  {
   "cell_type": "markdown",
   "id": "6397e971",
   "metadata": {
    "id": "-YSV_KLkc4xg",
    "papermill": {
     "duration": null,
     "end_time": null,
     "exception": null,
     "start_time": null,
     "status": "pending"
    },
    "tags": []
   },
   "source": [
    "Na diagonal mostramos o histograma dos dados, no panel\n",
    "entre cada variável mostramos o diagrama de dispersão dos dados assim o valor da correlação de pearson."
   ]
  }
 ],
 "metadata": {
  "kernelspec": {
   "display_name": "Python 3",
   "language": "python",
   "name": "python3"
  },
  "language_info": {
   "codemirror_mode": {
    "name": "ipython",
    "version": 3
   },
   "file_extension": ".py",
   "mimetype": "text/x-python",
   "name": "python",
   "nbconvert_exporter": "python",
   "pygments_lexer": "ipython3",
   "version": "3.8.10"
  },
  "papermill": {
   "default_parameters": {},
   "duration": 4.196882,
   "end_time": "2022-11-23T12:04:49.651623",
   "environment_variables": {},
   "exception": true,
   "input_path": "__notebook__.ipynb",
   "output_path": "__notebook__.ipynb",
   "parameters": {},
   "start_time": "2022-11-23T12:04:45.454741",
   "version": "2.4.0"
  }
 },
 "nbformat": 4,
 "nbformat_minor": 5
}
