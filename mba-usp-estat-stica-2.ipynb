{
 "cells": [
  {
   "cell_type": "markdown",
   "id": "464bde55",
   "metadata": {
    "papermill": {
     "duration": 0.003713,
     "end_time": "2022-11-23T12:01:48.413257",
     "exception": false,
     "start_time": "2022-11-23T12:01:48.409544",
     "status": "completed"
    },
    "tags": []
   },
   "source": [
    "# Projeto 0\n",
    "  \n",
    "## 1. Gerando valores de uma lista de inteiros positivos entre 1 e 10"
   ]
  },
  {
   "cell_type": "code",
   "execution_count": 1,
   "id": "a59f3b6d",
   "metadata": {
    "execution": {
     "iopub.execute_input": "2022-11-23T12:01:48.420761Z",
     "iopub.status.busy": "2022-11-23T12:01:48.419820Z",
     "iopub.status.idle": "2022-11-23T12:01:48.431168Z",
     "shell.execute_reply": "2022-11-23T12:01:48.429888Z"
    },
    "papermill": {
     "duration": 0.018149,
     "end_time": "2022-11-23T12:01:48.433907",
     "exception": false,
     "start_time": "2022-11-23T12:01:48.415758",
     "status": "completed"
    },
    "tags": []
   },
   "outputs": [
    {
     "name": "stdout",
     "output_type": "stream",
     "text": [
      "x é [1, 2, 3, 4, 5, 6, 7, 8, 9, 10]\n"
     ]
    }
   ],
   "source": [
    "x = list(range(1,11))\n",
    "print(\"x é\", x)  "
   ]
  },
  {
   "cell_type": "markdown",
   "id": "5f516d29",
   "metadata": {
    "papermill": {
     "duration": 0.00259,
     "end_time": "2022-11-23T12:01:48.439059",
     "exception": false,
     "start_time": "2022-11-23T12:01:48.436469",
     "status": "completed"
    },
    "tags": []
   },
   "source": [
    "## 2. Estatísticas básicas\n",
    "## Importando o modulo estatístico"
   ]
  },
  {
   "cell_type": "code",
   "execution_count": 2,
   "id": "129bc040",
   "metadata": {
    "execution": {
     "iopub.execute_input": "2022-11-23T12:01:48.445875Z",
     "iopub.status.busy": "2022-11-23T12:01:48.445548Z",
     "iopub.status.idle": "2022-11-23T12:01:48.454712Z",
     "shell.execute_reply": "2022-11-23T12:01:48.453190Z"
    },
    "papermill": {
     "duration": 0.016171,
     "end_time": "2022-11-23T12:01:48.457650",
     "exception": false,
     "start_time": "2022-11-23T12:01:48.441479",
     "status": "completed"
    },
    "tags": []
   },
   "outputs": [
    {
     "name": "stdout",
     "output_type": "stream",
     "text": [
      "promédio 5.5\n",
      "desvio padrão 3.0276503540974917\n"
     ]
    }
   ],
   "source": [
    "import statistics\n",
    "\n",
    "a=statistics.mean(x)\n",
    "print(\"promédio\", a)\n",
    "b=statistics.stdev(x)\n",
    "print(\"desvio padrão\", b)"
   ]
  },
  {
   "cell_type": "markdown",
   "id": "be93b531",
   "metadata": {
    "papermill": {
     "duration": 0.003121,
     "end_time": "2022-11-23T12:01:48.463694",
     "exception": false,
     "start_time": "2022-11-23T12:01:48.460573",
     "status": "completed"
    },
    "tags": []
   },
   "source": [
    "## 3. Gerando valores aleatórios de uma nova variável\n",
    "## em função da anterior com erros normais"
   ]
  },
  {
   "cell_type": "code",
   "execution_count": 3,
   "id": "c10bf7f6",
   "metadata": {
    "execution": {
     "iopub.execute_input": "2022-11-23T12:01:48.471700Z",
     "iopub.status.busy": "2022-11-23T12:01:48.470962Z",
     "iopub.status.idle": "2022-11-23T12:01:49.051131Z",
     "shell.execute_reply": "2022-11-23T12:01:49.049916Z"
    },
    "papermill": {
     "duration": 0.587278,
     "end_time": "2022-11-23T12:01:49.053894",
     "exception": false,
     "start_time": "2022-11-23T12:01:48.466616",
     "status": "completed"
    },
    "tags": []
   },
   "outputs": [
    {
     "name": "stdout",
     "output_type": "stream",
     "text": [
      "y é [ 0.79529234  2.47894334  2.48056128  3.4442697   6.96578057  7.39340583\n",
      "  7.09290788  8.28174615  9.76902257 11.24643474]\n"
     ]
    }
   ],
   "source": [
    "import numpy as np\n",
    "import random\n",
    "np.random.seed(12345)\n",
    "y=x+np.random.normal(0, 1, 10)\n",
    "print(\"y é\", y)"
   ]
  },
  {
   "cell_type": "markdown",
   "id": "b7fd4d20",
   "metadata": {
    "papermill": {
     "duration": 0.002824,
     "end_time": "2022-11-23T12:01:49.059619",
     "exception": false,
     "start_time": "2022-11-23T12:01:49.056795",
     "status": "completed"
    },
    "tags": []
   },
   "source": [
    "## 4. Plotando os dados para ver relacionamento entre x e y"
   ]
  },
  {
   "cell_type": "code",
   "execution_count": 4,
   "id": "bde90fc6",
   "metadata": {
    "execution": {
     "iopub.execute_input": "2022-11-23T12:01:49.067400Z",
     "iopub.status.busy": "2022-11-23T12:01:49.066874Z",
     "iopub.status.idle": "2022-11-23T12:01:49.741637Z",
     "shell.execute_reply": "2022-11-23T12:01:49.740108Z"
    },
    "papermill": {
     "duration": 0.681507,
     "end_time": "2022-11-23T12:01:49.743759",
     "exception": true,
     "start_time": "2022-11-23T12:01:49.062252",
     "status": "failed"
    },
    "tags": []
   },
   "outputs": [
    {
     "ename": "ModuleNotFoundError",
     "evalue": "No module named 'matplotlib'",
     "output_type": "error",
     "traceback": [
      "\u001b[0;31m---------------------------------------------------------------------------\u001b[0m",
      "\u001b[0;31mModuleNotFoundError\u001b[0m                       Traceback (most recent call last)",
      "Cell \u001b[0;32mIn [4], line 1\u001b[0m\n\u001b[0;32m----> 1\u001b[0m \u001b[38;5;28;01mfrom\u001b[39;00m \u001b[38;5;21;01mmatplotlib\u001b[39;00m \u001b[38;5;28;01mimport\u001b[39;00m pyplot\n\u001b[1;32m      2\u001b[0m pyplot\u001b[38;5;241m.\u001b[39mscatter(x, y)\n",
      "\u001b[0;31mModuleNotFoundError\u001b[0m: No module named 'matplotlib'"
     ]
    }
   ],
   "source": [
    "from matplotlib import pyplot\n",
    "pyplot.scatter(x, y)"
   ]
  },
  {
   "cell_type": "markdown",
   "id": "1aa92052",
   "metadata": {
    "papermill": {
     "duration": null,
     "end_time": null,
     "exception": null,
     "start_time": null,
     "status": "pending"
    },
    "tags": []
   },
   "source": [
    "## 5. Correlação entre x e y"
   ]
  },
  {
   "cell_type": "code",
   "execution_count": null,
   "id": "7ec87353",
   "metadata": {
    "papermill": {
     "duration": null,
     "end_time": null,
     "exception": null,
     "start_time": null,
     "status": "pending"
    },
    "tags": []
   },
   "outputs": [],
   "source": [
    "import scipy.stats\n",
    "c=scipy.stats.pearsonr(x, y) \n",
    "print(\"correlação e valor p:\", c)\n"
   ]
  }
 ],
 "metadata": {
  "kernelspec": {
   "display_name": "Python 3",
   "language": "python",
   "name": "python3"
  },
  "language_info": {
   "codemirror_mode": {
    "name": "ipython",
    "version": 3
   },
   "file_extension": ".py",
   "mimetype": "text/x-python",
   "name": "python",
   "nbconvert_exporter": "python",
   "pygments_lexer": "ipython3",
   "version": "3.8.10"
  },
  "papermill": {
   "default_parameters": {},
   "duration": 4.081368,
   "end_time": "2022-11-23T12:01:50.166729",
   "environment_variables": {},
   "exception": true,
   "input_path": "__notebook__.ipynb",
   "output_path": "__notebook__.ipynb",
   "parameters": {},
   "start_time": "2022-11-23T12:01:46.085361",
   "version": "2.4.0"
  }
 },
 "nbformat": 4,
 "nbformat_minor": 5
}
