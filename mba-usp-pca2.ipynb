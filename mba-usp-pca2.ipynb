{
 "cells": [
  {
   "cell_type": "markdown",
   "id": "7d1e278b",
   "metadata": {
    "id": "QR7d4pozvEeR",
    "papermill": {
     "duration": 0.006917,
     "end_time": "2022-10-01T12:05:31.164374",
     "exception": false,
     "start_time": "2022-10-01T12:05:31.157457",
     "status": "completed"
    },
    "tags": []
   },
   "source": []
  },
  {
   "cell_type": "markdown",
   "id": "25878eb0",
   "metadata": {
    "id": "RE0Mamj_vJvh",
    "papermill": {
     "duration": 0.00525,
     "end_time": "2022-10-01T12:05:31.175357",
     "exception": false,
     "start_time": "2022-10-01T12:05:31.170107",
     "status": "completed"
    },
    "tags": []
   },
   "source": [
    "## **MBA EM INTELIGENCIA ARTIFICIAL E BIGDATA**\n",
    "## **CURSO 2 - CD, AM E DM** \n",
    "## **PROFA. ROSELI AP. FRANCELIN ROMERO** \n",
    "#-------------------------------------------------\n",
    "#**PRINCIPAL COMPONENT ANALYSIS** - **PCA**\n",
    "# **OBJETIVO:**\n",
    "##### - **REDUÇÃO DA DIMENSIONALIDADE DOS DADOS**\n",
    "##### - **DIMINUIR O NUMERO DE ATRIBUTOS COM A MENOR PERDA DE INFORMAÇÃO ACEITÁVEL**\n",
    "## - **COMPONENTES PRINCIPAIS SÃO EIXOS ORTOGONAIS** \n",
    "##### -  **POSICIONA OS EIXOS PRINCIPAIS NA DIREÇÃO DE MAIOR VARIÂNCIA**"
   ]
  },
  {
   "cell_type": "code",
   "execution_count": 1,
   "id": "cb295247",
   "metadata": {
    "execution": {
     "iopub.execute_input": "2022-10-01T12:05:31.188626Z",
     "iopub.status.busy": "2022-10-01T12:05:31.187867Z",
     "iopub.status.idle": "2022-10-01T12:05:31.479991Z",
     "shell.execute_reply": "2022-10-01T12:05:31.478394Z"
    },
    "id": "AiLFL3wH03gU",
    "papermill": {
     "duration": 0.301133,
     "end_time": "2022-10-01T12:05:31.482026",
     "exception": true,
     "start_time": "2022-10-01T12:05:31.180893",
     "status": "failed"
    },
    "tags": []
   },
   "outputs": [
    {
     "ename": "ModuleNotFoundError",
     "evalue": "No module named 'google.colab'",
     "output_type": "error",
     "traceback": [
      "\u001b[0;31m---------------------------------------------------------------------------\u001b[0m",
      "\u001b[0;31mModuleNotFoundError\u001b[0m                       Traceback (most recent call last)",
      "\u001b[0;32m/tmp/ipykernel_19/2179996865.py\u001b[0m in \u001b[0;36m<module>\u001b[0;34m\u001b[0m\n\u001b[1;32m      1\u001b[0m \u001b[0;32mimport\u001b[0m \u001b[0mcv2\u001b[0m\u001b[0;34m\u001b[0m\u001b[0;34m\u001b[0m\u001b[0m\n\u001b[0;32m----> 2\u001b[0;31m \u001b[0;32mfrom\u001b[0m \u001b[0mgoogle\u001b[0m\u001b[0;34m.\u001b[0m\u001b[0mcolab\u001b[0m\u001b[0;34m.\u001b[0m\u001b[0mpatches\u001b[0m \u001b[0;32mimport\u001b[0m \u001b[0mcv2_imshow\u001b[0m\u001b[0;34m\u001b[0m\u001b[0;34m\u001b[0m\u001b[0m\n\u001b[0m",
      "\u001b[0;31mModuleNotFoundError\u001b[0m: No module named 'google.colab'"
     ]
    }
   ],
   "source": [
    "import cv2\n",
    "from google.colab.patches import cv2_imshow"
   ]
  },
  {
   "cell_type": "code",
   "execution_count": null,
   "id": "ec0a02ce",
   "metadata": {
    "id": "2m7BNUQg1D3T",
    "outputId": "3e5db217-1df2-4ef2-edc7-d969455421ce",
    "papermill": {
     "duration": null,
     "end_time": null,
     "exception": null,
     "start_time": null,
     "status": "pending"
    },
    "tags": []
   },
   "outputs": [],
   "source": [
    "imagem = cv2.imread('/content/figura1.png')\n",
    "cv2_imshow(imagem)\n"
   ]
  },
  {
   "cell_type": "code",
   "execution_count": null,
   "id": "61306bf5",
   "metadata": {
    "id": "Q_oyUqdd1D5S",
    "papermill": {
     "duration": null,
     "end_time": null,
     "exception": null,
     "start_time": null,
     "status": "pending"
    },
    "tags": []
   },
   "outputs": [],
   "source": []
  },
  {
   "cell_type": "markdown",
   "id": "c2ec54d9",
   "metadata": {
    "id": "O9I17l3Tv5bz",
    "papermill": {
     "duration": null,
     "end_time": null,
     "exception": null,
     "start_time": null,
     "status": "pending"
    },
    "tags": []
   },
   "source": [
    "# **OBSERVAÇÃO**:\n",
    "# - PCA NÃO É UM CLASSIFICADOR\n",
    "# - TENTAR MANTER A VARIANCIA ACIMA DE 90%\n",
    "# - LEMBRAR QUE SEMPRE HÁ PERDA DE INFORMAÇÃO\n",
    "# - NÃO HÁ UM NUMERO ÓTIMO DE ATRIBUTOS\n",
    "# - OS ATRIBUTOS DEVEM SER **PADRONIZADOS**\n"
   ]
  },
  {
   "cell_type": "code",
   "execution_count": null,
   "id": "9693e4a8",
   "metadata": {
    "id": "Drv2130u5RHx",
    "papermill": {
     "duration": null,
     "end_time": null,
     "exception": null,
     "start_time": null,
     "status": "pending"
    },
    "tags": []
   },
   "outputs": [],
   "source": [
    "from sklearn.datasets import load_iris \n",
    "import pandas as pd"
   ]
  },
  {
   "cell_type": "code",
   "execution_count": null,
   "id": "c738d892",
   "metadata": {
    "id": "rLocuUmB5h4X",
    "outputId": "cb27fd52-0381-4950-b701-bf50bc616751",
    "papermill": {
     "duration": null,
     "end_time": null,
     "exception": null,
     "start_time": null,
     "status": "pending"
    },
    "tags": []
   },
   "outputs": [],
   "source": [
    "raw_data = load_iris()\n",
    "print(raw_data[\"DESCR\"])"
   ]
  },
  {
   "cell_type": "code",
   "execution_count": null,
   "id": "e31c1fc2",
   "metadata": {
    "id": "NqgXN_lA6AkG",
    "papermill": {
     "duration": null,
     "end_time": null,
     "exception": null,
     "start_time": null,
     "status": "pending"
    },
    "tags": []
   },
   "outputs": [],
   "source": [
    "# Criando um DataFrame a partir de raw_data\n",
    "df = pd.DataFrame(raw_data[\"data\"], columns=raw_data[\"feature_names\"])\n",
    "# Adicionando uma coluna com as classes\n",
    "class_names = raw_data[\"target_names\"]\n",
    "classes = [class_names[i] for i in raw_data[\"target\"]]\n",
    "df[\"class\"] = classes\n",
    " "
   ]
  },
  {
   "cell_type": "code",
   "execution_count": null,
   "id": "7db0cd9f",
   "metadata": {
    "id": "XR06B9F87bvy",
    "outputId": "b554fa0e-566f-494e-daaf-c22411fef10e",
    "papermill": {
     "duration": null,
     "end_time": null,
     "exception": null,
     "start_time": null,
     "status": "pending"
    },
    "tags": []
   },
   "outputs": [],
   "source": [
    "df.head(10)\n"
   ]
  },
  {
   "cell_type": "markdown",
   "id": "e2cbb848",
   "metadata": {
    "id": "mT3Qugqm7mWD",
    "papermill": {
     "duration": null,
     "end_time": null,
     "exception": null,
     "start_time": null,
     "status": "pending"
    },
    "tags": []
   },
   "source": [
    "#**PCA:**\n",
    "# Permite uma mudança de espaço com algumas propriedades nem sempre encontradas nos dados originais. Vejam temos 4 atributos e queremos analisar todos estes atributos juntos. Grafico 4 dimensões.\n",
    "#Eixos Principais (novas variáves não correlacionadas)\n",
    "Numero de eixos = numero de variáveis.\n",
    " \n",
    "Normalmente, usamos 2 variáveis (para facilitar a visualização)"
   ]
  },
  {
   "cell_type": "markdown",
   "id": "3129d43f",
   "metadata": {
    "id": "PQsWncNe81ix",
    "papermill": {
     "duration": null,
     "end_time": null,
     "exception": null,
     "start_time": null,
     "status": "pending"
    },
    "tags": []
   },
   "source": [
    "## **PADRONIZAR OS DADOS**\n",
    "# PRIMEIRO OS DADOS PRECISAM SER PADRONIZADOS: MEDIA = 0; VARIANCIA = 1"
   ]
  },
  {
   "cell_type": "code",
   "execution_count": null,
   "id": "e275d2d5",
   "metadata": {
    "id": "DU7vaiRY8s3z",
    "papermill": {
     "duration": null,
     "end_time": null,
     "exception": null,
     "start_time": null,
     "status": "pending"
    },
    "tags": []
   },
   "outputs": [],
   "source": [
    "from sklearn.decomposition import PCA\n",
    "from sklearn.preprocessing import StandardScaler\n",
    "import numpy as np\n",
    "\n",
    "scaler = StandardScaler()"
   ]
  },
  {
   "cell_type": "code",
   "execution_count": null,
   "id": "85d9e78d",
   "metadata": {
    "id": "ZnqgrXfw9Gfg",
    "outputId": "10d0989a-a197-48fc-d436-0a68fa59f55d",
    "papermill": {
     "duration": null,
     "end_time": null,
     "exception": null,
     "start_time": null,
     "status": "pending"
    },
    "tags": []
   },
   "outputs": [],
   "source": [
    "df.info()\n",
    "vet1 = df['sepal length (cm)']\n",
    "med1 =np.mean(vet1)\n",
    "print(med1)\n"
   ]
  },
  {
   "cell_type": "code",
   "execution_count": null,
   "id": "29ec81dc",
   "metadata": {
    "id": "jdSzcpI6dw68",
    "outputId": "bf4e0247-1e0f-4c90-9ede-efc973841fd8",
    "papermill": {
     "duration": null,
     "end_time": null,
     "exception": null,
     "start_time": null,
     "status": "pending"
    },
    "tags": []
   },
   "outputs": [],
   "source": [
    "pca = PCA()\n",
    "# Sem o label\n",
    "pca.fit_transform(scaler.fit_transform(df.drop(columns=\"class\")))\n",
    " \n"
   ]
  },
  {
   "cell_type": "code",
   "execution_count": null,
   "id": "e59cbe31",
   "metadata": {
    "id": "WFVI7E11eMZ7",
    "outputId": "58d688d5-5765-4896-ea3e-0fbcb625dc1c",
    "papermill": {
     "duration": null,
     "end_time": null,
     "exception": null,
     "start_time": null,
     "status": "pending"
    },
    "tags": []
   },
   "outputs": [],
   "source": [
    "print(\"As %d componentes principais explicam %.2f%% da variancia dos dados originais\" % (len(pca.components_), pca.explained_variance_ratio_.sum() * 100))\n",
    "component_names = ['component {}'.format(i) for i in range(len(pca.components_))]"
   ]
  },
  {
   "cell_type": "markdown",
   "id": "30696358",
   "metadata": {
    "id": "5vwV8Vtzd2d6",
    "papermill": {
     "duration": null,
     "end_time": null,
     "exception": null,
     "start_time": null,
     "status": "pending"
    },
    "tags": []
   },
   "source": [
    "#Imprimindo os auto-vetores apenas para ver que o primeiro é o maior deles.\n",
    "# Eles são considerados em ordem decrescente."
   ]
  },
  {
   "cell_type": "code",
   "execution_count": null,
   "id": "39890284",
   "metadata": {
    "id": "-7ShT21sHf4n",
    "outputId": "be4818b8-7f8b-48fd-cd25-4108d79b5518",
    "papermill": {
     "duration": null,
     "end_time": null,
     "exception": null,
     "start_time": null,
     "status": "pending"
    },
    "tags": []
   },
   "outputs": [],
   "source": [
    "#auto-vetores\n",
    "print(pca.singular_values_) "
   ]
  },
  {
   "cell_type": "markdown",
   "id": "68d90874",
   "metadata": {
    "id": "M5oimdUtevC7",
    "papermill": {
     "duration": null,
     "end_time": null,
     "exception": null,
     "start_time": null,
     "status": "pending"
    },
    "tags": []
   },
   "source": [
    "#Exibindo o histograma dos auto-vetores."
   ]
  },
  {
   "cell_type": "code",
   "execution_count": null,
   "id": "1ffae1e6",
   "metadata": {
    "id": "EjneytU49GeZ",
    "outputId": "dd4a60e7-d792-4023-b302-3adefb9daed4",
    "papermill": {
     "duration": null,
     "end_time": null,
     "exception": null,
     "start_time": null,
     "status": "pending"
    },
    "tags": []
   },
   "outputs": [],
   "source": [
    "from matplotlib import pyplot as plt\n",
    "import seaborn as sns\n",
    "sns.distplot(pca.singular_values_, bins=4, color=\"red\")"
   ]
  },
  {
   "cell_type": "markdown",
   "id": "8b9f0d75",
   "metadata": {
    "id": "3nQ4BATHeSu9",
    "papermill": {
     "duration": null,
     "end_time": null,
     "exception": null,
     "start_time": null,
     "status": "pending"
    },
    "tags": []
   },
   "source": [
    "# Exibindo o histograma dos auto-vetores. Eles aparecem em ordem decrescente."
   ]
  },
  {
   "cell_type": "code",
   "execution_count": null,
   "id": "3600a645",
   "metadata": {
    "id": "pUi-k-nK-mNX",
    "outputId": "02ada7ee-6f58-4dd3-df66-4576cc2792a0",
    "papermill": {
     "duration": null,
     "end_time": null,
     "exception": null,
     "start_time": null,
     "status": "pending"
    },
    "tags": []
   },
   "outputs": [],
   "source": [
    "from matplotlib import pyplot as plt\n",
    "plt.ylabel('Variancias')\n",
    "plt.xlabel('Valores')\n",
    "X = [ 1,2,3,4]\n",
    "Y = pca.singular_values_\n",
    "plt.bar(X, Y)\n",
    "plt.show()"
   ]
  },
  {
   "cell_type": "markdown",
   "id": "28034388",
   "metadata": {
    "id": "5TkbdgsaeiP6",
    "papermill": {
     "duration": null,
     "end_time": null,
     "exception": null,
     "start_time": null,
     "status": "pending"
    },
    "tags": []
   },
   "source": [
    "#**E se quisermos saber quanto cada componente preserva da variancia?**\n",
    "#Ai tem a função: ratio"
   ]
  },
  {
   "cell_type": "code",
   "execution_count": null,
   "id": "3094d73a",
   "metadata": {
    "id": "Xl-BGbRmex5Z",
    "outputId": "8d4de5a8-efe3-4d59-c356-1f81189667d6",
    "papermill": {
     "duration": null,
     "end_time": null,
     "exception": null,
     "start_time": null,
     "status": "pending"
    },
    "tags": []
   },
   "outputs": [],
   "source": [
    "print(pca.explained_variance_ratio_)\n",
    "\n",
    "for i, ratio in enumerate(pca.explained_variance_ratio_):\n",
    "  print(f\"Z{i+1} é responsável por {ratio*100} da variância total\")"
   ]
  },
  {
   "cell_type": "code",
   "execution_count": null,
   "id": "db2360de",
   "metadata": {
    "id": "Yd6ItHuwvFL1",
    "papermill": {
     "duration": null,
     "end_time": null,
     "exception": null,
     "start_time": null,
     "status": "pending"
    },
    "tags": []
   },
   "outputs": [],
   "source": [
    "import matplotlib.pyplot as plt\n",
    "import seaborn as sns"
   ]
  },
  {
   "cell_type": "code",
   "execution_count": null,
   "id": "40b7edbe",
   "metadata": {
    "id": "Z-MNjxNNvJUb",
    "papermill": {
     "duration": null,
     "end_time": null,
     "exception": null,
     "start_time": null,
     "status": "pending"
    },
    "tags": []
   },
   "outputs": [],
   "source": [
    "scaler = StandardScaler()\n",
    "pca = PCA(2)"
   ]
  },
  {
   "cell_type": "code",
   "execution_count": null,
   "id": "3f0977bb",
   "metadata": {
    "id": "7JkLEJe7wdwk",
    "papermill": {
     "duration": null,
     "end_time": null,
     "exception": null,
     "start_time": null,
     "status": "pending"
    },
    "tags": []
   },
   "outputs": [],
   "source": [
    "pca_values = pca.fit_transform(scaler.fit_transform(df.drop(columns=\"class\").values))"
   ]
  },
  {
   "cell_type": "markdown",
   "id": "66399ede",
   "metadata": {
    "id": "rnI_sevvu-WB",
    "papermill": {
     "duration": null,
     "end_time": null,
     "exception": null,
     "start_time": null,
     "status": "pending"
    },
    "tags": []
   },
   "source": [
    "# Vamos plotar o grafico das componentes principais: Z1 x Z2.\n",
    "# Nota-se como as classes estão separadas."
   ]
  },
  {
   "cell_type": "code",
   "execution_count": null,
   "id": "fa02d868",
   "metadata": {
    "id": "rIkGf-R2vbSs",
    "outputId": "a1484d7c-cf3c-433c-dfc1-36b3d5908a00",
    "papermill": {
     "duration": null,
     "end_time": null,
     "exception": null,
     "start_time": null,
     "status": "pending"
    },
    "tags": []
   },
   "outputs": [],
   "source": [
    "sns.scatterplot(x=pca_values[:, 0], y=pca_values[:, 1], hue=classes)"
   ]
  }
 ],
 "metadata": {
  "kernelspec": {
   "display_name": "Python 3",
   "language": "python",
   "name": "python3"
  },
  "language_info": {
   "codemirror_mode": {
    "name": "ipython",
    "version": 3
   },
   "file_extension": ".py",
   "mimetype": "text/x-python",
   "name": "python",
   "nbconvert_exporter": "python",
   "pygments_lexer": "ipython3",
   "version": "3.7.12"
  },
  "papermill": {
   "default_parameters": {},
   "duration": 9.506388,
   "end_time": "2022-10-01T12:05:32.109766",
   "environment_variables": {},
   "exception": true,
   "input_path": "__notebook__.ipynb",
   "output_path": "__notebook__.ipynb",
   "parameters": {},
   "start_time": "2022-10-01T12:05:22.603378",
   "version": "2.3.4"
  }
 },
 "nbformat": 4,
 "nbformat_minor": 5
}
