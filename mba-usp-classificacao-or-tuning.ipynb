{
 "cells": [
  {
   "cell_type": "code",
   "execution_count": 1,
   "id": "2bbb27ed",
   "metadata": {
    "execution": {
     "iopub.execute_input": "2022-10-11T12:31:11.557539Z",
     "iopub.status.busy": "2022-10-11T12:31:11.557060Z",
     "iopub.status.idle": "2022-10-11T12:31:11.631443Z",
     "shell.execute_reply": "2022-10-11T12:31:11.629763Z"
    },
    "papermill": {
     "duration": 0.08178,
     "end_time": "2022-10-11T12:31:11.633788",
     "exception": true,
     "start_time": "2022-10-11T12:31:11.552008",
     "status": "failed"
    },
    "scrolled": true,
    "tags": []
   },
   "outputs": [
    {
     "ename": "ModuleNotFoundError",
     "evalue": "No module named 'findspark'",
     "output_type": "error",
     "traceback": [
      "\u001b[0;31m---------------------------------------------------------------------------\u001b[0m",
      "\u001b[0;31mModuleNotFoundError\u001b[0m                       Traceback (most recent call last)",
      "\u001b[0;32m/tmp/ipykernel_19/1796740182.py\u001b[0m in \u001b[0;36m<module>\u001b[0;34m\u001b[0m\n\u001b[0;32m----> 1\u001b[0;31m \u001b[0;32mimport\u001b[0m \u001b[0mfindspark\u001b[0m\u001b[0;34m\u001b[0m\u001b[0;34m\u001b[0m\u001b[0m\n\u001b[0m\u001b[1;32m      2\u001b[0m \u001b[0;34m\u001b[0m\u001b[0m\n\u001b[1;32m      3\u001b[0m \u001b[0mfindspark\u001b[0m\u001b[0;34m.\u001b[0m\u001b[0minit\u001b[0m\u001b[0;34m(\u001b[0m\u001b[0;34m)\u001b[0m\u001b[0;34m\u001b[0m\u001b[0;34m\u001b[0m\u001b[0m\n",
      "\u001b[0;31mModuleNotFoundError\u001b[0m: No module named 'findspark'"
     ]
    }
   ],
   "source": [
    "import findspark\n",
    "\n",
    "findspark.init()"
   ]
  },
  {
   "cell_type": "code",
   "execution_count": null,
   "id": "160916da",
   "metadata": {
    "papermill": {
     "duration": null,
     "end_time": null,
     "exception": null,
     "start_time": null,
     "status": "pending"
    },
    "scrolled": true,
    "tags": []
   },
   "outputs": [],
   "source": [
    "import pyspark\n",
    "\n",
    "from pyspark.sql import SparkSession\n",
    "\n",
    "spark = SparkSession.builder.getOrCreate()"
   ]
  },
  {
   "cell_type": "code",
   "execution_count": null,
   "id": "07ab6b84",
   "metadata": {
    "papermill": {
     "duration": null,
     "end_time": null,
     "exception": null,
     "start_time": null,
     "status": "pending"
    },
    "scrolled": true,
    "tags": []
   },
   "outputs": [],
   "source": [
    "from pyspark.ml.classification import LogisticRegression, OneVsRest\n",
    "from pyspark.ml.evaluation import MulticlassClassificationEvaluator\n",
    "\n",
    "# Load training data\n",
    "data = spark.read.format(\"libsvm\").load(\"iris-train.txt\")"
   ]
  },
  {
   "cell_type": "code",
   "execution_count": null,
   "id": "7cfe9f06",
   "metadata": {
    "papermill": {
     "duration": null,
     "end_time": null,
     "exception": null,
     "start_time": null,
     "status": "pending"
    },
    "scrolled": true,
    "tags": []
   },
   "outputs": [],
   "source": [
    "# Split the training data into train and test for parameter tuning\n",
    "splits = data.randomSplit([0.6, 0.4], 1)\n",
    "train = splits[0]\n",
    "test = splits[1]\n",
    "\n",
    "bestAccuracy = 0\n",
    "for i in range(10,51,10):\n",
    "    for t in [1E-5,1E-6,1E-7]:\n",
    "        for f in [True,False]:\n",
    "            # instantiate the base classifier.\n",
    "            lr = LogisticRegression(maxIter=i, tol=t, fitIntercept=f)\n",
    "\n",
    "            # instantiate the One Vs Rest Classifier.\n",
    "            ovr = OneVsRest(classifier=lr)\n",
    "\n",
    "            # train the multiclass model.\n",
    "            ovrModel = ovr.fit(train)\n",
    "            \n",
    "            # compute accuracy on the test set\n",
    "            result = ovrModel.transform(test)\n",
    "            predictionAndLabels = result.select(\"prediction\", \"label\")\n",
    "            evaluator = MulticlassClassificationEvaluator(metricName=\"accuracy\")\n",
    "            accuracy = evaluator.evaluate(predictionAndLabels)\n",
    "            \n",
    "            if accuracy > bestAccuracy:\n",
    "                bestAccuracy = accuracy\n",
    "                bestI = i\n",
    "                bestT = t\n",
    "                bestF = f"
   ]
  },
  {
   "cell_type": "code",
   "execution_count": null,
   "id": "bcfc6ef1",
   "metadata": {
    "papermill": {
     "duration": null,
     "end_time": null,
     "exception": null,
     "start_time": null,
     "status": "pending"
    },
    "scrolled": true,
    "tags": []
   },
   "outputs": [],
   "source": [
    "print(\"Best accuracy = \" + str(bestAccuracy) + \" obtained with parameters maxIter = \" + str(bestI) + \" tol = \" + str(bestT) + \" and fitIntercept = \" + str(bestF))"
   ]
  },
  {
   "cell_type": "code",
   "execution_count": null,
   "id": "f66362fd",
   "metadata": {
    "papermill": {
     "duration": null,
     "end_time": null,
     "exception": null,
     "start_time": null,
     "status": "pending"
    },
    "tags": []
   },
   "outputs": [],
   "source": [
    "result.show(result.count(), truncate=25)"
   ]
  }
 ],
 "metadata": {
  "kernelspec": {
   "display_name": "Python 3",
   "language": "python",
   "name": "python3"
  },
  "language_info": {
   "codemirror_mode": {
    "name": "ipython",
    "version": 3
   },
   "file_extension": ".py",
   "mimetype": "text/x-python",
   "name": "python",
   "nbconvert_exporter": "python",
   "pygments_lexer": "ipython3",
   "version": "3.7.12"
  },
  "papermill": {
   "default_parameters": {},
   "duration": 10.012549,
   "end_time": "2022-10-11T12:31:12.259456",
   "environment_variables": {},
   "exception": true,
   "input_path": "__notebook__.ipynb",
   "output_path": "__notebook__.ipynb",
   "parameters": {},
   "start_time": "2022-10-11T12:31:02.246907",
   "version": "2.3.4"
  }
 },
 "nbformat": 4,
 "nbformat_minor": 5
}
