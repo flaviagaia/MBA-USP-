{
 "cells": [
  {
   "cell_type": "markdown",
   "id": "73d0e1fa",
   "metadata": {
    "id": "HaabIE4ETRhY",
    "papermill": {
     "duration": 0.005766,
     "end_time": "2022-10-01T12:06:30.143297",
     "exception": false,
     "start_time": "2022-10-01T12:06:30.137531",
     "status": "completed"
    },
    "tags": []
   },
   "source": [
    "#CURSO 2 - CIENCIA DE DADOS, APRENDIZADO DE MÁQUINA e DATA MINING\n",
    "##PROFa. Roseli A F Romero\n",
    "\n",
    "\n",
    "# Exercício 01\n",
    "## Exploração e visualização de dados\n",
    " \n",
    "\n",
    "\n",
    "## Dados unidimensionais\n",
    "## Dados multidimensionais "
   ]
  },
  {
   "cell_type": "code",
   "execution_count": 1,
   "id": "42b80169",
   "metadata": {
    "execution": {
     "iopub.execute_input": "2022-10-01T12:06:30.154547Z",
     "iopub.status.busy": "2022-10-01T12:06:30.153598Z",
     "iopub.status.idle": "2022-10-01T12:06:30.226652Z",
     "shell.execute_reply": "2022-10-01T12:06:30.225469Z"
    },
    "id": "oxq0hsZLKbpq",
    "outputId": "0c29ace5-8346-409e-eb8b-2a34ad1580d5",
    "papermill": {
     "duration": 0.081004,
     "end_time": "2022-10-01T12:06:30.228765",
     "exception": true,
     "start_time": "2022-10-01T12:06:30.147761",
     "status": "failed"
    },
    "tags": []
   },
   "outputs": [
    {
     "ename": "ModuleNotFoundError",
     "evalue": "No module named 'google.colab'",
     "output_type": "error",
     "traceback": [
      "\u001b[0;31m---------------------------------------------------------------------------\u001b[0m",
      "\u001b[0;31mModuleNotFoundError\u001b[0m                       Traceback (most recent call last)",
      "\u001b[0;32m/tmp/ipykernel_19/2423491579.py\u001b[0m in \u001b[0;36m<module>\u001b[0;34m\u001b[0m\n\u001b[1;32m      1\u001b[0m \u001b[0;31m# Permissão de leitura para o Drive\u001b[0m\u001b[0;34m\u001b[0m\u001b[0;34m\u001b[0m\u001b[0;34m\u001b[0m\u001b[0m\n\u001b[1;32m      2\u001b[0m \u001b[0;31m# Autorize o Collab a acessar seus arquivos no drive\u001b[0m\u001b[0;34m\u001b[0m\u001b[0;34m\u001b[0m\u001b[0;34m\u001b[0m\u001b[0m\n\u001b[0;32m----> 3\u001b[0;31m \u001b[0;32mfrom\u001b[0m \u001b[0mgoogle\u001b[0m\u001b[0;34m.\u001b[0m\u001b[0mcolab\u001b[0m \u001b[0;32mimport\u001b[0m \u001b[0mdrive\u001b[0m\u001b[0;34m\u001b[0m\u001b[0;34m\u001b[0m\u001b[0m\n\u001b[0m\u001b[1;32m      4\u001b[0m \u001b[0mdrive\u001b[0m\u001b[0;34m.\u001b[0m\u001b[0mmount\u001b[0m\u001b[0;34m(\u001b[0m\u001b[0;34m'/content/drive'\u001b[0m\u001b[0;34m)\u001b[0m\u001b[0;34m\u001b[0m\u001b[0;34m\u001b[0m\u001b[0m\n",
      "\u001b[0;31mModuleNotFoundError\u001b[0m: No module named 'google.colab'"
     ]
    }
   ],
   "source": [
    "# Permissão de leitura para o Drive\n",
    "# Autorize o Collab a acessar seus arquivos no drive\n",
    "from google.colab import drive\n",
    "drive.mount('/content/drive')"
   ]
  },
  {
   "cell_type": "markdown",
   "id": "d0533dc5",
   "metadata": {
    "id": "RLBs7_E_KaAF",
    "papermill": {
     "duration": null,
     "end_time": null,
     "exception": null,
     "start_time": null,
     "status": "pending"
    },
    "tags": []
   },
   "source": [
    "Considerando dados de duas cidades diferentes fornecendo as temperaturas máximas (celsius) durante diferente dias do ano.\n",
    "Os dados foram disponibilizados nos arquivos \"cidade_1.txt\" e \"cidade_2.txt\".\n",
    "\n",
    "As leituras estão em ordem cronológica, porém, o sensor da cidade 1 falhou em alguns dias. Nesses casos, a leitura foi substituida pelo o caracter \"?\".\n",
    "\n",
    "### Questão 0\n",
    "- Substitua os valores faltantes pela média das leituras do dia anterior e do dia seguinte."
   ]
  },
  {
   "cell_type": "code",
   "execution_count": null,
   "id": "8ec339c3",
   "metadata": {
    "id": "9p4v0FJRMUW_",
    "papermill": {
     "duration": null,
     "end_time": null,
     "exception": null,
     "start_time": null,
     "status": "pending"
    },
    "tags": []
   },
   "outputs": [],
   "source": [
    "import numpy as np\n",
    "import pandas as pd\n",
    "\n",
    "# leia o arquivo da cidade 1\n",
    "with open(\"/content/cidade_1.txt\") as f:\n",
    "    cidade_1_lines = f.readlines()\n",
    "for i in range(0,len(cidade_1_lines)):\n",
    "  if cidade_1_lines[i] == \"?\\n\":\n",
    "    cidade_1_lines[i] = (float(cidade_1_lines[i-1])+float(cidade_1_lines[i+1]))/2\n",
    "cidade_1 = np.array([float(x) for x in cidade_1_lines])\n",
    "\n",
    "# lendo arquivo da cidade 2\n",
    "with open(\"/content/cidade_2.txt\") as f:\n",
    "    cidade_2_lines = f.readlines()\n",
    "cidade_2 = np.array([float(x) for x in cidade_2_lines])"
   ]
  },
  {
   "cell_type": "markdown",
   "id": "c66d60e8",
   "metadata": {
    "id": "EjMiZQwCPEm5",
    "papermill": {
     "duration": null,
     "end_time": null,
     "exception": null,
     "start_time": null,
     "status": "pending"
    },
    "tags": []
   },
   "source": [
    "### Questão 01. \n",
    "Consideramos um dia como quente caso sua temperatura máxima tenha sido maior ou igual 25 graus celsius.\n",
    "\n",
    "1. Calcule a média de temperatura no ano para cada cidade.\n",
    "\n",
    "2. Demonstre visualmente o porque essa métrica não é uma boa forma de estimarmos qual cidade teve mais dias quente.\n",
    "\n",
    "   - Dica: Transforme os arrays de cada cidade em estruturas do tipo `DataFrame` da biblioteca **pandas** e utilize as funções de histograma e/ou boxplot."
   ]
  },
  {
   "cell_type": "code",
   "execution_count": null,
   "id": "afcba4fb",
   "metadata": {
    "id": "unbEq2aNMeIJ",
    "outputId": "2a470de1-0900-4635-cf9f-eba9974a27ef",
    "papermill": {
     "duration": null,
     "end_time": null,
     "exception": null,
     "start_time": null,
     "status": "pending"
    },
    "tags": []
   },
   "outputs": [],
   "source": [
    "import seaborn as sns\n",
    "from matplotlib import pyplot as plt\n",
    "print('Media cidade 1 igual a: ', np.mean(cidade_1))\n",
    "print('Media cidade 2 igual a: ', np.mean(cidade_2))\n",
    "\n",
    "sns.distplot(cidade_1, bins=20, color=\"red\")\n",
    "sns.distplot(cidade_2, bins=20)"
   ]
  },
  {
   "cell_type": "code",
   "execution_count": null,
   "id": "832604bd",
   "metadata": {
    "id": "qTdUe2_kdrCo",
    "outputId": "dad2ced0-6a14-4ce1-84fe-b15e8c63fa99",
    "papermill": {
     "duration": null,
     "end_time": null,
     "exception": null,
     "start_time": null,
     "status": "pending"
    },
    "tags": []
   },
   "outputs": [],
   "source": [
    "import pandas as pd\n",
    "import numpy as np\n",
    "cidades = pd.DataFrame({'Cidade': (['SCarlos']*len(cidade_1)) + (['Rio_Claro']*len(cidade_2)),\n",
    "                        'Temperatura': np.concatenate([cidade_1, cidade_2])})\n",
    "sns.boxplot(x='Cidade', y='Temperatura', data=cidades, showmeans=True)"
   ]
  },
  {
   "cell_type": "markdown",
   "id": "98cbadfb",
   "metadata": {
    "id": "xywncXQHd8Ol",
    "papermill": {
     "duration": null,
     "end_time": null,
     "exception": null,
     "start_time": null,
     "status": "pending"
    },
    "tags": []
   },
   "source": [
    "Apesar da média da cidade 2 ser maior, percebemos que são apenas alguns outliers que puxam seu valor para cima. Pelo bloxplot, percebemos também que a cidade 1 teve uma variância menor do que a cidade 2. "
   ]
  },
  {
   "cell_type": "markdown",
   "id": "9a1d2889",
   "metadata": {
    "id": "JZWmSWQkc213",
    "papermill": {
     "duration": null,
     "end_time": null,
     "exception": null,
     "start_time": null,
     "status": "pending"
    },
    "tags": []
   },
   "source": [
    "\n",
    "\n",
    "---\n",
    "\n",
    "### Questão 02.\n",
    "1. Calcule o número de dias quentes em cada cidade.\n",
    "- Dica: Use a função `argwhere` da biblioteca **numpy**."
   ]
  },
  {
   "cell_type": "code",
   "execution_count": null,
   "id": "513d7a5d",
   "metadata": {
    "id": "H3bTA1hEMiB0",
    "outputId": "fd511d1b-8afc-480d-b096-aaa77e89466a",
    "papermill": {
     "duration": null,
     "end_time": null,
     "exception": null,
     "start_time": null,
     "status": "pending"
    },
    "tags": []
   },
   "outputs": [],
   "source": [
    "#Dias quentes cidade 1\n",
    "dias_quentes_1 = np.argwhere(cidade_1>=25)\n",
    "print(\"Numero de Dias quentes cidade 1:\" , len(dias_quentes_1))\n",
    "\n",
    "#Dias quentes cidade 2\n",
    "dias_quentes_2 = np.argwhere(cidade_2>=25)\n",
    "print(\"Numero de Dias quentes cidade 2:\" , len(dias_quentes_2))\n"
   ]
  },
  {
   "cell_type": "markdown",
   "id": "f35092e8",
   "metadata": {
    "id": "eKwZoSVU2VcP",
    "papermill": {
     "duration": null,
     "end_time": null,
     "exception": null,
     "start_time": null,
     "status": "pending"
    },
    "tags": []
   },
   "source": [
    "## Dados multidimensionais\n",
    "\n",
    "Considere o conjunto de dados dos jogadores de futebol, que está no formato .csv.\n",
    "\n",
    "\n"
   ]
  },
  {
   "cell_type": "code",
   "execution_count": null,
   "id": "615ac5f3",
   "metadata": {
    "id": "yma46nUyUUpS",
    "outputId": "e8e2b18d-0ebc-4a45-cec3-e5d9dc2fe6c5",
    "papermill": {
     "duration": null,
     "end_time": null,
     "exception": null,
     "start_time": null,
     "status": "pending"
    },
    "tags": []
   },
   "outputs": [],
   "source": [
    "players = pd.read_csv(\"/content/jogadores_exercicio1.csv\")\n",
    "players"
   ]
  },
  {
   "cell_type": "markdown",
   "id": "5b3bd306",
   "metadata": {
    "id": "ESFpa2pDU_xu",
    "papermill": {
     "duration": null,
     "end_time": null,
     "exception": null,
     "start_time": null,
     "status": "pending"
    },
    "tags": []
   },
   "source": [
    "\n",
    "\n",
    "---\n",
    "\n",
    "\n",
    "### Questão 03.\n",
    "\n",
    "1. Calcule os quatro momentos (média, variância, obliquidade e achatamento) para cada atributo do tipo numerico (float) do conjunto.\n"
   ]
  },
  {
   "cell_type": "code",
   "execution_count": null,
   "id": "e4cb4133",
   "metadata": {
    "id": "5PlJlMtJe_6r",
    "outputId": "50a9aadf-bead-4dd0-db39-2c80ff7ee4f4",
    "papermill": {
     "duration": null,
     "end_time": null,
     "exception": null,
     "start_time": null,
     "status": "pending"
    },
    "tags": []
   },
   "outputs": [],
   "source": [
    "#Média\n",
    "media_altura = players['height'].mean()\n",
    "media_peso = players['weight'].mean()\n",
    "media_idade = players['age'].mean()\n",
    "print(\"Média de altura é:\", media_altura, \"\\n\",\"Média de peso é:\", media_peso, \"\\n\",\"Média de idade é:\", media_idade)\n",
    "print(\"\\n\")\n",
    "\n",
    "var_altura = players['height'].var()\n",
    "var_peso = players['weight'].var()\n",
    "var_idade = players['age'].var()\n",
    "print(\"Variância de altura é:\", var_altura, \"\\n\",\"Variância de peso é:\", var_peso, \"\\n\",\"Variância de idade é:\", var_idade)\n",
    "\n",
    "print(\"\\n\")\n",
    "\n",
    "obliq_altura = players['height'].skew()\n",
    "obliq_peso = players['weight'].skew()\n",
    "obliq_idade = players['age'].skew()\n",
    "print(\"Obliquidade de altura é:\", obliq_altura,\"\\n\",\"Obliquidade de peso é:\", obliq_peso,\"\\n\",\"Obliquidade de idade é:\", obliq_idade)\n",
    "\n",
    "print(\"\\n\")\n",
    "\n",
    "kurt_altura = players['height'].kurtosis()\n",
    "kurt_peso = players['weight'].kurtosis()\n",
    "kurt_idade = players['age'].kurtosis()\n",
    "print(\"Achatamento de altura é:\", kurt_altura,\"\\n\",\"Achatamento de peso é:\", kurt_peso, \"\\n\",\"Achatamento de idade é:\", kurt_idade)"
   ]
  },
  {
   "cell_type": "markdown",
   "id": "ac82dd3f",
   "metadata": {
    "id": "ULRqO72eYtBz",
    "papermill": {
     "duration": null,
     "end_time": null,
     "exception": null,
     "start_time": null,
     "status": "pending"
    },
    "tags": []
   },
   "source": [
    "\n",
    "\n",
    "---\n",
    "\n",
    "### Questão 04.\n",
    "\n",
    "1. Gere o boxplot de atributo Height do conjunto, analise se os dados estão centrados (simetria) e estime os quartis deste atributo.  \n"
   ]
  },
  {
   "cell_type": "code",
   "execution_count": null,
   "id": "9497a4e4",
   "metadata": {
    "id": "eOgYGH7tBpE2",
    "outputId": "a297d5ad-f0b3-4530-e42a-426a4cfa3a5e",
    "papermill": {
     "duration": null,
     "end_time": null,
     "exception": null,
     "start_time": null,
     "status": "pending"
    },
    "tags": []
   },
   "outputs": [],
   "source": [
    "from scipy import stats\n",
    "#Boxplot e análise da altura\n",
    "boxplot_height = players.boxplot(column='height', showmeans=True)\n",
    "print('Obliquidade: {}'.format(stats.skew(players.height)))\n",
    "\n",
    "print('25 %:', players.height.quantile(0.25))\n",
    "print('50 %:', players.height.quantile(0.5))\n",
    "print('75 %:', players.height.quantile(0.75))\n",
    "\n",
    "print('Media: ', players.height.mean())\n",
    "print('Mediana: ', players.height.median())"
   ]
  },
  {
   "cell_type": "markdown",
   "id": "3d8107a2",
   "metadata": {
    "id": "H37h_Wf4gjLD",
    "papermill": {
     "duration": null,
     "end_time": null,
     "exception": null,
     "start_time": null,
     "status": "pending"
    },
    "tags": []
   },
   "source": [
    "Observamos uma sutil diferença entre a média e mediana, mostrando que os dados não estão perfeitamente centralizados mas sua obliquidade é desconsiderável.\n",
    "\n",
    "Podemos confirmar calculando diretamente a obliquidade da distribuição, que teve resultado negativo porém perto de 0, indicando que a distribuição tem uma cauda à esquerda porém não muito significativa.\n"
   ]
  },
  {
   "cell_type": "markdown",
   "id": "e8ecb1d9",
   "metadata": {
    "id": "DKB_WQOK5R1E",
    "papermill": {
     "duration": null,
     "end_time": null,
     "exception": null,
     "start_time": null,
     "status": "pending"
    },
    "tags": []
   },
   "source": [
    "### Questão 05.\n",
    "O arquivo **player_attributes.csv** contém mais informações sobre os jogadores. Leia-o como DataFrame e combine suas informações com o DataFrame já existente.\n",
    "\n",
    "1. Caso um atributo não esteja disponível para algum jogador, substitua o valor NaN pela média ou valor mais comum para aquele atributo.\n",
    "\n",
    "2. Calcule a moda de cada atributo após a combinação das bases. \n",
    "\n",
    "- Dica: Utilize a função [merge](https://pandas.pydata.org/pandas-docs/stable/reference/api/pandas.DataFrame.merge.html) para combinar dois DataFrames que contém ao menos um atributo em comum\n",
    "\n",
    "- Dica 2: Ambos DataFrames possuem o atributo \"player_api_id\""
   ]
  },
  {
   "cell_type": "code",
   "execution_count": null,
   "id": "95ecc28a",
   "metadata": {
    "id": "GFjJjiaO6TMV",
    "outputId": "d1777509-8d00-43b6-c6bc-cf6d3da1f3bb",
    "papermill": {
     "duration": null,
     "end_time": null,
     "exception": null,
     "start_time": null,
     "status": "pending"
    },
    "tags": []
   },
   "outputs": [],
   "source": [
    "players_attrs = pd.read_csv(\"/content/player_attributes1.csv\")\n",
    "# o parâmetro how poderia ter outros valores que também funcionam\n",
    "jogadores = players.merge(players_attrs, how='right', on='player_api_id')\n",
    "\n",
    "# Usando a moda ou média dependendo do tipo do atributo.\n",
    "# Como o enunciado estava ambíguo, aceitei que usou só a moda\n",
    "jogadores.apply(lambda x:x.fillna(\n",
    "    x.mode()[0] if x.dtype == 'object' else x.mean(), axis=0, inplace=True))\n",
    "\n",
    "for column in jogadores.columns:\n",
    "  if 'id' not in column:\n",
    "    print('Atributo: ', column, ' Resultado: ', jogadores[column].mode()[0])\n"
   ]
  }
 ],
 "metadata": {
  "kernelspec": {
   "display_name": "Python 3",
   "language": "python",
   "name": "python3"
  },
  "language_info": {
   "codemirror_mode": {
    "name": "ipython",
    "version": 3
   },
   "file_extension": ".py",
   "mimetype": "text/x-python",
   "name": "python",
   "nbconvert_exporter": "python",
   "pygments_lexer": "ipython3",
   "version": "3.7.12"
  },
  "papermill": {
   "default_parameters": {},
   "duration": 10.007359,
   "end_time": "2022-10-01T12:06:30.955339",
   "environment_variables": {},
   "exception": true,
   "input_path": "__notebook__.ipynb",
   "output_path": "__notebook__.ipynb",
   "parameters": {},
   "start_time": "2022-10-01T12:06:20.947980",
   "version": "2.3.4"
  }
 },
 "nbformat": 4,
 "nbformat_minor": 5
}
