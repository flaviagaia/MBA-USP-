{
 "cells": [
  {
   "cell_type": "code",
   "execution_count": 1,
   "id": "c42537b8",
   "metadata": {
    "_cell_guid": "fe79ac14-e347-447b-b1a9-304f71495062",
    "_uuid": "441bfc1e-a2ed-4e33-8a21-1ae5355004d2",
    "collapsed": false,
    "execution": {
     "iopub.execute_input": "2022-11-23T11:59:32.334242Z",
     "iopub.status.busy": "2022-11-23T11:59:32.332239Z",
     "iopub.status.idle": "2022-11-23T11:59:32.448774Z",
     "shell.execute_reply": "2022-11-23T11:59:32.447075Z"
    },
    "jupyter": {
     "outputs_hidden": false
    },
    "papermill": {
     "duration": 0.123431,
     "end_time": "2022-11-23T11:59:32.451459",
     "exception": true,
     "start_time": "2022-11-23T11:59:32.328028",
     "status": "failed"
    },
    "tags": []
   },
   "outputs": [
    {
     "ename": "ERROR",
     "evalue": "Error in parse(text = x, srcfile = src): <text>:2:1: unexpected input\n1: # Projeto 0\r\n2: \r\n   ^\n",
     "output_type": "error",
     "traceback": [
      "Error in parse(text = x, srcfile = src): <text>:2:1: unexpected input\n1: # Projeto 0\r\n2: \r\n   ^\nTraceback:\n"
     ]
    }
   ],
   "source": [
    "# Projeto 0\r\n",
    "\r\n",
    "# 1. Gerando valores de uma lista de inteiros positivos entre 1 e 10\r\n",
    "x=seq(1:10)\r\n",
    "\r\n",
    "# 2. Estatísticas básicas\r\n",
    "mean(x)\r\n",
    "#[1] 5.5\r\n",
    "sd(x)\r\n",
    "#[1] 3.02765\r\n",
    "\r\n",
    "# 3. Gerando valores aleatórios de uma nova variável\r\n",
    "# em função da anterior com erros normais\r\n",
    "set.seed(12345)\r\n",
    "y=x+rnorm(10)\r\n",
    "#[1] 1.585529 2.709466 2.890697 3.546503 5.605887 4.182044 7.630099 7.723816 8.715840\r\n",
    "#[10] 9.080678\r\n",
    "mean(y)\r\n",
    "#[1] 5.367056\r\n",
    "sd(y)\r\n",
    "#[1] 2.747763\r\n",
    "\r\n",
    "# 4. Plotando os dados para ver relacionamento entre x e y\r\n",
    "plot(x,y)\r\n",
    "\r\n",
    "# 5. Correlação entre x e y\r\n",
    "cor(x,y)\r\n",
    "#[1] 0.9649189"
   ]
  }
 ],
 "metadata": {
  "kernelspec": {
   "display_name": "R",
   "language": "R",
   "name": "ir"
  },
  "language_info": {
   "codemirror_mode": "r",
   "file_extension": ".r",
   "mimetype": "text/x-r-source",
   "name": "R",
   "pygments_lexer": "r",
   "version": "4.0.5"
  },
  "papermill": {
   "default_parameters": {},
   "duration": 3.922164,
   "end_time": "2022-11-23T11:59:32.577557",
   "environment_variables": {},
   "exception": true,
   "input_path": "__notebook__.ipynb",
   "output_path": "__notebook__.ipynb",
   "parameters": {},
   "start_time": "2022-11-23T11:59:28.655393",
   "version": "2.4.0"
  }
 },
 "nbformat": 4,
 "nbformat_minor": 5
}
