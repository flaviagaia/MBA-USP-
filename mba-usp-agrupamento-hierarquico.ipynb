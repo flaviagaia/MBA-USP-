{
 "cells": [
  {
   "cell_type": "markdown",
   "id": "3755ce53",
   "metadata": {
    "id": "JNtQMRQGIN4l",
    "papermill": {
     "duration": 0.013093,
     "end_time": "2022-10-01T11:55:50.657137",
     "exception": false,
     "start_time": "2022-10-01T11:55:50.644044",
     "status": "completed"
    },
    "tags": []
   },
   "source": [
    "# <font color=\"red\"> MBA em IA e Big Data</font>\n",
    "## <span style=\"color:red\">Curso 2 - Ciência de Dados, Aprendizado de Máquina e Mineração de Dados</span>\n",
    "\n",
    "### <span style=\"color:darkred\">Mineração de Dados</span>\n",
    "\n",
    "#### Material de Apoio - Prática sobre Agrupamento Hierárquico de Dados (ver Vídeo)\n",
    "\n",
    "*Ricardo M. Marcacini*<br>\n",
    "*ICMC/USP São Carlos*"
   ]
  },
  {
   "cell_type": "markdown",
   "id": "8a885082",
   "metadata": {
    "id": "2Zcjy7PQv4of",
    "papermill": {
     "duration": 0.010912,
     "end_time": "2022-10-01T11:55:50.679443",
     "exception": false,
     "start_time": "2022-10-01T11:55:50.668531",
     "status": "completed"
    },
    "tags": []
   },
   "source": [
    "# Importando bibliotecas"
   ]
  },
  {
   "cell_type": "code",
   "execution_count": 1,
   "id": "84cc766d",
   "metadata": {
    "execution": {
     "iopub.execute_input": "2022-10-01T11:55:50.705717Z",
     "iopub.status.busy": "2022-10-01T11:55:50.704984Z",
     "iopub.status.idle": "2022-10-01T11:55:51.719677Z",
     "shell.execute_reply": "2022-10-01T11:55:51.718589Z"
    },
    "id": "xFQ2rj16vvvu",
    "papermill": {
     "duration": 1.030169,
     "end_time": "2022-10-01T11:55:51.722437",
     "exception": false,
     "start_time": "2022-10-01T11:55:50.692268",
     "status": "completed"
    },
    "tags": []
   },
   "outputs": [],
   "source": [
    "import numpy as np\n",
    "import pandas as pd\n",
    "import scipy\n",
    "from scipy.spatial import distance_matrix \n",
    "from scipy.cluster import hierarchy \n",
    "import seaborn as sns"
   ]
  },
  {
   "cell_type": "markdown",
   "id": "f776a54c",
   "metadata": {
    "id": "_UeQey3JtRA9",
    "papermill": {
     "duration": 0.011484,
     "end_time": "2022-10-01T11:55:51.745531",
     "exception": false,
     "start_time": "2022-10-01T11:55:51.734047",
     "status": "completed"
    },
    "tags": []
   },
   "source": [
    "# Testando agrupamento hierárquico\n",
    "Inicialmente, vamos carregar um conjunto de dados (sintético) para testar a execução de três algoritmos de agrupamento hierárquico: single-link, complete-link, average-link"
   ]
  },
  {
   "cell_type": "markdown",
   "id": "adf17b36",
   "metadata": {
    "id": "TVdPfogt_sja",
    "papermill": {
     "duration": 0.011148,
     "end_time": "2022-10-01T11:55:51.768224",
     "exception": false,
     "start_time": "2022-10-01T11:55:51.757076",
     "status": "completed"
    },
    "tags": []
   },
   "source": [
    "# Exemplo #1"
   ]
  },
  {
   "cell_type": "code",
   "execution_count": 2,
   "id": "e293474b",
   "metadata": {
    "execution": {
     "iopub.execute_input": "2022-10-01T11:55:51.793782Z",
     "iopub.status.busy": "2022-10-01T11:55:51.792721Z",
     "iopub.status.idle": "2022-10-01T11:55:51.902329Z",
     "shell.execute_reply": "2022-10-01T11:55:51.900993Z"
    },
    "id": "iZ1UN4YMRMkn",
    "outputId": "ed015815-4c73-4a75-e2bb-9879af12b178",
    "papermill": {
     "duration": 0.124666,
     "end_time": "2022-10-01T11:55:51.904275",
     "exception": true,
     "start_time": "2022-10-01T11:55:51.779609",
     "status": "failed"
    },
    "tags": []
   },
   "outputs": [
    {
     "ename": "FileNotFoundError",
     "evalue": "[Errno 2] No such file or directory: 'hc_exemplo1.csv'",
     "output_type": "error",
     "traceback": [
      "\u001b[0;31m---------------------------------------------------------------------------\u001b[0m",
      "\u001b[0;31mFileNotFoundError\u001b[0m                         Traceback (most recent call last)",
      "\u001b[0;32m/tmp/ipykernel_19/45492741.py\u001b[0m in \u001b[0;36m<module>\u001b[0;34m\u001b[0m\n\u001b[0;32m----> 1\u001b[0;31m \u001b[0mdados1\u001b[0m \u001b[0;34m=\u001b[0m \u001b[0mpd\u001b[0m\u001b[0;34m.\u001b[0m\u001b[0mread_csv\u001b[0m\u001b[0;34m(\u001b[0m\u001b[0;34m'hc_exemplo1.csv'\u001b[0m\u001b[0;34m)\u001b[0m\u001b[0;34m\u001b[0m\u001b[0;34m\u001b[0m\u001b[0m\n\u001b[0m\u001b[1;32m      2\u001b[0m \u001b[0mdados1\u001b[0m\u001b[0;34m.\u001b[0m\u001b[0mhead\u001b[0m\u001b[0;34m(\u001b[0m\u001b[0;36m10\u001b[0m\u001b[0;34m)\u001b[0m\u001b[0;34m\u001b[0m\u001b[0;34m\u001b[0m\u001b[0m\n",
      "\u001b[0;32m/opt/conda/lib/python3.7/site-packages/pandas/util/_decorators.py\u001b[0m in \u001b[0;36mwrapper\u001b[0;34m(*args, **kwargs)\u001b[0m\n\u001b[1;32m    309\u001b[0m                     \u001b[0mstacklevel\u001b[0m\u001b[0;34m=\u001b[0m\u001b[0mstacklevel\u001b[0m\u001b[0;34m,\u001b[0m\u001b[0;34m\u001b[0m\u001b[0;34m\u001b[0m\u001b[0m\n\u001b[1;32m    310\u001b[0m                 )\n\u001b[0;32m--> 311\u001b[0;31m             \u001b[0;32mreturn\u001b[0m \u001b[0mfunc\u001b[0m\u001b[0;34m(\u001b[0m\u001b[0;34m*\u001b[0m\u001b[0margs\u001b[0m\u001b[0;34m,\u001b[0m \u001b[0;34m**\u001b[0m\u001b[0mkwargs\u001b[0m\u001b[0;34m)\u001b[0m\u001b[0;34m\u001b[0m\u001b[0;34m\u001b[0m\u001b[0m\n\u001b[0m\u001b[1;32m    312\u001b[0m \u001b[0;34m\u001b[0m\u001b[0m\n\u001b[1;32m    313\u001b[0m         \u001b[0;32mreturn\u001b[0m \u001b[0mwrapper\u001b[0m\u001b[0;34m\u001b[0m\u001b[0;34m\u001b[0m\u001b[0m\n",
      "\u001b[0;32m/opt/conda/lib/python3.7/site-packages/pandas/io/parsers/readers.py\u001b[0m in \u001b[0;36mread_csv\u001b[0;34m(filepath_or_buffer, sep, delimiter, header, names, index_col, usecols, squeeze, prefix, mangle_dupe_cols, dtype, engine, converters, true_values, false_values, skipinitialspace, skiprows, skipfooter, nrows, na_values, keep_default_na, na_filter, verbose, skip_blank_lines, parse_dates, infer_datetime_format, keep_date_col, date_parser, dayfirst, cache_dates, iterator, chunksize, compression, thousands, decimal, lineterminator, quotechar, quoting, doublequote, escapechar, comment, encoding, encoding_errors, dialect, error_bad_lines, warn_bad_lines, on_bad_lines, delim_whitespace, low_memory, memory_map, float_precision, storage_options)\u001b[0m\n\u001b[1;32m    584\u001b[0m     \u001b[0mkwds\u001b[0m\u001b[0;34m.\u001b[0m\u001b[0mupdate\u001b[0m\u001b[0;34m(\u001b[0m\u001b[0mkwds_defaults\u001b[0m\u001b[0;34m)\u001b[0m\u001b[0;34m\u001b[0m\u001b[0;34m\u001b[0m\u001b[0m\n\u001b[1;32m    585\u001b[0m \u001b[0;34m\u001b[0m\u001b[0m\n\u001b[0;32m--> 586\u001b[0;31m     \u001b[0;32mreturn\u001b[0m \u001b[0m_read\u001b[0m\u001b[0;34m(\u001b[0m\u001b[0mfilepath_or_buffer\u001b[0m\u001b[0;34m,\u001b[0m \u001b[0mkwds\u001b[0m\u001b[0;34m)\u001b[0m\u001b[0;34m\u001b[0m\u001b[0;34m\u001b[0m\u001b[0m\n\u001b[0m\u001b[1;32m    587\u001b[0m \u001b[0;34m\u001b[0m\u001b[0m\n\u001b[1;32m    588\u001b[0m \u001b[0;34m\u001b[0m\u001b[0m\n",
      "\u001b[0;32m/opt/conda/lib/python3.7/site-packages/pandas/io/parsers/readers.py\u001b[0m in \u001b[0;36m_read\u001b[0;34m(filepath_or_buffer, kwds)\u001b[0m\n\u001b[1;32m    480\u001b[0m \u001b[0;34m\u001b[0m\u001b[0m\n\u001b[1;32m    481\u001b[0m     \u001b[0;31m# Create the parser.\u001b[0m\u001b[0;34m\u001b[0m\u001b[0;34m\u001b[0m\u001b[0;34m\u001b[0m\u001b[0m\n\u001b[0;32m--> 482\u001b[0;31m     \u001b[0mparser\u001b[0m \u001b[0;34m=\u001b[0m \u001b[0mTextFileReader\u001b[0m\u001b[0;34m(\u001b[0m\u001b[0mfilepath_or_buffer\u001b[0m\u001b[0;34m,\u001b[0m \u001b[0;34m**\u001b[0m\u001b[0mkwds\u001b[0m\u001b[0;34m)\u001b[0m\u001b[0;34m\u001b[0m\u001b[0;34m\u001b[0m\u001b[0m\n\u001b[0m\u001b[1;32m    483\u001b[0m \u001b[0;34m\u001b[0m\u001b[0m\n\u001b[1;32m    484\u001b[0m     \u001b[0;32mif\u001b[0m \u001b[0mchunksize\u001b[0m \u001b[0;32mor\u001b[0m \u001b[0miterator\u001b[0m\u001b[0;34m:\u001b[0m\u001b[0;34m\u001b[0m\u001b[0;34m\u001b[0m\u001b[0m\n",
      "\u001b[0;32m/opt/conda/lib/python3.7/site-packages/pandas/io/parsers/readers.py\u001b[0m in \u001b[0;36m__init__\u001b[0;34m(self, f, engine, **kwds)\u001b[0m\n\u001b[1;32m    809\u001b[0m             \u001b[0mself\u001b[0m\u001b[0;34m.\u001b[0m\u001b[0moptions\u001b[0m\u001b[0;34m[\u001b[0m\u001b[0;34m\"has_index_names\"\u001b[0m\u001b[0;34m]\u001b[0m \u001b[0;34m=\u001b[0m \u001b[0mkwds\u001b[0m\u001b[0;34m[\u001b[0m\u001b[0;34m\"has_index_names\"\u001b[0m\u001b[0;34m]\u001b[0m\u001b[0;34m\u001b[0m\u001b[0;34m\u001b[0m\u001b[0m\n\u001b[1;32m    810\u001b[0m \u001b[0;34m\u001b[0m\u001b[0m\n\u001b[0;32m--> 811\u001b[0;31m         \u001b[0mself\u001b[0m\u001b[0;34m.\u001b[0m\u001b[0m_engine\u001b[0m \u001b[0;34m=\u001b[0m \u001b[0mself\u001b[0m\u001b[0;34m.\u001b[0m\u001b[0m_make_engine\u001b[0m\u001b[0;34m(\u001b[0m\u001b[0mself\u001b[0m\u001b[0;34m.\u001b[0m\u001b[0mengine\u001b[0m\u001b[0;34m)\u001b[0m\u001b[0;34m\u001b[0m\u001b[0;34m\u001b[0m\u001b[0m\n\u001b[0m\u001b[1;32m    812\u001b[0m \u001b[0;34m\u001b[0m\u001b[0m\n\u001b[1;32m    813\u001b[0m     \u001b[0;32mdef\u001b[0m \u001b[0mclose\u001b[0m\u001b[0;34m(\u001b[0m\u001b[0mself\u001b[0m\u001b[0;34m)\u001b[0m\u001b[0;34m:\u001b[0m\u001b[0;34m\u001b[0m\u001b[0;34m\u001b[0m\u001b[0m\n",
      "\u001b[0;32m/opt/conda/lib/python3.7/site-packages/pandas/io/parsers/readers.py\u001b[0m in \u001b[0;36m_make_engine\u001b[0;34m(self, engine)\u001b[0m\n\u001b[1;32m   1038\u001b[0m             )\n\u001b[1;32m   1039\u001b[0m         \u001b[0;31m# error: Too many arguments for \"ParserBase\"\u001b[0m\u001b[0;34m\u001b[0m\u001b[0;34m\u001b[0m\u001b[0;34m\u001b[0m\u001b[0m\n\u001b[0;32m-> 1040\u001b[0;31m         \u001b[0;32mreturn\u001b[0m \u001b[0mmapping\u001b[0m\u001b[0;34m[\u001b[0m\u001b[0mengine\u001b[0m\u001b[0;34m]\u001b[0m\u001b[0;34m(\u001b[0m\u001b[0mself\u001b[0m\u001b[0;34m.\u001b[0m\u001b[0mf\u001b[0m\u001b[0;34m,\u001b[0m \u001b[0;34m**\u001b[0m\u001b[0mself\u001b[0m\u001b[0;34m.\u001b[0m\u001b[0moptions\u001b[0m\u001b[0;34m)\u001b[0m  \u001b[0;31m# type: ignore[call-arg]\u001b[0m\u001b[0;34m\u001b[0m\u001b[0;34m\u001b[0m\u001b[0m\n\u001b[0m\u001b[1;32m   1041\u001b[0m \u001b[0;34m\u001b[0m\u001b[0m\n\u001b[1;32m   1042\u001b[0m     \u001b[0;32mdef\u001b[0m \u001b[0m_failover_to_python\u001b[0m\u001b[0;34m(\u001b[0m\u001b[0mself\u001b[0m\u001b[0;34m)\u001b[0m\u001b[0;34m:\u001b[0m\u001b[0;34m\u001b[0m\u001b[0;34m\u001b[0m\u001b[0m\n",
      "\u001b[0;32m/opt/conda/lib/python3.7/site-packages/pandas/io/parsers/c_parser_wrapper.py\u001b[0m in \u001b[0;36m__init__\u001b[0;34m(self, src, **kwds)\u001b[0m\n\u001b[1;32m     49\u001b[0m \u001b[0;34m\u001b[0m\u001b[0m\n\u001b[1;32m     50\u001b[0m         \u001b[0;31m# open handles\u001b[0m\u001b[0;34m\u001b[0m\u001b[0;34m\u001b[0m\u001b[0;34m\u001b[0m\u001b[0m\n\u001b[0;32m---> 51\u001b[0;31m         \u001b[0mself\u001b[0m\u001b[0;34m.\u001b[0m\u001b[0m_open_handles\u001b[0m\u001b[0;34m(\u001b[0m\u001b[0msrc\u001b[0m\u001b[0;34m,\u001b[0m \u001b[0mkwds\u001b[0m\u001b[0;34m)\u001b[0m\u001b[0;34m\u001b[0m\u001b[0;34m\u001b[0m\u001b[0m\n\u001b[0m\u001b[1;32m     52\u001b[0m         \u001b[0;32massert\u001b[0m \u001b[0mself\u001b[0m\u001b[0;34m.\u001b[0m\u001b[0mhandles\u001b[0m \u001b[0;32mis\u001b[0m \u001b[0;32mnot\u001b[0m \u001b[0;32mNone\u001b[0m\u001b[0;34m\u001b[0m\u001b[0;34m\u001b[0m\u001b[0m\n\u001b[1;32m     53\u001b[0m \u001b[0;34m\u001b[0m\u001b[0m\n",
      "\u001b[0;32m/opt/conda/lib/python3.7/site-packages/pandas/io/parsers/base_parser.py\u001b[0m in \u001b[0;36m_open_handles\u001b[0;34m(self, src, kwds)\u001b[0m\n\u001b[1;32m    227\u001b[0m             \u001b[0mmemory_map\u001b[0m\u001b[0;34m=\u001b[0m\u001b[0mkwds\u001b[0m\u001b[0;34m.\u001b[0m\u001b[0mget\u001b[0m\u001b[0;34m(\u001b[0m\u001b[0;34m\"memory_map\"\u001b[0m\u001b[0;34m,\u001b[0m \u001b[0;32mFalse\u001b[0m\u001b[0;34m)\u001b[0m\u001b[0;34m,\u001b[0m\u001b[0;34m\u001b[0m\u001b[0;34m\u001b[0m\u001b[0m\n\u001b[1;32m    228\u001b[0m             \u001b[0mstorage_options\u001b[0m\u001b[0;34m=\u001b[0m\u001b[0mkwds\u001b[0m\u001b[0;34m.\u001b[0m\u001b[0mget\u001b[0m\u001b[0;34m(\u001b[0m\u001b[0;34m\"storage_options\"\u001b[0m\u001b[0;34m,\u001b[0m \u001b[0;32mNone\u001b[0m\u001b[0;34m)\u001b[0m\u001b[0;34m,\u001b[0m\u001b[0;34m\u001b[0m\u001b[0;34m\u001b[0m\u001b[0m\n\u001b[0;32m--> 229\u001b[0;31m             \u001b[0merrors\u001b[0m\u001b[0;34m=\u001b[0m\u001b[0mkwds\u001b[0m\u001b[0;34m.\u001b[0m\u001b[0mget\u001b[0m\u001b[0;34m(\u001b[0m\u001b[0;34m\"encoding_errors\"\u001b[0m\u001b[0;34m,\u001b[0m \u001b[0;34m\"strict\"\u001b[0m\u001b[0;34m)\u001b[0m\u001b[0;34m,\u001b[0m\u001b[0;34m\u001b[0m\u001b[0;34m\u001b[0m\u001b[0m\n\u001b[0m\u001b[1;32m    230\u001b[0m         )\n\u001b[1;32m    231\u001b[0m \u001b[0;34m\u001b[0m\u001b[0m\n",
      "\u001b[0;32m/opt/conda/lib/python3.7/site-packages/pandas/io/common.py\u001b[0m in \u001b[0;36mget_handle\u001b[0;34m(path_or_buf, mode, encoding, compression, memory_map, is_text, errors, storage_options)\u001b[0m\n\u001b[1;32m    705\u001b[0m                 \u001b[0mencoding\u001b[0m\u001b[0;34m=\u001b[0m\u001b[0mioargs\u001b[0m\u001b[0;34m.\u001b[0m\u001b[0mencoding\u001b[0m\u001b[0;34m,\u001b[0m\u001b[0;34m\u001b[0m\u001b[0;34m\u001b[0m\u001b[0m\n\u001b[1;32m    706\u001b[0m                 \u001b[0merrors\u001b[0m\u001b[0;34m=\u001b[0m\u001b[0merrors\u001b[0m\u001b[0;34m,\u001b[0m\u001b[0;34m\u001b[0m\u001b[0;34m\u001b[0m\u001b[0m\n\u001b[0;32m--> 707\u001b[0;31m                 \u001b[0mnewline\u001b[0m\u001b[0;34m=\u001b[0m\u001b[0;34m\"\"\u001b[0m\u001b[0;34m,\u001b[0m\u001b[0;34m\u001b[0m\u001b[0;34m\u001b[0m\u001b[0m\n\u001b[0m\u001b[1;32m    708\u001b[0m             )\n\u001b[1;32m    709\u001b[0m         \u001b[0;32melse\u001b[0m\u001b[0;34m:\u001b[0m\u001b[0;34m\u001b[0m\u001b[0;34m\u001b[0m\u001b[0m\n",
      "\u001b[0;31mFileNotFoundError\u001b[0m: [Errno 2] No such file or directory: 'hc_exemplo1.csv'"
     ]
    }
   ],
   "source": [
    "dados1 = pd.read_csv('hc_exemplo1.csv')\n",
    "dados1.head(10)"
   ]
  },
  {
   "cell_type": "markdown",
   "id": "ad02290e",
   "metadata": {
    "id": "xmQ0fZiJ6D3b",
    "papermill": {
     "duration": null,
     "end_time": null,
     "exception": null,
     "start_time": null,
     "status": "pending"
    },
    "tags": []
   },
   "source": [
    "Vamos visualizar o nosso conjunto de dados"
   ]
  },
  {
   "cell_type": "code",
   "execution_count": null,
   "id": "d342a485",
   "metadata": {
    "id": "WzqLBbMW6CVR",
    "outputId": "a6433554-6baa-4f60-a008-7bf8f3c312f6",
    "papermill": {
     "duration": null,
     "end_time": null,
     "exception": null,
     "start_time": null,
     "status": "pending"
    },
    "tags": []
   },
   "outputs": [],
   "source": [
    "dados1.plot(kind='scatter',x='x',y='y')"
   ]
  },
  {
   "cell_type": "markdown",
   "id": "8b704708",
   "metadata": {
    "id": "JQo6DT8C6P2o",
    "papermill": {
     "duration": null,
     "end_time": null,
     "exception": null,
     "start_time": null,
     "status": "pending"
    },
    "tags": []
   },
   "source": [
    "Agora, vamos calcular uma matriz de dissimilaridades usando a distância euclidiana.\n",
    "\n",
    "Você pode utilizar a biblioteca pdist para calcular a matriz de distância [https://docs.scipy.org/doc/scipy/reference/generated/scipy.spatial.distance.pdist.html]"
   ]
  },
  {
   "cell_type": "code",
   "execution_count": null,
   "id": "030de90b",
   "metadata": {
    "id": "ZGguLPoH6Wgo",
    "papermill": {
     "duration": null,
     "end_time": null,
     "exception": null,
     "start_time": null,
     "status": "pending"
    },
    "tags": []
   },
   "outputs": [],
   "source": [
    "def calcular_matriz_dissimilaridade(dados):\n",
    "  M = np.zeros((len(dados),len(dados)))\n",
    "  for i,row_i in dados.iterrows(): # para cada objeto i\n",
    "      features_i = np.array(row_i) # atributos do objeto i\n",
    "      for j,row_j in dados.iterrows(): # para cada objeto j\n",
    "          features_j = np.array(row_j) # atributos do objeto j\n",
    "          # calcula distância euclidiana\n",
    "          euc = scipy.spatial.distance.euclidean(features_i, features_j)\n",
    "          # armazena na posição M[i,j]\n",
    "          M[i,j] = euc\n",
    "  return M"
   ]
  },
  {
   "cell_type": "code",
   "execution_count": null,
   "id": "e3554644",
   "metadata": {
    "id": "pWRhy6Bl6x_M",
    "papermill": {
     "duration": null,
     "end_time": null,
     "exception": null,
     "start_time": null,
     "status": "pending"
    },
    "tags": []
   },
   "outputs": [],
   "source": [
    "M = calcular_matriz_dissimilaridade(dados1)"
   ]
  },
  {
   "cell_type": "code",
   "execution_count": null,
   "id": "1f869bbc",
   "metadata": {
    "id": "pzezKIP17Gyi",
    "outputId": "21a74919-6483-4ea2-96a6-ccf2edf86112",
    "papermill": {
     "duration": null,
     "end_time": null,
     "exception": null,
     "start_time": null,
     "status": "pending"
    },
    "tags": []
   },
   "outputs": [],
   "source": [
    "# apenas para discutir\n",
    "pd.DataFrame(M)"
   ]
  },
  {
   "cell_type": "markdown",
   "id": "917b2a74",
   "metadata": {
    "id": "Ncaq0gx07atN",
    "papermill": {
     "duration": null,
     "end_time": null,
     "exception": null,
     "start_time": null,
     "status": "pending"
    },
    "tags": []
   },
   "source": [
    "## Agrupamento com Single-Link"
   ]
  },
  {
   "cell_type": "code",
   "execution_count": null,
   "id": "2c438151",
   "metadata": {
    "id": "IV90UG-E7dUI",
    "outputId": "20cca8c2-97a8-4dae-dc89-0225ffd6feee",
    "papermill": {
     "duration": null,
     "end_time": null,
     "exception": null,
     "start_time": null,
     "status": "pending"
    },
    "tags": []
   },
   "outputs": [],
   "source": [
    "Z = hierarchy.linkage(M, 'single')\n",
    "dendrogram = hierarchy.dendrogram(Z)"
   ]
  },
  {
   "cell_type": "code",
   "execution_count": null,
   "id": "9c45dfea",
   "metadata": {
    "id": "IYVxUu-y8hUa",
    "outputId": "c129ed7d-3633-4a9d-945a-ec7c0953e002",
    "papermill": {
     "duration": null,
     "end_time": null,
     "exception": null,
     "start_time": null,
     "status": "pending"
    },
    "tags": []
   },
   "outputs": [],
   "source": [
    "dados1['cluster'] = hierarchy.cut_tree(Z,n_clusters=3)\n",
    "dados1.sample(10)"
   ]
  },
  {
   "cell_type": "code",
   "execution_count": null,
   "id": "5532d3f5",
   "metadata": {
    "id": "ipuuHQ_i8ziC",
    "outputId": "7344cbcb-629e-4d4a-d3d1-cd2a151d1ed9",
    "papermill": {
     "duration": null,
     "end_time": null,
     "exception": null,
     "start_time": null,
     "status": "pending"
    },
    "tags": []
   },
   "outputs": [],
   "source": [
    "sns.scatterplot(data=dados1, x=\"x\", y=\"y\", hue=\"cluster\")"
   ]
  },
  {
   "cell_type": "markdown",
   "id": "b64efa85",
   "metadata": {
    "id": "3xkuyuJv-j_Z",
    "papermill": {
     "duration": null,
     "end_time": null,
     "exception": null,
     "start_time": null,
     "status": "pending"
    },
    "tags": []
   },
   "source": [
    "## Agrupamento com Complete-Link"
   ]
  },
  {
   "cell_type": "code",
   "execution_count": null,
   "id": "4fb1de5c",
   "metadata": {
    "id": "px3e-_bZ-rti",
    "outputId": "ee18f0aa-93bb-4c6d-94ef-edefb3128747",
    "papermill": {
     "duration": null,
     "end_time": null,
     "exception": null,
     "start_time": null,
     "status": "pending"
    },
    "tags": []
   },
   "outputs": [],
   "source": [
    "Z = hierarchy.linkage(M, 'complete')\n",
    "dendrogram = hierarchy.dendrogram(Z)"
   ]
  },
  {
   "cell_type": "code",
   "execution_count": null,
   "id": "a537691a",
   "metadata": {
    "id": "cpcLcemB-w7K",
    "outputId": "1a75289b-db00-462c-d22f-eeb9fb9290df",
    "papermill": {
     "duration": null,
     "end_time": null,
     "exception": null,
     "start_time": null,
     "status": "pending"
    },
    "tags": []
   },
   "outputs": [],
   "source": [
    "dados1['cluster'] = hierarchy.cut_tree(Z,n_clusters=3)\n",
    "sns.scatterplot(data=dados1, x=\"x\", y=\"y\", hue=\"cluster\")"
   ]
  },
  {
   "cell_type": "markdown",
   "id": "004cc5ba",
   "metadata": {
    "id": "JWnM5RWd--Dx",
    "papermill": {
     "duration": null,
     "end_time": null,
     "exception": null,
     "start_time": null,
     "status": "pending"
    },
    "tags": []
   },
   "source": [
    "## Agrupamento com Average-Link"
   ]
  },
  {
   "cell_type": "code",
   "execution_count": null,
   "id": "f6b72ff4",
   "metadata": {
    "id": "Ndy6RJTQ_ADR",
    "outputId": "0754f2f1-28e6-4cc0-f242-c5fd8036a215",
    "papermill": {
     "duration": null,
     "end_time": null,
     "exception": null,
     "start_time": null,
     "status": "pending"
    },
    "tags": []
   },
   "outputs": [],
   "source": [
    "Z = hierarchy.linkage(M, 'average')\n",
    "dendrogram = hierarchy.dendrogram(Z)"
   ]
  },
  {
   "cell_type": "code",
   "execution_count": null,
   "id": "89ca9133",
   "metadata": {
    "id": "_fVY7fVs_FgB",
    "outputId": "cd5abda2-80d5-4dd5-c344-725841f058c2",
    "papermill": {
     "duration": null,
     "end_time": null,
     "exception": null,
     "start_time": null,
     "status": "pending"
    },
    "tags": []
   },
   "outputs": [],
   "source": [
    "dados1['cluster'] = hierarchy.cut_tree(Z,n_clusters=3)\n",
    "sns.scatterplot(data=dados1, x=\"x\", y=\"y\", hue=\"cluster\")"
   ]
  },
  {
   "cell_type": "markdown",
   "id": "bb235ea8",
   "metadata": {
    "id": "Ob3LgwU6_P4Z",
    "papermill": {
     "duration": null,
     "end_time": null,
     "exception": null,
     "start_time": null,
     "status": "pending"
    },
    "tags": []
   },
   "source": [
    "# Exemplo 2"
   ]
  },
  {
   "cell_type": "code",
   "execution_count": null,
   "id": "50492b55",
   "metadata": {
    "id": "dpzgrj4b_Sgy",
    "outputId": "33b26b73-d463-4321-912f-1dff6e206f39",
    "papermill": {
     "duration": null,
     "end_time": null,
     "exception": null,
     "start_time": null,
     "status": "pending"
    },
    "tags": []
   },
   "outputs": [],
   "source": [
    "dados2 = pd.read_csv('hc_exemplo2.csv')\n",
    "dados2.plot(kind='scatter',x='x',y='y')"
   ]
  },
  {
   "cell_type": "code",
   "execution_count": null,
   "id": "5c6a7be0",
   "metadata": {
    "id": "Ee2R_lFsAYqM",
    "papermill": {
     "duration": null,
     "end_time": null,
     "exception": null,
     "start_time": null,
     "status": "pending"
    },
    "tags": []
   },
   "outputs": [],
   "source": [
    "M = calcular_matriz_dissimilaridade(dados2)"
   ]
  },
  {
   "cell_type": "markdown",
   "id": "4a5db49a",
   "metadata": {
    "id": "ce1PWZnKASgC",
    "papermill": {
     "duration": null,
     "end_time": null,
     "exception": null,
     "start_time": null,
     "status": "pending"
    },
    "tags": []
   },
   "source": [
    "## Agrupamento com Single-Link\n",
    "\n"
   ]
  },
  {
   "cell_type": "code",
   "execution_count": null,
   "id": "6350c10a",
   "metadata": {
    "id": "aJSxXA-bAU18",
    "outputId": "054a1045-3ce9-4fba-893e-fa4437aab253",
    "papermill": {
     "duration": null,
     "end_time": null,
     "exception": null,
     "start_time": null,
     "status": "pending"
    },
    "tags": []
   },
   "outputs": [],
   "source": [
    "Z = hierarchy.linkage(M, 'single')\n",
    "dendrogram = hierarchy.dendrogram(Z)"
   ]
  },
  {
   "cell_type": "code",
   "execution_count": null,
   "id": "48009885",
   "metadata": {
    "id": "pNNXfS-pA0Ij",
    "outputId": "35d65c6c-a46f-42d8-f8d0-607f3ddfdd6c",
    "papermill": {
     "duration": null,
     "end_time": null,
     "exception": null,
     "start_time": null,
     "status": "pending"
    },
    "tags": []
   },
   "outputs": [],
   "source": [
    "dados2['cluster'] = hierarchy.cut_tree(Z,n_clusters=2)\n",
    "sns.scatterplot(data=dados2, x=\"x\", y=\"y\", hue=\"cluster\")"
   ]
  },
  {
   "cell_type": "markdown",
   "id": "4fdc0c8d",
   "metadata": {
    "id": "8hhOkhw6A-t8",
    "papermill": {
     "duration": null,
     "end_time": null,
     "exception": null,
     "start_time": null,
     "status": "pending"
    },
    "tags": []
   },
   "source": [
    "## Agrupamento com Complete-Link"
   ]
  },
  {
   "cell_type": "code",
   "execution_count": null,
   "id": "dfcaca93",
   "metadata": {
    "id": "OxjDOqqLBCpC",
    "outputId": "dd4484f1-22e8-4b26-c634-7dbff9f39cbd",
    "papermill": {
     "duration": null,
     "end_time": null,
     "exception": null,
     "start_time": null,
     "status": "pending"
    },
    "tags": []
   },
   "outputs": [],
   "source": [
    "Z = hierarchy.linkage(M, 'complete')\n",
    "dendrogram = hierarchy.dendrogram(Z)"
   ]
  },
  {
   "cell_type": "code",
   "execution_count": null,
   "id": "9aa3f364",
   "metadata": {
    "id": "p0gQ0L-uBGBn",
    "outputId": "5af19d92-5479-44ec-fecd-a554e399fc2a",
    "papermill": {
     "duration": null,
     "end_time": null,
     "exception": null,
     "start_time": null,
     "status": "pending"
    },
    "tags": []
   },
   "outputs": [],
   "source": [
    "dados2['cluster'] = hierarchy.cut_tree(Z,n_clusters=2)\n",
    "sns.scatterplot(data=dados2, x=\"x\", y=\"y\", hue=\"cluster\")"
   ]
  },
  {
   "cell_type": "markdown",
   "id": "25316c32",
   "metadata": {
    "id": "tBgIVW3KBu9c",
    "papermill": {
     "duration": null,
     "end_time": null,
     "exception": null,
     "start_time": null,
     "status": "pending"
    },
    "tags": []
   },
   "source": [
    "## Agrupamento com Average-Link"
   ]
  },
  {
   "cell_type": "code",
   "execution_count": null,
   "id": "e48bf27a",
   "metadata": {
    "id": "wrxjSjLiByhb",
    "outputId": "9758ce64-362e-42ea-cce6-c8aaf0478402",
    "papermill": {
     "duration": null,
     "end_time": null,
     "exception": null,
     "start_time": null,
     "status": "pending"
    },
    "tags": []
   },
   "outputs": [],
   "source": [
    "Z = hierarchy.linkage(M, 'average')\n",
    "dendrogram = hierarchy.dendrogram(Z)"
   ]
  },
  {
   "cell_type": "code",
   "execution_count": null,
   "id": "62724abb",
   "metadata": {
    "id": "uCb3fpLkB0uC",
    "outputId": "a5980bc8-dc46-4ded-9ae3-21cd0a0efd2f",
    "papermill": {
     "duration": null,
     "end_time": null,
     "exception": null,
     "start_time": null,
     "status": "pending"
    },
    "tags": []
   },
   "outputs": [],
   "source": [
    "dados2['cluster'] = hierarchy.cut_tree(Z,n_clusters=2)\n",
    "sns.scatterplot(data=dados2, x=\"x\", y=\"y\", hue=\"cluster\")"
   ]
  },
  {
   "cell_type": "markdown",
   "id": "864dd351",
   "metadata": {
    "id": "VIKwan9jB9-E",
    "papermill": {
     "duration": null,
     "end_time": null,
     "exception": null,
     "start_time": null,
     "status": "pending"
    },
    "tags": []
   },
   "source": [
    "# Exemplo 3"
   ]
  },
  {
   "cell_type": "code",
   "execution_count": null,
   "id": "574c9127",
   "metadata": {
    "id": "AgJEdd7BCtt9",
    "outputId": "982d61cc-3cbc-414d-97b4-84fca376316a",
    "papermill": {
     "duration": null,
     "end_time": null,
     "exception": null,
     "start_time": null,
     "status": "pending"
    },
    "tags": []
   },
   "outputs": [],
   "source": [
    "dados3 = pd.read_csv('hc_exemplo3.csv')\n",
    "dados3.plot(kind='scatter',x='x',y='y')"
   ]
  },
  {
   "cell_type": "code",
   "execution_count": null,
   "id": "ba811d18",
   "metadata": {
    "id": "J86Uhx7-C8BY",
    "papermill": {
     "duration": null,
     "end_time": null,
     "exception": null,
     "start_time": null,
     "status": "pending"
    },
    "tags": []
   },
   "outputs": [],
   "source": [
    "M = calcular_matriz_dissimilaridade(dados3)"
   ]
  },
  {
   "cell_type": "markdown",
   "id": "3dd6be36",
   "metadata": {
    "id": "EFlLFlgtC30i",
    "papermill": {
     "duration": null,
     "end_time": null,
     "exception": null,
     "start_time": null,
     "status": "pending"
    },
    "tags": []
   },
   "source": [
    "## Agrupamento com Single-Link"
   ]
  },
  {
   "cell_type": "code",
   "execution_count": null,
   "id": "b5804c14",
   "metadata": {
    "id": "cOPLtCpjC17z",
    "outputId": "0a88d97d-7345-4128-d1dc-cc2a5443ec04",
    "papermill": {
     "duration": null,
     "end_time": null,
     "exception": null,
     "start_time": null,
     "status": "pending"
    },
    "tags": []
   },
   "outputs": [],
   "source": [
    "Z = hierarchy.linkage(M, 'single')\n",
    "dendrogram = hierarchy.dendrogram(Z)"
   ]
  },
  {
   "cell_type": "code",
   "execution_count": null,
   "id": "6f329f37",
   "metadata": {
    "id": "42XOnbp3DE4P",
    "outputId": "9edd3fbc-d46d-480d-f24d-a82baa4f28ef",
    "papermill": {
     "duration": null,
     "end_time": null,
     "exception": null,
     "start_time": null,
     "status": "pending"
    },
    "tags": []
   },
   "outputs": [],
   "source": [
    "dados3['cluster'] = hierarchy.cut_tree(Z,n_clusters=2)\n",
    "sns.scatterplot(data=dados3, x=\"x\", y=\"y\", hue=\"cluster\")"
   ]
  },
  {
   "cell_type": "markdown",
   "id": "53a9a76d",
   "metadata": {
    "id": "fccohWPxDmSs",
    "papermill": {
     "duration": null,
     "end_time": null,
     "exception": null,
     "start_time": null,
     "status": "pending"
    },
    "tags": []
   },
   "source": [
    "## Agrupamento com Complete-Link"
   ]
  },
  {
   "cell_type": "code",
   "execution_count": null,
   "id": "afe5ac7d",
   "metadata": {
    "id": "OHym6R6tDpN8",
    "outputId": "7551b294-0a69-4c5f-edd4-ca92e674e442",
    "papermill": {
     "duration": null,
     "end_time": null,
     "exception": null,
     "start_time": null,
     "status": "pending"
    },
    "tags": []
   },
   "outputs": [],
   "source": [
    "Z = hierarchy.linkage(M, 'complete')\n",
    "dendrogram = hierarchy.dendrogram(Z)"
   ]
  },
  {
   "cell_type": "code",
   "execution_count": null,
   "id": "208a7cee",
   "metadata": {
    "id": "v_n2iC0TDtlW",
    "outputId": "5b927d77-771d-4e4b-97b4-a52e51211398",
    "papermill": {
     "duration": null,
     "end_time": null,
     "exception": null,
     "start_time": null,
     "status": "pending"
    },
    "tags": []
   },
   "outputs": [],
   "source": [
    "dados3['cluster'] = hierarchy.cut_tree(Z,n_clusters=2)\n",
    "sns.scatterplot(data=dados3, x=\"x\", y=\"y\", hue=\"cluster\")"
   ]
  },
  {
   "cell_type": "markdown",
   "id": "d72db36e",
   "metadata": {
    "id": "jiQUcDY-DxwV",
    "papermill": {
     "duration": null,
     "end_time": null,
     "exception": null,
     "start_time": null,
     "status": "pending"
    },
    "tags": []
   },
   "source": [
    "# Agrupamento com Average-Link"
   ]
  },
  {
   "cell_type": "code",
   "execution_count": null,
   "id": "cf37c904",
   "metadata": {
    "id": "7h2IGbM0Dv48",
    "outputId": "801e98f3-392a-4129-a3f3-47110d3accc0",
    "papermill": {
     "duration": null,
     "end_time": null,
     "exception": null,
     "start_time": null,
     "status": "pending"
    },
    "tags": []
   },
   "outputs": [],
   "source": [
    "Z = hierarchy.linkage(M, 'average')\n",
    "dendrogram = hierarchy.dendrogram(Z)"
   ]
  },
  {
   "cell_type": "code",
   "execution_count": null,
   "id": "73d48cf8",
   "metadata": {
    "id": "ZxjhxVgaD19l",
    "outputId": "a1648f8f-9655-4630-e27a-a953beb6734a",
    "papermill": {
     "duration": null,
     "end_time": null,
     "exception": null,
     "start_time": null,
     "status": "pending"
    },
    "tags": []
   },
   "outputs": [],
   "source": [
    "dados3['cluster'] = hierarchy.cut_tree(Z,n_clusters=2)\n",
    "sns.scatterplot(data=dados3, x=\"x\", y=\"y\", hue=\"cluster\")"
   ]
  },
  {
   "cell_type": "markdown",
   "id": "af104cc9",
   "metadata": {
    "id": "XihXmariEaks",
    "papermill": {
     "duration": null,
     "end_time": null,
     "exception": null,
     "start_time": null,
     "status": "pending"
    },
    "tags": []
   },
   "source": [
    "# Exemplo #4"
   ]
  },
  {
   "cell_type": "code",
   "execution_count": null,
   "id": "ba8900fe",
   "metadata": {
    "id": "4pI_iAHKEdC9",
    "outputId": "48a8f930-fa60-46a8-fbdb-1e975b387861",
    "papermill": {
     "duration": null,
     "end_time": null,
     "exception": null,
     "start_time": null,
     "status": "pending"
    },
    "tags": []
   },
   "outputs": [],
   "source": [
    "dados4 = pd.read_csv('hc_exemplo4.csv')\n",
    "dados4.plot(kind='scatter',x='x',y='y')"
   ]
  },
  {
   "cell_type": "code",
   "execution_count": null,
   "id": "e1bb23d4",
   "metadata": {
    "id": "3pIvJD95EpKt",
    "papermill": {
     "duration": null,
     "end_time": null,
     "exception": null,
     "start_time": null,
     "status": "pending"
    },
    "tags": []
   },
   "outputs": [],
   "source": [
    "M = calcular_matriz_dissimilaridade(dados4)"
   ]
  },
  {
   "cell_type": "markdown",
   "id": "c12c8010",
   "metadata": {
    "id": "60OuZO9fEs40",
    "papermill": {
     "duration": null,
     "end_time": null,
     "exception": null,
     "start_time": null,
     "status": "pending"
    },
    "tags": []
   },
   "source": [
    "## Agrupamento com Single-Link"
   ]
  },
  {
   "cell_type": "code",
   "execution_count": null,
   "id": "e4ead766",
   "metadata": {
    "id": "z3yAggBlEu_6",
    "outputId": "b781addc-4c7f-464a-865d-04b8a96ebdcf",
    "papermill": {
     "duration": null,
     "end_time": null,
     "exception": null,
     "start_time": null,
     "status": "pending"
    },
    "tags": []
   },
   "outputs": [],
   "source": [
    "Z = hierarchy.linkage(M, 'single')\n",
    "dendrogram = hierarchy.dendrogram(Z)"
   ]
  },
  {
   "cell_type": "code",
   "execution_count": null,
   "id": "051455bb",
   "metadata": {
    "id": "POzjH4YfE0ny",
    "outputId": "192ae0b4-ff9d-4a07-a5dc-404ee85f658a",
    "papermill": {
     "duration": null,
     "end_time": null,
     "exception": null,
     "start_time": null,
     "status": "pending"
    },
    "tags": []
   },
   "outputs": [],
   "source": [
    "dados4['cluster'] = hierarchy.cut_tree(Z,n_clusters=2)\n",
    "sns.scatterplot(data=dados4, x=\"x\", y=\"y\", hue=\"cluster\")"
   ]
  },
  {
   "cell_type": "markdown",
   "id": "3ec0931b",
   "metadata": {
    "id": "WOs7Dne7E5re",
    "papermill": {
     "duration": null,
     "end_time": null,
     "exception": null,
     "start_time": null,
     "status": "pending"
    },
    "tags": []
   },
   "source": [
    "## Agrupamento com Complete-Link"
   ]
  },
  {
   "cell_type": "code",
   "execution_count": null,
   "id": "0abfd220",
   "metadata": {
    "id": "9KI2KKiuE78F",
    "outputId": "cf0823ee-8c7a-4227-ec16-f5c107fef46b",
    "papermill": {
     "duration": null,
     "end_time": null,
     "exception": null,
     "start_time": null,
     "status": "pending"
    },
    "tags": []
   },
   "outputs": [],
   "source": [
    "Z = hierarchy.linkage(M, 'complete')\n",
    "dendrogram = hierarchy.dendrogram(Z)"
   ]
  },
  {
   "cell_type": "code",
   "execution_count": null,
   "id": "e8453dac",
   "metadata": {
    "id": "6xaGyFFqFAEO",
    "outputId": "46a1f06c-3b57-4fe8-d2c7-5822be3e497b",
    "papermill": {
     "duration": null,
     "end_time": null,
     "exception": null,
     "start_time": null,
     "status": "pending"
    },
    "tags": []
   },
   "outputs": [],
   "source": [
    "dados4['cluster'] = hierarchy.cut_tree(Z,n_clusters=2)\n",
    "sns.scatterplot(data=dados4, x=\"x\", y=\"y\", hue=\"cluster\")"
   ]
  },
  {
   "cell_type": "markdown",
   "id": "c30887dd",
   "metadata": {
    "id": "R4M6lUUOFDGA",
    "papermill": {
     "duration": null,
     "end_time": null,
     "exception": null,
     "start_time": null,
     "status": "pending"
    },
    "tags": []
   },
   "source": [
    "## Agrupamento com Average-Link"
   ]
  },
  {
   "cell_type": "code",
   "execution_count": null,
   "id": "d5c82bd0",
   "metadata": {
    "id": "SBiXr5b4FFov",
    "outputId": "9b9b4b86-5860-45b7-986a-109033147f06",
    "papermill": {
     "duration": null,
     "end_time": null,
     "exception": null,
     "start_time": null,
     "status": "pending"
    },
    "tags": []
   },
   "outputs": [],
   "source": [
    "Z = hierarchy.linkage(M, 'average')\n",
    "dendrogram = hierarchy.dendrogram(Z)"
   ]
  },
  {
   "cell_type": "code",
   "execution_count": null,
   "id": "c3f701ef",
   "metadata": {
    "id": "eOzX8GWKFIje",
    "outputId": "78346fce-4c51-4cd1-b873-1aefcd906e3f",
    "papermill": {
     "duration": null,
     "end_time": null,
     "exception": null,
     "start_time": null,
     "status": "pending"
    },
    "tags": []
   },
   "outputs": [],
   "source": [
    "dados4['cluster'] = hierarchy.cut_tree(Z,n_clusters=2)\n",
    "sns.scatterplot(data=dados4, x=\"x\", y=\"y\", hue=\"cluster\")"
   ]
  },
  {
   "cell_type": "markdown",
   "id": "a286bfc9",
   "metadata": {
    "id": "SlNAnfspFubE",
    "papermill": {
     "duration": null,
     "end_time": null,
     "exception": null,
     "start_time": null,
     "status": "pending"
    },
    "tags": []
   },
   "source": [
    "# Exemplo #5 (base Exasens)\n",
    "\n",
    "\n",
    "O conjunto de dados Exasens inclui informações sobre 4 grupos de amostras de saliva coletadas Pesquisa Borstel (Alemanha). Um biossensor de permissividade foi usado para a caracterização das amostras de saliva.\n",
    "\n",
    "Definição de 4 grupos de amostra incluídos no conjunto de dados Exasens:\n",
    "\n",
    "(I) Pacientes ambulatoriais e pacientes hospitalizados com DPOC sem infecção respiratória aguda (DPOC).\n",
    "\n",
    "(II) Pacientes ambulatoriais e hospitalizados com asma sem infecções respiratórias agudas (Asma).\n",
    "\n",
    "(III) Pacientes com infecções respiratórias, mas sem DPOC ou asma (infectados).\n",
    "\n",
    "(IV) controles saudáveis ​​sem DPOC, asma ou qualquer infecção respiratória (HC).\n",
    "\n",
    "\n",
    "P. S. Zarrin, N. Roeckendorf, and C. Wenger. In-vitro Classification of Saliva Samples of COPD Patients and Healthy Controls Using Non-perceptron Machine Learning Tools. Annals of biomedical engineering, 2020."
   ]
  },
  {
   "cell_type": "code",
   "execution_count": null,
   "id": "f9cdf955",
   "metadata": {
    "id": "06pCM2egGrW_",
    "outputId": "6ee1857f-bb23-4edb-f585-e28c96033a29",
    "papermill": {
     "duration": null,
     "end_time": null,
     "exception": null,
     "start_time": null,
     "status": "pending"
    },
    "tags": []
   },
   "outputs": [],
   "source": [
    "dados5 = pd.read_csv('hc_exemplo5_exasens.csv')\n",
    "dados5.sample(30)"
   ]
  },
  {
   "cell_type": "code",
   "execution_count": null,
   "id": "60f6bae2",
   "metadata": {
    "id": "_y7z_uTOSWK9",
    "outputId": "5686452a-906c-405e-a68d-55df6cae1b6e",
    "papermill": {
     "duration": null,
     "end_time": null,
     "exception": null,
     "start_time": null,
     "status": "pending"
    },
    "tags": []
   },
   "outputs": [],
   "source": [
    "dados5.Diagnosis.hist()"
   ]
  },
  {
   "cell_type": "code",
   "execution_count": null,
   "id": "45fe6505",
   "metadata": {
    "id": "7OyB-7aORdAo",
    "papermill": {
     "duration": null,
     "end_time": null,
     "exception": null,
     "start_time": null,
     "status": "pending"
    },
    "tags": []
   },
   "outputs": [],
   "source": [
    "df = dados5[['Gender','Age','Smoking','Saliva Permittivity']]\n",
    "M = calcular_matriz_dissimilaridade(df)"
   ]
  },
  {
   "cell_type": "code",
   "execution_count": null,
   "id": "175de57a",
   "metadata": {
    "id": "jTo3bKHMJ5d-",
    "outputId": "ba9ad5fc-1eb5-439b-f531-c9193927bd59",
    "papermill": {
     "duration": null,
     "end_time": null,
     "exception": null,
     "start_time": null,
     "status": "pending"
    },
    "tags": []
   },
   "outputs": [],
   "source": [
    "Z = hierarchy.linkage(M, 'average')\n",
    "dendrogram = hierarchy.dendrogram(Z)"
   ]
  },
  {
   "cell_type": "code",
   "execution_count": null,
   "id": "0dca9034",
   "metadata": {
    "id": "TaJC3CqULDEv",
    "papermill": {
     "duration": null,
     "end_time": null,
     "exception": null,
     "start_time": null,
     "status": "pending"
    },
    "tags": []
   },
   "outputs": [],
   "source": [
    "dados5['cluster'] = hierarchy.cut_tree(Z,n_clusters=4)"
   ]
  },
  {
   "cell_type": "code",
   "execution_count": null,
   "id": "497f6e58",
   "metadata": {
    "id": "sw-Jkm9eOece",
    "outputId": "b2e88b67-0972-494b-d3dd-5e516cf05edc",
    "papermill": {
     "duration": null,
     "end_time": null,
     "exception": null,
     "start_time": null,
     "status": "pending"
    },
    "tags": []
   },
   "outputs": [],
   "source": [
    "dados5[dados5.cluster==0]"
   ]
  },
  {
   "cell_type": "markdown",
   "id": "e60c9a05",
   "metadata": {
    "id": "XhrwxxGxUUCf",
    "papermill": {
     "duration": null,
     "end_time": null,
     "exception": null,
     "start_time": null,
     "status": "pending"
    },
    "tags": []
   },
   "source": [
    "# Informações complementares\n",
    "\n",
    "Para quem quiser se aprofundar no assunto, ler sobre outros métodos de \"linkage\" para agrupamento hierárquico.\n",
    "\n",
    "*   Centroid-Link\n",
    "*   Ward-Link\n",
    "\n",
    "\n",
    "https://docs.scipy.org/doc/scipy/reference/generated/scipy.cluster.hierarchy.linkage.html#scipy.cluster.hierarchy.linkage"
   ]
  }
 ],
 "metadata": {
  "kernelspec": {
   "display_name": "Python 3",
   "language": "python",
   "name": "python3"
  },
  "language_info": {
   "codemirror_mode": {
    "name": "ipython",
    "version": 3
   },
   "file_extension": ".py",
   "mimetype": "text/x-python",
   "name": "python",
   "nbconvert_exporter": "python",
   "pygments_lexer": "ipython3",
   "version": "3.7.12"
  },
  "papermill": {
   "default_parameters": {},
   "duration": 10.447471,
   "end_time": "2022-10-01T11:55:52.539216",
   "environment_variables": {},
   "exception": true,
   "input_path": "__notebook__.ipynb",
   "output_path": "__notebook__.ipynb",
   "parameters": {},
   "start_time": "2022-10-01T11:55:42.091745",
   "version": "2.3.4"
  }
 },
 "nbformat": 4,
 "nbformat_minor": 5
}
