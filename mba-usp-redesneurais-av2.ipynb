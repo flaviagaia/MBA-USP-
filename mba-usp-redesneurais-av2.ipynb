{
 "cells": [
  {
   "cell_type": "markdown",
   "id": "75a3cf16",
   "metadata": {
    "id": "80ekYZScA5Yt",
    "papermill": {
     "duration": 0.007009,
     "end_time": "2022-11-07T18:26:56.305273",
     "exception": false,
     "start_time": "2022-11-07T18:26:56.298264",
     "status": "completed"
    },
    "tags": []
   },
   "source": [
    "##CURSO 4\n",
    "## <font color=\"red\">**MBA EM IA E BIGDATA**\n",
    "## <span style=\"color:red\">Redes Neurais e Deep Learning</span>\n",
    "Profa. Roseli Ap. Francelin Romero </br>\n",
    " </br>\n",
    "**Avaliação Quinzenal - Quinzena 2** "
   ]
  },
  {
   "cell_type": "markdown",
   "id": "482eb9bf",
   "metadata": {
    "id": "G5DW1Zho5X5_",
    "papermill": {
     "duration": 0.003813,
     "end_time": "2022-11-07T18:26:56.314442",
     "exception": false,
     "start_time": "2022-11-07T18:26:56.310629",
     "status": "completed"
    },
    "tags": []
   },
   "source": [
    "## **Questão 1**\n",
    "\n",
    "Projete uma rede neural convolucional que processe imagens de entrada de tamanho $64\\times 64 \\times 3$, contendo as seguintes camadas:\n",
    "\n",
    "1. Convolucional 2D com 32 filtros 3x3, stride 1 e zero-padding,\n",
    "1. MaxPooling com passo 2x2 e stride 2x2,\n",
    "1. Convolucional 2D com 64 filtros 3x3, strides 2x2 e zero-padding,\n",
    "1. Convolucional 2D com 128 filtros 3x3, stride 1 e zero-padding,\n",
    "1. Global Average Pooling\n",
    "1. Camada Densa com 64 neurônios\n",
    "1. Camada Classificadora de Saída com 5 classes\n",
    "\n",
    "Use as funções de ativação mais adequadas para o cenário, considerando imagens com pixels normalizados no intervalo entre 0-1 e \n",
    "uma tarefa de classificação em 5 classes. Qual o tamanho (shape) da saída das camadas: 2, 4, 5 e 7?\n",
    "\n",
    "a) 2: 32x32x32, 4:14x14x32, 5: 100, 7: 5<br>\n",
    "b) 2: 32x32x16, 4:16x16x64, 5: 14x14x128, 7: 100<br>\n",
    "c) 2: 32x32x16, 4:14x14x128, 5: 128, 7: 100<br>\n",
    "d) 2: 32x32x32, 4:14x14x128, 5: 128, 7: 5\n"
   ]
  },
  {
   "cell_type": "markdown",
   "id": "e507a1fb",
   "metadata": {
    "id": "NwAxCDdb5cvu",
    "papermill": {
     "duration": 0.004045,
     "end_time": "2022-11-07T18:26:56.323130",
     "exception": false,
     "start_time": "2022-11-07T18:26:56.319085",
     "status": "completed"
    },
    "tags": []
   },
   "source": [
    "---\n",
    "## **Questão 2**\n",
    "\n",
    "Carregue a base de dados Fashion-MNIST conforme o código fornecido no Notebook2 (MBA_CURSO4_RNADL_Notebook2_MLP_vs_CNN). Utilizaremos um subconjunto com 12 mil imagens para treinamento e 8 mil imagens para validação conforme as duas últimas linhas desse código.\n",
    "\n",
    "Projete uma rede neural convolucional para classificação dessa base com as seguintes camadas:\n",
    "1. Convolucional 2D com 32 filtros 3x3, stride 1 e zero-padding,\n",
    "1. MaxPooling com passo 2x2 e stride 2x2,\n",
    "1. Convolucional 2D com 64 filtros 3x3, strides 2x2 e zero-padding,\n",
    "1. Convolucional 2D com 128 filtros 3x3, stride 1 e zero-padding,\n",
    "1. Global Average Pooling\n",
    "1. Camada Densa com 64 neurônios\n",
    "1. Camada Dropout com probabilidade 0.25\n",
    "1. Camada Classificadora de Saída <br>\n",
    "\n",
    "Use função de ativação 'relu' em todas as camadas convolucionais e densas antes da camada de saída.\n",
    "\n",
    "Faça um experimento repetindo 5 vezes o treinamento e avaliação dessa rede convolucional,\n",
    "treinando com batch size 20, 10 épocas, otimizador Adam com learning rate 0.005. \n",
    "Calcule a acurácia média (entre as 5 execuções) obtida no conjunto de treinamento, e a acurácia média (entre as 5 execuções) \n",
    "obtida no conjunto de validação. Escolha a opção que contenha o intervalo das acurácias observadas.\n",
    "\n",
    "a) Treinamento: [88,92], Validação: [85,89]<br>\n",
    "b) Treinamento: [93,97], Validação: [80,84]<br>\n",
    "c) Treinamento: [88,92], Validação: [80,84]<br>\n",
    "d) Treinamento: [93,97], Validação: [85,89]<br>"
   ]
  },
  {
   "cell_type": "markdown",
   "id": "be427860",
   "metadata": {
    "id": "yX8V4Ng9FsoP",
    "papermill": {
     "duration": 0.004049,
     "end_time": "2022-11-07T18:26:56.331749",
     "exception": false,
     "start_time": "2022-11-07T18:26:56.327700",
     "status": "completed"
    },
    "tags": []
   },
   "source": [
    "---\n",
    "**Questao 3** Considerando as redes neurais recorrentes (RNN), verifique o que não é correto afirmar sobre elas: </br>\n",
    "a) RNN são redes que levam em consideração o tempo. </br>\n",
    "b) RNN criam um histórico do que aprendeu e usam na predição. </br>\n",
    "c) As redes LSTM e GRU diferem entre si quanto ao número de portas envolvidas e o número de operações realizadas. </br>\n",
    "d) Um dos métodos possíveis para validar uma RNN é fazer Validação cruzada usando a função K-fold crossvalidation do Sklearn. </br>\n",
    "e) Nenhuma das alternativas."
   ]
  },
  {
   "cell_type": "markdown",
   "id": "f9856c5d",
   "metadata": {
    "id": "-APBB8_55E0Q",
    "papermill": {
     "duration": 0.004114,
     "end_time": "2022-11-07T18:26:56.340472",
     "exception": false,
     "start_time": "2022-11-07T18:26:56.336358",
     "status": "completed"
    },
    "tags": []
   },
   "source": [
    "---\n",
    "**Questao 4**  Sobre a técnica de Aprendizado por Reforço aplicada a jogos, o que é incorreto afirmar: </br>\n",
    "a) Não existe supervisão, apenas sinal de recompensa  </br>\n",
    "b) Ações do agente afetam dados subsequentes  </br>\n",
    "c) O objetivo é minimizar o tempo envolvido para atingir a meta.  </br>\n",
    "d) O aprendizado ocorre a longo prazo. </br>\n",
    "e) Nenhuma das alternativas."
   ]
  },
  {
   "cell_type": "markdown",
   "id": "3b7f9d81",
   "metadata": {
    "id": "EUxT6YNkCftf",
    "papermill": {
     "duration": 0.003897,
     "end_time": "2022-11-07T18:26:56.348811",
     "exception": false,
     "start_time": "2022-11-07T18:26:56.344914",
     "status": "completed"
    },
    "tags": []
   },
   "source": [
    "---\n",
    "**Questão 5** \n",
    "Assinale a alternativa incorreta. <br>\n",
    "a) As redes generativas adversárias convergem quando a rede Discrimadora atinge 50% de acurácia. </br>\n",
    "b) A arquitetura das redes generativas adversárias só podem ser formadas com redes LSTMs. </br>\n",
    "c) As redes generativas adversárias auxiliam em data augmentation e contribuem para a melhoria do desempenho da rede Discriminadora. </br>\n",
    "d) As entradas para a rede generativa podem ser geradas por qualquer distribuição de probabilidade. </br>\n",
    "e) Nenhuma das alternativas. </br>\n"
   ]
  }
 ],
 "metadata": {
  "kernelspec": {
   "display_name": "Python 3",
   "language": "python",
   "name": "python3"
  },
  "language_info": {
   "codemirror_mode": {
    "name": "ipython",
    "version": 3
   },
   "file_extension": ".py",
   "mimetype": "text/x-python",
   "name": "python",
   "nbconvert_exporter": "python",
   "pygments_lexer": "ipython3",
   "version": "3.7.12"
  },
  "papermill": {
   "default_parameters": {},
   "duration": 9.969805,
   "end_time": "2022-11-07T18:26:57.191804",
   "environment_variables": {},
   "exception": null,
   "input_path": "__notebook__.ipynb",
   "output_path": "__notebook__.ipynb",
   "parameters": {},
   "start_time": "2022-11-07T18:26:47.221999",
   "version": "2.3.4"
  }
 },
 "nbformat": 4,
 "nbformat_minor": 5
}
