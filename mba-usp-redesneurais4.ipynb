{
 "cells": [
  {
   "cell_type": "markdown",
   "id": "447a28dc",
   "metadata": {
    "id": "Re3DIHzpFV0j",
    "papermill": {
     "duration": 0.005211,
     "end_time": "2022-10-23T14:36:17.978322",
     "exception": false,
     "start_time": "2022-10-23T14:36:17.973111",
     "status": "completed"
    },
    "tags": []
   },
   "source": [
    "# <font color=\"red\"> MBA em IA e Big Data</font>\n",
    "## <span style=\"color:red\">Redes Neurais e Deep Learning</span>\n",
    "\n",
    "\n",
    "## Entendendo a função de custo entropia cruzada (cross-entropy)\n",
    "\n",
    "*Roseli Aparecida Francelin Romero*<br>\n",
    "*ICMC/USP São Carlos*"
   ]
  },
  {
   "cell_type": "markdown",
   "id": "4d555134",
   "metadata": {
    "id": "QejWxUcXFV0u",
    "papermill": {
     "duration": 0.003738,
     "end_time": "2022-10-23T14:36:17.986342",
     "exception": false,
     "start_time": "2022-10-23T14:36:17.982604",
     "status": "completed"
    },
    "tags": []
   },
   "source": [
    "A **entropia cruzada** é amplamente utilizada, mas, ao contrário da **perda quadrática**, mais conhecida e de fácil interpretação, não é tão intuitiva.\n",
    "\n",
    "Há dois formatos básicos dessa função:\n",
    "\n",
    "* Entropia cruzada binária: utilizada para duas classes\n",
    "$$-\\frac{1}{N} \\sum_{i=1}^N y_i \\log \\hat{y}_i + (1-y_i) \\log (1-\\hat{y}_i)$$\n",
    "\n",
    "* Entropia cruzada categórica: problemas multiclasse\n",
    "$$-\\frac{1}{N} \\sum_{i=1}^N y_i \\log \\hat{y}_i$$\n"
   ]
  },
  {
   "cell_type": "code",
   "execution_count": 1,
   "id": "9275fd12",
   "metadata": {
    "execution": {
     "iopub.execute_input": "2022-10-23T14:36:17.996765Z",
     "iopub.status.busy": "2022-10-23T14:36:17.996226Z",
     "iopub.status.idle": "2022-10-23T14:36:18.006577Z",
     "shell.execute_reply": "2022-10-23T14:36:18.005504Z"
    },
    "id": "7ej8WFy6FV0v",
    "papermill": {
     "duration": 0.018712,
     "end_time": "2022-10-23T14:36:18.009126",
     "exception": false,
     "start_time": "2022-10-23T14:36:17.990414",
     "status": "completed"
    },
    "tags": []
   },
   "outputs": [],
   "source": [
    "import numpy as np\n",
    "import matplotlib.pyplot as plt"
   ]
  },
  {
   "cell_type": "code",
   "execution_count": 2,
   "id": "b966f5aa",
   "metadata": {
    "execution": {
     "iopub.execute_input": "2022-10-23T14:36:18.019215Z",
     "iopub.status.busy": "2022-10-23T14:36:18.018823Z",
     "iopub.status.idle": "2022-10-23T14:36:18.025655Z",
     "shell.execute_reply": "2022-10-23T14:36:18.024559Z"
    },
    "id": "Ipcu-rcyFV0x",
    "outputId": "bb8458ca-048c-4be7-d2b9-e6f1a0fb9340",
    "papermill": {
     "duration": 0.01467,
     "end_time": "2022-10-23T14:36:18.028059",
     "exception": false,
     "start_time": "2022-10-23T14:36:18.013389",
     "status": "completed"
    },
    "tags": []
   },
   "outputs": [
    {
     "name": "stdout",
     "output_type": "stream",
     "text": [
      "[0.     0.0526 0.1053 0.1579 0.2105 0.2632 0.3158 0.3684 0.4211 0.4737\n",
      " 0.5263 0.5789 0.6316 0.6842 0.7368 0.7895 0.8421 0.8947 0.9474 1.    ]\n"
     ]
    }
   ],
   "source": [
    "y = 1\n",
    "y_hat = np.linspace(0,1,20)\n",
    "\n",
    "print(np.round(y_hat,4))"
   ]
  },
  {
   "cell_type": "code",
   "execution_count": 3,
   "id": "cff74634",
   "metadata": {
    "execution": {
     "iopub.execute_input": "2022-10-23T14:36:18.039018Z",
     "iopub.status.busy": "2022-10-23T14:36:18.038597Z",
     "iopub.status.idle": "2022-10-23T14:36:18.293879Z",
     "shell.execute_reply": "2022-10-23T14:36:18.292645Z"
    },
    "id": "RMcU8vsWFV0y",
    "outputId": "20322e29-cbd2-4c68-a9a1-d2c65e6f1c00",
    "papermill": {
     "duration": 0.264391,
     "end_time": "2022-10-23T14:36:18.297235",
     "exception": false,
     "start_time": "2022-10-23T14:36:18.032844",
     "status": "completed"
    },
    "tags": []
   },
   "outputs": [
    {
     "data": {
      "text/plain": [
       "Text(0.5, 0, 'em relaçao a 1.0')"
      ]
     },
     "execution_count": 3,
     "metadata": {},
     "output_type": "execute_result"
    },
    {
     "data": {
      "image/png": "[encoded data removed]",
      "text/plain": [
       "<Figure size 504x288 with 1 Axes>"
      ]
     },
     "metadata": {
      "needs_background": "light"
     },
     "output_type": "display_data"
    }
   ],
   "source": [
    "loss_ec = -(y*np.log(y_hat+.0001) + (1-y)*np.log(1-y_hat +.0001))\n",
    "\n",
    "plt.figure(figsize=(7,4))\n",
    "plt.plot(y_hat, loss_ec)\n",
    "plt.ylabel('perda entropia cruzada')\n",
    "plt.xlabel('em relaçao a %.1f' % (y))"
   ]
  },
  {
   "cell_type": "markdown",
   "id": "22eddd1b",
   "metadata": {
    "id": "5Y2wLwcSFV0z",
    "papermill": {
     "duration": 0.00499,
     "end_time": "2022-10-23T14:36:18.309417",
     "exception": false,
     "start_time": "2022-10-23T14:36:18.304427",
     "status": "completed"
    },
    "tags": []
   },
   "source": [
    "Vamos comparar com a perda quadrática, por ilustração"
   ]
  },
  {
   "cell_type": "code",
   "execution_count": 4,
   "id": "11401748",
   "metadata": {
    "execution": {
     "iopub.execute_input": "2022-10-23T14:36:18.321419Z",
     "iopub.status.busy": "2022-10-23T14:36:18.320721Z",
     "iopub.status.idle": "2022-10-23T14:36:18.509986Z",
     "shell.execute_reply": "2022-10-23T14:36:18.509045Z"
    },
    "id": "eD4tVswtFV0z",
    "outputId": "b49495d1-f99f-4479-ac84-bd12138d41ed",
    "papermill": {
     "duration": 0.199431,
     "end_time": "2022-10-23T14:36:18.513618",
     "exception": false,
     "start_time": "2022-10-23T14:36:18.314187",
     "status": "completed"
    },
    "scrolled": true,
    "tags": []
   },
   "outputs": [
    {
     "data": {
      "text/plain": [
       "Text(0.5, 0, 'em relaçao a 1.0')"
      ]
     },
     "execution_count": 4,
     "metadata": {},
     "output_type": "execute_result"
    },
    {
     "data": {
      "image/png": "[encoded data removed]",
      "text/plain": [
       "<Figure size 504x288 with 1 Axes>"
      ]
     },
     "metadata": {
      "needs_background": "light"
     },
     "output_type": "display_data"
    }
   ],
   "source": [
    "loss_q = np.power(y-y_hat,2)\n",
    "plt.figure(figsize=(7,4))\n",
    "plt.plot(y_hat, loss_q)\n",
    "plt.ylabel('perda quadrática')\n",
    "plt.xlabel('em relaçao a %.1f' % (y))"
   ]
  },
  {
   "cell_type": "markdown",
   "id": "96aaac9c",
   "metadata": {
    "id": "VrhhxD2BFV00",
    "papermill": {
     "duration": 0.00491,
     "end_time": "2022-10-23T14:36:18.523964",
     "exception": false,
     "start_time": "2022-10-23T14:36:18.519054",
     "status": "completed"
    },
    "tags": []
   },
   "source": [
    "Vamos estudar um exemplo em 1D"
   ]
  },
  {
   "cell_type": "code",
   "execution_count": 5,
   "id": "29796861",
   "metadata": {
    "execution": {
     "iopub.execute_input": "2022-10-23T14:36:18.536231Z",
     "iopub.status.busy": "2022-10-23T14:36:18.535805Z",
     "iopub.status.idle": "2022-10-23T14:36:18.695214Z",
     "shell.execute_reply": "2022-10-23T14:36:18.693976Z"
    },
    "id": "X2Cz7weqFV01",
    "outputId": "52af83f2-cc28-4da1-dee2-c6d66abebfd9",
    "papermill": {
     "duration": 0.168784,
     "end_time": "2022-10-23T14:36:18.697926",
     "exception": false,
     "start_time": "2022-10-23T14:36:18.529142",
     "status": "completed"
    },
    "scrolled": true,
    "tags": []
   },
   "outputs": [
    {
     "data": {
      "text/plain": [
       "<matplotlib.collections.PathCollection at 0x7f197e768210>"
      ]
     },
     "execution_count": 5,
     "metadata": {},
     "output_type": "execute_result"
    },
    {
     "data": {
      "image/png": "[encoded data removed]",
      "text/plain": [
       "<Figure size 432x288 with 1 Axes>"
      ]
     },
     "metadata": {
      "needs_background": "light"
     },
     "output_type": "display_data"
    }
   ],
   "source": [
    "x = np.array([-1.8,-1.5,-0.8,-0.4,-0.2, 0.0, 0.1, 0.5, 1.0, 1.3])\n",
    "y = np.array([ 0.0, 0.0, 0.0, 1.0, 0.0, 1.0, 0.0,  1.0, 1.0, 1.0])\n",
    "\n",
    "plt.scatter(x,np.zeros(10), c=y,cmap=plt.cm.coolwarm)"
   ]
  },
  {
   "cell_type": "markdown",
   "id": "c2e5400a",
   "metadata": {
    "id": "3TC1dpSGFV02",
    "papermill": {
     "duration": 0.005514,
     "end_time": "2022-10-23T14:36:18.709143",
     "exception": false,
     "start_time": "2022-10-23T14:36:18.703629",
     "status": "completed"
    },
    "tags": []
   },
   "source": [
    "Treinando um classificador para diferenciar as duas classes (0 e 1)"
   ]
  },
  {
   "cell_type": "code",
   "execution_count": 6,
   "id": "8d2f3174",
   "metadata": {
    "execution": {
     "iopub.execute_input": "2022-10-23T14:36:18.722447Z",
     "iopub.status.busy": "2022-10-23T14:36:18.722026Z",
     "iopub.status.idle": "2022-10-23T14:36:19.953484Z",
     "shell.execute_reply": "2022-10-23T14:36:19.952132Z"
    },
    "id": "Ph71IMEMFV03",
    "outputId": "7ca8e5ea-2344-4cf4-aa63-738b238d6b1c",
    "papermill": {
     "duration": 1.241213,
     "end_time": "2022-10-23T14:36:19.956099",
     "exception": false,
     "start_time": "2022-10-23T14:36:18.714886",
     "status": "completed"
    },
    "scrolled": true,
    "tags": []
   },
   "outputs": [
    {
     "name": "stdout",
     "output_type": "stream",
     "text": [
      "classes       = [0. 0. 0. 0. 0. 1. 1. 1. 1. 1.]\n",
      "p(y)          = [0.133 0.178 0.325 0.433 0.49  0.547 0.576 0.682 0.792 0.843]\n"
     ]
    }
   ],
   "source": [
    "from sklearn.linear_model import LogisticRegression\n",
    "\n",
    "logr = LogisticRegression(solver='lbfgs')\n",
    "logr.fit(x.reshape(-1, 1), y)\n",
    "\n",
    "# vamos pegar as probabilidades de cada elemento pertencer a classe 1\n",
    "y_hat = logr.predict_proba(x.reshape(-1, 1))[:, 1].ravel()\n",
    "\n",
    "# para obter as classes, fazemos uma limiarizacao das probabilidades\n",
    "y_clas = y_hat.copy()\n",
    "y_clas[y_clas>=0.5] = 1\n",
    "y_clas[y_clas<0.5] = 0\n",
    "print('classes       = {}'.format(np.round(y_clas, 3)))\n",
    "print('p(y)          = {}'.format(np.round(y_hat, 3)))\n"
   ]
  },
  {
   "cell_type": "code",
   "execution_count": 7,
   "id": "001474ac",
   "metadata": {
    "execution": {
     "iopub.execute_input": "2022-10-23T14:36:19.969762Z",
     "iopub.status.busy": "2022-10-23T14:36:19.969306Z",
     "iopub.status.idle": "2022-10-23T14:36:19.977233Z",
     "shell.execute_reply": "2022-10-23T14:36:19.976004Z"
    },
    "id": "hdoc1pusFV03",
    "outputId": "dd19ff5f-f15e-43de-a7a4-528f88a19e52",
    "papermill": {
     "duration": 0.018157,
     "end_time": "2022-10-23T14:36:19.980062",
     "exception": false,
     "start_time": "2022-10-23T14:36:19.961905",
     "status": "completed"
    },
    "tags": []
   },
   "outputs": [
    {
     "name": "stdout",
     "output_type": "stream",
     "text": [
      "p(y)          = [0.133 0.178 0.325 0.433 0.49  0.547 0.576 0.682 0.792 0.843]\n",
      "Por instancia = [0.142 0.195 0.394 0.837 0.674 0.603 0.857 0.382 0.233 0.17 ]\n",
      "Cross Entropy (média) = 0.449\n"
     ]
    }
   ],
   "source": [
    "celoss_ind = -(y*np.log(y_hat+.00001) + (1-y)*np.log(1-y_hat +.00001))\n",
    "print('p(y)          = {}'.format(np.round(y_hat, 3)))\n",
    "print('Por instancia = {}'.format(np.round(celoss_ind,3)))\n",
    "\n",
    "print('Cross Entropy (média) = %.3f' % (np.mean(celoss_ind)))"
   ]
  },
  {
   "cell_type": "markdown",
   "id": "a1e896ca",
   "metadata": {
    "id": "QL-W5ZH9FV04",
    "papermill": {
     "duration": 0.005695,
     "end_time": "2022-10-23T14:36:19.991645",
     "exception": false,
     "start_time": "2022-10-23T14:36:19.985950",
     "status": "completed"
    },
    "tags": []
   },
   "source": [
    "---\n",
    "Adicionando uma nova classe ao problema, note que a função:\n",
    "$$-\\frac{1}{N} \\sum_{i=1}^N y_i \\log \\hat{y}_i + (1-y_i) \\log (1-\\hat{y}_i)$$\n",
    "não seria mais possível calcular como antes.\n",
    "\n",
    "Assim, adotamos a entropia cruzada categórica, somando as divergências para cada classe\n",
    "$$-\\frac{1}{N} \\sum_{i=1}^N y_i \\log \\hat{y}_i$$"
   ]
  },
  {
   "cell_type": "code",
   "execution_count": 8,
   "id": "eb0d4ada",
   "metadata": {
    "execution": {
     "iopub.execute_input": "2022-10-23T14:36:20.005516Z",
     "iopub.status.busy": "2022-10-23T14:36:20.004724Z",
     "iopub.status.idle": "2022-10-23T14:36:20.207630Z",
     "shell.execute_reply": "2022-10-23T14:36:20.206506Z"
    },
    "id": "FYwnzeFcFV05",
    "outputId": "294e3252-9f59-4cba-f652-edece590e9d0",
    "papermill": {
     "duration": 0.213109,
     "end_time": "2022-10-23T14:36:20.210597",
     "exception": false,
     "start_time": "2022-10-23T14:36:19.997488",
     "status": "completed"
    },
    "tags": []
   },
   "outputs": [
    {
     "data": {
      "text/plain": [
       "<matplotlib.collections.PathCollection at 0x7f1947eded90>"
      ]
     },
     "execution_count": 8,
     "metadata": {},
     "output_type": "execute_result"
    },
    {
     "data": {
      "image/png": "[encoded data removed]",
      "text/plain": [
       "<Figure size 432x288 with 1 Axes>"
      ]
     },
     "metadata": {
      "needs_background": "light"
     },
     "output_type": "display_data"
    }
   ],
   "source": [
    "x2 = np.array([-1.8,-1.5,-0.8,-0.4,-0.2, 0.0, 0.1, 0.5, 1.0, 1.3])\n",
    "y2 = np.array([ 0.0, 0.0, 0.0, 1.0, 0.0, 1.0, 2.0,  1.0, 2.0, 2.0])\n",
    "plt.scatter(x2,np.zeros(10), c=y2,cmap=plt.cm.brg)"
   ]
  },
  {
   "cell_type": "code",
   "execution_count": 9,
   "id": "3e005567",
   "metadata": {
    "execution": {
     "iopub.execute_input": "2022-10-23T14:36:20.226138Z",
     "iopub.status.busy": "2022-10-23T14:36:20.225686Z",
     "iopub.status.idle": "2022-10-23T14:36:20.240153Z",
     "shell.execute_reply": "2022-10-23T14:36:20.238668Z"
    },
    "id": "5E6XCaNvFV05",
    "outputId": "768217e4-53d0-451d-d3f6-abf87f69851c",
    "papermill": {
     "duration": 0.025073,
     "end_time": "2022-10-23T14:36:20.242751",
     "exception": false,
     "start_time": "2022-10-23T14:36:20.217678",
     "status": "completed"
    },
    "tags": []
   },
   "outputs": [
    {
     "name": "stdout",
     "output_type": "stream",
     "text": [
      "[[0.856  0.1229 0.0211]\n",
      " [0.7999 0.1636 0.0364]\n",
      " [0.6033 0.2821 0.1146]\n",
      " [0.4587 0.3441 0.1971]\n",
      " [0.3851 0.3659 0.2489]\n",
      " [0.3149 0.379  0.3061]\n",
      " [0.282  0.3819 0.3362]\n",
      " [0.1704 0.3701 0.4595]\n",
      " [0.0806 0.3162 0.6032]\n",
      " [0.0491 0.2742 0.6768]]\n"
     ]
    }
   ],
   "source": [
    "logr = LogisticRegression(solver='lbfgs')\n",
    "logr.fit(x2.reshape(-1, 1), y2)\n",
    "\n",
    "# agora as probabilidades são para 3 classes\n",
    "# então uma única probabilidade não é suficiente para obter a resposta\n",
    "y2_hat = logr.predict_proba(x2.reshape(-1, 1))\n",
    "print(np.round(y2_hat,4))"
   ]
  },
  {
   "cell_type": "markdown",
   "id": "5f588221",
   "metadata": {
    "id": "0kWvkZfQFV06",
    "papermill": {
     "duration": 0.006166,
     "end_time": "2022-10-23T14:36:20.256856",
     "exception": false,
     "start_time": "2022-10-23T14:36:20.250690",
     "status": "completed"
    },
    "tags": []
   },
   "source": [
    "Como os rótulos estão em formato discreto, vamos obter one-hot-encodings para computar o custo"
   ]
  },
  {
   "cell_type": "code",
   "execution_count": 10,
   "id": "335e0e45",
   "metadata": {
    "execution": {
     "iopub.execute_input": "2022-10-23T14:36:20.271743Z",
     "iopub.status.busy": "2022-10-23T14:36:20.271064Z",
     "iopub.status.idle": "2022-10-23T14:36:26.740993Z",
     "shell.execute_reply": "2022-10-23T14:36:26.739295Z"
    },
    "id": "vAf6I6U0FV06",
    "outputId": "1d06b026-c268-4b84-c227-10233bb4d89d",
    "papermill": {
     "duration": 6.481226,
     "end_time": "2022-10-23T14:36:26.744483",
     "exception": false,
     "start_time": "2022-10-23T14:36:20.263257",
     "status": "completed"
    },
    "tags": []
   },
   "outputs": [
    {
     "name": "stdout",
     "output_type": "stream",
     "text": [
      "y one-hot-enc.= \n",
      " [[1. 0. 0.]\n",
      " [1. 0. 0.]\n",
      " [1. 0. 0.]\n",
      " [0. 1. 0.]\n",
      " [1. 0. 0.]\n",
      " [0. 1. 0.]\n",
      " [0. 0. 1.]\n",
      " [0. 1. 0.]\n",
      " [0. 0. 1.]\n",
      " [0. 0. 1.]]\n",
      "p(y)          = \n",
      " [[0.856 0.123 0.021]\n",
      " [0.8   0.164 0.036]\n",
      " [0.603 0.282 0.115]\n",
      " [0.459 0.344 0.197]\n",
      " [0.385 0.366 0.249]\n",
      " [0.315 0.379 0.306]\n",
      " [0.282 0.382 0.336]\n",
      " [0.17  0.37  0.459]\n",
      " [0.081 0.316 0.603]\n",
      " [0.049 0.274 0.677]]\n",
      "Por instancia = \n",
      " [[0.155 0.    0.   ]\n",
      " [0.223 0.    0.   ]\n",
      " [0.505 0.    0.   ]\n",
      " [0.    1.066 0.   ]\n",
      " [0.954 0.    0.   ]\n",
      " [0.    0.97  0.   ]\n",
      " [0.    0.    1.09 ]\n",
      " [0.    0.994 0.   ]\n",
      " [0.    0.    0.505]\n",
      " [0.    0.    0.39 ]]\n",
      "Cross Entropy (média) = 0.228\n"
     ]
    }
   ],
   "source": [
    "from tensorflow import keras\n",
    "y2_onehot = keras.utils.to_categorical(y2, 3)\n",
    "\n",
    "print('y one-hot-enc.= \\n', np.round(y2_onehot, 3))\n",
    "print('p(y)          = \\n', np.round(y2_hat, 3))\n",
    "\n",
    "celoss_ind2 = -(y2_onehot*np.log(y2_hat+.0001))\n",
    "print('Por instancia = \\n', np.round(celoss_ind2,3))\n",
    "\n",
    "print('Cross Entropy (média) = %.3f' % (np.mean(celoss_ind2[:])))"
   ]
  },
  {
   "cell_type": "code",
   "execution_count": null,
   "id": "0d01f597",
   "metadata": {
    "id": "K8Z83MrnFV07",
    "papermill": {
     "duration": 0.006444,
     "end_time": "2022-10-23T14:36:26.758248",
     "exception": false,
     "start_time": "2022-10-23T14:36:26.751804",
     "status": "completed"
    },
    "tags": []
   },
   "outputs": [],
   "source": []
  }
 ],
 "metadata": {
  "kernelspec": {
   "display_name": "Python 3",
   "language": "python",
   "name": "python3"
  },
  "language_info": {
   "codemirror_mode": {
    "name": "ipython",
    "version": 3
   },
   "file_extension": ".py",
   "mimetype": "text/x-python",
   "name": "python",
   "nbconvert_exporter": "python",
   "pygments_lexer": "ipython3",
   "version": "3.7.12"
  },
  "papermill": {
   "default_parameters": {},
   "duration": 21.201959,
   "end_time": "2022-10-23T14:36:30.378629",
   "environment_variables": {},
   "exception": null,
   "input_path": "__notebook__.ipynb",
   "output_path": "__notebook__.ipynb",
   "parameters": {},
   "start_time": "2022-10-23T14:36:09.176670",
   "version": "2.3.4"
  }
 },
 "nbformat": 4,
 "nbformat_minor": 5
}
