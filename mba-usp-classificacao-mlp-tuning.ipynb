{
 "cells": [
  {
   "cell_type": "code",
   "execution_count": 1,
   "id": "a68f13f2",
   "metadata": {
    "execution": {
     "iopub.execute_input": "2022-10-11T12:32:01.773163Z",
     "iopub.status.busy": "2022-10-11T12:32:01.772542Z",
     "iopub.status.idle": "2022-10-11T12:32:01.857130Z",
     "shell.execute_reply": "2022-10-11T12:32:01.855275Z"
    },
    "papermill": {
     "duration": 0.091917,
     "end_time": "2022-10-11T12:32:01.859702",
     "exception": true,
     "start_time": "2022-10-11T12:32:01.767785",
     "status": "failed"
    },
    "tags": []
   },
   "outputs": [
    {
     "ename": "ModuleNotFoundError",
     "evalue": "No module named 'findspark'",
     "output_type": "error",
     "traceback": [
      "\u001b[0;31m---------------------------------------------------------------------------\u001b[0m",
      "\u001b[0;31mModuleNotFoundError\u001b[0m                       Traceback (most recent call last)",
      "\u001b[0;32m/tmp/ipykernel_19/1796740182.py\u001b[0m in \u001b[0;36m<module>\u001b[0;34m\u001b[0m\n\u001b[0;32m----> 1\u001b[0;31m \u001b[0;32mimport\u001b[0m \u001b[0mfindspark\u001b[0m\u001b[0;34m\u001b[0m\u001b[0;34m\u001b[0m\u001b[0m\n\u001b[0m\u001b[1;32m      2\u001b[0m \u001b[0;34m\u001b[0m\u001b[0m\n\u001b[1;32m      3\u001b[0m \u001b[0mfindspark\u001b[0m\u001b[0;34m.\u001b[0m\u001b[0minit\u001b[0m\u001b[0;34m(\u001b[0m\u001b[0;34m)\u001b[0m\u001b[0;34m\u001b[0m\u001b[0;34m\u001b[0m\u001b[0m\n",
      "\u001b[0;31mModuleNotFoundError\u001b[0m: No module named 'findspark'"
     ]
    }
   ],
   "source": [
    "import findspark\n",
    "\n",
    "findspark.init()"
   ]
  },
  {
   "cell_type": "code",
   "execution_count": null,
   "id": "40697747",
   "metadata": {
    "papermill": {
     "duration": null,
     "end_time": null,
     "exception": null,
     "start_time": null,
     "status": "pending"
    },
    "tags": []
   },
   "outputs": [],
   "source": [
    "import pyspark\n",
    "\n",
    "from pyspark.sql import SparkSession\n",
    "\n",
    "spark = SparkSession.builder.getOrCreate()"
   ]
  },
  {
   "cell_type": "code",
   "execution_count": null,
   "id": "861f3257",
   "metadata": {
    "papermill": {
     "duration": null,
     "end_time": null,
     "exception": null,
     "start_time": null,
     "status": "pending"
    },
    "tags": []
   },
   "outputs": [],
   "source": [
    "from pyspark.ml.classification import MultilayerPerceptronClassifier\n",
    "from pyspark.ml.evaluation import MulticlassClassificationEvaluator\n",
    "\n",
    "# Load training data\n",
    "data = spark.read.format(\"libsvm\").load(\"iris-train.txt\")"
   ]
  },
  {
   "cell_type": "code",
   "execution_count": null,
   "id": "0da159ad",
   "metadata": {
    "papermill": {
     "duration": null,
     "end_time": null,
     "exception": null,
     "start_time": null,
     "status": "pending"
    },
    "tags": []
   },
   "outputs": [],
   "source": [
    "# Split the training data into train and test for parameter tuning\n",
    "splits = data.randomSplit([0.6, 0.4], 1)\n",
    "train = splits[0]\n",
    "test = splits[1]\n",
    "\n",
    "bestAccuracy = 0\n",
    "for l in [[4, 3], [4, 5, 3], [4, 5, 4, 3], [4, 10, 7, 5, 3]]:\n",
    "    for i in range(10,51,10):\n",
    "        for s in [64, 128, 256]:\n",
    "            # specify layers for the neural network:\n",
    "            # input layer of size numfeatures, optional intermediate layers\n",
    "            # and output of size numclasses\n",
    "            layers = l\n",
    "\n",
    "            # create the trainer and set its parameters\n",
    "            trainer = MultilayerPerceptronClassifier(maxIter=i, layers=layers, blockSize=s, seed=1)\n",
    "\n",
    "            # train the model\n",
    "            model = trainer.fit(train)\n",
    "            \n",
    "            # compute accuracy on the test set\n",
    "            result = model.transform(test)\n",
    "            predictionAndLabels = result.select(\"prediction\", \"label\")\n",
    "            evaluator = MulticlassClassificationEvaluator(metricName=\"accuracy\")\n",
    "            accuracy = evaluator.evaluate(predictionAndLabels)\n",
    "            \n",
    "            if accuracy > bestAccuracy:\n",
    "                bestAccuracy = accuracy\n",
    "                bestL = l\n",
    "                bestI = i\n",
    "                bestS = s"
   ]
  },
  {
   "cell_type": "code",
   "execution_count": null,
   "id": "abb90d14",
   "metadata": {
    "papermill": {
     "duration": null,
     "end_time": null,
     "exception": null,
     "start_time": null,
     "status": "pending"
    },
    "tags": []
   },
   "outputs": [],
   "source": [
    "print(\"Best accuracy = \" + str(bestAccuracy) + \" obtained with parameters layers = \" + str(bestL) + \" maxIter=\" + str(bestI) + \" and blockSize=\" + str(bestS))"
   ]
  },
  {
   "cell_type": "code",
   "execution_count": null,
   "id": "20ac0d7f",
   "metadata": {
    "papermill": {
     "duration": null,
     "end_time": null,
     "exception": null,
     "start_time": null,
     "status": "pending"
    },
    "tags": []
   },
   "outputs": [],
   "source": [
    "result.show(result.count(), truncate=25)"
   ]
  }
 ],
 "metadata": {
  "kernelspec": {
   "display_name": "Python 3",
   "language": "python",
   "name": "python3"
  },
  "language_info": {
   "codemirror_mode": {
    "name": "ipython",
    "version": 3
   },
   "file_extension": ".py",
   "mimetype": "text/x-python",
   "name": "python",
   "nbconvert_exporter": "python",
   "pygments_lexer": "ipython3",
   "version": "3.7.12"
  },
  "papermill": {
   "default_parameters": {},
   "duration": 10.54931,
   "end_time": "2022-10-11T12:32:02.586511",
   "environment_variables": {},
   "exception": true,
   "input_path": "__notebook__.ipynb",
   "output_path": "__notebook__.ipynb",
   "parameters": {},
   "start_time": "2022-10-11T12:31:52.037201",
   "version": "2.3.4"
  }
 },
 "nbformat": 4,
 "nbformat_minor": 5
}
