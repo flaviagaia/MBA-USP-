{
 "cells": [
  {
   "cell_type": "markdown",
   "id": "c10e42ce",
   "metadata": {
    "id": "uSq1bFOi-Hy7",
    "papermill": {
     "duration": 0.005174,
     "end_time": "2022-11-07T18:19:14.832863",
     "exception": false,
     "start_time": "2022-11-07T18:19:14.827689",
     "status": "completed"
    },
    "tags": []
   },
   "source": [
    "# <font color=\"red\"> MBA em IA e Big Data</font>\n",
    "## <span style=\"color:red\">Redes Neurais e Deep Learning</span>\n",
    " \n",
    "### **REDES NEURAIS RECORRENTES - LSTM e GRU**\n",
    "\n",
    "### Profa. Roseli Ap. Francelin Romero\n",
    "\n",
    "**PROBLEMA**: SERIE TEMPORAL - Previsão de IPC no periodo 2016.\n",
    "\n",
    "Este é um problema em que, dados um ano e um mês, a tarefa é prever o IPC (Alimentacao_Vestuario) nos anos de 2016 a 2021. Os dados variam de fev/2016 a set/2021, com 68 observações."
   ]
  },
  {
   "cell_type": "markdown",
   "id": "fce2adc0",
   "metadata": {
    "id": "9vnARAijFASq",
    "papermill": {
     "duration": 0.00467,
     "end_time": "2022-11-07T18:19:14.842103",
     "exception": false,
     "start_time": "2022-11-07T18:19:14.837433",
     "status": "completed"
    },
    "tags": []
   },
   "source": [
    "\n",
    "\n",
    "\n",
    "\n",
    "\n",
    "**LSTM PARA REGRESSÃO** A cam. LSTM espera uma matriz como entrada: [samples, time steps, features], onde?\n",
    "\n",
    "**Samples**: são as observações do dominio da aplicação, normalmente as linhas do dataset.</br> \n",
    "**Time steps**: são passos de tempo de separação de uma dada variavel para uma dada observação.</br>\n",
    "**Features**: são medidas separadas observadas em cada tempo da observação.\n",
    "\n",
    " Será apenas a previsão de passo = 1\n",
    "  "
   ]
  },
  {
   "cell_type": "code",
   "execution_count": 1,
   "id": "62061213",
   "metadata": {
    "execution": {
     "iopub.execute_input": "2022-11-07T18:19:14.855110Z",
     "iopub.status.busy": "2022-11-07T18:19:14.854345Z",
     "iopub.status.idle": "2022-11-07T18:19:22.610579Z",
     "shell.execute_reply": "2022-11-07T18:19:22.609370Z"
    },
    "id": "sJckLNezjKIj",
    "papermill": {
     "duration": 7.76607,
     "end_time": "2022-11-07T18:19:22.612926",
     "exception": false,
     "start_time": "2022-11-07T18:19:14.846856",
     "status": "completed"
    },
    "tags": []
   },
   "outputs": [],
   "source": [
    "\n",
    "# LSTM for IPC problem with regression framing\n",
    "import numpy as np\n",
    "import matplotlib.pyplot as plt\n",
    "import pandas as pd\n",
    "from pandas import read_csv\n",
    "import math\n",
    "from keras.models import Sequential\n",
    "from keras.layers import Dense\n",
    "from keras.layers import LSTM\n",
    "from keras.layers import GRU\n",
    "from sklearn.preprocessing import MinMaxScaler\n",
    "from sklearn.metrics import mean_squared_error\n",
    "\n",
    "# converte um array de valores numa matriz de dados \n",
    "def create_dataset(dataset, look_back=1):\n",
    "\tdataX, dataY = [], []\n",
    "\tfor i in range(len(dataset)-look_back-1):\n",
    "\t\ta = dataset[i:(i+look_back), 0]\n",
    "\t\tdataX.append(a)\n",
    "\t\tdataY.append(dataset[i + look_back, 0])\n",
    "\treturn np.array(dataX), np.array(dataY)\n",
    "\n"
   ]
  },
  {
   "cell_type": "markdown",
   "id": "b13301e2",
   "metadata": {
    "id": "lT6CP61PKrdf",
    "papermill": {
     "duration": 0.003897,
     "end_time": "2022-11-07T18:19:22.621139",
     "exception": false,
     "start_time": "2022-11-07T18:19:22.617242",
     "status": "completed"
    },
    "tags": []
   },
   "source": [
    "1 - Fixar a semente de geração e Carregar o dataset do CSV file\n"
   ]
  },
  {
   "cell_type": "code",
   "execution_count": 2,
   "id": "7c3601f0",
   "metadata": {
    "execution": {
     "iopub.execute_input": "2022-11-07T18:19:22.631298Z",
     "iopub.status.busy": "2022-11-07T18:19:22.630710Z",
     "iopub.status.idle": "2022-11-07T18:19:22.861984Z",
     "shell.execute_reply": "2022-11-07T18:19:22.860210Z"
    },
    "id": "yERZM04wK3r2",
    "papermill": {
     "duration": 0.239492,
     "end_time": "2022-11-07T18:19:22.864706",
     "exception": true,
     "start_time": "2022-11-07T18:19:22.625214",
     "status": "failed"
    },
    "tags": []
   },
   "outputs": [
    {
     "ename": "NameError",
     "evalue": "name 'keras' is not defined",
     "output_type": "error",
     "traceback": [
      "\u001b[0;31m---------------------------------------------------------------------------\u001b[0m",
      "\u001b[0;31mNameError\u001b[0m                                 Traceback (most recent call last)",
      "\u001b[0;32m/tmp/ipykernel_19/2254835654.py\u001b[0m in \u001b[0;36m<module>\u001b[0;34m\u001b[0m\n\u001b[1;32m      1\u001b[0m \u001b[0;31m# fixar a semente (=7) para geração de nos. aleatórios\u001b[0m\u001b[0;34m\u001b[0m\u001b[0;34m\u001b[0m\u001b[0;34m\u001b[0m\u001b[0m\n\u001b[0;32m----> 2\u001b[0;31m \u001b[0mkeras\u001b[0m\u001b[0;34m.\u001b[0m\u001b[0mutils\u001b[0m\u001b[0;34m.\u001b[0m\u001b[0mset_random_seed\u001b[0m\u001b[0;34m(\u001b[0m\u001b[0mvalor_da_seed\u001b[0m\u001b[0;34m)\u001b[0m\u001b[0;34m\u001b[0m\u001b[0;34m\u001b[0m\u001b[0m\n\u001b[0m\u001b[1;32m      3\u001b[0m \u001b[0;34m\u001b[0m\u001b[0m\n",
      "\u001b[0;31mNameError\u001b[0m: name 'keras' is not defined"
     ]
    }
   ],
   "source": [
    "# fixar a semente (=7) para geração de nos. aleatórios\n",
    "keras.utils.set_random_seed(valor_da_seed) \n",
    " "
   ]
  },
  {
   "cell_type": "markdown",
   "id": "2940d705",
   "metadata": {
    "id": "hDIJrQ9eLdnl",
    "papermill": {
     "duration": null,
     "end_time": null,
     "exception": null,
     "start_time": null,
     "status": "pending"
    },
    "tags": []
   },
   "source": [
    "2 - Como temos dados negativos, normalizar os dados no intervalo [-1,1]."
   ]
  },
  {
   "cell_type": "code",
   "execution_count": null,
   "id": "36a8e4fe",
   "metadata": {
    "id": "dtwLIpiFDU-t",
    "papermill": {
     "duration": null,
     "end_time": null,
     "exception": null,
     "start_time": null,
     "status": "pending"
    },
    "tags": []
   },
   "outputs": [],
   "source": [
    " \n",
    " "
   ]
  },
  {
   "cell_type": "markdown",
   "id": "64a00d74",
   "metadata": {
    "id": "ApoB0Y37LqmQ",
    "papermill": {
     "duration": null,
     "end_time": null,
     "exception": null,
     "start_time": null,
     "status": "pending"
    },
    "tags": []
   },
   "source": [
    "3 - Separar os dados em treinamento (67%) e teste (33%)"
   ]
  },
  {
   "cell_type": "code",
   "execution_count": null,
   "id": "e46cf020",
   "metadata": {
    "id": "GOkjXAikDVW5",
    "papermill": {
     "duration": null,
     "end_time": null,
     "exception": null,
     "start_time": null,
     "status": "pending"
    },
    "tags": []
   },
   "outputs": [],
   "source": [
    " "
   ]
  },
  {
   "cell_type": "markdown",
   "id": "e3e0773b",
   "metadata": {
    "id": "_TJH0HO7L7IT",
    "papermill": {
     "duration": null,
     "end_time": null,
     "exception": null,
     "start_time": null,
     "status": "pending"
    },
    "tags": []
   },
   "source": [
    "4 - Colocar os dados na forma: X(t) e Y(t+1), chamando a funçao create"
   ]
  },
  {
   "cell_type": "code",
   "execution_count": null,
   "id": "b9fa499f",
   "metadata": {
    "id": "REix9MlpDVcK",
    "papermill": {
     "duration": null,
     "end_time": null,
     "exception": null,
     "start_time": null,
     "status": "pending"
    },
    "tags": []
   },
   "outputs": [],
   "source": [
    " \n",
    " "
   ]
  },
  {
   "cell_type": "markdown",
   "id": "9eac1e09",
   "metadata": {
    "id": "B2yXjAZvMMyZ",
    "papermill": {
     "duration": null,
     "end_time": null,
     "exception": null,
     "start_time": null,
     "status": "pending"
    },
    "tags": []
   },
   "source": [
    "5 - Preparar os dados na forma que a LSTM requer."
   ]
  },
  {
   "cell_type": "code",
   "execution_count": null,
   "id": "eb4bef32",
   "metadata": {
    "id": "UGnoLeYSDVi7",
    "papermill": {
     "duration": null,
     "end_time": null,
     "exception": null,
     "start_time": null,
     "status": "pending"
    },
    "tags": []
   },
   "outputs": [],
   "source": [
    " "
   ]
  },
  {
   "cell_type": "markdown",
   "id": "920086c2",
   "metadata": {
    "id": "1xkRTVjsMYIk",
    "papermill": {
     "duration": null,
     "end_time": null,
     "exception": null,
     "start_time": null,
     "status": "pending"
    },
    "tags": []
   },
   "source": [
    "6 - Modelar os dados com a LSTM, com timestep = 1, adotando 2 abordagens comparativas:\n",
    " - LSTM com 04 neuronios e 100 épocas\n",
    " - LSTM com 04 neuronios e 1000 épocas\n",
    " "
   ]
  },
  {
   "cell_type": "code",
   "execution_count": null,
   "id": "79354878",
   "metadata": {
    "id": "1-jh_lLHDVuh",
    "papermill": {
     "duration": null,
     "end_time": null,
     "exception": null,
     "start_time": null,
     "status": "pending"
    },
    "tags": []
   },
   "outputs": [],
   "source": [
    " "
   ]
  },
  {
   "cell_type": "markdown",
   "id": "d4e592a7",
   "metadata": {
    "id": "xjtv8-OT8fJ7",
    "papermill": {
     "duration": null,
     "end_time": null,
     "exception": null,
     "start_time": null,
     "status": "pending"
    },
    "tags": []
   },
   "source": [
    "7 - Fazer o plot da previsão, lembrando que é necessário retornar os dados para a forma original. O que se pode observar?"
   ]
  },
  {
   "cell_type": "code",
   "execution_count": null,
   "id": "fbab0afd",
   "metadata": {
    "id": "srX5yGaEDWJc",
    "papermill": {
     "duration": null,
     "end_time": null,
     "exception": null,
     "start_time": null,
     "status": "pending"
    },
    "tags": []
   },
   "outputs": [],
   "source": []
  },
  {
   "cell_type": "markdown",
   "id": "839a7f49",
   "metadata": {
    "id": "aLWb2aZPFJm3",
    "papermill": {
     "duration": null,
     "end_time": null,
     "exception": null,
     "start_time": null,
     "status": "pending"
    },
    "tags": []
   },
   "source": [
    "8 - Modelar os dados com a GRU, com timestep = 1, adotando 2 abordagens comparativas:\n",
    " - LSTM com 04 neuronios e 100 épocas\n",
    " - LSTM com 04 neuronios e 1000 épocas"
   ]
  },
  {
   "cell_type": "code",
   "execution_count": null,
   "id": "94e9976e",
   "metadata": {
    "id": "MxCTodO3wMg_",
    "papermill": {
     "duration": null,
     "end_time": null,
     "exception": null,
     "start_time": null,
     "status": "pending"
    },
    "tags": []
   },
   "outputs": [],
   "source": []
  },
  {
   "cell_type": "markdown",
   "id": "fb94f096",
   "metadata": {
    "id": "T6s1dtijD6FE",
    "papermill": {
     "duration": null,
     "end_time": null,
     "exception": null,
     "start_time": null,
     "status": "pending"
    },
    "tags": []
   },
   "source": [
    "9 - Fazer o plot da previsão da GRU, lembrando que é necessário retornar os dados para a forma original."
   ]
  },
  {
   "cell_type": "code",
   "execution_count": null,
   "id": "6f60fd5e",
   "metadata": {
    "id": "gPf1bcbnD6fE",
    "papermill": {
     "duration": null,
     "end_time": null,
     "exception": null,
     "start_time": null,
     "status": "pending"
    },
    "tags": []
   },
   "outputs": [],
   "source": [
    "\n"
   ]
  },
  {
   "cell_type": "markdown",
   "id": "574343c7",
   "metadata": {
    "id": "Wu2eSCc-__DZ",
    "papermill": {
     "duration": null,
     "end_time": null,
     "exception": null,
     "start_time": null,
     "status": "pending"
    },
    "tags": []
   },
   "source": [
    "10- Estabeleça uma comparação entre a LSTM e a GRU.\n"
   ]
  },
  {
   "cell_type": "code",
   "execution_count": null,
   "id": "c18113a4",
   "metadata": {
    "id": "Qc13TmbHUhcI",
    "papermill": {
     "duration": null,
     "end_time": null,
     "exception": null,
     "start_time": null,
     "status": "pending"
    },
    "tags": []
   },
   "outputs": [],
   "source": []
  }
 ],
 "metadata": {
  "kernelspec": {
   "display_name": "Python 3",
   "language": "python",
   "name": "python3"
  },
  "language_info": {
   "codemirror_mode": {
    "name": "ipython",
    "version": 3
   },
   "file_extension": ".py",
   "mimetype": "text/x-python",
   "name": "python",
   "nbconvert_exporter": "python",
   "pygments_lexer": "ipython3",
   "version": "3.7.12"
  },
  "papermill": {
   "default_parameters": {},
   "duration": 19.095882,
   "end_time": "2022-11-07T18:19:25.732143",
   "environment_variables": {},
   "exception": true,
   "input_path": "__notebook__.ipynb",
   "output_path": "__notebook__.ipynb",
   "parameters": {},
   "start_time": "2022-11-07T18:19:06.636261",
   "version": "2.3.4"
  }
 },
 "nbformat": 4,
 "nbformat_minor": 5
}
