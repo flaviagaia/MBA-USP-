{
 "cells": [
  {
   "cell_type": "markdown",
   "id": "197c7791",
   "metadata": {
    "id": "mGKHv1rCvyRJ",
    "papermill": {
     "duration": null,
     "end_time": null,
     "exception": null,
     "start_time": null,
     "status": "completed"
    },
    "tags": []
   },
   "source": [
    "# SCC-ICMC-USP  \n",
    "\n",
    "\n",
    "# CURSO 2 - CD-AM-DM\n",
    "# EXERCICIO DE FIXAÇÃO - 2A. QUINZENA\n",
    "\n",
    "# OBJETIVO - **COMITES DE ÁRVORES DE DECISÃO**\n",
    "\n",
    "# Profa. Roseli A. F. Romero\n",
    "\n",
    "---\n",
    "\n",
    "### Objetivos:\n",
    "- Fazer exploração e préprocessamento dos dados utilizando onehot encoding e padronização\n",
    "- Testar os algoritmos DecisionTree, RandomForests e XGB utilizando métricas RMSE e R2"
   ]
  },
  {
   "cell_type": "markdown",
   "id": "be7fcedd",
   "metadata": {
    "id": "5W60BKvfr2pq",
    "papermill": {
     "duration": null,
     "end_time": null,
     "exception": null,
     "start_time": null,
     "status": "completed"
    },
    "tags": []
   },
   "source": [
    "### Base:\n",
    "\n",
    "Considere o arquivo `houses_to_rent_v2.csv`. Esta base tem dados de imóveis para 5 cidades do Brasil. Esta base pode ser usada tanto pelo proprietário quanto pelo locatário. Pretende-se que um proprietario\n",
    "tenha uma estimativa do preço que pode alugar seu imóvel, através de seus atributos. Por outro lado, pretende-se que um locatário possa estimar se o aluguel é condizente."
   ]
  },
  {
   "cell_type": "markdown",
   "id": "110b0a66",
   "metadata": {
    "id": "7D9C-F06urva",
    "papermill": {
     "duration": null,
     "end_time": null,
     "exception": null,
     "start_time": null,
     "status": "completed"
    },
    "tags": []
   },
   "source": [
    "### Questão 1 \n",
    " Para esta questão vc deve:\n",
    " - Remover do conjunto os atributos: \"area\", \"floor\", \"animal\", \"hoa (R\\\\$)\", \"total (R\\\\$)\", \"property tax (R\\\\$)\"\n",
    " \n",
    " "
   ]
  },
  {
   "cell_type": "markdown",
   "id": "26467f10",
   "metadata": {
    "id": "OBCqngqlc1pM",
    "papermill": {
     "duration": null,
     "end_time": null,
     "exception": null,
     "start_time": null,
     "status": "completed"
    },
    "tags": []
   },
   "source": [
    " ### Questão 2 - Separar o conjunto em 80% treinamento e 20% teste"
   ]
  },
  {
   "cell_type": "code",
   "execution_count": null,
   "id": "ed1d05e2",
   "metadata": {
    "id": "wT9Yj9lzsb8V",
    "outputId": "7e590f49-4dc1-494e-eca2-665cf40841bf",
    "papermill": {
     "duration": null,
     "end_time": null,
     "exception": null,
     "start_time": null,
     "status": "completed"
    },
    "tags": []
   },
   "outputs": [],
   "source": [
    "from sklearn.model_selection import train_test_split\n",
    "from sklearn.metrics import mean_squared_error\n",
    "from sklearn.metrics import r2_score\n",
    "import pandas as pd\n",
    "import numpy as np\n",
    "\n",
    "data = pd.read_csv('houses_to_rent_v2.csv', na_values='-')\n",
    "# Vamos ignorar algumas colunas para simplificar o problema\n",
    "data = data.drop([\"area\", \"floor\", \"animal\", \"hoa (R$)\", \"total (R$)\", \"property tax (R$)\"], axis=1)\n",
    "\n",
    "train_data, test_data = train_test_split(data, test_size=0.2, random_state=42)\n",
    "train_data.reset_index(drop=True, inplace=True)\n",
    "test_data.reset_index(drop=True, inplace=True)\n",
    "train_data"
   ]
  },
  {
   "cell_type": "code",
   "execution_count": null,
   "id": "e7d02bc5",
   "metadata": {
    "id": "PaKFYmPNI6nH",
    "outputId": "46879e89-6c37-4455-ecd0-02a5099cf8f5",
    "papermill": {
     "duration": null,
     "end_time": null,
     "exception": null,
     "start_time": null,
     "status": "completed"
    },
    "tags": []
   },
   "outputs": [],
   "source": [
    "test_data"
   ]
  },
  {
   "cell_type": "code",
   "execution_count": null,
   "id": "2266c1e8",
   "metadata": {
    "id": "-Q69vom9I6nI",
    "outputId": "4e59e12a-8f1e-41d9-a224-8719adcd7c0e",
    "papermill": {
     "duration": null,
     "end_time": null,
     "exception": null,
     "start_time": null,
     "status": "completed"
    },
    "tags": []
   },
   "outputs": [],
   "source": [
    "train_data.info()"
   ]
  },
  {
   "cell_type": "markdown",
   "id": "0a684736",
   "metadata": {
    "id": "0IM5y4Zg4iHR",
    "papermill": {
     "duration": null,
     "end_time": null,
     "exception": null,
     "start_time": null,
     "status": "completed"
    },
    "tags": []
   },
   "source": [
    "### Questão 3 - Verificar se existem valores nulos."
   ]
  },
  {
   "cell_type": "code",
   "execution_count": null,
   "id": "7bf52749",
   "metadata": {
    "id": "FQHMIpXuvbyO",
    "outputId": "8c3e5d7c-1214-4687-fcb0-595bc4f4f786",
    "papermill": {
     "duration": null,
     "end_time": null,
     "exception": null,
     "start_time": null,
     "status": "completed"
    },
    "tags": []
   },
   "outputs": [],
   "source": [
    "train_data.isnull().sum()"
   ]
  },
  {
   "cell_type": "markdown",
   "id": "c411cfa1",
   "metadata": {
    "id": "QIjQxqU3I6nK",
    "papermill": {
     "duration": null,
     "end_time": null,
     "exception": null,
     "start_time": null,
     "status": "completed"
    },
    "tags": []
   },
   "source": [
    "### Questão 4 - Remover os outliers do conjunto em relação ao atributo rent amount (considere um outlier o dado que estiver a mais de Q3 + 1.5 * IQR ou a menos que Q1 - 1.5 * IQR, onde Q1 e Q3 são o primeiro e terceiro quartis, respectivamente, e IQR= Q3 - Q1). Note que é interessante fazer a análise dos outliers separadamente para cada cidade, pois há grande variação do aluguel entre cidades.\n",
    "\n",
    "- Utilize [Pipelines](https://scikit-learn.org/stable/modules/generated/sklearn.pipeline.Pipeline.html) e [ColunmTransformer](https://scikit-learn.org/stable/modules/generated/sklearn.compose.ColumnTransformer.html) para padronizar os dados numéricos e aplicar one hot encoding nos categóricos. "
   ]
  },
  {
   "cell_type": "markdown",
   "id": "07172eb8",
   "metadata": {
    "id": "zGpgav-64w61",
    "papermill": {
     "duration": null,
     "end_time": null,
     "exception": null,
     "start_time": null,
     "status": "completed"
    },
    "tags": []
   },
   "source": [
    "Vamos limpar os dados para que fiquem sem outliers em relação ao atributo rent amount. Os outliers serão analisados no contexto de cada cidade, pois o aluguel entre as cidades pode possuir grande variação.\n"
   ]
  },
  {
   "cell_type": "code",
   "execution_count": null,
   "id": "089032f0",
   "metadata": {
    "id": "-l7OdYVKI6nL",
    "outputId": "fc2a4215-8e4b-4f55-c2bc-285ae87c4959",
    "papermill": {
     "duration": null,
     "end_time": null,
     "exception": null,
     "start_time": null,
     "status": "completed"
    },
    "tags": []
   },
   "outputs": [],
   "source": [
    "from matplotlib import pyplot as plt\n",
    "\n",
    "fig = plt.figure(figsize=(8,6))\n",
    "ax = fig.gca()  \n",
    "train_data[['city','rent amount (R$)']].boxplot(by='city', ax=ax)\n",
    "ax.set_title('') # Give the plot a main title\n",
    "ax.set_xlabel('City') # Set text for the x axis\n",
    "ax.set_ylabel('rent amount (R$)')# Set text for y axis\n",
    "print(\"Obliquidade por cidade:\")\n",
    "print(train_data.groupby(\"city\")['rent amount (R$)'].skew())"
   ]
  },
  {
   "cell_type": "code",
   "execution_count": null,
   "id": "9d40ee8a",
   "metadata": {
    "id": "vPiaCXZzI6nM",
    "outputId": "42a069bc-87f9-4cf5-d028-cd50205b69ce",
    "papermill": {
     "duration": null,
     "end_time": null,
     "exception": null,
     "start_time": null,
     "status": "completed"
    },
    "tags": []
   },
   "outputs": [],
   "source": [
    "# Primeiro vamos criar um agrupamento por cidades, para facilitar a manipulação:\n",
    "city_group = train_data.groupby('city')['rent amount (R$)']\n",
    "\n",
    "# Analisando o primeiro e terceiro quartil de cada cidade:\n",
    "Q1 = city_group.quantile(.25)\n",
    "Q3 = city_group.quantile(.75)\n",
    "print(\"Primeiro quartil:\")\n",
    "print(Q1)\n",
    "print(\"\\nTerceiro quartil:\")\n",
    "print(Q3)"
   ]
  },
  {
   "cell_type": "markdown",
   "id": "93973607",
   "metadata": {
    "id": "p2uyu9S9I6nM",
    "papermill": {
     "duration": null,
     "end_time": null,
     "exception": null,
     "start_time": null,
     "status": "completed"
    },
    "tags": []
   },
   "source": [
    "Calculando o intervalo entre quartis (IQR) para calculo do limite superior e inferior:"
   ]
  },
  {
   "cell_type": "code",
   "execution_count": null,
   "id": "844206aa",
   "metadata": {
    "id": "VbdOgxn_I6nN",
    "outputId": "2efb835e-e816-4fa1-fb6e-be41b9a42621",
    "papermill": {
     "duration": null,
     "end_time": null,
     "exception": null,
     "start_time": null,
     "status": "completed"
    },
    "tags": []
   },
   "outputs": [],
   "source": [
    "# IQR = Interquartile Range\n",
    "IQR = Q3 - Q1\n",
    "\n",
    "# Limites\n",
    "inferior = Q1 - 1.5 * IQR\n",
    "superior = Q3 + 1.5 * IQR\n",
    "print(\"Limites inferiores:\")\n",
    "print(inferior)\n",
    "print(\"\\nLimites superiores:\")\n",
    "print(superior)"
   ]
  },
  {
   "cell_type": "markdown",
   "id": "ceee734f",
   "metadata": {
    "id": "ohi1En6sI6nN",
    "papermill": {
     "duration": null,
     "end_time": null,
     "exception": null,
     "start_time": null,
     "status": "completed"
    },
    "tags": []
   },
   "source": [
    "Removendo os outliers:"
   ]
  },
  {
   "cell_type": "code",
   "execution_count": null,
   "id": "cdfa1985",
   "metadata": {
    "id": "CmaSguPWI6nO",
    "papermill": {
     "duration": null,
     "end_time": null,
     "exception": null,
     "start_time": null,
     "status": "completed"
    },
    "tags": []
   },
   "outputs": [],
   "source": [
    "indices_a_remover = []\n",
    "# Itera através das cidades agrupadas:\n",
    "for cidade in city_group.groups.keys():\n",
    "# for cidade in [\"Campinas\"]:\n",
    "    lim_inferior = inferior[cidade]\n",
    "    lim_superior = superior[cidade]\n",
    "    # Usa-se @ dentro da query para acessar uma variável. Para atributos com espaço, deve-se\n",
    "    # usar o caractere ` entre o nome do atributo.\n",
    "    query_filtro = '(city==@cidade) & ( (`rent amount (R$)` < @lim_inferior) | (`rent amount (R$)` > @lim_superior) )'\n",
    "    # Nosso query irá selecionar tuplas em que rent amount seja menor que o limite inferior e\n",
    "    # maior que o limite superior. Lembrando que apenas devemos selecionar entre as tuplas da\n",
    "    # cidade em que estamos analisando\n",
    "    fora_do_limite = train_data.query(query_filtro)\n",
    "    # Adicionamos os índices das tuplas fora dos limites à nossa lista de itens a serem removidos:\n",
    "    indices_a_remover += fora_do_limite.index.tolist()\n",
    "    \n",
    "# Removendo todos os dados fora dos limites:\n",
    "train_data_clean = train_data.drop(indices_a_remover)\n",
    "train_data_clean.reset_index(drop=True, inplace=True)"
   ]
  },
  {
   "cell_type": "markdown",
   "id": "09ed647a",
   "metadata": {
    "id": "opdF7Pi1I6nO",
    "papermill": {
     "duration": null,
     "end_time": null,
     "exception": null,
     "start_time": null,
     "status": "completed"
    },
    "tags": []
   },
   "source": [
    "Vamos agora comparar o efeito da remoção dos outliers:"
   ]
  },
  {
   "cell_type": "code",
   "execution_count": null,
   "id": "0eda5808",
   "metadata": {
    "id": "zFOI53a2I6nP",
    "outputId": "bdef851f-28b5-4026-a4c7-600286c091d7",
    "papermill": {
     "duration": null,
     "end_time": null,
     "exception": null,
     "start_time": null,
     "status": "completed"
    },
    "tags": []
   },
   "outputs": [],
   "source": [
    "fig = plt.figure(figsize=(20,7))\n",
    "\n",
    "plt.subplot(1, 2, 1)\n",
    "ax = fig.gca()\n",
    "\n",
    "train_data[['city','rent amount (R$)']].boxplot(by='city', ax=ax, showmeans=True)\n",
    "ax.set_title('Dados de treino originais') # Give the plot a main title\n",
    "ax.set_xlabel('City') # Set text for the x axis\n",
    "ax.set_ylabel('rent amount (R$)')# Set text for y axis\n",
    "print(\"Obliquidade por cidade dados originais:\")\n",
    "print(train_data.groupby(\"city\")['rent amount (R$)'].skew())\n",
    "\n",
    "plt.subplot(1, 2, 2)\n",
    "ax = fig.gca()\n",
    "train_data_clean[['city','rent amount (R$)']].boxplot(by='city', ax=ax, showmeans=True)\n",
    "ax.set_title('Dados de treino limpos') # Give the plot a main title\n",
    "ax.set_xlabel('City') # Set text for the x axis\n",
    "ax.set_ylabel('rent amount (R$)')# Set text for y axis\n",
    "print(\"\\nObliquidade por cidade dados limpos:\")\n",
    "print(train_data_clean.groupby(\"city\")['rent amount (R$)'].skew())"
   ]
  },
  {
   "cell_type": "markdown",
   "id": "4d9d6a4d",
   "metadata": {
    "id": "b10dm-4ZI6nP",
    "papermill": {
     "duration": null,
     "end_time": null,
     "exception": null,
     "start_time": null,
     "status": "completed"
    },
    "tags": []
   },
   "source": [
    "Note que ainda há outliers no nosso conjunto. Porém, eles não são tão severos quanto anteriormente. Ainda observa-se outliers pois nossa distribuição original era muito assimétrica."
   ]
  },
  {
   "cell_type": "markdown",
   "id": "ff4d81ca",
   "metadata": {
    "id": "njDVSU5OI6nQ",
    "papermill": {
     "duration": null,
     "end_time": null,
     "exception": null,
     "start_time": null,
     "status": "completed"
    },
    "tags": []
   },
   "source": [
    "- _Utilize [Pipelines](https://scikit-learn.org/stable/modules/generated/sklearn.pipeline.Pipeline.html) e [ColunmTransformer](https://scikit-learn.org/stable/modules/generated/sklearn.compose.ColumnTransformer.html) para padronizar os dados numéricos e aplicar one hot encoding nos categóricos._\n",
    "\n",
    "Vamos agora padronizar nossos dados numéricos e transformar nossos atributos categóricos em representações OneHot"
   ]
  },
  {
   "cell_type": "code",
   "execution_count": null,
   "id": "8ccca34b",
   "metadata": {
    "id": "EuOxeMQlI6nQ",
    "outputId": "deee4756-423e-4c3b-bb65-986f4813df18",
    "papermill": {
     "duration": null,
     "end_time": null,
     "exception": null,
     "start_time": null,
     "status": "completed"
    },
    "tags": []
   },
   "outputs": [],
   "source": [
    "X_train = train_data_clean.drop([\"rent amount (R$)\"], axis=1)\n",
    "y_train = train_data_clean[\"rent amount (R$)\"]\n",
    "\n",
    "X_test = test_data.drop([\"rent amount (R$)\"], axis=1)\n",
    "y_test = test_data[\"rent amount (R$)\"]\n",
    "\n",
    "X_train.info()"
   ]
  },
  {
   "cell_type": "code",
   "execution_count": null,
   "id": "ebe7edf4",
   "metadata": {
    "id": "P30uUFKEI6nQ",
    "outputId": "00093de5-9995-42fd-fc4e-6c467c0920c0",
    "papermill": {
     "duration": null,
     "end_time": null,
     "exception": null,
     "start_time": null,
     "status": "completed"
    },
    "tags": []
   },
   "outputs": [],
   "source": [
    "# O método select dtypes irá selecionar os atributos que satisfizerem nossas condições:\n",
    "features_numericas = X_train.select_dtypes(exclude=['object']).columns\n",
    "features_categoricas = X_train.select_dtypes(include=['object']).columns\n",
    "\n",
    "features_numericas = features_numericas.tolist()\n",
    "features_categoricas = features_categoricas.tolist()\n",
    "\n",
    "print(\"Features numéricas: \", features_numericas)\n",
    "print(\"Features categóricas: \", features_categoricas)"
   ]
  },
  {
   "cell_type": "markdown",
   "id": "9fb171f2",
   "metadata": {
    "id": "LSXal6SII6nR",
    "papermill": {
     "duration": null,
     "end_time": null,
     "exception": null,
     "start_time": null,
     "status": "completed"
    },
    "tags": []
   },
   "source": [
    "Vamos criar pipelines (sequencias de transformações) para simplificar nossas operações de preprocessamento dos dados:"
   ]
  },
  {
   "cell_type": "code",
   "execution_count": null,
   "id": "46bdc1e2",
   "metadata": {
    "id": "vUP2u1e8J7Fq",
    "papermill": {
     "duration": null,
     "end_time": null,
     "exception": null,
     "start_time": null,
     "status": "completed"
    },
    "tags": []
   },
   "outputs": [],
   "source": [
    "from sklearn.pipeline import Pipeline\n",
    "from sklearn.preprocessing import StandardScaler, OneHotEncoder\n",
    "from sklearn.compose import ColumnTransformer\n",
    "\n",
    "# Criamos um pipeline para processar dados categóricos\n",
    "catTransformer = Pipeline(steps=[\n",
    "    ('onehot', OneHotEncoder())\n",
    "])\n",
    "\n",
    "# Criamos um pipeline para processar dados numéricos\n",
    "numTransformer = Pipeline(steps=[\n",
    "    ('scaler', StandardScaler())\n",
    "])\n",
    "\n",
    "# Para processar as colunas do nosso dataset, vamos atribuir um pipeline às colunas\n",
    "# apropriadas com a classe ColumnTransformer:\n",
    "preprocessor = ColumnTransformer(\n",
    "    transformers=[\n",
    "        ('numeric', numTransformer, features_numericas),\n",
    "        ('categoric', catTransformer, features_categoricas)\n",
    "    ])"
   ]
  },
  {
   "cell_type": "markdown",
   "id": "cf8bff7e",
   "metadata": {
    "id": "FTFk-GVUTOWu",
    "papermill": {
     "duration": null,
     "end_time": null,
     "exception": null,
     "start_time": null,
     "status": "completed"
    },
    "tags": []
   },
   "source": [
    "### Questão 5\n",
    "\n",
    "Treine dois modelos de regressão, o `DecisionTreeRegressor`  no conjunto de treino e calcule as métricas Root Mean Squared Error (RMSE) e R2 no conjunto de teste. Lembre-se de aplicar os pipelines criados na questão anterior."
   ]
  },
  {
   "cell_type": "code",
   "execution_count": null,
   "id": "474ceff6",
   "metadata": {
    "id": "BFXmh2uF6w57",
    "outputId": "4342eaab-0957-4b31-a0ab-6f7b7b55e270",
    "papermill": {
     "duration": null,
     "end_time": null,
     "exception": null,
     "start_time": null,
     "status": "completed"
    },
    "tags": []
   },
   "outputs": [],
   "source": [
    "from sklearn.tree import DecisionTreeRegressor\n",
    "\n",
    "estimator_dt = Pipeline(steps=[\n",
    "    ('preprocessor', preprocessor),\n",
    "    ('regressor', DecisionTreeRegressor(random_state=42))\n",
    "])\n",
    "\n",
    "estimator_dt.fit(X_train, y_train)\n",
    "y_pred_dt = estimator_dt.predict(X_test)\n",
    "\n",
    "resultados = {}\n",
    "\n",
    "name = \"Decision tree\"\n",
    "rmse = np.sqrt(mean_squared_error(y_test, y_pred_dt))\n",
    "r2 = r2_score(y_test, y_pred_dt)\n",
    "print('RMSE: ', rmse)\n",
    "print('R2: ', r2)\n",
    "\n",
    "resultados[name] = {}\n",
    "resultados[name][\"rmse\"] = rmse\n",
    "resultados[name][\"r2\"] = r2"
   ]
  },
  {
   "cell_type": "markdown",
   "id": "991f39ea",
   "metadata": {
    "id": "lUo3cPO6eQx9",
    "papermill": {
     "duration": null,
     "end_time": null,
     "exception": null,
     "start_time": null,
     "status": "completed"
    },
    "tags": []
   },
   "source": [
    "### Questão 6\n",
    "\n",
    "Treine um modelo de regressão usando o `RandomForestRegressor` no conjunto de treino e calcule as métricas Root Mean Squared Error (RMSE) e R2 no conjunto de teste. Lembre-se de aplicar os pipelines criados na questão 4."
   ]
  },
  {
   "cell_type": "code",
   "execution_count": null,
   "id": "2769b39d",
   "metadata": {
    "id": "tRqW_KoQ7d41",
    "outputId": "8d0a3f97-a648-4a11-b9e3-253d250109dc",
    "papermill": {
     "duration": null,
     "end_time": null,
     "exception": null,
     "start_time": null,
     "status": "completed"
    },
    "tags": []
   },
   "outputs": [],
   "source": [
    "from sklearn.ensemble import RandomForestRegressor\n",
    " \n",
    "estimator_rf = Pipeline(steps=[\n",
    "    ('preprocessor', preprocessor),\n",
    "    ('regressor', RandomForestRegressor(random_state=42))\n",
    "])\n",
    "\n",
    "estimator_rf.fit(X_train, y_train)\n",
    "y_pred_rf = estimator_rf.predict(X_test)\n",
    "name = \"Random forest\"\n",
    "rmse = np.sqrt(mean_squared_error(y_test, y_pred_rf))\n",
    "r2 = r2_score(y_test, y_pred_rf)\n",
    "print('RMSE: ', rmse)\n",
    "print('R2: ', r2)\n",
    "\n",
    "resultados[name] = {}\n",
    "resultados[name][\"rmse\"] = rmse\n",
    "resultados[name][\"r2\"] = r2"
   ]
  },
  {
   "cell_type": "markdown",
   "id": "7c1a6761",
   "metadata": {
    "id": "JJ5PK5QYTR4B",
    "papermill": {
     "duration": null,
     "end_time": null,
     "exception": null,
     "start_time": null,
     "status": "completed"
    },
    "tags": []
   },
   "source": [
    "### Questão 7\n",
    "\n",
    "Treine um modelo de regressão com o método XGBoost, no conjunto de treino e calcule o Mean Squared Error (MSE) e o R2 no conjunto de teste.\n",
    "\n",
    "- Dica: Utilize `xgboost.XGBRegressor`"
   ]
  },
  {
   "cell_type": "code",
   "execution_count": null,
   "id": "c0e100e9",
   "metadata": {
    "id": "gGfDa5pfS9VY",
    "outputId": "36424012-4575-4195-9ebb-3ed265f1dae6",
    "papermill": {
     "duration": null,
     "end_time": null,
     "exception": null,
     "start_time": null,
     "status": "completed"
    },
    "tags": []
   },
   "outputs": [],
   "source": [
    "import xgboost as xgb\n",
    "\n",
    "\n",
    "estimator_xg = Pipeline(steps=[\n",
    "    ('preprocessor', preprocessor),\n",
    "    ('regressor', xgb.XGBRegressor(random_state=42))\n",
    "])\n",
    "\n",
    "estimator_xg.fit(X_train, y_train)\n",
    "y_pred_rg = estimator_xg.predict(X_test)\n",
    "name = \"XGB\"\n",
    "rmse = np.sqrt(mean_squared_error(y_test, y_pred_rg))\n",
    "r2 = r2_score(y_test, y_pred_rg)\n",
    "print('RMSE: ', rmse)\n",
    "print('R2: ', r2)\n",
    "\n",
    "resultados[name] = {}\n",
    "resultados[name][\"rmse\"] = rmse\n",
    "resultados[name][\"r2\"] = r2"
   ]
  },
  {
   "cell_type": "markdown",
   "id": "b966e6bc",
   "metadata": {
    "id": "J16NUNU14ru7",
    "papermill": {
     "duration": null,
     "end_time": null,
     "exception": null,
     "start_time": null,
     "status": "completed"
    },
    "tags": []
   },
   "source": [
    "### Questão 8\n",
    "\n",
    "Compare os resultados obtidos pelos 3 classificadores das questões anteriores. \n"
   ]
  },
  {
   "cell_type": "code",
   "execution_count": null,
   "id": "6993c765",
   "metadata": {
    "id": "hRAWEmgXI6nT",
    "outputId": "a416015d-8629-41c4-9338-e862f0b88b40",
    "papermill": {
     "duration": null,
     "end_time": null,
     "exception": null,
     "start_time": null,
     "status": "completed"
    },
    "tags": []
   },
   "outputs": [],
   "source": [
    "for modelo in resultados:\n",
    "    print(\"Modelo:\", modelo)\n",
    "    print(\"\\tScore RMSE:\", resultados[modelo][\"rmse\"].round(2))\n",
    "    print(\"\\tScore R2:\", resultados[modelo][\"r2\"].round(6))"
   ]
  },
  {
   "cell_type": "markdown",
   "id": "a3bca8ed",
   "metadata": {
    "id": "N1Xnzv8e5IuR",
    "papermill": {
     "duration": null,
     "end_time": null,
     "exception": null,
     "start_time": null,
     "status": "completed"
    },
    "tags": []
   },
   "source": [
    "Podemos observar que o algoritmo RandomForest apresentou um erro RMSE menor que os demais regressores. No entanto, todos eles apresentaram um valor R2 próximos."
   ]
  },
  {
   "cell_type": "markdown",
   "id": "5945b71f",
   "metadata": {
    "id": "M_SjANzd5gdQ",
    "papermill": {
     "duration": null,
     "end_time": null,
     "exception": null,
     "start_time": null,
     "status": "completed"
    },
    "tags": []
   },
   "source": [
    "### Questão 9\n",
    "\n",
    "Verifique a importância de cada feature para o modelo que apresentou melhor métrica R2. O que isso diz sobre o problema que estamos tentando resolver?"
   ]
  },
  {
   "cell_type": "code",
   "execution_count": null,
   "id": "72f11598",
   "metadata": {
    "id": "L64gHHJG3mF_",
    "outputId": "06b91d3d-d5f8-4a85-da26-72fe3c0c0148",
    "papermill": {
     "duration": null,
     "end_time": null,
     "exception": null,
     "start_time": null,
     "status": "completed"
    },
    "tags": []
   },
   "outputs": [],
   "source": [
    "estimator_rf.named_steps['regressor'].feature_importances_.round(3)"
   ]
  },
  {
   "cell_type": "markdown",
   "id": "3b7f407a",
   "metadata": {
    "id": "2i8-OygS53cV",
    "papermill": {
     "duration": null,
     "end_time": null,
     "exception": null,
     "start_time": null,
     "status": "completed"
    },
    "tags": []
   },
   "source": [
    "Basicamente o valor do quarto atributo domina a decisão do modelo, fazendo com que mudança dos outros atributos muitas vezes não afete a predição."
   ]
  }
 ],
 "metadata": {
  "colab": {
   "collapsed_sections": [],
   "name": "Exercicio_Fixação2aQuinzena_resolvido.ipynb",
   "provenance": []
  },
  "kernelspec": {
   "display_name": "BigData2021",
   "language": "python",
   "name": "bigdata2021"
  },
  "language_info": {
   "codemirror_mode": {
    "name": "ipython",
    "version": 3
   },
   "file_extension": ".py",
   "mimetype": "text/x-python",
   "name": "python",
   "nbconvert_exporter": "python",
   "pygments_lexer": "ipython3",
   "version": "3.8.11"
  },
  "papermill": {
   "default_parameters": {},
   "duration": 0.374148,
   "end_time": "2022-10-01T11:58:57.659061",
   "environment_variables": {},
   "exception": null,
   "input_path": "__notebook__.ipynb",
   "output_path": "__notebook__.ipynb",
   "parameters": {},
   "start_time": "2022-10-01T11:58:57.284913",
   "version": "2.3.4"
  }
 },
 "nbformat": 4,
 "nbformat_minor": 5
}
