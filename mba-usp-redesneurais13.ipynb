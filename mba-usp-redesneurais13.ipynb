{
 "cells": [
  {
   "cell_type": "markdown",
   "id": "36d8578a",
   "metadata": {
    "id": "zI6LDVYrkk3t",
    "papermill": {
     "duration": 0.008899,
     "end_time": "2022-11-07T18:26:05.751770",
     "exception": false,
     "start_time": "2022-11-07T18:26:05.742871",
     "status": "completed"
    },
    "tags": []
   },
   "source": [
    "# <font color=\"red\"> MBA em IA e Big Data</font>\n",
    "## <span style=\"color:red\">Redes Neurais e Deep Learning</span>\n",
    "\n",
    "\n",
    "## Taxa de Aprendizado\n",
    "\n",
    "*Roseli Aparecida Francelin Romero*<br>\n",
    "*ICMC/USP São Carlos*"
   ]
  },
  {
   "cell_type": "code",
   "execution_count": 1,
   "id": "aeae5902",
   "metadata": {
    "execution": {
     "iopub.execute_input": "2022-11-07T18:26:05.768738Z",
     "iopub.status.busy": "2022-11-07T18:26:05.768088Z",
     "iopub.status.idle": "2022-11-07T18:26:11.724786Z",
     "shell.execute_reply": "2022-11-07T18:26:11.723533Z"
    },
    "executionInfo": {
     "elapsed": 2078,
     "status": "ok",
     "timestamp": 1666957354732,
     "user": {
      "displayName": "Roseli Aparecida Francelin Romero",
      "userId": "04295547795514221387"
     },
     "user_tz": 180
    },
    "id": "55mHEidxkOa8",
    "papermill": {
     "duration": 5.968809,
     "end_time": "2022-11-07T18:26:11.727931",
     "exception": false,
     "start_time": "2022-11-07T18:26:05.759122",
     "status": "completed"
    },
    "tags": []
   },
   "outputs": [],
   "source": [
    "import numpy as np\n",
    "import pandas as pd\n",
    "import matplotlib.pyplot as plt\n",
    "import tensorflow as tf\n",
    "from tensorflow import keras"
   ]
  },
  {
   "cell_type": "code",
   "execution_count": 2,
   "id": "6d3058c1",
   "metadata": {
    "execution": {
     "iopub.execute_input": "2022-11-07T18:26:11.744937Z",
     "iopub.status.busy": "2022-11-07T18:26:11.744224Z",
     "iopub.status.idle": "2022-11-07T18:26:14.216633Z",
     "shell.execute_reply": "2022-11-07T18:26:14.215019Z"
    },
    "executionInfo": {
     "elapsed": 1367,
     "status": "ok",
     "timestamp": 1666957359045,
     "user": {
      "displayName": "Roseli Aparecida Francelin Romero",
      "userId": "04295547795514221387"
     },
     "user_tz": 180
    },
    "id": "PlwTeH9OHh__",
    "outputId": "e953bcf9-b888-4d77-b465-9da575e6db24",
    "papermill": {
     "duration": 2.484426,
     "end_time": "2022-11-07T18:26:14.219784",
     "exception": false,
     "start_time": "2022-11-07T18:26:11.735358",
     "status": "completed"
    },
    "tags": []
   },
   "outputs": [
    {
     "name": "stdout",
     "output_type": "stream",
     "text": [
      "Downloading data from https://storage.googleapis.com/tensorflow/tf-keras-datasets/train-labels-idx1-ubyte.gz\n",
      "32768/29515 [=================================] - 0s 0us/step\n",
      "40960/29515 [=========================================] - 0s 0us/step\n",
      "Downloading data from https://storage.googleapis.com/tensorflow/tf-keras-datasets/train-images-idx3-ubyte.gz\n",
      "26427392/26421880 [==============================] - 0s 0us/step\n",
      "26435584/26421880 [==============================] - 0s 0us/step\n",
      "Downloading data from https://storage.googleapis.com/tensorflow/tf-keras-datasets/t10k-labels-idx1-ubyte.gz\n",
      "16384/5148 [===============================================================================================] - 0s 0us/step\n",
      "Downloading data from https://storage.googleapis.com/tensorflow/tf-keras-datasets/t10k-images-idx3-ubyte.gz\n",
      "4423680/4422102 [==============================] - 0s 0us/step\n",
      "4431872/4422102 [==============================] - 0s 0us/step\n"
     ]
    }
   ],
   "source": [
    "# carregando datasets do keras\n",
    "#from tensorflow.keras.datasets import mnist\n",
    "\n",
    "from tensorflow.keras.datasets import fashion_mnist\n",
    "(x_train, y_train), (x_test, y_test) = fashion_mnist.load_data()"
   ]
  },
  {
   "cell_type": "code",
   "execution_count": 3,
   "id": "88351be4",
   "metadata": {
    "execution": {
     "iopub.execute_input": "2022-11-07T18:26:14.238917Z",
     "iopub.status.busy": "2022-11-07T18:26:14.238474Z",
     "iopub.status.idle": "2022-11-07T18:26:14.249465Z",
     "shell.execute_reply": "2022-11-07T18:26:14.247676Z"
    },
    "executionInfo": {
     "elapsed": 561,
     "status": "ok",
     "timestamp": 1666957362721,
     "user": {
      "displayName": "Roseli Aparecida Francelin Romero",
      "userId": "04295547795514221387"
     },
     "user_tz": 180
    },
    "id": "l6gMd_77ooBf",
    "outputId": "62d8b641-fcc7-4450-bc8f-347b121f5091",
    "papermill": {
     "duration": 0.024037,
     "end_time": "2022-11-07T18:26:14.252652",
     "exception": false,
     "start_time": "2022-11-07T18:26:14.228615",
     "status": "completed"
    },
    "tags": []
   },
   "outputs": [
    {
     "name": "stdout",
     "output_type": "stream",
     "text": [
      "(60000, 28, 28)\n",
      "Classes:  10\n"
     ]
    }
   ],
   "source": [
    "# obtendo informações das imagens (resolucao) e dos rótulos (número de classes)\n",
    "img_lin, img_col = x_train.shape[1], x_train.shape[2]\n",
    "num_classes = len(np.unique(y_train))\n",
    "print(x_train.shape)\n",
    "print('Classes: ', num_classes)"
   ]
  },
  {
   "cell_type": "markdown",
   "id": "8c85412e",
   "metadata": {
    "id": "odVxTvCzJScK",
    "papermill": {
     "duration": 0.008224,
     "end_time": "2022-11-07T18:26:14.269498",
     "exception": false,
     "start_time": "2022-11-07T18:26:14.261274",
     "status": "completed"
    },
    "tags": []
   },
   "source": [
    "Temos portando 60 mil exemplos de treinamento\n",
    "\n",
    "Imagens de tamanho $28\\times 28$ e 10 classes.\n",
    "\n",
    "Agora, o passo ideal é pré-processar as imagens para facilitar o processo de otimização das redes neurais:\n",
    "\n",
    "1. Normalizar seus valores (para o intervalo 0-1)\n",
    "2. Alterar a codificação das classes (para one-hot-encoding): teremos 10 neurônios na saída, não apenas 1"
   ]
  },
  {
   "cell_type": "code",
   "execution_count": 4,
   "id": "a8e6a45d",
   "metadata": {
    "execution": {
     "iopub.execute_input": "2022-11-07T18:26:14.290152Z",
     "iopub.status.busy": "2022-11-07T18:26:14.289755Z",
     "iopub.status.idle": "2022-11-07T18:26:14.414959Z",
     "shell.execute_reply": "2022-11-07T18:26:14.413533Z"
    },
    "executionInfo": {
     "elapsed": 8,
     "status": "ok",
     "timestamp": 1666957368251,
     "user": {
      "displayName": "Roseli Aparecida Francelin Romero",
      "userId": "04295547795514221387"
     },
     "user_tz": 180
    },
    "id": "hBK8g6Xf29dI",
    "outputId": "8ec13dcc-a1bd-406f-83a7-388498178b9e",
    "papermill": {
     "duration": 0.138009,
     "end_time": "2022-11-07T18:26:14.417717",
     "exception": false,
     "start_time": "2022-11-07T18:26:14.279708",
     "status": "completed"
    },
    "tags": []
   },
   "outputs": [
    {
     "name": "stdout",
     "output_type": "stream",
     "text": [
      "Antes da transformação:  9\n",
      "Após transformação:  [0. 0. 0. 0. 0. 0. 0. 0. 0. 1.]\n"
     ]
    }
   ],
   "source": [
    "# dividir por 255 para obter normalizacao\n",
    "x_train = x_train.astype('float32') / 255.0\n",
    "x_test = x_test.astype('float32') / 255.0\n",
    "\n",
    "print(\"Antes da transformação: \", y_train[0])\n",
    "# transformar categorias em one-hot-encoding\n",
    "y_train = keras.utils.to_categorical(y_train, num_classes)\n",
    "y_test = keras.utils.to_categorical(y_test, num_classes)\n",
    "\n",
    "print(\"Após transformação: \", y_train[0])"
   ]
  },
  {
   "cell_type": "markdown",
   "id": "80a8c568",
   "metadata": {
    "id": "jOnOa3KhoyPM",
    "papermill": {
     "duration": 0.008373,
     "end_time": "2022-11-07T18:26:14.434926",
     "exception": false,
     "start_time": "2022-11-07T18:26:14.426553",
     "status": "completed"
    },
    "tags": []
   },
   "source": [
    "Por fim, vamos padronizar o formato de entrada em termos das dimensões (shape) do numpy array de entrada.\n",
    "\n",
    "Isso vai permitir que o mesmo código utilize diferentes bases de dados, com um ou mais canais de cor"
   ]
  },
  {
   "cell_type": "code",
   "execution_count": 5,
   "id": "1c109a88",
   "metadata": {
    "execution": {
     "iopub.execute_input": "2022-11-07T18:26:14.454320Z",
     "iopub.status.busy": "2022-11-07T18:26:14.453925Z",
     "iopub.status.idle": "2022-11-07T18:26:14.463001Z",
     "shell.execute_reply": "2022-11-07T18:26:14.461610Z"
    },
    "executionInfo": {
     "elapsed": 527,
     "status": "ok",
     "timestamp": 1666957372317,
     "user": {
      "displayName": "Roseli Aparecida Francelin Romero",
      "userId": "04295547795514221387"
     },
     "user_tz": 180
    },
    "id": "cOdIcO_Bmc0o",
    "outputId": "098c74d5-bf19-47a8-a0cf-f5d0fcfad968",
    "papermill": {
     "duration": 0.022158,
     "end_time": "2022-11-07T18:26:14.465770",
     "exception": false,
     "start_time": "2022-11-07T18:26:14.443612",
     "status": "completed"
    },
    "tags": []
   },
   "outputs": [
    {
     "name": "stdout",
     "output_type": "stream",
     "text": [
      "Shape:  (28, 28, 1)\n"
     ]
    }
   ],
   "source": [
    "# verifica imagens da base de dados tem 3 canais (RGB) ou apenas 1 (escala de cinza)\n",
    "if (len(x_train.shape) == 3):\n",
    "      n_channels = 1\n",
    "else:\n",
    "      n_channels = x_train.shape[3]\n",
    "\n",
    "# re-formata o array de forma a encontrar o formato da entrada (input_shape)\n",
    "# se a dimensão dos canais vem primeiro ou após a imagem\n",
    "if keras.backend.image_data_format() == 'channels_first':\n",
    "    x_train = x_train.reshape(x_train.shape[0], n_channels, img_lin, img_col)\n",
    "    x_test = x_test.reshape(x_test.shape[0], n_channels, img_lin, img_col)\n",
    "    input_shape = (n_channels, img_lin, img_col)\n",
    "else:\n",
    "    x_train = x_train.reshape(x_train.shape[0], img_lin, img_col, n_channels)\n",
    "    x_test = x_test.reshape(x_test.shape[0], img_lin, img_col, n_channels)\n",
    "    input_shape = (img_lin, img_col, n_channels)\n",
    "\n",
    "print(\"Shape: \", input_shape)"
   ]
  },
  {
   "cell_type": "markdown",
   "id": "e3cb1080",
   "metadata": {
    "id": "tqfg5g1Ro2sY",
    "papermill": {
     "duration": 0.008524,
     "end_time": "2022-11-07T18:26:14.482972",
     "exception": false,
     "start_time": "2022-11-07T18:26:14.474448",
     "status": "completed"
    },
    "tags": []
   },
   "source": [
    "### Tudo pronto, agora vamos começar\n"
   ]
  },
  {
   "cell_type": "code",
   "execution_count": 6,
   "id": "50a36627",
   "metadata": {
    "execution": {
     "iopub.execute_input": "2022-11-07T18:26:14.503138Z",
     "iopub.status.busy": "2022-11-07T18:26:14.502708Z",
     "iopub.status.idle": "2022-11-07T18:26:14.511974Z",
     "shell.execute_reply": "2022-11-07T18:26:14.510594Z"
    },
    "executionInfo": {
     "elapsed": 465,
     "status": "ok",
     "timestamp": 1666957376893,
     "user": {
      "displayName": "Roseli Aparecida Francelin Romero",
      "userId": "04295547795514221387"
     },
     "user_tz": 180
    },
    "id": "y4hErsLaa2bo",
    "papermill": {
     "duration": 0.022416,
     "end_time": "2022-11-07T18:26:14.514750",
     "exception": false,
     "start_time": "2022-11-07T18:26:14.492334",
     "status": "completed"
    },
    "tags": []
   },
   "outputs": [],
   "source": [
    "def my_cnn():\n",
    "    CNN = keras.Sequential()\n",
    "    CNN.add(keras.layers.Conv2D(32, kernel_size=(3,3), strides=(1,1), padding='valid', activation='relu', input_shape=input_shape))\n",
    "    CNN.add(keras.layers.MaxPooling2D(pool_size=(2,2), strides=(2,2)))\n",
    "    CNN.add(keras.layers.Conv2D(64, kernel_size=(3,3), strides=(2,2), padding='valid', activation='relu'))\n",
    "    CNN.add(keras.layers.Conv2D(128, kernel_size=(3,3), strides=(2,2), padding='valid', activation='relu'))\n",
    "    CNN.add(keras.layers.Conv2D(128, kernel_size=(3,3), strides=(3,3), padding='same', activation='relu'))\n",
    "    CNN.add(keras.layers.Flatten())\n",
    "    CNN.add(keras.layers.Dense(10, activation='softmax'))\n",
    "    return CNN"
   ]
  },
  {
   "cell_type": "markdown",
   "id": "036a1401",
   "metadata": {
    "id": "SGkW0mbxZGnR",
    "papermill": {
     "duration": 0.008444,
     "end_time": "2022-11-07T18:26:14.532255",
     "exception": false,
     "start_time": "2022-11-07T18:26:14.523811",
     "status": "completed"
    },
    "tags": []
   },
   "source": [
    "Definindo sementes e um subconjunto menor para testarmos\n"
   ]
  },
  {
   "cell_type": "code",
   "execution_count": 7,
   "id": "f4e42dba",
   "metadata": {
    "execution": {
     "iopub.execute_input": "2022-11-07T18:26:14.553240Z",
     "iopub.status.busy": "2022-11-07T18:26:14.552838Z",
     "iopub.status.idle": "2022-11-07T18:26:14.560547Z",
     "shell.execute_reply": "2022-11-07T18:26:14.559071Z"
    },
    "executionInfo": {
     "elapsed": 8,
     "status": "ok",
     "timestamp": 1666957380895,
     "user": {
      "displayName": "Roseli Aparecida Francelin Romero",
      "userId": "04295547795514221387"
     },
     "user_tz": 180
    },
    "id": "MvusEAx0oZbw",
    "papermill": {
     "duration": 0.021797,
     "end_time": "2022-11-07T18:26:14.563364",
     "exception": false,
     "start_time": "2022-11-07T18:26:14.541567",
     "status": "completed"
    },
    "tags": []
   },
   "outputs": [],
   "source": [
    "# as sementes ajudam a ter resultados reproduzíveis\n",
    "from numpy.random import seed\n",
    "seed(1)\n",
    "from tensorflow.random import set_seed\n",
    "set_seed(2)\n",
    "\n",
    "epochs = 20\n",
    "batch_size=32\n",
    "x_subset = x_train[:5000]\n",
    "y_subset = y_train[:5000]"
   ]
  },
  {
   "cell_type": "markdown",
   "id": "f5c5adba",
   "metadata": {
    "id": "W7VOgujapRcS",
    "papermill": {
     "duration": 0.008911,
     "end_time": "2022-11-07T18:26:14.581856",
     "exception": false,
     "start_time": "2022-11-07T18:26:14.572945",
     "status": "completed"
    },
    "tags": []
   },
   "source": [
    "### 1) Modelo convencional com parâmetros padrão (learning rate fixo)"
   ]
  },
  {
   "cell_type": "code",
   "execution_count": 8,
   "id": "f3b83666",
   "metadata": {
    "execution": {
     "iopub.execute_input": "2022-11-07T18:26:14.602159Z",
     "iopub.status.busy": "2022-11-07T18:26:14.601706Z",
     "iopub.status.idle": "2022-11-07T18:26:14.964175Z",
     "shell.execute_reply": "2022-11-07T18:26:14.962869Z"
    },
    "executionInfo": {
     "elapsed": 2871,
     "status": "ok",
     "timestamp": 1666957388306,
     "user": {
      "displayName": "Roseli Aparecida Francelin Romero",
      "userId": "04295547795514221387"
     },
     "user_tz": 180
    },
    "id": "mSiGp2usZEYG",
    "papermill": {
     "duration": 0.37623,
     "end_time": "2022-11-07T18:26:14.967251",
     "exception": false,
     "start_time": "2022-11-07T18:26:14.591021",
     "status": "completed"
    },
    "tags": []
   },
   "outputs": [
    {
     "name": "stderr",
     "output_type": "stream",
     "text": [
      "2022-11-07 18:26:14.642969: I tensorflow/core/common_runtime/process_util.cc:146] Creating new thread pool with default inter op setting: 2. Tune using inter_op_parallelism_threads for best performance.\n"
     ]
    }
   ],
   "source": [
    "CNN1 = my_cnn()\n",
    "CNN1.compile(loss='categorical_crossentropy',\n",
    "              optimizer=keras.optimizers.SGD(),\n",
    "              metrics=['accuracy'])"
   ]
  },
  {
   "cell_type": "code",
   "execution_count": 9,
   "id": "c638cf8c",
   "metadata": {
    "execution": {
     "iopub.execute_input": "2022-11-07T18:26:14.987944Z",
     "iopub.status.busy": "2022-11-07T18:26:14.987502Z",
     "iopub.status.idle": "2022-11-07T18:27:37.632318Z",
     "shell.execute_reply": "2022-11-07T18:27:37.630857Z"
    },
    "executionInfo": {
     "elapsed": 82981,
     "status": "ok",
     "timestamp": 1666957473406,
     "user": {
      "displayName": "Roseli Aparecida Francelin Romero",
      "userId": "04295547795514221387"
     },
     "user_tz": 180
    },
    "id": "XUvnDFab31Af",
    "outputId": "f2658bdd-43af-445d-af85-830e208e79f7",
    "papermill": {
     "duration": 82.65937,
     "end_time": "2022-11-07T18:27:37.635714",
     "exception": false,
     "start_time": "2022-11-07T18:26:14.976344",
     "status": "completed"
    },
    "tags": []
   },
   "outputs": [
    {
     "name": "stderr",
     "output_type": "stream",
     "text": [
      "2022-11-07 18:26:15.096049: I tensorflow/compiler/mlir/mlir_graph_optimization_pass.cc:185] None of the MLIR Optimization Passes are enabled (registered 2)\n"
     ]
    },
    {
     "name": "stdout",
     "output_type": "stream",
     "text": [
      "Epoch 1/20\n",
      "157/157 [==============================] - 4s 22ms/step - loss: 2.2673 - accuracy: 0.2124 - val_loss: 2.2188 - val_accuracy: 0.2757\n",
      "Epoch 2/20\n",
      "157/157 [==============================] - 3s 19ms/step - loss: 1.9563 - accuracy: 0.3730 - val_loss: 1.5026 - val_accuracy: 0.4231\n",
      "Epoch 3/20\n",
      "157/157 [==============================] - 3s 20ms/step - loss: 1.1495 - accuracy: 0.5826 - val_loss: 1.0881 - val_accuracy: 0.5811\n",
      "Epoch 4/20\n",
      "157/157 [==============================] - 3s 19ms/step - loss: 0.9447 - accuracy: 0.6584 - val_loss: 0.9841 - val_accuracy: 0.6524\n",
      "Epoch 5/20\n",
      "157/157 [==============================] - 3s 20ms/step - loss: 0.8528 - accuracy: 0.6910 - val_loss: 1.3655 - val_accuracy: 0.6096\n",
      "Epoch 6/20\n",
      "157/157 [==============================] - 3s 20ms/step - loss: 0.7958 - accuracy: 0.7156 - val_loss: 0.8172 - val_accuracy: 0.7040\n",
      "Epoch 7/20\n",
      "157/157 [==============================] - 4s 25ms/step - loss: 0.7480 - accuracy: 0.7284 - val_loss: 0.7773 - val_accuracy: 0.7059\n",
      "Epoch 8/20\n",
      "157/157 [==============================] - 3s 19ms/step - loss: 0.7178 - accuracy: 0.7392 - val_loss: 0.8302 - val_accuracy: 0.6660\n",
      "Epoch 9/20\n",
      "157/157 [==============================] - 3s 19ms/step - loss: 0.6886 - accuracy: 0.7500 - val_loss: 0.7792 - val_accuracy: 0.7225\n",
      "Epoch 10/20\n",
      "157/157 [==============================] - 3s 20ms/step - loss: 0.6649 - accuracy: 0.7574 - val_loss: 0.7210 - val_accuracy: 0.7404\n",
      "Epoch 11/20\n",
      "157/157 [==============================] - 3s 19ms/step - loss: 0.6448 - accuracy: 0.7684 - val_loss: 0.7121 - val_accuracy: 0.7139\n",
      "Epoch 12/20\n",
      "157/157 [==============================] - 3s 19ms/step - loss: 0.6371 - accuracy: 0.7662 - val_loss: 0.7208 - val_accuracy: 0.7295\n",
      "Epoch 13/20\n",
      "157/157 [==============================] - 3s 20ms/step - loss: 0.6228 - accuracy: 0.7692 - val_loss: 0.7994 - val_accuracy: 0.7058\n",
      "Epoch 14/20\n",
      "157/157 [==============================] - 3s 19ms/step - loss: 0.6053 - accuracy: 0.7746 - val_loss: 0.7336 - val_accuracy: 0.7032\n",
      "Epoch 15/20\n",
      "157/157 [==============================] - 3s 20ms/step - loss: 0.5918 - accuracy: 0.7812 - val_loss: 0.7199 - val_accuracy: 0.7124\n",
      "Epoch 16/20\n",
      "157/157 [==============================] - 3s 20ms/step - loss: 0.5856 - accuracy: 0.7852 - val_loss: 0.6649 - val_accuracy: 0.7517\n",
      "Epoch 17/20\n",
      "157/157 [==============================] - 4s 25ms/step - loss: 0.5712 - accuracy: 0.7938 - val_loss: 0.6553 - val_accuracy: 0.7454\n",
      "Epoch 18/20\n",
      "157/157 [==============================] - 3s 20ms/step - loss: 0.5515 - accuracy: 0.8010 - val_loss: 0.6758 - val_accuracy: 0.7555\n",
      "Epoch 19/20\n",
      "157/157 [==============================] - 3s 21ms/step - loss: 0.5541 - accuracy: 0.7940 - val_loss: 0.6705 - val_accuracy: 0.7438\n",
      "Epoch 20/20\n",
      "157/157 [==============================] - 3s 20ms/step - loss: 0.5413 - accuracy: 0.8000 - val_loss: 0.6155 - val_accuracy: 0.7737\n"
     ]
    }
   ],
   "source": [
    "hist1 = CNN1.fit(x_subset, y_subset,\n",
    "                    batch_size=batch_size,\n",
    "                    epochs=epochs, validation_data=(x_test,y_test))"
   ]
  },
  {
   "cell_type": "markdown",
   "id": "e64b34ff",
   "metadata": {
    "id": "Ji0s4Q85iH7Z",
    "papermill": {
     "duration": 0.054603,
     "end_time": "2022-11-07T18:27:37.745291",
     "exception": false,
     "start_time": "2022-11-07T18:27:37.690688",
     "status": "completed"
    },
    "tags": []
   },
   "source": [
    "2) Aumentando (demais) o learning rate"
   ]
  },
  {
   "cell_type": "code",
   "execution_count": 10,
   "id": "2b0df968",
   "metadata": {
    "execution": {
     "iopub.execute_input": "2022-11-07T18:27:37.859062Z",
     "iopub.status.busy": "2022-11-07T18:27:37.858643Z",
     "iopub.status.idle": "2022-11-07T18:28:42.947305Z",
     "shell.execute_reply": "2022-11-07T18:28:42.945757Z"
    },
    "executionInfo": {
     "elapsed": 36554,
     "status": "ok",
     "timestamp": 1666957517882,
     "user": {
      "displayName": "Roseli Aparecida Francelin Romero",
      "userId": "04295547795514221387"
     },
     "user_tz": 180
    },
    "id": "CYzuO3fl3mqy",
    "outputId": "76a6a91a-e864-448b-d22b-1bd34bd76517",
    "papermill": {
     "duration": 65.147859,
     "end_time": "2022-11-07T18:28:42.949768",
     "exception": false,
     "start_time": "2022-11-07T18:27:37.801909",
     "status": "completed"
    },
    "tags": []
   },
   "outputs": [
    {
     "name": "stdout",
     "output_type": "stream",
     "text": [
      "Modelo2\n",
      "Epoch 1/20\n"
     ]
    },
    {
     "name": "stderr",
     "output_type": "stream",
     "text": [
      "/opt/conda/lib/python3.7/site-packages/keras/optimizer_v2/optimizer_v2.py:356: UserWarning: The `lr` argument is deprecated, use `learning_rate` instead.\n",
      "  \"The `lr` argument is deprecated, use `learning_rate` instead.\")\n"
     ]
    },
    {
     "name": "stdout",
     "output_type": "stream",
     "text": [
      "157/157 [==============================] - 4s 24ms/step - loss: 1.5916 - accuracy: 0.4140 - val_loss: 2.4356 - val_accuracy: 0.3295\n",
      "Epoch 2/20\n",
      "157/157 [==============================] - 3s 19ms/step - loss: 0.9754 - accuracy: 0.6530 - val_loss: 0.9589 - val_accuracy: 0.6405\n",
      "Epoch 3/20\n",
      "157/157 [==============================] - 3s 20ms/step - loss: 0.6406 - accuracy: 0.7620 - val_loss: 0.6729 - val_accuracy: 0.7559\n",
      "Epoch 4/20\n",
      "157/157 [==============================] - 3s 19ms/step - loss: 0.5674 - accuracy: 0.7866 - val_loss: 0.6575 - val_accuracy: 0.7568\n",
      "Epoch 5/20\n",
      "157/157 [==============================] - 3s 20ms/step - loss: 0.5492 - accuracy: 0.7986 - val_loss: 0.7584 - val_accuracy: 0.7383\n",
      "Epoch 6/20\n",
      "157/157 [==============================] - 3s 20ms/step - loss: 0.4950 - accuracy: 0.8186 - val_loss: 0.6512 - val_accuracy: 0.7841\n",
      "Epoch 7/20\n",
      "157/157 [==============================] - 3s 20ms/step - loss: 0.4576 - accuracy: 0.8296 - val_loss: 0.6263 - val_accuracy: 0.7491\n",
      "Epoch 8/20\n",
      "157/157 [==============================] - 3s 21ms/step - loss: 0.4244 - accuracy: 0.8358 - val_loss: 0.7469 - val_accuracy: 0.7552\n",
      "Epoch 9/20\n",
      "157/157 [==============================] - 3s 20ms/step - loss: 0.4130 - accuracy: 0.8438 - val_loss: 0.5611 - val_accuracy: 0.8035\n",
      "Epoch 10/20\n",
      "157/157 [==============================] - 4s 25ms/step - loss: 0.3772 - accuracy: 0.8528 - val_loss: 0.5739 - val_accuracy: 0.8007\n",
      "Epoch 11/20\n",
      "157/157 [==============================] - 3s 19ms/step - loss: 0.3622 - accuracy: 0.8622 - val_loss: 0.5641 - val_accuracy: 0.8079\n",
      "Epoch 12/20\n",
      "157/157 [==============================] - 3s 20ms/step - loss: 0.3281 - accuracy: 0.8740 - val_loss: 0.5518 - val_accuracy: 0.7966\n",
      "Epoch 13/20\n",
      "157/157 [==============================] - 3s 20ms/step - loss: 0.3179 - accuracy: 0.8774 - val_loss: 0.6866 - val_accuracy: 0.7681\n",
      "Epoch 14/20\n",
      "157/157 [==============================] - 3s 20ms/step - loss: 0.3411 - accuracy: 0.8692 - val_loss: 0.5995 - val_accuracy: 0.8019\n",
      "Epoch 15/20\n",
      "157/157 [==============================] - 3s 20ms/step - loss: 0.4581 - accuracy: 0.8428 - val_loss: 0.6954 - val_accuracy: 0.7564\n",
      "Epoch 16/20\n",
      "157/157 [==============================] - 3s 19ms/step - loss: 0.4090 - accuracy: 0.8476 - val_loss: 0.6861 - val_accuracy: 0.8000\n",
      "Epoch 17/20\n",
      "157/157 [==============================] - 3s 20ms/step - loss: 0.3823 - accuracy: 0.8600 - val_loss: 0.6422 - val_accuracy: 0.8087\n",
      "Epoch 18/20\n",
      "157/157 [==============================] - 3s 20ms/step - loss: 0.3461 - accuracy: 0.8746 - val_loss: 0.7102 - val_accuracy: 0.8051\n",
      "Epoch 19/20\n",
      "157/157 [==============================] - 3s 19ms/step - loss: 0.3129 - accuracy: 0.8840 - val_loss: 0.6444 - val_accuracy: 0.8238\n",
      "Epoch 20/20\n",
      "157/157 [==============================] - 4s 24ms/step - loss: 0.2844 - accuracy: 0.8886 - val_loss: 0.9115 - val_accuracy: 0.7558\n"
     ]
    }
   ],
   "source": [
    "seed(1)\n",
    "set_seed(2)\n",
    "print(\"Modelo2\")\n",
    "CNN2 = my_cnn()\n",
    "CNN2.compile(loss='categorical_crossentropy',\n",
    "              optimizer=keras.optimizers.SGD(lr=0.600),\n",
    "              metrics=['accuracy'])\n",
    "\n",
    "hist2 = CNN2.fit(x_subset, y_subset,\n",
    "                    batch_size=batch_size,\n",
    "                    epochs=epochs, validation_data=(x_test,y_test),\n",
    "                    verbose=1)"
   ]
  },
  {
   "cell_type": "markdown",
   "id": "fd4275bc",
   "metadata": {
    "id": "1oyd3-SKiUzV",
    "papermill": {
     "duration": 0.092273,
     "end_time": "2022-11-07T18:28:43.135904",
     "exception": false,
     "start_time": "2022-11-07T18:28:43.043631",
     "status": "completed"
    },
    "tags": []
   },
   "source": [
    "3) Adicionando momentum com peso 0.9"
   ]
  },
  {
   "cell_type": "code",
   "execution_count": 11,
   "id": "2fc7e734",
   "metadata": {
    "execution": {
     "iopub.execute_input": "2022-11-07T18:28:43.326394Z",
     "iopub.status.busy": "2022-11-07T18:28:43.325966Z",
     "iopub.status.idle": "2022-11-07T18:29:51.510095Z",
     "shell.execute_reply": "2022-11-07T18:29:51.508707Z"
    },
    "executionInfo": {
     "elapsed": 41965,
     "status": "ok",
     "timestamp": 1666957746732,
     "user": {
      "displayName": "Roseli Aparecida Francelin Romero",
      "userId": "04295547795514221387"
     },
     "user_tz": 180
    },
    "id": "F-iByasBbQ0s",
    "outputId": "9879c442-8629-4391-d177-e766828cdf87",
    "papermill": {
     "duration": 68.283228,
     "end_time": "2022-11-07T18:29:51.513347",
     "exception": false,
     "start_time": "2022-11-07T18:28:43.230119",
     "status": "completed"
    },
    "tags": []
   },
   "outputs": [
    {
     "name": "stdout",
     "output_type": "stream",
     "text": [
      "Modelo 3\n",
      "Epoch 1/20\n",
      "157/157 [==============================] - 4s 21ms/step - loss: 1.2582 - accuracy: 0.5556 - val_loss: 0.7384 - val_accuracy: 0.7099\n",
      "Epoch 2/20\n",
      "157/157 [==============================] - 3s 20ms/step - loss: 0.6832 - accuracy: 0.7434 - val_loss: 0.7161 - val_accuracy: 0.7461\n",
      "Epoch 3/20\n",
      "157/157 [==============================] - 3s 21ms/step - loss: 0.5735 - accuracy: 0.7860 - val_loss: 0.5813 - val_accuracy: 0.7801\n",
      "Epoch 4/20\n",
      "157/157 [==============================] - 3s 20ms/step - loss: 0.5145 - accuracy: 0.8100 - val_loss: 0.5513 - val_accuracy: 0.7932\n",
      "Epoch 5/20\n",
      "157/157 [==============================] - 3s 20ms/step - loss: 0.4658 - accuracy: 0.8260 - val_loss: 0.5525 - val_accuracy: 0.7958\n",
      "Epoch 6/20\n",
      "157/157 [==============================] - 3s 20ms/step - loss: 0.4284 - accuracy: 0.8420 - val_loss: 0.5474 - val_accuracy: 0.8053\n",
      "Epoch 7/20\n",
      "157/157 [==============================] - 3s 20ms/step - loss: 0.4025 - accuracy: 0.8472 - val_loss: 0.5002 - val_accuracy: 0.8229\n",
      "Epoch 8/20\n",
      "157/157 [==============================] - 3s 19ms/step - loss: 0.3696 - accuracy: 0.8650 - val_loss: 0.5342 - val_accuracy: 0.8095\n",
      "Epoch 9/20\n",
      "157/157 [==============================] - 4s 28ms/step - loss: 0.3448 - accuracy: 0.8688 - val_loss: 0.4832 - val_accuracy: 0.8284\n",
      "Epoch 10/20\n",
      "157/157 [==============================] - 4s 24ms/step - loss: 0.3210 - accuracy: 0.8794 - val_loss: 0.5014 - val_accuracy: 0.8240\n",
      "Epoch 11/20\n",
      "157/157 [==============================] - 4s 23ms/step - loss: 0.2953 - accuracy: 0.8896 - val_loss: 0.5140 - val_accuracy: 0.8157\n",
      "Epoch 12/20\n",
      "157/157 [==============================] - 4s 23ms/step - loss: 0.2739 - accuracy: 0.8986 - val_loss: 0.4661 - val_accuracy: 0.8315\n",
      "Epoch 13/20\n",
      "157/157 [==============================] - 3s 22ms/step - loss: 0.2583 - accuracy: 0.9042 - val_loss: 0.4765 - val_accuracy: 0.8409\n",
      "Epoch 14/20\n",
      "157/157 [==============================] - 3s 21ms/step - loss: 0.2327 - accuracy: 0.9142 - val_loss: 0.5102 - val_accuracy: 0.8197\n",
      "Epoch 15/20\n",
      "157/157 [==============================] - 3s 22ms/step - loss: 0.2280 - accuracy: 0.9126 - val_loss: 0.5584 - val_accuracy: 0.8313\n",
      "Epoch 16/20\n",
      "157/157 [==============================] - 3s 20ms/step - loss: 0.2127 - accuracy: 0.9218 - val_loss: 0.5099 - val_accuracy: 0.8438\n",
      "Epoch 17/20\n",
      "157/157 [==============================] - 3s 19ms/step - loss: 0.1988 - accuracy: 0.9230 - val_loss: 0.5988 - val_accuracy: 0.8246\n",
      "Epoch 18/20\n",
      "157/157 [==============================] - 4s 25ms/step - loss: 0.1910 - accuracy: 0.9276 - val_loss: 0.5788 - val_accuracy: 0.8389\n",
      "Epoch 19/20\n",
      "157/157 [==============================] - 3s 21ms/step - loss: 0.1626 - accuracy: 0.9378 - val_loss: 0.5214 - val_accuracy: 0.8366\n",
      "Epoch 20/20\n",
      "157/157 [==============================] - 3s 20ms/step - loss: 0.1530 - accuracy: 0.9418 - val_loss: 0.5481 - val_accuracy: 0.8345\n"
     ]
    }
   ],
   "source": [
    "tf.keras.backend.clear_session()\n",
    "seed(1)\n",
    "set_seed(2)\n",
    "print(\"Modelo 3\")\n",
    "CNN3 = my_cnn()\n",
    "CNN3.compile(loss='categorical_crossentropy',\n",
    "              optimizer=keras.optimizers.SGD(lr=0.02,momentum=0.9),\n",
    "              metrics=['accuracy'])\n",
    "\n",
    "hist3 = CNN3.fit(x_subset, y_subset,\n",
    "                    batch_size=batch_size,\n",
    "                    epochs=epochs, validation_data=(x_test,y_test),\n",
    "                    verbose=1)"
   ]
  },
  {
   "cell_type": "markdown",
   "id": "fa8a375a",
   "metadata": {
    "id": "rUKG8qXIgSdg",
    "papermill": {
     "duration": 0.150962,
     "end_time": "2022-11-07T18:29:51.811668",
     "exception": false,
     "start_time": "2022-11-07T18:29:51.660706",
     "status": "completed"
    },
    "tags": []
   },
   "source": [
    "4) Tentando encontrar um meio termo: learning rate (não tão) maior, com decaimento da taxa de aprendizado\n"
   ]
  },
  {
   "cell_type": "code",
   "execution_count": 12,
   "id": "f7bccfeb",
   "metadata": {
    "execution": {
     "iopub.execute_input": "2022-11-07T18:29:52.093461Z",
     "iopub.status.busy": "2022-11-07T18:29:52.092985Z",
     "iopub.status.idle": "2022-11-07T18:29:52.181842Z",
     "shell.execute_reply": "2022-11-07T18:29:52.179963Z"
    },
    "executionInfo": {
     "elapsed": 470,
     "status": "ok",
     "timestamp": 1666957782808,
     "user": {
      "displayName": "Roseli Aparecida Francelin Romero",
      "userId": "04295547795514221387"
     },
     "user_tz": 180
    },
    "id": "km0hmWUZdG2t",
    "outputId": "87c381ae-47c3-49d8-fc44-c6357085ce43",
    "papermill": {
     "duration": 0.230934,
     "end_time": "2022-11-07T18:29:52.184594",
     "exception": false,
     "start_time": "2022-11-07T18:29:51.953660",
     "status": "completed"
    },
    "tags": []
   },
   "outputs": [
    {
     "name": "stdout",
     "output_type": "stream",
     "text": [
      "Taxa inicial =  0.25\n"
     ]
    }
   ],
   "source": [
    "tf.keras.backend.clear_session()\n",
    "seed(1)\n",
    "set_seed(2)\n",
    "CNN4 = my_cnn()\n",
    "CNN4.compile(loss='categorical_crossentropy',\n",
    "              optimizer=keras.optimizers.SGD(lr=0.25),\n",
    "              metrics=['accuracy'])\n",
    "\n",
    "print(\"Taxa inicial = \", round(CNN4.optimizer.lr.numpy(), 4))"
   ]
  },
  {
   "cell_type": "markdown",
   "id": "c8b94624",
   "metadata": {
    "id": "aHEy6xVdfvmT",
    "papermill": {
     "duration": 0.144447,
     "end_time": "2022-11-07T18:29:52.466295",
     "exception": false,
     "start_time": "2022-11-07T18:29:52.321848",
     "status": "completed"
    },
    "tags": []
   },
   "source": [
    "Criando uma função \"callback\" para definir uma modificação no learning rate ao longo das épocas"
   ]
  },
  {
   "cell_type": "code",
   "execution_count": 13,
   "id": "f8bbb807",
   "metadata": {
    "execution": {
     "iopub.execute_input": "2022-11-07T18:29:52.837352Z",
     "iopub.status.busy": "2022-11-07T18:29:52.836908Z",
     "iopub.status.idle": "2022-11-07T18:30:58.161107Z",
     "shell.execute_reply": "2022-11-07T18:30:58.159135Z"
    },
    "executionInfo": {
     "elapsed": 33846,
     "status": "ok",
     "timestamp": 1666957819791,
     "user": {
      "displayName": "Roseli Aparecida Francelin Romero",
      "userId": "04295547795514221387"
     },
     "user_tz": 180
    },
    "id": "2xQf_xc1fd_3",
    "outputId": "7f42b186-34d0-4a18-dc2b-1a2b0d9e2c56",
    "papermill": {
     "duration": 65.551993,
     "end_time": "2022-11-07T18:30:58.164180",
     "exception": false,
     "start_time": "2022-11-07T18:29:52.612187",
     "status": "completed"
    },
    "tags": []
   },
   "outputs": [
    {
     "name": "stdout",
     "output_type": "stream",
     "text": [
      "Epoch 1/20\n",
      "Learning rate atual =  0.25\n",
      "157/157 [==============================] - 4s 23ms/step - loss: 1.3271 - accuracy: 0.5246 - val_loss: 1.0328 - val_accuracy: 0.5975\n",
      "Epoch 2/20\n",
      "Learning rate atual =  0.25\n",
      "157/157 [==============================] - 3s 20ms/step - loss: 0.7050 - accuracy: 0.7398 - val_loss: 1.0640 - val_accuracy: 0.6385\n",
      "Epoch 3/20\n",
      "Learning rate atual =  0.25\n",
      "157/157 [==============================] - 3s 21ms/step - loss: 0.5920 - accuracy: 0.7848 - val_loss: 0.7109 - val_accuracy: 0.7503\n",
      "Epoch 4/20\n",
      "Learning rate atual =  0.25\n",
      "157/157 [==============================] - 3s 20ms/step - loss: 0.5194 - accuracy: 0.8074 - val_loss: 0.6304 - val_accuracy: 0.7624\n",
      "Epoch 5/20\n",
      "Learning rate atual =  0.25\n",
      "157/157 [==============================] - 3s 20ms/step - loss: 0.4694 - accuracy: 0.8232 - val_loss: 0.7728 - val_accuracy: 0.7504\n",
      "Epoch 6/20\n",
      "Learning rate atual =  0.25\n",
      "157/157 [==============================] - 3s 20ms/step - loss: 0.4176 - accuracy: 0.8398 - val_loss: 0.7193 - val_accuracy: 0.7786\n",
      "Epoch 7/20\n",
      "Learning rate atual =  0.20499999821186066\n",
      "157/157 [==============================] - 4s 25ms/step - loss: 0.3701 - accuracy: 0.8664 - val_loss: 0.5007 - val_accuracy: 0.8147\n",
      "Epoch 8/20\n",
      "Learning rate atual =  0.1679999977350235\n",
      "157/157 [==============================] - 3s 20ms/step - loss: 0.3284 - accuracy: 0.8808 - val_loss: 0.5484 - val_accuracy: 0.7992\n",
      "Epoch 9/20\n",
      "Learning rate atual =  0.1379999965429306\n",
      "157/157 [==============================] - 3s 21ms/step - loss: 0.2953 - accuracy: 0.8888 - val_loss: 0.4763 - val_accuracy: 0.8291\n",
      "Epoch 10/20\n",
      "Learning rate atual =  0.11299999803304672\n",
      "157/157 [==============================] - 3s 21ms/step - loss: 0.2696 - accuracy: 0.8988 - val_loss: 0.4681 - val_accuracy: 0.8398\n",
      "Epoch 11/20\n",
      "Learning rate atual =  0.09300000220537186\n",
      "157/157 [==============================] - 3s 20ms/step - loss: 0.2459 - accuracy: 0.9100 - val_loss: 0.4698 - val_accuracy: 0.8361\n",
      "Epoch 12/20\n",
      "Learning rate atual =  0.07599999755620956\n",
      "157/157 [==============================] - 3s 21ms/step - loss: 0.2285 - accuracy: 0.9122 - val_loss: 0.5045 - val_accuracy: 0.8268\n",
      "Epoch 13/20\n",
      "Learning rate atual =  0.06199999898672104\n",
      "157/157 [==============================] - 3s 19ms/step - loss: 0.2147 - accuracy: 0.9168 - val_loss: 0.5069 - val_accuracy: 0.8333\n",
      "Epoch 14/20\n",
      "Learning rate atual =  0.050999999046325684\n",
      "157/157 [==============================] - 3s 19ms/step - loss: 0.1971 - accuracy: 0.9262 - val_loss: 0.4815 - val_accuracy: 0.8416\n",
      "Epoch 15/20\n",
      "Learning rate atual =  0.041999999433755875\n",
      "157/157 [==============================] - 3s 20ms/step - loss: 0.1868 - accuracy: 0.9332 - val_loss: 0.4868 - val_accuracy: 0.8459\n",
      "Epoch 16/20\n",
      "Learning rate atual =  0.03400000184774399\n",
      "157/157 [==============================] - 3s 20ms/step - loss: 0.1774 - accuracy: 0.9372 - val_loss: 0.4926 - val_accuracy: 0.8442\n",
      "Epoch 17/20\n",
      "Learning rate atual =  0.02800000086426735\n",
      "157/157 [==============================] - 4s 25ms/step - loss: 0.1678 - accuracy: 0.9382 - val_loss: 0.5039 - val_accuracy: 0.8452\n",
      "Epoch 18/20\n",
      "Learning rate atual =  0.023000000044703484\n",
      "157/157 [==============================] - 3s 19ms/step - loss: 0.1614 - accuracy: 0.9410 - val_loss: 0.5063 - val_accuracy: 0.8435\n",
      "Epoch 19/20\n",
      "Learning rate atual =  0.01899999938905239\n",
      "157/157 [==============================] - 3s 21ms/step - loss: 0.1561 - accuracy: 0.9458 - val_loss: 0.5013 - val_accuracy: 0.8444\n",
      "Epoch 20/20\n",
      "Learning rate atual =  0.01600000075995922\n",
      "157/157 [==============================] - 3s 19ms/step - loss: 0.1496 - accuracy: 0.9462 - val_loss: 0.5090 - val_accuracy: 0.8438\n"
     ]
    }
   ],
   "source": [
    "def scheduler(epoch, lr):\n",
    "  print(\"Learning rate atual = \", lr)\n",
    "  if epoch < 5:\n",
    "    return lr\n",
    "  else:\n",
    "    return np.round(lr * tf.math.exp(-0.2),3)\n",
    "\n",
    "callbacklr = tf.keras.callbacks.LearningRateScheduler(scheduler)\n",
    "\n",
    "hist4 = CNN4.fit(x_subset, y_subset,\n",
    "                    batch_size=batch_size, epochs=epochs, \n",
    "                    callbacks=[callbacklr], validation_data=(x_test,y_test),\n",
    "                    verbose=1)"
   ]
  },
  {
   "cell_type": "markdown",
   "id": "cedf66f4",
   "metadata": {
    "id": "p_iqlcONEA6t",
    "papermill": {
     "duration": 0.187439,
     "end_time": "2022-11-07T18:30:58.535174",
     "exception": false,
     "start_time": "2022-11-07T18:30:58.347735",
     "status": "completed"
    },
    "tags": []
   },
   "source": [
    "Vamos comparar a função perda calculada pelas 4 redes profundas."
   ]
  },
  {
   "cell_type": "code",
   "execution_count": 14,
   "id": "a850859f",
   "metadata": {
    "execution": {
     "iopub.execute_input": "2022-11-07T18:30:58.900021Z",
     "iopub.status.busy": "2022-11-07T18:30:58.899255Z",
     "iopub.status.idle": "2022-11-07T18:30:59.192267Z",
     "shell.execute_reply": "2022-11-07T18:30:59.191208Z"
    },
    "executionInfo": {
     "elapsed": 536,
     "status": "ok",
     "timestamp": 1666958718928,
     "user": {
      "displayName": "Roseli Aparecida Francelin Romero",
      "userId": "04295547795514221387"
     },
     "user_tz": 180
    },
    "id": "LcMnFOuxwMOV",
    "outputId": "d454c962-ee25-4f1c-eadb-b5ecc82aa7e8",
    "papermill": {
     "duration": 0.477238,
     "end_time": "2022-11-07T18:30:59.194854",
     "exception": false,
     "start_time": "2022-11-07T18:30:58.717616",
     "status": "completed"
    },
    "tags": []
   },
   "outputs": [
    {
     "data": {
      "text/plain": [
       "<matplotlib.legend.Legend at 0x7fae69c89710>"
      ]
     },
     "execution_count": 14,
     "metadata": {},
     "output_type": "execute_result"
    },
    {
     "data": {
      "image/png": "[encoded data removed]",
      "text/plain": [
       "<Figure size 576x360 with 1 Axes>"
      ]
     },
     "metadata": {
      "needs_background": "light"
     },
     "output_type": "display_data"
    }
   ],
   "source": [
    "plt.figure(figsize=(8,5))\n",
    "plt.plot(hist1.history['loss'])\n",
    "plt.plot(hist2.history['loss'])\n",
    "plt.plot(hist3.history['loss'])\n",
    "plt.plot(hist4.history['loss'])\n",
    "plt.legend([\"lr=.01\", \"lr=.6\", \"lr=.02 m=.9\",\"lr=.25+dec\"], loc=\"upper right\")"
   ]
  },
  {
   "cell_type": "markdown",
   "id": "8f928cdd",
   "metadata": {
    "id": "nR-UM_P6EJuG",
    "papermill": {
     "duration": 0.183033,
     "end_time": "2022-11-07T18:30:59.560508",
     "exception": false,
     "start_time": "2022-11-07T18:30:59.377475",
     "status": "completed"
    },
    "tags": []
   },
   "source": [
    "Vamos comparar as acurácias nos conjuntos de treino e val. para as CNN1 e CNN2 "
   ]
  },
  {
   "cell_type": "code",
   "execution_count": 15,
   "id": "fbadfdb5",
   "metadata": {
    "execution": {
     "iopub.execute_input": "2022-11-07T18:30:59.931641Z",
     "iopub.status.busy": "2022-11-07T18:30:59.930912Z",
     "iopub.status.idle": "2022-11-07T18:31:00.211703Z",
     "shell.execute_reply": "2022-11-07T18:31:00.210505Z"
    },
    "executionInfo": {
     "elapsed": 10,
     "status": "ok",
     "timestamp": 1666958781025,
     "user": {
      "displayName": "Roseli Aparecida Francelin Romero",
      "userId": "04295547795514221387"
     },
     "user_tz": 180
    },
    "id": "E-ByU8kXPDu_",
    "outputId": "66ebcd4f-27ce-44c2-86c7-9ccd4fcc5d45",
    "papermill": {
     "duration": 0.466832,
     "end_time": "2022-11-07T18:31:00.214697",
     "exception": false,
     "start_time": "2022-11-07T18:30:59.747865",
     "status": "completed"
    },
    "tags": []
   },
   "outputs": [
    {
     "data": {
      "text/plain": [
       "<matplotlib.legend.Legend at 0x7fae69bae6d0>"
      ]
     },
     "execution_count": 15,
     "metadata": {},
     "output_type": "execute_result"
    },
    {
     "data": {
      "image/png": "[encoded data removed]",
      "text/plain": [
       "<Figure size 576x360 with 1 Axes>"
      ]
     },
     "metadata": {
      "needs_background": "light"
     },
     "output_type": "display_data"
    }
   ],
   "source": [
    "plt.figure(figsize=(8,5))\n",
    "plt.plot(hist1.history['accuracy'], 'b')\n",
    "plt.plot(hist1.history['val_accuracy'], 'b--')\n",
    "plt.plot(hist2.history['accuracy'], color='tab:orange')\n",
    "plt.plot(hist2.history['val_accuracy'], color='tab:orange', linestyle='--')\n",
    "plt.legend([\"lr=.01 (trei)\",\"lr=.01 (val)\",\"lr=.6 (trei)\",\"lr=.6 (val)\"], loc=\"upper right\")"
   ]
  },
  {
   "cell_type": "markdown",
   "id": "880baee0",
   "metadata": {
    "id": "GKcHVVQ8D37o",
    "papermill": {
     "duration": 0.183002,
     "end_time": "2022-11-07T18:31:00.645958",
     "exception": false,
     "start_time": "2022-11-07T18:31:00.462956",
     "status": "completed"
    },
    "tags": []
   },
   "source": [
    "Vamos comparar  as acurácias nos conjuntos de treino e val. para a CNN3 e CNN4.\n"
   ]
  },
  {
   "cell_type": "code",
   "execution_count": 16,
   "id": "195e53ed",
   "metadata": {
    "execution": {
     "iopub.execute_input": "2022-11-07T18:31:01.014319Z",
     "iopub.status.busy": "2022-11-07T18:31:01.013258Z",
     "iopub.status.idle": "2022-11-07T18:31:01.273431Z",
     "shell.execute_reply": "2022-11-07T18:31:01.272171Z"
    },
    "executionInfo": {
     "elapsed": 558,
     "status": "ok",
     "timestamp": 1666958835289,
     "user": {
      "displayName": "Roseli Aparecida Francelin Romero",
      "userId": "04295547795514221387"
     },
     "user_tz": 180
    },
    "id": "rrqKloZntMkg",
    "outputId": "6f7ce4b6-52d1-4bff-f902-257d1702f5a7",
    "papermill": {
     "duration": 0.447081,
     "end_time": "2022-11-07T18:31:01.276391",
     "exception": false,
     "start_time": "2022-11-07T18:31:00.829310",
     "status": "completed"
    },
    "tags": []
   },
   "outputs": [
    {
     "data": {
      "text/plain": [
       "<matplotlib.legend.Legend at 0x7fae69ae69d0>"
      ]
     },
     "execution_count": 16,
     "metadata": {},
     "output_type": "execute_result"
    },
    {
     "data": {
      "image/png": "[encoded data removed]",
      "text/plain": [
       "<Figure size 576x360 with 1 Axes>"
      ]
     },
     "metadata": {
      "needs_background": "light"
     },
     "output_type": "display_data"
    }
   ],
   "source": [
    "plt.figure(figsize=(8,5))\n",
    "plt.plot(hist3.history['accuracy'], 'g')\n",
    "plt.plot(hist3.history['val_accuracy'], 'g--')\n",
    "plt.plot(hist4.history['accuracy'], 'r')\n",
    "plt.plot(hist4.history['val_accuracy'], 'r--')\n",
    "plt.legend([\"lr=.02 m=.9 (tre)\",\"lr=.02 m=.9 (val)\",\"lr=.25+dec(tre)\",\"lr=.25+dec(val)\"], loc=\"upper right\")"
   ]
  },
  {
   "cell_type": "code",
   "execution_count": null,
   "id": "a4e20ea2",
   "metadata": {
    "id": "mFxGWNjYkQZy",
    "papermill": {
     "duration": 0.182987,
     "end_time": "2022-11-07T18:31:01.646013",
     "exception": false,
     "start_time": "2022-11-07T18:31:01.463026",
     "status": "completed"
    },
    "tags": []
   },
   "outputs": [],
   "source": []
  }
 ],
 "metadata": {
  "kernelspec": {
   "display_name": "Python 3",
   "language": "python",
   "name": "python3"
  },
  "language_info": {
   "codemirror_mode": {
    "name": "ipython",
    "version": 3
   },
   "file_extension": ".py",
   "mimetype": "text/x-python",
   "name": "python",
   "nbconvert_exporter": "python",
   "pygments_lexer": "ipython3",
   "version": "3.7.12"
  },
  "papermill": {
   "default_parameters": {},
   "duration": 308.444794,
   "end_time": "2022-11-07T18:31:04.759628",
   "environment_variables": {},
   "exception": null,
   "input_path": "__notebook__.ipynb",
   "output_path": "__notebook__.ipynb",
   "parameters": {},
   "start_time": "2022-11-07T18:25:56.314834",
   "version": "2.3.4"
  }
 },
 "nbformat": 4,
 "nbformat_minor": 5
}
