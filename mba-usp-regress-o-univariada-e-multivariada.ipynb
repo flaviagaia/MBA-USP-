{
 "cells": [
  {
   "cell_type": "markdown",
   "id": "5765e986",
   "metadata": {
    "id": "u_7MLToKYbdM",
    "papermill": {
     "duration": 0.006421,
     "end_time": "2022-10-01T12:03:12.534088",
     "exception": false,
     "start_time": "2022-10-01T12:03:12.527667",
     "status": "completed"
    },
    "tags": []
   },
   "source": [
    "# SCC-ICMC-USP \n",
    "# CURSO 2 - CD_AM_DM\n",
    "## **Exercicio2 de Fixação**  \n",
    "## **OBJETIVO**: REGRESSÃO UNIVARIADA E MULTIVARIADA\n",
    "\n",
    "#MBA em IA e BIGDATA\n",
    "### Profa. Roseli A. F. Romero\n",
    "\n",
    "\n",
    "\n",
    "...\n",
    "## UTILIZAÇÃO:\n",
    "- **PCA** \n",
    "- **Regressão MULTIVARIADA**\n",
    "- **Utilização da Metricas de Regressão: R2, MSE, MAE**\n",
    "\n",
    "\n",
    "\n",
    " \n",
    " "
   ]
  },
  {
   "cell_type": "markdown",
   "id": "ac40f093",
   "metadata": {
    "id": "fJg2doxQJ7OX",
    "papermill": {
     "duration": 0.004932,
     "end_time": "2022-10-01T12:03:12.544671",
     "exception": false,
     "start_time": "2022-10-01T12:03:12.539739",
     "status": "completed"
    },
    "tags": []
   },
   "source": [
    "\n",
    "\n",
    "---\n",
    "\n",
    "\n",
    "\n",
    "Para os próximos exercícios utilizaremos a base de dados 'Boston House Prices'.  Os dados possuem dimensionalidade 13, e são distribuidos em 506 exemplos. O pré-carregamento da base já foi feito abaixo.\n",
    "\n"
   ]
  },
  {
   "cell_type": "code",
   "execution_count": 1,
   "id": "c5907c3d",
   "metadata": {
    "collapsed": true,
    "execution": {
     "iopub.execute_input": "2022-10-01T12:03:12.557169Z",
     "iopub.status.busy": "2022-10-01T12:03:12.556526Z",
     "iopub.status.idle": "2022-10-01T12:03:13.870705Z",
     "shell.execute_reply": "2022-10-01T12:03:13.869693Z"
    },
    "id": "7Y3OHJVMcksG",
    "jupyter": {
     "outputs_hidden": true
    },
    "outputId": "6bb627f2-3d3b-48d5-9536-a94990062a5d",
    "papermill": {
     "duration": 1.324165,
     "end_time": "2022-10-01T12:03:13.874020",
     "exception": false,
     "start_time": "2022-10-01T12:03:12.549855",
     "status": "completed"
    },
    "tags": []
   },
   "outputs": [
    {
     "name": "stdout",
     "output_type": "stream",
     "text": [
      "(506, 13)\n"
     ]
    },
    {
     "name": "stderr",
     "output_type": "stream",
     "text": [
      "/opt/conda/lib/python3.7/site-packages/sklearn/utils/deprecation.py:87: FutureWarning: Function load_boston is deprecated; `load_boston` is deprecated in 1.0 and will be removed in 1.2.\n",
      "\n",
      "    The Boston housing prices dataset has an ethical problem. You can refer to\n",
      "    the documentation of this function for further details.\n",
      "\n",
      "    The scikit-learn maintainers therefore strongly discourage the use of this\n",
      "    dataset unless the purpose of the code is to study and educate about\n",
      "    ethical issues in data science and machine learning.\n",
      "\n",
      "    In this special case, you can fetch the dataset from the original\n",
      "    source::\n",
      "\n",
      "        import pandas as pd\n",
      "        import numpy as np\n",
      "\n",
      "\n",
      "        data_url = \"http://lib.stat.cmu.edu/datasets/boston\"\n",
      "        raw_df = pd.read_csv(data_url, sep=\"\\s+\", skiprows=22, header=None)\n",
      "        data = np.hstack([raw_df.values[::2, :], raw_df.values[1::2, :2]])\n",
      "        target = raw_df.values[1::2, 2]\n",
      "\n",
      "    Alternative datasets include the California housing dataset (i.e.\n",
      "    :func:`~sklearn.datasets.fetch_california_housing`) and the Ames housing\n",
      "    dataset. You can load the datasets as follows::\n",
      "\n",
      "        from sklearn.datasets import fetch_california_housing\n",
      "        housing = fetch_california_housing()\n",
      "\n",
      "    for the California housing dataset and::\n",
      "\n",
      "        from sklearn.datasets import fetch_openml\n",
      "        housing = fetch_openml(name=\"house_prices\", as_frame=True)\n",
      "\n",
      "    for the Ames housing dataset.\n",
      "    \n",
      "  warnings.warn(msg, category=FutureWarning)\n"
     ]
    }
   ],
   "source": [
    "import numpy as np\n",
    "from sklearn.decomposition import PCA\n",
    "import pandas as pd\n",
    "from sklearn.preprocessing import StandardScaler\n",
    "from sklearn.datasets import load_boston\n",
    "from sklearn.model_selection import train_test_split\n",
    "\n",
    "\n",
    "X, y = load_boston(return_X_y=True)\n",
    "print(X.shape)"
   ]
  },
  {
   "cell_type": "markdown",
   "id": "b56e1dad",
   "metadata": {
    "id": "0Z4BR9YCeB6i",
    "papermill": {
     "duration": 0.005264,
     "end_time": "2022-10-01T12:03:13.885062",
     "exception": false,
     "start_time": "2022-10-01T12:03:13.879798",
     "status": "completed"
    },
    "tags": []
   },
   "source": [
    "###**Questão 1**\n",
    "# Separe os dados em 80% treino e 20% teste e aplique PCA para reduzir a **dimensionalidade para 3**. Lembre-se de padronizar os dados antes de aplicar o PCA e de só usar funções `fit` no conjunto de **treino**."
   ]
  },
  {
   "cell_type": "code",
   "execution_count": 2,
   "id": "18eb43aa",
   "metadata": {
    "execution": {
     "iopub.execute_input": "2022-10-01T12:03:13.898805Z",
     "iopub.status.busy": "2022-10-01T12:03:13.897234Z",
     "iopub.status.idle": "2022-10-01T12:03:13.929296Z",
     "shell.execute_reply": "2022-10-01T12:03:13.927984Z"
    },
    "id": "3_8vpWFbeH-S",
    "outputId": "a28ce750-9f9b-4cec-ca5c-f79a1c1bbf69",
    "papermill": {
     "duration": 0.041306,
     "end_time": "2022-10-01T12:03:13.931776",
     "exception": false,
     "start_time": "2022-10-01T12:03:13.890470",
     "status": "completed"
    },
    "tags": []
   },
   "outputs": [
    {
     "name": "stdout",
     "output_type": "stream",
     "text": [
      "Tamanho treino:  (404, 13)\n",
      "Tamanho teste:  (102, 13)\n",
      "Tamanho treino com pca =3 (404, 3)\n"
     ]
    }
   ],
   "source": [
    "X_train, X_test, y_train, y_test = train_test_split(X, y, test_size=0.2, random_state=23)\n",
    "print(\"Tamanho treino: \", X_train.shape)\n",
    "print(\"Tamanho teste: \", X_test.shape)\n",
    "\n",
    "scaler = StandardScaler()\n",
    "# Fit apenas no conjunto de treino\n",
    "scaler.fit(X_train)\n",
    "X_train_scaled = scaler.transform(X_train)\n",
    "\n",
    "pca3 = PCA(n_components=3)\n",
    "# Fit apenas no conjunto de treino (já escalado)\n",
    "pca3.fit(X_train_scaled)\n",
    "X_train_pca3 = pca3.transform(X_train_scaled)\n",
    "print(\"Tamanho treino com pca =3\", X_train_pca3.shape)"
   ]
  },
  {
   "cell_type": "markdown",
   "id": "57850a70",
   "metadata": {
    "id": "eIBoP9YxeaEV",
    "papermill": {
     "duration": 0.005241,
     "end_time": "2022-10-01T12:03:13.942613",
     "exception": false,
     "start_time": "2022-10-01T12:03:13.937372",
     "status": "completed"
    },
    "tags": []
   },
   "source": [
    "\n",
    "\n",
    "\n",
    "###**Questão 2**\n",
    "# Novamente, aplique o algoritmo de PCA para reduzir o número de variáveis do conjunto original **para 4**."
   ]
  },
  {
   "cell_type": "code",
   "execution_count": 3,
   "id": "1362d7e0",
   "metadata": {
    "execution": {
     "iopub.execute_input": "2022-10-01T12:03:13.956060Z",
     "iopub.status.busy": "2022-10-01T12:03:13.954867Z",
     "iopub.status.idle": "2022-10-01T12:03:13.961571Z",
     "shell.execute_reply": "2022-10-01T12:03:13.960582Z"
    },
    "id": "bDBmgQUQemnt",
    "papermill": {
     "duration": 0.016481,
     "end_time": "2022-10-01T12:03:13.964541",
     "exception": false,
     "start_time": "2022-10-01T12:03:13.948060",
     "status": "completed"
    },
    "tags": []
   },
   "outputs": [],
   "source": [
    "pca4 = PCA(n_components=4)\n",
    "# Fit apenas no conjunto de treino (já escalado no passo anterior)\n",
    "pca4.fit(X_train_scaled)\n",
    "X_train_pca4 = pca4.transform(X_train_scaled)"
   ]
  },
  {
   "cell_type": "markdown",
   "id": "c8af83d5",
   "metadata": {
    "id": "hGu5yRZ0dmfM",
    "papermill": {
     "duration": 0.005285,
     "end_time": "2022-10-01T12:03:13.975590",
     "exception": false,
     "start_time": "2022-10-01T12:03:13.970305",
     "status": "completed"
    },
    "tags": []
   },
   "source": [
    "\n",
    "\n",
    "###**Questão 3**\n",
    "#Faça regressão utilizando uma reta no conjunto com dimensão 3. OBS: Importar o módulo de regressão linear do Sklearn."
   ]
  },
  {
   "cell_type": "code",
   "execution_count": 4,
   "id": "0897cb4a",
   "metadata": {
    "execution": {
     "iopub.execute_input": "2022-10-01T12:03:13.989767Z",
     "iopub.status.busy": "2022-10-01T12:03:13.988587Z",
     "iopub.status.idle": "2022-10-01T12:03:13.998184Z",
     "shell.execute_reply": "2022-10-01T12:03:13.997235Z"
    },
    "id": "56B2miJbe4Jk",
    "papermill": {
     "duration": 0.019254,
     "end_time": "2022-10-01T12:03:14.000729",
     "exception": false,
     "start_time": "2022-10-01T12:03:13.981475",
     "status": "completed"
    },
    "tags": []
   },
   "outputs": [],
   "source": [
    "from sklearn.metrics import r2_score, mean_squared_error, mean_absolute_error\n",
    "from sklearn.linear_model import LinearRegression\n",
    "\n",
    "# Função que recebe um y esperado e um y predito e retorna métricas \n",
    "# mae, r2 e mse na forma de dicionario:\n",
    "def gen_metrics(y_true, y_pred):\n",
    "  metrics = {}\n",
    "  metrics[\"r2\"] = r2_score(y_true, y_pred)\n",
    "  metrics[\"mse\"] = mean_squared_error(y_true, y_pred)\n",
    "  metrics[\"mae\"] = mean_absolute_error(y_true, y_pred)\n",
    "  return metrics\n",
    "\n",
    "# Treinando o regressor:\n",
    "clf_pca3 = LinearRegression()\n",
    "clf_pca3.fit(X_train_pca3, y_train)\n",
    "\n",
    "# Processando o conjunto de testes:\n",
    "# Note que não fazemos fit no teste\n",
    "X_test_scaled = scaler.transform(X_test)\n",
    "X_test_pca3 = pca3.transform(X_test_scaled)\n",
    "\n"
   ]
  },
  {
   "cell_type": "markdown",
   "id": "627be7e4",
   "metadata": {
    "id": "tnAfJ3JCe5P7",
    "papermill": {
     "duration": 0.005403,
     "end_time": "2022-10-01T12:03:14.011882",
     "exception": false,
     "start_time": "2022-10-01T12:03:14.006479",
     "status": "completed"
    },
    "tags": []
   },
   "source": [
    "\n",
    "### **Questão 4**\n",
    "# Calcule o erro cometido por aproximarmos os dados por uma reta usando as seguintes métricas: R2, MSE e MAE. Lembre-se que as métricas já devem estar importadas."
   ]
  },
  {
   "cell_type": "code",
   "execution_count": 5,
   "id": "c919bf6b",
   "metadata": {
    "execution": {
     "iopub.execute_input": "2022-10-01T12:03:14.025872Z",
     "iopub.status.busy": "2022-10-01T12:03:14.024681Z",
     "iopub.status.idle": "2022-10-01T12:03:14.038124Z",
     "shell.execute_reply": "2022-10-01T12:03:14.036711Z"
    },
    "id": "tCRQ6pqLUzVz",
    "outputId": "64a873cf-0027-4181-c85c-d8ee89e09ec1",
    "papermill": {
     "duration": 0.023661,
     "end_time": "2022-10-01T12:03:14.041077",
     "exception": false,
     "start_time": "2022-10-01T12:03:14.017416",
     "status": "completed"
    },
    "tags": []
   },
   "outputs": [
    {
     "name": "stdout",
     "output_type": "stream",
     "text": [
      "R2 treino: 0.628205\n",
      "MSE treino: 31.223495\n",
      "MAE treino: 3.820341\n",
      "\n",
      "R2 teste: 0.645593\n",
      "MSE teste: 30.528711\n",
      "MAE teste: 4.051632\n"
     ]
    }
   ],
   "source": [
    "# Extraindo as métricas para treino:\n",
    "y_pred_train_pca3 = clf_pca3.predict(X_train_pca3)\n",
    "metrics_train = gen_metrics(y_train, y_pred_train_pca3)\n",
    "print(\"R2 treino: %.6f\" % metrics_train[\"r2\"])\n",
    "print(\"MSE treino: %.6f\" % metrics_train[\"mse\"])\n",
    "print(\"MAE treino: %.6f\\n\" % metrics_train[\"mae\"])\n",
    "\n",
    "# Extraindo as métricas para teste:\n",
    "y_pred_test_pca3 = clf_pca3.predict(X_test_pca3)\n",
    "metrics_test = gen_metrics(y_test, y_pred_test_pca3)\n",
    "print(\"R2 teste: %.6f\" % metrics_test[\"r2\"])\n",
    "print(\"MSE teste: %.6f\" % metrics_test[\"mse\"])\n",
    "print(\"MAE teste: %.6f\" % metrics_test[\"mae\"])\n",
    "\n",
    "# Criando estrutura de dicionario para armazenar os scores:\n",
    "resultados = {}\n",
    "resultados[\"Reg. Linear com dim=3\"] = {\n",
    "    \"treino\" : metrics_train,\n",
    "    \"teste\" : metrics_test\n",
    "    }"
   ]
  },
  {
   "cell_type": "markdown",
   "id": "ee391d33",
   "metadata": {
    "id": "zTSpLe__SpEa",
    "papermill": {
     "duration": 0.005397,
     "end_time": "2022-10-01T12:03:14.052380",
     "exception": false,
     "start_time": "2022-10-01T12:03:14.046983",
     "status": "completed"
    },
    "tags": []
   },
   "source": [
    "### **Questão 5**\n",
    "#Faça uma regressão utilizando uma reta com os dados de **dimensionalidade 4**."
   ]
  },
  {
   "cell_type": "code",
   "execution_count": 6,
   "id": "0609f0ba",
   "metadata": {
    "execution": {
     "iopub.execute_input": "2022-10-01T12:03:14.066732Z",
     "iopub.status.busy": "2022-10-01T12:03:14.065945Z",
     "iopub.status.idle": "2022-10-01T12:03:14.072383Z",
     "shell.execute_reply": "2022-10-01T12:03:14.071153Z"
    },
    "id": "-wPvj38EfByO",
    "papermill": {
     "duration": 0.016653,
     "end_time": "2022-10-01T12:03:14.075328",
     "exception": false,
     "start_time": "2022-10-01T12:03:14.058675",
     "status": "completed"
    },
    "tags": []
   },
   "outputs": [],
   "source": [
    "# Treinando o regressor:\n",
    "clf_pca4 = LinearRegression()\n",
    "clf_pca4.fit(X_train_pca4, y_train)\n",
    "\n",
    "# Processando o conjunto de testes:\n",
    "# Note que não fazemos fit no teste\n",
    "X_test_pca4 = pca4.transform(X_test_scaled)\n",
    "\n"
   ]
  },
  {
   "cell_type": "markdown",
   "id": "7cc71d2f",
   "metadata": {
    "id": "zdZU9wuDfC4E",
    "papermill": {
     "duration": 0.006721,
     "end_time": "2022-10-01T12:03:14.088307",
     "exception": false,
     "start_time": "2022-10-01T12:03:14.081586",
     "status": "completed"
    },
    "tags": []
   },
   "source": [
    "### **Questão 6**\n",
    "#Calcule o erro cometido pela aproximação dos dados por uma reta usando as seguintes métricas: R2, MSE e MAE."
   ]
  },
  {
   "cell_type": "code",
   "execution_count": 7,
   "id": "4d022066",
   "metadata": {
    "execution": {
     "iopub.execute_input": "2022-10-01T12:03:14.101983Z",
     "iopub.status.busy": "2022-10-01T12:03:14.101513Z",
     "iopub.status.idle": "2022-10-01T12:03:14.113229Z",
     "shell.execute_reply": "2022-10-01T12:03:14.111992Z"
    },
    "id": "DIYjdJ35VNM6",
    "outputId": "1dc951fc-1efe-4d56-a6ae-4390586e32cb",
    "papermill": {
     "duration": 0.021653,
     "end_time": "2022-10-01T12:03:14.115841",
     "exception": false,
     "start_time": "2022-10-01T12:03:14.094188",
     "status": "completed"
    },
    "tags": []
   },
   "outputs": [
    {
     "name": "stdout",
     "output_type": "stream",
     "text": [
      "R2 treino: 0.669144\n",
      "MSE treino: 27.785390\n",
      "MAE treino: 3.489937\n",
      "\n",
      "R2 teste: 0.705940\n",
      "MSE teste: 25.330419\n",
      "MAE teste: 3.764221\n"
     ]
    }
   ],
   "source": [
    "# Extraindo as métricas para treino:\n",
    "y_pred_train_pca4 = clf_pca4.predict(X_train_pca4)\n",
    "metrics_train = gen_metrics(y_train, y_pred_train_pca4)\n",
    "print(\"R2 treino: %.6f\" % metrics_train[\"r2\"])\n",
    "print(\"MSE treino: %.6f\" % metrics_train[\"mse\"])\n",
    "print(\"MAE treino: %.6f\\n\" % metrics_train[\"mae\"])\n",
    "\n",
    "# Extraindo as métricas para teste:\n",
    "y_pred_test_pca4 = clf_pca4.predict(X_test_pca4)\n",
    "metrics_test = gen_metrics(y_test, y_pred_test_pca4)\n",
    "print(\"R2 teste: %.6f\" % metrics_test[\"r2\"])\n",
    "print(\"MSE teste: %.6f\" % metrics_test[\"mse\"])\n",
    "print(\"MAE teste: %.6f\" % metrics_test[\"mae\"])\n",
    "\n",
    "# Adicionando resultados na estrutura de dicionario:\n",
    "resultados[\"Reg. Linear com dim=4\"] = {\n",
    "    \"treino\" : metrics_train,\n",
    "    \"teste\" : metrics_test\n",
    "    }"
   ]
  },
  {
   "cell_type": "markdown",
   "id": "b070032b",
   "metadata": {
    "id": "dPWrwqZ5S2Wq",
    "papermill": {
     "duration": 0.005724,
     "end_time": "2022-10-01T12:03:14.127974",
     "exception": false,
     "start_time": "2022-10-01T12:03:14.122250",
     "status": "completed"
    },
    "tags": []
   },
   "source": [
    "### **Questão 7**\n",
    "\n",
    "#Utilizando uma função quadrática (Ex.: $f(x_1,x_2) = 1 + x_1 + x_2 + x_1^2 + x_1x_2 + x_2 ^2)$, faça regressão utilizando as **3 componentes principais**. Dica: Use a função PolynomialFeatures(degree=2)"
   ]
  },
  {
   "cell_type": "code",
   "execution_count": 8,
   "id": "e64e5a0c",
   "metadata": {
    "execution": {
     "iopub.execute_input": "2022-10-01T12:03:14.143393Z",
     "iopub.status.busy": "2022-10-01T12:03:14.142468Z",
     "iopub.status.idle": "2022-10-01T12:03:14.152572Z",
     "shell.execute_reply": "2022-10-01T12:03:14.151625Z"
    },
    "id": "3kQZEtxxfqhl",
    "papermill": {
     "duration": 0.020103,
     "end_time": "2022-10-01T12:03:14.155004",
     "exception": false,
     "start_time": "2022-10-01T12:03:14.134901",
     "status": "completed"
    },
    "tags": []
   },
   "outputs": [],
   "source": [
    "from sklearn.preprocessing import PolynomialFeatures\n",
    "\n",
    "# Preparando os dados com o PolynomialFeatures:\n",
    "pol_feat = PolynomialFeatures(degree=2, include_bias=False)\n",
    "pol_feat.fit(X_train_pca3)\n",
    "X_train_pca3_pol_feat = pol_feat.transform(X_train_pca3)\n",
    "\n",
    "# Treinando o regressor\n",
    "clf_pca_3_pol = LinearRegression()\n",
    "clf_pca_3_pol.fit(X_train_pca3_pol_feat, y_train)\n",
    "\n",
    "# Processando o conjunto de testes:\n",
    "# Note que não fazemos fit no teste\n",
    "X_test_pca3_pol_feat = pol_feat.transform(X_test_pca3)\n",
    "\n"
   ]
  },
  {
   "cell_type": "markdown",
   "id": "9ef47578",
   "metadata": {
    "id": "ghAgWHEgTCb3",
    "papermill": {
     "duration": 0.005676,
     "end_time": "2022-10-01T12:03:14.166732",
     "exception": false,
     "start_time": "2022-10-01T12:03:14.161056",
     "status": "completed"
    },
    "tags": []
   },
   "source": [
    "### **Questão 8**\n",
    "#Calcule o erro cometido pela aproximação no item anterior usando as seguintes métricas: R2, MSE e MAE. "
   ]
  },
  {
   "cell_type": "code",
   "execution_count": 9,
   "id": "d99be704",
   "metadata": {
    "execution": {
     "iopub.execute_input": "2022-10-01T12:03:14.181202Z",
     "iopub.status.busy": "2022-10-01T12:03:14.180699Z",
     "iopub.status.idle": "2022-10-01T12:03:14.193299Z",
     "shell.execute_reply": "2022-10-01T12:03:14.191625Z"
    },
    "id": "KnypkkaGVcHA",
    "outputId": "fbdcde42-ece0-45e8-bc2f-118015adc5b0",
    "papermill": {
     "duration": 0.023436,
     "end_time": "2022-10-01T12:03:14.196133",
     "exception": false,
     "start_time": "2022-10-01T12:03:14.172697",
     "status": "completed"
    },
    "tags": []
   },
   "outputs": [
    {
     "name": "stdout",
     "output_type": "stream",
     "text": [
      "R2 treino: 0.695629\n",
      "MSE treino: 25.561199\n",
      "MAE treino: 3.356682\n",
      "\n",
      "R2 teste: 0.689212\n",
      "MSE teste: 26.771377\n",
      "MAE teste: 3.671123\n"
     ]
    }
   ],
   "source": [
    "# Extraindo as métricas para treino:\n",
    "y_pred_train_pca3_pol_feat = clf_pca_3_pol.predict(X_train_pca3_pol_feat)\n",
    "metrics_train = gen_metrics(y_train, y_pred_train_pca3_pol_feat)\n",
    "print(\"R2 treino: %.6f\" % metrics_train[\"r2\"])\n",
    "print(\"MSE treino: %.6f\" % metrics_train[\"mse\"])\n",
    "print(\"MAE treino: %.6f\\n\" % metrics_train[\"mae\"])\n",
    "\n",
    "# Extraindo as métricas para teste:\n",
    "y_pred_test_pca3_pol_feat = clf_pca_3_pol.predict(X_test_pca3_pol_feat)\n",
    "metrics_test = gen_metrics(y_test, y_pred_test_pca3_pol_feat)\n",
    "print(\"R2 teste: %.6f\" % metrics_test[\"r2\"])\n",
    "print(\"MSE teste: %.6f\" % metrics_test[\"mse\"])\n",
    "print(\"MAE teste: %.6f\" % metrics_test[\"mae\"])\n",
    "\n",
    "# Adicionando resultados na estrutura de dicionario:\n",
    "resultados[\"Reg. quadratica com dim=3\"] = {\n",
    "    \"treino\" : metrics_train,\n",
    "    \"teste\" : metrics_test\n",
    "    }"
   ]
  },
  {
   "cell_type": "markdown",
   "id": "33fe451c",
   "metadata": {
    "id": "xCUcRavCfrkm",
    "papermill": {
     "duration": 0.005793,
     "end_time": "2022-10-01T12:03:14.208152",
     "exception": false,
     "start_time": "2022-10-01T12:03:14.202359",
     "status": "completed"
    },
    "tags": []
   },
   "source": [
    "\n",
    "\n",
    "### **Questão 9**\n",
    "\n",
    "#Faça regressão no conjunto de **dimensão 4** utilizando uma função polinomial quadrática.\n"
   ]
  },
  {
   "cell_type": "code",
   "execution_count": 10,
   "id": "26b9eaba",
   "metadata": {
    "execution": {
     "iopub.execute_input": "2022-10-01T12:03:14.223128Z",
     "iopub.status.busy": "2022-10-01T12:03:14.222422Z",
     "iopub.status.idle": "2022-10-01T12:03:14.231541Z",
     "shell.execute_reply": "2022-10-01T12:03:14.230289Z"
    },
    "id": "6TsdCVOVf8J_",
    "papermill": {
     "duration": 0.020083,
     "end_time": "2022-10-01T12:03:14.234346",
     "exception": false,
     "start_time": "2022-10-01T12:03:14.214263",
     "status": "completed"
    },
    "tags": []
   },
   "outputs": [],
   "source": [
    "# Preparando os dados com o PolynomialFeatures:\n",
    "pol_feat2 = PolynomialFeatures(degree=2, include_bias=False)\n",
    "pol_feat2.fit(X_train_pca4)\n",
    "X_train_pca4_pol_feat = pol_feat2.transform(X_train_pca4)\n",
    "\n",
    "# Treinando o regressor\n",
    "clf_pca_4_pol = LinearRegression()\n",
    "clf_pca_4_pol.fit(X_train_pca4_pol_feat, y_train)\n",
    "\n",
    "# Processando o conjunto de testes:\n",
    "# Note que não fazemos fit no teste\n",
    "X_test_pca4_pol_feat = pol_feat2.transform(X_test_pca4)\n",
    "\n"
   ]
  },
  {
   "cell_type": "markdown",
   "id": "e96b1a90",
   "metadata": {
    "id": "q0WZIZUFTP4W",
    "papermill": {
     "duration": 0.006002,
     "end_time": "2022-10-01T12:03:14.247285",
     "exception": false,
     "start_time": "2022-10-01T12:03:14.241283",
     "status": "completed"
    },
    "tags": []
   },
   "source": [
    "### **Questão 10**\n",
    "#Calcule o erro cometido usando as seguintes métricas: R2, MSE e MAE na aproximação obtida na questão anterior e compare todos os resultados obtidos nas 4 aproximações."
   ]
  },
  {
   "cell_type": "code",
   "execution_count": 11,
   "id": "da571eb9",
   "metadata": {
    "execution": {
     "iopub.execute_input": "2022-10-01T12:03:14.261355Z",
     "iopub.status.busy": "2022-10-01T12:03:14.260965Z",
     "iopub.status.idle": "2022-10-01T12:03:14.275278Z",
     "shell.execute_reply": "2022-10-01T12:03:14.273757Z"
    },
    "id": "NUX4t5tzwO7h",
    "outputId": "6f517874-feab-4ab4-9451-4822574cc69f",
    "papermill": {
     "duration": 0.024888,
     "end_time": "2022-10-01T12:03:14.278349",
     "exception": false,
     "start_time": "2022-10-01T12:03:14.253461",
     "status": "completed"
    },
    "tags": []
   },
   "outputs": [
    {
     "name": "stdout",
     "output_type": "stream",
     "text": [
      "R2 treino: 0.768771\n",
      "MSE treino: 19.418737\n",
      "MAE treino: 2.805199\n",
      "R2 teste: 0.674413\n",
      "MSE teste: 28.046150\n",
      "MAE teste: 3.481112\n",
      "Reg. Linear com dim=3\n",
      "\t Treino:\n",
      "\t\t Score R2: 0.628205\n",
      "\t\t MSE: 31.223495\n",
      "\t\t MAE: 3.820341\n",
      "\t Teste:\n",
      "\t\t Score R2: 0.645593\n",
      "\t\t MSE: 30.528711\n",
      "\t\t MAE: 4.051632\n",
      "Reg. Linear com dim=4\n",
      "\t Treino:\n",
      "\t\t Score R2: 0.669144\n",
      "\t\t MSE: 27.785390\n",
      "\t\t MAE: 3.489937\n",
      "\t Teste:\n",
      "\t\t Score R2: 0.705940\n",
      "\t\t MSE: 25.330419\n",
      "\t\t MAE: 3.764221\n",
      "Reg. quadratica com dim=3\n",
      "\t Treino:\n",
      "\t\t Score R2: 0.695629\n",
      "\t\t MSE: 25.561199\n",
      "\t\t MAE: 3.356682\n",
      "\t Teste:\n",
      "\t\t Score R2: 0.689212\n",
      "\t\t MSE: 26.771377\n",
      "\t\t MAE: 3.671123\n",
      "Reg. quadratica com dim=4\n",
      "\t Treino:\n",
      "\t\t Score R2: 0.768771\n",
      "\t\t MSE: 19.418737\n",
      "\t\t MAE: 2.805199\n",
      "\t Teste:\n",
      "\t\t Score R2: 0.674413\n",
      "\t\t MSE: 28.046150\n",
      "\t\t MAE: 3.481112\n"
     ]
    }
   ],
   "source": [
    "# Extraindo as métricas para treino:\n",
    "y_pred_train_pca4_pol_feat = clf_pca_4_pol.predict(X_train_pca4_pol_feat)\n",
    "metrics_train = gen_metrics(y_train, y_pred_train_pca4_pol_feat)\n",
    "print(\"R2 treino: %.6f\" % metrics_train[\"r2\"])\n",
    "print(\"MSE treino: %.6f\" % metrics_train[\"mse\"])\n",
    "print(\"MAE treino: %.6f\" % metrics_train[\"mae\"])\n",
    "\n",
    "# Extraindo as métricas para teste:\n",
    "y_pred_test_pca4_pol_feat = clf_pca_4_pol.predict(X_test_pca4_pol_feat)\n",
    "metrics_test = gen_metrics(y_test, y_pred_test_pca4_pol_feat)\n",
    "print(\"R2 teste: %.6f\" % metrics_test[\"r2\"])\n",
    "print(\"MSE teste: %.6f\" % metrics_test[\"mse\"])\n",
    "print(\"MAE teste: %.6f\" % metrics_test[\"mae\"])\n",
    "\n",
    "# Adicionando resultados na estrutura de dicionario:\n",
    "resultados[\"Reg. quadratica com dim=4\"] = {\n",
    "    \"treino\" : metrics_train,\n",
    "    \"teste\" : metrics_test\n",
    "    }\n",
    "\n",
    "# Comparando resultados:\n",
    "for experimento in resultados:\n",
    "  print(experimento)\n",
    "  print(\"\\t Treino:\")\n",
    "  print(\"\\t\\t Score R2: %.6f\" % resultados[experimento][\"treino\"][\"r2\"])\n",
    "  print(\"\\t\\t MSE: %.6f\" % resultados[experimento][\"treino\"][\"mse\"])\n",
    "  print(\"\\t\\t MAE: %.6f\" % resultados[experimento][\"treino\"][\"mae\"])  \n",
    "  print(\"\\t Teste:\")\n",
    "  print(\"\\t\\t Score R2: %.6f\" % resultados[experimento][\"teste\"][\"r2\"])\n",
    "  print(\"\\t\\t MSE: %.6f\" % resultados[experimento][\"teste\"][\"mse\"])\n",
    "  print(\"\\t\\t MAE: %.6f\" % resultados[experimento][\"teste\"][\"mae\"])  "
   ]
  },
  {
   "cell_type": "markdown",
   "id": "9ad37724",
   "metadata": {
    "id": "KEp3QdzPaosv",
    "papermill": {
     "duration": 0.00653,
     "end_time": "2022-10-01T12:03:14.291664",
     "exception": false,
     "start_time": "2022-10-01T12:03:14.285134",
     "status": "completed"
    },
    "tags": []
   },
   "source": [
    "### Conclusão:\n",
    "\n",
    "Podemos notar que, ao aumentar a complexidade da função que usamos para fazer o fit dos dados (de linear para quadratica), o desempenho no conjunto de treino aumenta. Isso porque o regressor tem mais capacidade de se ajustar ao conjunto de treino.\n",
    "\n",
    "Entretanto, isso nem sempre se traduz em uma melhora do desempenho no conjunto de teste. Note que ao aplicarmos a regressão quadratica no conjunto de dimensionalidade 4, embora o score no conjunto de treino tenha sido mais alto que no caso linear, reduzimos o score no conjunto de teste. Ou seja, embora o regressor tenha obtido um score melhor no conjunto de treino, ele **perdeu capacidade de generalização**, apresentando um menor score no conjunto de teste."
   ]
  }
 ],
 "metadata": {
  "kernelspec": {
   "display_name": "Python 3",
   "language": "python",
   "name": "python3"
  },
  "language_info": {
   "codemirror_mode": {
    "name": "ipython",
    "version": 3
   },
   "file_extension": ".py",
   "mimetype": "text/x-python",
   "name": "python",
   "nbconvert_exporter": "python",
   "pygments_lexer": "ipython3",
   "version": "3.7.12"
  },
  "papermill": {
   "default_parameters": {},
   "duration": 12.175115,
   "end_time": "2022-10-01T12:03:15.121063",
   "environment_variables": {},
   "exception": null,
   "input_path": "__notebook__.ipynb",
   "output_path": "__notebook__.ipynb",
   "parameters": {},
   "start_time": "2022-10-01T12:03:02.945948",
   "version": "2.3.4"
  }
 },
 "nbformat": 4,
 "nbformat_minor": 5
}
