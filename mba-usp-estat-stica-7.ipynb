{
 "cells": [
  {
   "cell_type": "markdown",
   "id": "271f50cb",
   "metadata": {
    "id": "RkIwq4lllfuU",
    "papermill": {
     "duration": 0.010305,
     "end_time": "2022-11-23T12:06:56.789306",
     "exception": false,
     "start_time": "2022-11-23T12:06:56.779001",
     "status": "completed"
    },
    "tags": []
   },
   "source": [
    "**MBA Inteligência Artificial e Big Data - ICMC USP**\n",
    "\n",
    "CURSO 5: Estatística na Ciência da Computação Experimental em R\n",
    "\n",
    "Jorge Luis Bazán - Mariana Curi"
   ]
  },
  {
   "cell_type": "markdown",
   "id": "61e8affe",
   "metadata": {
    "id": "zGFn2U0XlfuY",
    "papermill": {
     "duration": 0.008843,
     "end_time": "2022-11-23T12:06:56.806984",
     "exception": false,
     "start_time": "2022-11-23T12:06:56.798141",
     "status": "completed"
    },
    "tags": []
   },
   "source": [
    "- Testes Não Paramétricos"
   ]
  },
  {
   "cell_type": "markdown",
   "id": "aaedc12f",
   "metadata": {
    "id": "aEc1oTiSlfuY",
    "papermill": {
     "duration": 0.010304,
     "end_time": "2022-11-23T12:06:56.825909",
     "exception": false,
     "start_time": "2022-11-23T12:06:56.815605",
     "status": "completed"
    },
    "tags": []
   },
   "source": [
    "# Classificação dos Testes Não paramétricos"
   ]
  },
  {
   "cell_type": "markdown",
   "id": "f53bf884",
   "metadata": {
    "id": "SpDzEoXUlfuZ",
    "papermill": {
     "duration": 0.00879,
     "end_time": "2022-11-23T12:06:56.843300",
     "exception": false,
     "start_time": "2022-11-23T12:06:56.834510",
     "status": "completed"
    },
    "tags": []
   },
   "source": [
    "\n",
    "Iremos a apresentar vários exemplos de testes Não paramétricos\n",
    "alternativos aos Testes paramétricos que respondem aos principais problemas de testes de hipóteses:\n",
    "\n",
    "- Problema de correlação (testar se duas variáveis estão relacionadas ou não)\n",
    "- Problema de dua amostras pareadas (testar se há diferenças em duas variáveis aplicadas ao mesmo grupo)\n",
    "- Problema de duas amostras independentes (testar se há diferenças em uma variável aplicada a dois grupos independentes)\n",
    "- Problema de k amostras independentes (testar se há diferenças em uma variável aplicada em mais de dois grupos independentes)\n"
   ]
  },
  {
   "cell_type": "markdown",
   "id": "8160b0a8",
   "metadata": {
    "id": "Qecjm_LMlfuZ",
    "papermill": {
     "duration": 0.008904,
     "end_time": "2022-11-23T12:06:56.860976",
     "exception": false,
     "start_time": "2022-11-23T12:06:56.852072",
     "status": "completed"
    },
    "tags": []
   },
   "source": [
    "# Problema de correlação: Amostras relacionadas (variáveis de intervalo)"
   ]
  },
  {
   "cell_type": "markdown",
   "id": "4b1ff337",
   "metadata": {
    "id": "aTG_hXnklfuZ",
    "papermill": {
     "duration": 0.008944,
     "end_time": "2022-11-23T12:06:56.878562",
     "exception": false,
     "start_time": "2022-11-23T12:06:56.869618",
     "status": "completed"
    },
    "tags": []
   },
   "source": [
    "### Exemplo: Tempos computacionais (Projeto 1)"
   ]
  },
  {
   "cell_type": "markdown",
   "id": "cf1a63b6",
   "metadata": {
    "id": "sKcVhZ7Wlfua",
    "papermill": {
     "duration": 0.009147,
     "end_time": "2022-11-23T12:06:56.896346",
     "exception": false,
     "start_time": "2022-11-23T12:06:56.887199",
     "status": "completed"
    },
    "tags": []
   },
   "source": [
    "Considerando os dados do Projeto 1 acerca dos tempos de processamento para três tarefas de análise de dados, temos interesse em conhecer se existe correlação entre os tempos computacionais ao executar as diferentes tarefas.\n",
    "\n"
   ]
  },
  {
   "cell_type": "markdown",
   "id": "f0927a5f",
   "metadata": {
    "id": "egiUGNEMlfub",
    "papermill": {
     "duration": 0.008891,
     "end_time": "2022-11-23T12:06:56.913858",
     "exception": false,
     "start_time": "2022-11-23T12:06:56.904967",
     "status": "completed"
    },
    "tags": []
   },
   "source": [
    "## Correlação de Spearman"
   ]
  },
  {
   "cell_type": "code",
   "execution_count": 1,
   "id": "97508b9f",
   "metadata": {
    "execution": {
     "iopub.execute_input": "2022-11-23T12:06:56.934260Z",
     "iopub.status.busy": "2022-11-23T12:06:56.933327Z",
     "iopub.status.idle": "2022-11-23T12:06:57.593627Z",
     "shell.execute_reply": "2022-11-23T12:06:57.592129Z"
    },
    "id": "ICN1Z1P6lfuc",
    "outputId": "45de897b-0610-4f39-b01f-9515ababcfc1",
    "papermill": {
     "duration": 0.673187,
     "end_time": "2022-11-23T12:06:57.595763",
     "exception": true,
     "start_time": "2022-11-23T12:06:56.922576",
     "status": "failed"
    },
    "tags": []
   },
   "outputs": [
    {
     "ename": "ModuleNotFoundError",
     "evalue": "No module named 'pandas'",
     "output_type": "error",
     "traceback": [
      "\u001b[0;31m---------------------------------------------------------------------------\u001b[0m",
      "\u001b[0;31mModuleNotFoundError\u001b[0m                       Traceback (most recent call last)",
      "Cell \u001b[0;32mIn [1], line 1\u001b[0m\n\u001b[0;32m----> 1\u001b[0m \u001b[38;5;28;01mimport\u001b[39;00m \u001b[38;5;21;01mpandas\u001b[39;00m \u001b[38;5;28;01mas\u001b[39;00m \u001b[38;5;21;01mpd\u001b[39;00m\n\u001b[1;32m      2\u001b[0m projeto1 \u001b[38;5;241m=\u001b[39m pd\u001b[38;5;241m.\u001b[39mread_csv(\u001b[38;5;124m\"\u001b[39m\u001b[38;5;124mprojeto1.csv\u001b[39m\u001b[38;5;124m\"\u001b[39m)\n\u001b[1;32m      3\u001b[0m \u001b[38;5;28mprint\u001b[39m(projeto1\u001b[38;5;241m.\u001b[39mhead(\u001b[38;5;241m5\u001b[39m))\n",
      "\u001b[0;31mModuleNotFoundError\u001b[0m: No module named 'pandas'"
     ]
    }
   ],
   "source": [
    "import pandas as pd\n",
    "projeto1 = pd.read_csv(\"projeto1.csv\")\n",
    "print(projeto1.head(5))\n",
    "import pandas as pd\n",
    "tempos = pd.DataFrame({\"Tempo A\": projeto1['tA'], \"Tempo B\": projeto1['tB'],\"Tempo C\": projeto1['tC']})"
   ]
  },
  {
   "cell_type": "code",
   "execution_count": null,
   "id": "4d1d6735",
   "metadata": {
    "id": "1t_lizYelfud",
    "outputId": "0a9d16ca-1b4d-4456-b156-a60b477713fd",
    "papermill": {
     "duration": null,
     "end_time": null,
     "exception": null,
     "start_time": null,
     "status": "pending"
    },
    "tags": []
   },
   "outputs": [],
   "source": [
    "from scipy import stats\n",
    "rho, pval = stats.spearmanr(tempos)\n",
    "print('Matriz de correlações de Spearmam')\n",
    "print(rho)\n",
    "print('Matriz de valores p')\n",
    "print(pval)"
   ]
  },
  {
   "cell_type": "markdown",
   "id": "6f98ef0e",
   "metadata": {
    "id": "LaLcZyxNlfue",
    "papermill": {
     "duration": null,
     "end_time": null,
     "exception": null,
     "start_time": null,
     "status": "pending"
    },
    "tags": []
   },
   "source": [
    "A matriz acima mostra as correlações entre cada para de tempos de procesamento e os valores p correspondentes. Considerando os valores p correspondentes temos que valor-p (tA,tB)=$6.69x10^{-7}$, valor-p (tA,tC)=$0.04$, e valor-p (tB,tC)=$0.35$ com valores menores que $\\alpha = 0, 005$ nos dois primeiros casos.\n",
    "Assim, encontramos correlação negativa e significativa entre $tA$ e $tB$ e correlação positiva e significativa entre $tA$ e $tC$.\n",
    "\n"
   ]
  },
  {
   "cell_type": "markdown",
   "id": "6559abcd",
   "metadata": {
    "id": "XewvEhVnlfue",
    "papermill": {
     "duration": null,
     "end_time": null,
     "exception": null,
     "start_time": null,
     "status": "pending"
    },
    "tags": []
   },
   "source": [
    "## Correlação de Kendall"
   ]
  },
  {
   "cell_type": "code",
   "execution_count": null,
   "id": "b318525f",
   "metadata": {
    "id": "QYrfxUL2lfuf",
    "outputId": "089ab3b3-15ee-4a81-bb9f-04203e8c71fa",
    "papermill": {
     "duration": null,
     "end_time": null,
     "exception": null,
     "start_time": null,
     "status": "pending"
    },
    "tags": []
   },
   "outputs": [],
   "source": [
    "from scipy import stats\n",
    "print('Correlação Tau de Kendall tA vs tB')\n",
    "k1=stats.kendalltau(projeto1['tA'], projeto1['tB'])\n",
    "print('Estatística=%.3f, valor p=%.3f' % (k1.correlation, k1.pvalue))\n",
    "print('Correlação Tau de Kendall tA vs tC')\n",
    "k2=stats.kendalltau(projeto1['tA'], projeto1['tC'])\n",
    "print('Estatística=%.3f, valor p=%.3f' % (k2.correlation, k2.pvalue))\n",
    "print('Correlação Tau de Kendall tB vs tC')\n",
    "k3=stats.kendalltau(projeto1['tB'], projeto1['tC'])\n",
    "print('Estatística=%.3f, valor p=%.3f' % (k3.correlation, k3.pvalue))\n"
   ]
  },
  {
   "cell_type": "markdown",
   "id": "daced49c",
   "metadata": {
    "id": "GPuDxzb4lfuf",
    "papermill": {
     "duration": null,
     "end_time": null,
     "exception": null,
     "start_time": null,
     "status": "pending"
    },
    "tags": []
   },
   "source": [
    "A matriz acima mostra as correlações entre cada para de tempos de procesamento e os valores p correspondentes. Considerando os valores p correspondentes temos que valor-p (tA,tB)=$0$, valor-p (tA,tC)=$0,114$, e valor-p (tB,tC)=$0,488$. Assim, considerando $\\alpha=0,05$, então rejeitamos a hipótese nula que as correlações é zero para os tempos A e tempo B. Nos outros casos não foi detetada a correlação.\n",
    "As possiveis diferencias encontradas entre a correlação de spearman e a correlação de Kendall é que de fato a correlação de Kendal está avaliando dependencia e não somente associação, sendo de esta forma mais riguroso. Usando Python, a correlação de Kendal somente pode ser calculada par a par."
   ]
  },
  {
   "cell_type": "markdown",
   "id": "4e8e8b78",
   "metadata": {
    "id": "197Ou79olfuf",
    "papermill": {
     "duration": null,
     "end_time": null,
     "exception": null,
     "start_time": null,
     "status": "pending"
    },
    "tags": []
   },
   "source": [
    "# O Problema de Amostras pareadas"
   ]
  },
  {
   "cell_type": "markdown",
   "id": "3245b1e9",
   "metadata": {
    "id": "mP2VzuI2lfuf",
    "papermill": {
     "duration": null,
     "end_time": null,
     "exception": null,
     "start_time": null,
     "status": "pending"
    },
    "tags": []
   },
   "source": [
    "## Duas amostras pareadas  (variáveis intervalo) (Teste Wilcoxon Pareado)"
   ]
  },
  {
   "cell_type": "markdown",
   "id": "e91f320e",
   "metadata": {
    "id": "1kGZNReXlfug",
    "papermill": {
     "duration": null,
     "end_time": null,
     "exception": null,
     "start_time": null,
     "status": "pending"
    },
    "tags": []
   },
   "source": [
    "### Exemplo: Liberação de memória livre no R"
   ]
  },
  {
   "cell_type": "markdown",
   "id": "844b269b",
   "metadata": {
    "id": "yQPoIqHDlfug",
    "papermill": {
     "duration": null,
     "end_time": null,
     "exception": null,
     "start_time": null,
     "status": "pending"
    },
    "tags": []
   },
   "source": [
    "Gostariamos de testar se o processamento de dados usando um algoritmo no R melhor com o Incremento de memória livre. Para isso foram testadas 10 bases de dados antes e após a liveração de memória temporal. \n",
    "\n",
    "- $H_0:$ não existe diferença com relação ao tempo de processamento antes e após o uso Incremento de memória livre no R.\n",
    "- $H_1:$ existe diferença com relação ao tempo de processamento antes e após o uso Incremento de memória livre no R."
   ]
  },
  {
   "cell_type": "code",
   "execution_count": null,
   "id": "4ba7ceb5",
   "metadata": {
    "id": "8d2QEA_Ulfug",
    "outputId": "1ff600c4-cf64-4677-8f21-f031df1d873c",
    "papermill": {
     "duration": null,
     "end_time": null,
     "exception": null,
     "start_time": null,
     "status": "pending"
    },
    "tags": []
   },
   "outputs": [],
   "source": [
    "import pandas as pd\n",
    "antes=[392.9, 393.2, 345.1, 393, 434, 427.9, 422, 383.9, 392.3, 352.2]\n",
    "apos=[200.1, 190.9, 192.7, 213, 241.4, 196.9, 172.2, 185.5, 205.2, 193.7]\n",
    "from scipy.stats import wilcoxon\n",
    "# compare samples\n",
    "stat, p = wilcoxon(antes, apos)\n",
    "print('Statistics=%.3f, p=%.3f' % (stat, p))\n",
    "# interpret\n",
    "alpha = 0.05\n",
    "if p > alpha:\n",
    "\tprint('A mesma distribuição (não rejeitamos H0)')\n",
    "else:\n",
    "\tprint('existe diferença com relação ao tempo de processamento antes e após o uso Incremento de memória livre no R.  (rejeitamos H0)')\n"
   ]
  },
  {
   "cell_type": "markdown",
   "id": "ec21bc83",
   "metadata": {
    "id": "GMMR0rZhlfuh",
    "papermill": {
     "duration": null,
     "end_time": null,
     "exception": null,
     "start_time": null,
     "status": "pending"
    },
    "tags": []
   },
   "source": [
    "Como  valor p= 0,002 é menor que $\\alpha=0.005$ rejeitamos Ho e concluimos que há diferências entre o tempo antes e o tempo após a liberação da memória livre. "
   ]
  },
  {
   "cell_type": "markdown",
   "id": "105792c9",
   "metadata": {
    "id": "8Q1jyEj1lfuh",
    "papermill": {
     "duration": null,
     "end_time": null,
     "exception": null,
     "start_time": null,
     "status": "pending"
    },
    "tags": []
   },
   "source": [
    "## Duas amostras pareadas (variáveis ordinais) (Teste McNemar)"
   ]
  },
  {
   "cell_type": "markdown",
   "id": "afaf0a2d",
   "metadata": {
    "id": "cQdiUR3Mlfuh",
    "papermill": {
     "duration": null,
     "end_time": null,
     "exception": null,
     "start_time": null,
     "status": "pending"
    },
    "tags": []
   },
   "source": [
    "### Exemplo: Classificador"
   ]
  },
  {
   "cell_type": "markdown",
   "id": "262acfc4",
   "metadata": {
    "id": "CxGVVNtglfuh",
    "papermill": {
     "duration": null,
     "end_time": null,
     "exception": null,
     "start_time": null,
     "status": "pending"
    },
    "tags": []
   },
   "source": [
    "A seguinte tabela mostra os resultados de um classificador onde os dados \"Antes\" correspondem a distribuição nas categorias A e B nos dados observados. A distribuição \"após\" corresponde a classificação obtida ou previsão usando uma amostra de teste. Os resultados são os seguintes.\n",
    "Estamos interessados nas seguintes hipóteses:\n",
    "\n",
    "- $H_0:$ não existe diferença com relação à categoria A antes e após o uso do classificador.\n",
    "- $H_1:$ existe diferença com relação à categoria A antes e após do uso do classificador."
   ]
  },
  {
   "cell_type": "code",
   "execution_count": null,
   "id": "2dbff007",
   "metadata": {
    "id": "dA0YI4KQlfuh",
    "outputId": "27bdf7ca-5f7e-48ea-9dc1-f2da72769cd5",
    "papermill": {
     "duration": null,
     "end_time": null,
     "exception": null,
     "start_time": null,
     "status": "pending"
    },
    "tags": []
   },
   "outputs": [],
   "source": [
    "from statsmodels.stats.contingency_tables import mcnemar\n",
    "classificador = [[67, 33],\n",
    "\t\t [20, 30]]\n",
    "result = mcnemar(classificador, exact=False,correction=False)\n",
    "# resumo\n",
    "print('Teste McNemar')\n",
    "print('Estatística=%.3f, valor p=%.3f' % (result.statistic, result.pvalue))\n",
    "# interpretando o valor p\n",
    "alpha = 0.05\n",
    "if result.pvalue > alpha:\n",
    "\tprint('As mesmas proporções (falha para rejeitar H0)')\n",
    "else:\n",
    "\tprint('diferentes proporções (rejeita H0)')"
   ]
  },
  {
   "cell_type": "markdown",
   "id": "8e99b8eb",
   "metadata": {
    "id": "PDRrj975lfui",
    "papermill": {
     "duration": null,
     "end_time": null,
     "exception": null,
     "start_time": null,
     "status": "pending"
    },
    "tags": []
   },
   "source": [
    "Ao nível de 5\\% de significância, temos evidências de não existe diferença com relação à classificação na categoria A antes e após do uso do Classificador. Assim, podemos dizer que o classificador consegue fazer uma boa\n",
    "previsão de classificação de forma similar que os dados observados.\n"
   ]
  },
  {
   "cell_type": "markdown",
   "id": "6aeac0eb",
   "metadata": {
    "id": "bLwugAaolfui",
    "papermill": {
     "duration": null,
     "end_time": null,
     "exception": null,
     "start_time": null,
     "status": "pending"
    },
    "tags": []
   },
   "source": [
    "# O Problema de duas amostras independentes "
   ]
  },
  {
   "cell_type": "markdown",
   "id": "0936a17e",
   "metadata": {
    "id": "Ix8_acQBlfui",
    "papermill": {
     "duration": null,
     "end_time": null,
     "exception": null,
     "start_time": null,
     "status": "pending"
    },
    "tags": []
   },
   "source": [
    "##  Duas amostras independentes (variáveis de intervalo) Teste Wilcoxon-Mann-Whitney"
   ]
  },
  {
   "cell_type": "markdown",
   "id": "a6b85820",
   "metadata": {
    "id": "WHcR05HXlfui",
    "papermill": {
     "duration": null,
     "end_time": null,
     "exception": null,
     "start_time": null,
     "status": "pending"
    },
    "tags": []
   },
   "source": [
    "### Exemplo: Tempo de execução de um teste"
   ]
  },
  {
   "cell_type": "markdown",
   "id": "9e381b51",
   "metadata": {
    "id": "js1VetZSlfui",
    "papermill": {
     "duration": null,
     "end_time": null,
     "exception": null,
     "start_time": null,
     "status": "pending"
    },
    "tags": []
   },
   "source": [
    "O tempo de demora de uma função para  testar uma  hipótese foi registrado usando 10 amostras aleatórias de amostras independentes (A) e 10 amostras pareadas (B). Os tempos de 10 ensaios (em microssegundos) estão apresentadas na tabela a seguir. \n",
    "\n",
    "Verifique se há diferença entre elas ao nível de 5% de significância. Queremos testar\n",
    "\n",
    "- H0: O desempenho do algoritmo é igual na amostra tipo A ou tipo B. As distribuições são similares.\n",
    "- H1: O desempenho do algoritmo na amostra tipo B é melhor do que na amostra tipo A (o tempo de A é maior)."
   ]
  },
  {
   "cell_type": "code",
   "execution_count": null,
   "id": "6d62bdd7",
   "metadata": {
    "id": "4uigSHSslfui",
    "papermill": {
     "duration": null,
     "end_time": null,
     "exception": null,
     "start_time": null,
     "status": "pending"
    },
    "tags": []
   },
   "outputs": [],
   "source": [
    "A= [ 7.49 , 7.35 , 7.54 , 7.48 , 7.48 , 7.37 , 7.51 , 7.50 , 7.52 , 7.56 ]\n",
    "B = [6.28 , 6.65 , 6.52 , 7.50 , 5.38 , 6.48 , 6.31 , 6.22 , 6.41 , 6.45]"
   ]
  },
  {
   "cell_type": "markdown",
   "id": "971ccd20",
   "metadata": {
    "id": "gFdUhPCMlfui",
    "papermill": {
     "duration": null,
     "end_time": null,
     "exception": null,
     "start_time": null,
     "status": "pending"
    },
    "tags": []
   },
   "source": [
    "Teste U de Mann-Whitney "
   ]
  },
  {
   "cell_type": "code",
   "execution_count": null,
   "id": "aa723e89",
   "metadata": {
    "id": "EnX6Po_plfui",
    "outputId": "0ba2e70b-6b72-48d5-c056-3789a1b80dc1",
    "papermill": {
     "duration": null,
     "end_time": null,
     "exception": null,
     "start_time": null,
     "status": "pending"
    },
    "scrolled": true,
    "tags": []
   },
   "outputs": [],
   "source": [
    "from scipy.stats import mannwhitneyu\n",
    "stat, p = mannwhitneyu(A, B,alternative=\"greater\")\n",
    "print('Statistics=%.3f, p=%.3f' % (stat, p))\n",
    "# interpret\n",
    "alpha = 0.05\n",
    "if p > alpha:\n",
    "\tprint('A mesma distribuição (Não rejeita H0)')\n",
    "else:\n",
    "\tprint('Diferente distribuição (rejeita H0)')"
   ]
  },
  {
   "cell_type": "markdown",
   "id": "78b075de",
   "metadata": {
    "id": "cOYqd2cGlfuj",
    "papermill": {
     "duration": null,
     "end_time": null,
     "exception": null,
     "start_time": null,
     "status": "pending"
    },
    "tags": []
   },
   "source": [
    "Como o p-valor é menor que 0.05, rejeitamos a hipótese nula e concluimos que o desempenho do algoritmo na amostra tipo B é melhor do que na amostra tipo A (o tempo de A é maior)."
   ]
  },
  {
   "cell_type": "markdown",
   "id": "85e74e43",
   "metadata": {
    "id": "phRoDlIqlfuj",
    "papermill": {
     "duration": null,
     "end_time": null,
     "exception": null,
     "start_time": null,
     "status": "pending"
    },
    "tags": []
   },
   "source": [
    "### Exemplo: Tempos computacionais de dois métodos (Projeto 1)"
   ]
  },
  {
   "cell_type": "markdown",
   "id": "2fbd5300",
   "metadata": {
    "id": "zTe6Czaflfuj",
    "papermill": {
     "duration": null,
     "end_time": null,
     "exception": null,
     "start_time": null,
     "status": "pending"
    },
    "tags": []
   },
   "source": [
    "No projeto 1, temos dados dos tempos computacionais de uma função no python quando executa duas tarefas de análise de dados.\n",
    "- Tarefa A: Executar uma análise descritiva incluindo elaboração de gráficos\n",
    "- Tarefa B: Estimar um modelo de regressão\n",
    "\n",
    "Foram testadas 50 base de dados de diferente dimensões em forma independente (diferentes tamanhos de amostras) com cada tarefa.\n",
    "\n",
    "Estamos interessados em conhecer se existem diferenças entre os tempos computacionais nas duas tarefas executadas.\n",
    "\n",
    "\n",
    "Verifique se há diferença entre elas ao nível de 5% de significância. Queremos testar\n",
    "\n",
    "- Ho: O tempo computacional é igual ao executar a tarefa A e tarefa B\n",
    "- H1: O tempo computacional é diferente ao executar as tarefas A e B\n"
   ]
  },
  {
   "cell_type": "code",
   "execution_count": null,
   "id": "cc451763",
   "metadata": {
    "id": "aKasHPlklfuj",
    "outputId": "86a7fb3a-5e08-419c-bb57-6f3ce20b2e2d",
    "papermill": {
     "duration": null,
     "end_time": null,
     "exception": null,
     "start_time": null,
     "status": "pending"
    },
    "scrolled": true,
    "tags": []
   },
   "outputs": [],
   "source": [
    "import pandas as pd\n",
    "projeto1=pd.read_csv(\"projeto1.csv\")\n",
    "print(projeto1.head(5))\n"
   ]
  },
  {
   "cell_type": "markdown",
   "id": "22d98274",
   "metadata": {
    "id": "yX1UKC9Qlfuj",
    "papermill": {
     "duration": null,
     "end_time": null,
     "exception": null,
     "start_time": null,
     "status": "pending"
    },
    "tags": []
   },
   "source": [
    "Teste U de Mann-Whitney "
   ]
  },
  {
   "cell_type": "code",
   "execution_count": null,
   "id": "0f55c5c0",
   "metadata": {
    "id": "JBM7wYzmlfuj",
    "outputId": "995ac4cf-225b-415e-fa14-47d7d15bc172",
    "papermill": {
     "duration": null,
     "end_time": null,
     "exception": null,
     "start_time": null,
     "status": "pending"
    },
    "tags": []
   },
   "outputs": [],
   "source": [
    "from scipy.stats import mannwhitneyu\n",
    "stat, p = mannwhitneyu(projeto1['tA'], projeto1['tB'],alternative=\"greater\")\n",
    "print('Estatística=%.3f, valor p=%.3f' % (stat, p))\n",
    "\n",
    "alpha = 0.05\n",
    "if p > alpha:\n",
    "\tprint('A mesma distribuição (não rejeita H0)')\n",
    "else:\n",
    "\tprint('Diferente distribuiçãp (rejeita H0)')"
   ]
  },
  {
   "cell_type": "markdown",
   "id": "23e02187",
   "metadata": {
    "id": "T3fSbljBlfuk",
    "papermill": {
     "duration": null,
     "end_time": null,
     "exception": null,
     "start_time": null,
     "status": "pending"
    },
    "tags": []
   },
   "source": [
    "Rejeitamos Ho e concluimos que os tempos computacionais dos métodos A e B são diferentes."
   ]
  },
  {
   "cell_type": "markdown",
   "id": "40b31229",
   "metadata": {
    "id": "51kKWnBKlfuk",
    "papermill": {
     "duration": null,
     "end_time": null,
     "exception": null,
     "start_time": null,
     "status": "pending"
    },
    "tags": []
   },
   "source": [
    "## Duas Amostras independentes (variáveis nominais) (Qui-quadrado independência)"
   ]
  },
  {
   "cell_type": "markdown",
   "id": "d9aa59eb",
   "metadata": {
    "id": "tl4WDPYalfuk",
    "papermill": {
     "duration": null,
     "end_time": null,
     "exception": null,
     "start_time": null,
     "status": "pending"
    },
    "tags": []
   },
   "source": [
    "### Exemplo: Aplicativos"
   ]
  },
  {
   "cell_type": "markdown",
   "id": "314aac40",
   "metadata": {
    "id": "HLjfFoGNlfuk",
    "papermill": {
     "duration": null,
     "end_time": null,
     "exception": null,
     "start_time": null,
     "status": "pending"
    },
    "tags": []
   },
   "source": [
    "Considere os dados, provenientes de um estudo para avaliar a perfomance de um conjunto de aplicativos, onde foram registrados duas variáveis: visual (bom ou ruim) e rating, isto é se o aplicativo recebeu 4 ou 5 estrelas (bom) ou menos de 4 (ruim). A Tabela mostra os valores observados. Neste caso temos:\n",
    "\n",
    "- $H_0:$ $p_1=p_2$, as proporções são iguais nos dois grupos.Não existe associação entre as dois variáveis.\n",
    "\n",
    "- $H_1:$ $p_1\\neq p_2$, as proporções são diferentes nos dois grupos.existe associação entre as dois variáveis"
   ]
  },
  {
   "cell_type": "code",
   "execution_count": null,
   "id": "a096c2d2",
   "metadata": {
    "id": "ogkGJ8Lqlfuk",
    "outputId": "852f4489-c785-4a43-dc24-630738a4cb56",
    "papermill": {
     "duration": null,
     "end_time": null,
     "exception": null,
     "start_time": null,
     "status": "pending"
    },
    "tags": []
   },
   "outputs": [],
   "source": [
    "from scipy.stats import chi2_contingency \n",
    "aplicativos = [[25, 20],\n",
    "\t\t [30, 55]]\n",
    "tstat_scipy,pval_scipy,ddof_scipy,exp_scipy=chi2_contingency(aplicativos, correction=False) \n",
    "print(\"Qui-quadrado sem correção (Scipy): \" + str(tstat_scipy))\n",
    "print(\"valor p sem correçao(Scipy): \" + str(pval_scipy))"
   ]
  },
  {
   "cell_type": "code",
   "execution_count": null,
   "id": "6089583e",
   "metadata": {
    "id": "IL3TYgEjlfuk",
    "outputId": "922ae9cf-9738-485b-f94b-1bd0b69281db",
    "papermill": {
     "duration": null,
     "end_time": null,
     "exception": null,
     "start_time": null,
     "status": "pending"
    },
    "tags": []
   },
   "outputs": [],
   "source": [
    "from scipy.stats import chi2_contingency \n",
    "\n",
    "tstat_scipy,pval_scipy,ddof_scipy,exp_scipy=chi2_contingency(aplicativos) \n",
    "print(\"Qui-quadrado com correçao(Scipy): \" + str(tstat_scipy))\n",
    "print(\"valor p com correçao(Scipy): \" + str(pval_scipy))"
   ]
  },
  {
   "cell_type": "markdown",
   "id": "c022d31c",
   "metadata": {
    "id": "DvnP2vPrlfuk",
    "papermill": {
     "duration": null,
     "end_time": null,
     "exception": null,
     "start_time": null,
     "status": "pending"
    },
    "tags": []
   },
   "source": [
    "Em ambos casos, executa o teste usando o log da razão de verossimilhança (ou seja, o \"teste G\") em vez da estatística qui-quadrado de Pearson, porém os valores não coincidem exatamente com os reportados no R. \n",
    "Em todos os casos, considerando a estatística, rejeitamos H0\n",
    "e podemos concluir  que existe associação entre o visual e o rating do aplicativo."
   ]
  },
  {
   "cell_type": "markdown",
   "id": "a10f3c28",
   "metadata": {
    "id": "CMJXL7YZlful",
    "papermill": {
     "duration": null,
     "end_time": null,
     "exception": null,
     "start_time": null,
     "status": "pending"
    },
    "tags": []
   },
   "source": [
    "Ao nível de $5\\%$ de significância, temos evidências de não existe diferença com relação à classificação na categoria A antes e após do uso do Classificador. Assim, podemos dizer que o classificador consegue fazer uma boa\n",
    "previsão de classificação de forma similar que os dados observados."
   ]
  },
  {
   "cell_type": "markdown",
   "id": "418e769d",
   "metadata": {
    "id": "8WvaOBoklful",
    "papermill": {
     "duration": null,
     "end_time": null,
     "exception": null,
     "start_time": null,
     "status": "pending"
    },
    "tags": []
   },
   "source": [
    "# O Problema de k amostras independentes (variáveis de intervalo) (Kruskal- Wallis)"
   ]
  },
  {
   "cell_type": "markdown",
   "id": "55ac667e",
   "metadata": {
    "id": "C14ORzV5lful",
    "papermill": {
     "duration": null,
     "end_time": null,
     "exception": null,
     "start_time": null,
     "status": "pending"
    },
    "tags": []
   },
   "source": [
    "No projeto 1, temos dados dos tempos computacionais para executar as tarefas A, B e C com as mesmas condições descritas acima. No total foram testadas 150 bases de dados diferentes, 50 bases de dados equivalentes por cada tarefa. Assim, podemos assumir independência.\n",
    "\n",
    "Estamos interessados em conhecer se existem diferenças entre os tempos computacionais de execução das tarefas.\n",
    "\n",
    "\n",
    "- Ho: O tempo computacional é igual ao executar as tarefas A,  B e C\n",
    "- H1: O tempo computacional é diferente ao executar alguma tarefa\n",
    "\n",
    "\n",
    "Usando o teste de Kruskal-Wallis testemos na hipóteses proposta\n"
   ]
  },
  {
   "cell_type": "code",
   "execution_count": null,
   "id": "abfbaea8",
   "metadata": {
    "id": "Wq3u74cwlful",
    "outputId": "9522ed94-bac3-4a96-8682-eca8cdc0d2c5",
    "papermill": {
     "duration": null,
     "end_time": null,
     "exception": null,
     "start_time": null,
     "status": "pending"
    },
    "tags": []
   },
   "outputs": [],
   "source": [
    "from scipy import stats\n",
    "stat, p=stats.kruskal(projeto1['tA'], projeto1['tB'],projeto1['tC'])\n",
    "print('Estatística=%.3f, valor p=%.3f' % (stat, p))\n",
    "\n"
   ]
  },
  {
   "cell_type": "markdown",
   "id": "e4e6e94e",
   "metadata": {
    "id": "wcA_qGyZlful",
    "papermill": {
     "duration": null,
     "end_time": null,
     "exception": null,
     "start_time": null,
     "status": "pending"
    },
    "tags": []
   },
   "source": [
    "Considerando os resultados concluimos que há diferencias nos tempos computacionais dos três métodos. A seguir, precisamos desenvolver comparações múltiples dos métodos para a par.\n",
    "As comparacoes multiples podem ser feitas usando o teste Dunn usando:"
   ]
  },
  {
   "cell_type": "code",
   "execution_count": null,
   "id": "482d0879",
   "metadata": {
    "id": "yZL7gySblful",
    "outputId": "101ae181-4f8e-4662-c2ab-04370e2d6992",
    "papermill": {
     "duration": null,
     "end_time": null,
     "exception": null,
     "start_time": null,
     "status": "pending"
    },
    "tags": []
   },
   "outputs": [],
   "source": [
    "import pandas as pd\n",
    "tempos=pd.DataFrame({\"a\": projeto1['tA'], \"b\": projeto1['tB'],\"c\": projeto1['tC']})\n",
    "print(\"Tempos das diferentes tarefas: dados formato largo\")\n",
    "print(tempos)\n",
    "x = tempos.melt(var_name='tarefas', value_name='tempos')\n",
    "print(\"Tempos das diferentes tarefas: dados formato longo\")\n",
    "print(x)"
   ]
  },
  {
   "cell_type": "code",
   "execution_count": null,
   "id": "78c85311",
   "metadata": {
    "id": "9CVtBON9lful",
    "papermill": {
     "duration": null,
     "end_time": null,
     "exception": null,
     "start_time": null,
     "status": "pending"
    },
    "tags": []
   },
   "outputs": [],
   "source": [
    "# pip install scikit-posthocs"
   ]
  },
  {
   "cell_type": "code",
   "execution_count": null,
   "id": "54a700f0",
   "metadata": {
    "id": "bZdt0eQClfum",
    "outputId": "2b9a6213-5aa9-495e-a7cb-8b4255bf2848",
    "papermill": {
     "duration": null,
     "end_time": null,
     "exception": null,
     "start_time": null,
     "status": "pending"
    },
    "tags": []
   },
   "outputs": [],
   "source": [
    "import pandas as pd\n",
    "import scikit_posthocs as sp\n",
    "pc=sp.posthoc_dunn(x, val_col='tempos', group_col='tarefas', p_adjust = 'holm')\n",
    "print('Comparações múltiples usando teste Dunn: Estatísticas e valores p')\n",
    "print(pc)\n",
    "\n",
    "heatmap_args = {'linewidths': 0.25, 'linecolor': '0.5', 'clip_on': False, 'square':True, 'cbar_ax_bbox': [0.80, 0.35, 0.04, 0.3]} \n",
    "sp.sign_plot(pc, **heatmap_args)\n",
    "print('Gráfico de comparações múltiples usando teste Dunn')"
   ]
  },
  {
   "cell_type": "markdown",
   "id": "201c83a8",
   "metadata": {
    "id": "C7kDHMDmlfum",
    "papermill": {
     "duration": null,
     "end_time": null,
     "exception": null,
     "start_time": null,
     "status": "pending"
    },
    "tags": []
   },
   "source": [
    "Os resultados das comparações\n",
    "par a par mostram que há diferencias nos tempos computacionais dos diferentes métodos.\n"
   ]
  },
  {
   "cell_type": "markdown",
   "id": "27a32642",
   "metadata": {
    "id": "j2-a4Gq3lfum",
    "papermill": {
     "duration": null,
     "end_time": null,
     "exception": null,
     "start_time": null,
     "status": "pending"
    },
    "tags": []
   },
   "source": [
    "Ao nível de $5\\%$ de significância, temos evidências de não existe diferença com relação à classificação na categoria A antes e após do uso do Classificador. Assim, podemos dizer que o classificador consegue fazer uma boa\n",
    "previsão de classificação de forma similar que os dados observados."
   ]
  },
  {
   "cell_type": "markdown",
   "id": "ce75f661",
   "metadata": {
    "id": "Mzolb10elfum",
    "papermill": {
     "duration": null,
     "end_time": null,
     "exception": null,
     "start_time": null,
     "status": "pending"
    },
    "tags": []
   },
   "source": [
    "# Comentário"
   ]
  },
  {
   "cell_type": "markdown",
   "id": "feb81e9c",
   "metadata": {
    "id": "XwPRnEpmlfum",
    "papermill": {
     "duration": null,
     "end_time": null,
     "exception": null,
     "start_time": null,
     "status": "pending"
    },
    "tags": []
   },
   "source": [
    "\n",
    "Existem mais outros testes não paramétricos. Maiores detalhes em:\n",
    "\n",
    "- Sprent, P.; Smeeton, N.C. (2001).  Applied Nonparametric Statistical Methods. Chapman Hall/CRC\n",
    "- https://machinelearningmastery.com/nonparametric-statistical-significance-tests-in-python/\n",
    "- https://jmyao17.github.io/Statistics/Nonparametric_Statistical_Significance_Tests.html\n"
   ]
  }
 ],
 "metadata": {
  "kernelspec": {
   "display_name": "Python 3",
   "language": "python",
   "name": "python3"
  },
  "language_info": {
   "codemirror_mode": {
    "name": "ipython",
    "version": 3
   },
   "file_extension": ".py",
   "mimetype": "text/x-python",
   "name": "python",
   "nbconvert_exporter": "python",
   "pygments_lexer": "ipython3",
   "version": "3.8.10"
  },
  "papermill": {
   "default_parameters": {},
   "duration": 3.523045,
   "end_time": "2022-11-23T12:06:57.931168",
   "environment_variables": {},
   "exception": true,
   "input_path": "__notebook__.ipynb",
   "output_path": "__notebook__.ipynb",
   "parameters": {},
   "start_time": "2022-11-23T12:06:54.408123",
   "version": "2.4.0"
  }
 },
 "nbformat": 4,
 "nbformat_minor": 5
}
