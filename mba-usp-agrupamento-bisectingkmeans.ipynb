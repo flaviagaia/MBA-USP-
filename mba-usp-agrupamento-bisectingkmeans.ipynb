{
 "cells": [
  {
   "cell_type": "code",
   "execution_count": 1,
   "id": "1a6b7944",
   "metadata": {
    "execution": {
     "iopub.execute_input": "2022-10-11T12:28:48.979084Z",
     "iopub.status.busy": "2022-10-11T12:28:48.977670Z",
     "iopub.status.idle": "2022-10-11T12:28:49.055145Z",
     "shell.execute_reply": "2022-10-11T12:28:49.053701Z"
    },
    "papermill": {
     "duration": 0.08467,
     "end_time": "2022-10-11T12:28:49.057333",
     "exception": true,
     "start_time": "2022-10-11T12:28:48.972663",
     "status": "failed"
    },
    "tags": []
   },
   "outputs": [
    {
     "ename": "ModuleNotFoundError",
     "evalue": "No module named 'findspark'",
     "output_type": "error",
     "traceback": [
      "\u001b[0;31m---------------------------------------------------------------------------\u001b[0m",
      "\u001b[0;31mModuleNotFoundError\u001b[0m                       Traceback (most recent call last)",
      "\u001b[0;32m/tmp/ipykernel_19/1796740182.py\u001b[0m in \u001b[0;36m<module>\u001b[0;34m\u001b[0m\n\u001b[0;32m----> 1\u001b[0;31m \u001b[0;32mimport\u001b[0m \u001b[0mfindspark\u001b[0m\u001b[0;34m\u001b[0m\u001b[0;34m\u001b[0m\u001b[0m\n\u001b[0m\u001b[1;32m      2\u001b[0m \u001b[0;34m\u001b[0m\u001b[0m\n\u001b[1;32m      3\u001b[0m \u001b[0mfindspark\u001b[0m\u001b[0;34m.\u001b[0m\u001b[0minit\u001b[0m\u001b[0;34m(\u001b[0m\u001b[0;34m)\u001b[0m\u001b[0;34m\u001b[0m\u001b[0;34m\u001b[0m\u001b[0m\n",
      "\u001b[0;31mModuleNotFoundError\u001b[0m: No module named 'findspark'"
     ]
    }
   ],
   "source": [
    "import findspark\n",
    "\n",
    "findspark.init()"
   ]
  },
  {
   "cell_type": "code",
   "execution_count": null,
   "id": "31b77427",
   "metadata": {
    "papermill": {
     "duration": null,
     "end_time": null,
     "exception": null,
     "start_time": null,
     "status": "pending"
    },
    "tags": []
   },
   "outputs": [],
   "source": [
    "import pyspark\n",
    "\n",
    "from pyspark.sql import SparkSession\n",
    "\n",
    "spark = SparkSession.builder.getOrCreate()"
   ]
  },
  {
   "cell_type": "code",
   "execution_count": null,
   "id": "af33cbc4",
   "metadata": {
    "papermill": {
     "duration": null,
     "end_time": null,
     "exception": null,
     "start_time": null,
     "status": "pending"
    },
    "tags": []
   },
   "outputs": [],
   "source": [
    "from pyspark.ml.clustering import BisectingKMeans\n",
    "from pyspark.ml.evaluation import ClusteringEvaluator\n",
    "\n",
    "# Loads data.\n",
    "#dataset = spark.read.format(\"libsvm\").load(\"iris.txt\")\n",
    "dataset = spark.read.format(\"libsvm\").load(\"letter.txt\")"
   ]
  },
  {
   "cell_type": "code",
   "execution_count": null,
   "id": "3156f0bf",
   "metadata": {
    "papermill": {
     "duration": null,
     "end_time": null,
     "exception": null,
     "start_time": null,
     "status": "pending"
    },
    "tags": []
   },
   "outputs": [],
   "source": [
    "bestSilhouette = -1\n",
    "bestK = 2\n",
    "for k in range(2,51):\n",
    "    # Trains a bisecting k-means model.\n",
    "    bkm = BisectingKMeans().setK(k).setSeed(1)\n",
    "    model = bkm.fit(dataset)\n",
    "\n",
    "    # Make predictions\n",
    "    predictions = model.transform(dataset)\n",
    "\n",
    "    # Evaluate clustering by computing Silhouette score\n",
    "    evaluator = ClusteringEvaluator()\n",
    "\n",
    "    silhouette = evaluator.evaluate(predictions)\n",
    "    \n",
    "    if silhouette > bestSilhouette:\n",
    "        bestSilhouette = silhouette\n",
    "        bestK = k\n",
    "        \n",
    "print(\"Best silhouette with squared euclidean distance = \" + str(bestSilhouette) + \" obtained with k = \" + str(bestK))"
   ]
  },
  {
   "cell_type": "code",
   "execution_count": null,
   "id": "b32c6291",
   "metadata": {
    "papermill": {
     "duration": null,
     "end_time": null,
     "exception": null,
     "start_time": null,
     "status": "pending"
    },
    "tags": []
   },
   "outputs": [],
   "source": [
    "predictions.show(predictions.count(), truncate=50)"
   ]
  }
 ],
 "metadata": {
  "kernelspec": {
   "display_name": "Python 3",
   "language": "python",
   "name": "python3"
  },
  "language_info": {
   "codemirror_mode": {
    "name": "ipython",
    "version": 3
   },
   "file_extension": ".py",
   "mimetype": "text/x-python",
   "name": "python",
   "nbconvert_exporter": "python",
   "pygments_lexer": "ipython3",
   "version": "3.7.12"
  },
  "papermill": {
   "default_parameters": {},
   "duration": 11.008107,
   "end_time": "2022-10-11T12:28:49.787846",
   "environment_variables": {},
   "exception": true,
   "input_path": "__notebook__.ipynb",
   "output_path": "__notebook__.ipynb",
   "parameters": {},
   "start_time": "2022-10-11T12:28:38.779739",
   "version": "2.3.4"
  }
 },
 "nbformat": 4,
 "nbformat_minor": 5
}
