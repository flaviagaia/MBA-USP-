{
 "cells": [
  {
   "cell_type": "markdown",
   "id": "7b18e7f2",
   "metadata": {
    "id": "precise-split",
    "papermill": {
     "duration": null,
     "end_time": null,
     "exception": null,
     "start_time": null,
     "status": "completed"
    },
    "tags": []
   },
   "source": [
    "# SCC-ICMC-USP \n",
    "\n",
    "\n",
    "# CURSO 2 - CD-AM-DM\n",
    "# Exercício de fixação \n",
    "# Profa. Roseli A. F. Romero\n",
    "\n",
    "---\n",
    "\n",
    "### Objetivos:\n",
    "- Praticar a utilização de Métodos de Aprendizado de Máquina \n",
    "- SVMs, NB, KNN\n",
    "- Comparar métodos diferentes\n",
    "- Curvas ROC"
   ]
  },
  {
   "cell_type": "markdown",
   "id": "00c14bb1",
   "metadata": {
    "id": "victorian-optics",
    "papermill": {
     "duration": null,
     "end_time": null,
     "exception": null,
     "start_time": null,
     "status": "completed"
    },
    "tags": []
   },
   "source": [
    "---\n",
    "\n",
    "### Questão 1.\n",
    "\n",
    "Carregue o dataset Spambase e faça uma breve exploração dos dados"
   ]
  },
  {
   "cell_type": "code",
   "execution_count": null,
   "id": "9c1f1bb0",
   "metadata": {
    "id": "industrial-thong",
    "outputId": "415d6ee5-bd35-4aad-f670-fe5f56748dba",
    "papermill": {
     "duration": null,
     "end_time": null,
     "exception": null,
     "start_time": null,
     "status": "completed"
    },
    "tags": []
   },
   "outputs": [],
   "source": [
    "import pandas as pd\n",
    "\n",
    "dataset = pd.read_csv(\"spambase.csv\")\n",
    "dataset"
   ]
  },
  {
   "cell_type": "code",
   "execution_count": null,
   "id": "dab27dbf",
   "metadata": {
    "id": "interracial-royal",
    "outputId": "4f589b16-d6ad-4d17-e081-d9a1d9db6655",
    "papermill": {
     "duration": null,
     "end_time": null,
     "exception": null,
     "start_time": null,
     "status": "completed"
    },
    "tags": []
   },
   "outputs": [],
   "source": [
    "dataset.info()"
   ]
  },
  {
   "cell_type": "markdown",
   "id": "df1479ff",
   "metadata": {
    "id": "broadband-midwest",
    "papermill": {
     "duration": null,
     "end_time": null,
     "exception": null,
     "start_time": null,
     "status": "completed"
    },
    "tags": []
   },
   "source": [
    "**Esperavamos que todos os atributos fossem numéricos. O método `info()` nos diz que todos os atributos são numéricos, então o dataset foi carregado corretamente**"
   ]
  },
  {
   "cell_type": "markdown",
   "id": "3c06ff57",
   "metadata": {
    "id": "constant-annotation",
    "papermill": {
     "duration": null,
     "end_time": null,
     "exception": null,
     "start_time": null,
     "status": "completed"
    },
    "tags": []
   },
   "source": [
    "### Questão 2- Verificar se existem dados faltantes."
   ]
  },
  {
   "cell_type": "code",
   "execution_count": null,
   "id": "7bbd97ba",
   "metadata": {
    "id": "amino-register",
    "outputId": "8c9037e8-2d95-48d7-dccc-8a998db94fa4",
    "papermill": {
     "duration": null,
     "end_time": null,
     "exception": null,
     "start_time": null,
     "status": "completed"
    },
    "tags": []
   },
   "outputs": [],
   "source": [
    "dataset.isnull().sum()"
   ]
  },
  {
   "cell_type": "markdown",
   "id": "b9b4d9fc",
   "metadata": {
    "id": "continental-parallel",
    "papermill": {
     "duration": null,
     "end_time": null,
     "exception": null,
     "start_time": null,
     "status": "completed"
    },
    "tags": []
   },
   "source": [
    "**Não há dados faltantes**"
   ]
  },
  {
   "cell_type": "markdown",
   "id": "23d3d2d8",
   "metadata": {
    "id": "substantial-policy",
    "papermill": {
     "duration": null,
     "end_time": null,
     "exception": null,
     "start_time": null,
     "status": "completed"
    },
    "tags": []
   },
   "source": [
    "### Questão 3 - Verificar a distribuição das classes."
   ]
  },
  {
   "cell_type": "code",
   "execution_count": null,
   "id": "e16ac081",
   "metadata": {
    "id": "public-florist",
    "outputId": "38c3c995-a80c-433b-eb8b-31ec92606954",
    "papermill": {
     "duration": null,
     "end_time": null,
     "exception": null,
     "start_time": null,
     "status": "completed"
    },
    "tags": []
   },
   "outputs": [],
   "source": [
    "dataset[\"is_spam\"].hist()\n",
    "print(\"Contagem das classes:\")\n",
    "contagem_classes = dataset[\"is_spam\"].value_counts()\n",
    "total = dataset.shape[0]\n",
    "print(\"Classe 0 (não spam): %d/%d (%.2f%%)\" % (contagem_classes[0], total, (contagem_classes[0]/total)*100))\n",
    "print(\"Classe 1 (spam):%d/%d (%.2f%%)\" % (contagem_classes[1],total, (contagem_classes[1]/total)*100))"
   ]
  },
  {
   "cell_type": "markdown",
   "id": "f9711130",
   "metadata": {
    "id": "controlling-communications",
    "papermill": {
     "duration": null,
     "end_time": null,
     "exception": null,
     "start_time": null,
     "status": "completed"
    },
    "tags": []
   },
   "source": [
    "**Não há um desbalanceamento severo**"
   ]
  },
  {
   "cell_type": "markdown",
   "id": "2634e6c3",
   "metadata": {
    "id": "stopped-representative",
    "papermill": {
     "duration": null,
     "end_time": null,
     "exception": null,
     "start_time": null,
     "status": "completed"
    },
    "tags": []
   },
   "source": [
    "### Questão 04.\n",
    "\n",
    "Prepare os dados dividindo-os em atributos e classes."
   ]
  },
  {
   "cell_type": "code",
   "execution_count": null,
   "id": "fa217c5d",
   "metadata": {
    "id": "first-missouri",
    "outputId": "c66fea73-dc31-49ab-849c-e3fd2b802d6c",
    "papermill": {
     "duration": null,
     "end_time": null,
     "exception": null,
     "start_time": null,
     "status": "completed"
    },
    "tags": []
   },
   "outputs": [],
   "source": [
    "X = dataset.drop(['is_spam'], axis=1).values\n",
    "y = dataset['is_spam'].values\n",
    "print(X.shape)\n",
    "print(y.shape)"
   ]
  },
  {
   "cell_type": "markdown",
   "id": "214a3db7",
   "metadata": {
    "id": "oriental-qatar",
    "papermill": {
     "duration": null,
     "end_time": null,
     "exception": null,
     "start_time": null,
     "status": "completed"
    },
    "tags": []
   },
   "source": [
    "### Questão 05.\n",
    "\n",
    "Gere ao menos 5 parametrizações do algoritmo SVM. Para armazenar essas parametrizações, utilize uma estrutura do tipo dicionário, armazenando um identificador da parametrização como chave e o modelo SVM como valor. Um exemplo para o modelo do KNN pode ser visto abaixo. Avalie essas parametrizações utilizando a função `avaliar_modelos` definida na célula abaixo.\n",
    "\n",
    "- Exemplo de parametrizações do knn:\n",
    "```\n",
    "parametrizacoes_knn = {\n",
    "    \"K = 2\": KNeighborsClassifier(n_neighbors=2),\n",
    "    \"K = 5\": KNeighborsClassifier(n_neighbors=5),\n",
    "    \"K = 7\": KNeighborsClassifier(n_neighbors=7)\n",
    "}\n",
    "```"
   ]
  },
  {
   "cell_type": "code",
   "execution_count": null,
   "id": "e8a9eb03",
   "metadata": {
    "id": "collectible-creation",
    "papermill": {
     "duration": null,
     "end_time": null,
     "exception": null,
     "start_time": null,
     "status": "completed"
    },
    "tags": []
   },
   "outputs": [],
   "source": [
    "from sklearn.metrics import accuracy_score, recall_score, roc_auc_score\n",
    "from sklearn.model_selection import StratifiedKFold\n",
    "from sklearn.preprocessing import StandardScaler\n",
    "import numpy as np\n",
    "\n",
    "resultados = {    \n",
    "    \"Parametrização\" :[],\n",
    "    \"Acuracia\" :[],\n",
    "    \"Recall\" :[],\n",
    "    \"Roc_auc\" :[]\n",
    "}\n",
    "\n",
    "\n",
    "def avaliar_modelos(parametrizacoes, X, y, resultados):\n",
    "    \"\"\"Avalia modelos utilizando 10-fold cross-validation\n",
    "\n",
    "    Essa função recebe um conjunto de parametrizações, um conjunto de \n",
    "    atributos e labels e cria uma estrutura de resultados.    \n",
    "    \"\"\"\n",
    "\n",
    "    # Vamos iterar sobre cada parametrização no dicionário.\n",
    "    # Ao adicionar .items(), vamos iterar sobre todos os pares\n",
    "    # (chave, valor) do dicionário:\n",
    "    for nome, modelo in parametrizacoes.items():\n",
    "        print(\"Avaliando parametrização:\", nome)\n",
    "        print(\"\\tProgresso: [\", end = '')\n",
    "        # Vamos padronizar nossos dados com o StandardScaler\n",
    "        scaler = StandardScaler()\n",
    "        # StratifiedKFold irá separar nossos dados em K splits estratificados,\n",
    "        # ou seja, K splits onde a distribuição das classes será igual ao dos\n",
    "        # dados originais. Shuffle irá embaralhar nossos dados antes de efetuar\n",
    "        # o split.\n",
    "        cv = StratifiedKFold(n_splits=10, shuffle=True, random_state=0)\n",
    "        # As 3 listas a seguir irão armazenar as métricas de acurácia, recall e\n",
    "        # área sob a curva ROC de cada fold. Usaremos essas listas para calcular\n",
    "        # a média de cada métrica.\n",
    "        accs_scores = []\n",
    "        recall_scores = []        \n",
    "        roc_aucs_scores = []\n",
    "        # O método split irá retornar índices que nós usaremos pra indexar os\n",
    "        # conjuntos X e y. Por exemplo, se tivermos 10 exemplos no nosso conjunto\n",
    "        # de dados e quisermos realizar 5 splits, uma possível divisão de splits\n",
    "        # seria [1, 2], [0, 3], [4, 9], [5, 8], [6, 7]. Então para cada iteração\n",
    "        # do for, o método split separa 1 desses splits para treino e o resto \n",
    "        # para teste (ex. teste = [1, 2], treino = [0, 3, 4, 9, 5, 8, 6, 7]). O \n",
    "        # loop for acaba depois que todos os splits forem usados para teste.        \n",
    "        for treino, teste in cv.split(X, y):            \n",
    "            # Fit apenas no conjunto de treino:\n",
    "            scaler.fit(X[treino])\n",
    "            # Vamos escalar tanto os dados de treino quanto de teste.\n",
    "            X_treino_escalado = scaler.transform(X[treino])\n",
    "            X_teste_escalado = scaler.transform(X[teste])\n",
    "            # Fit do modelo nos dados de treino:\n",
    "            modelo.fit(X_treino_escalado, y[treino])\n",
    "            # Calculo das métricas do fold. Armazenamos elas nas listas que\n",
    "            # definimos anteriormente.\n",
    "            y_pred = modelo.predict(X_teste_escalado)                    \n",
    "            accs_scores.append(accuracy_score(y[teste], y_pred))\n",
    "            recall_scores.append(recall_score(y[teste], y_pred))\n",
    "            # y_score calculado como especificado em:\n",
    "            # https://scikit-learn.org/stable/modules/generated/sklearn.metrics.roc_auc_score.html\n",
    "            y_score = modelo.predict_proba(X_teste_escalado)[:, 1]\n",
    "            roc_aucs_scores.append(roc_auc_score(y[teste], y_score))\n",
    "            # Barra de progresso             \n",
    "            print(\"#\", end = '')\n",
    "        print(\"]\")\n",
    "        # Adicionando média dos folds aos resultados:        \n",
    "        resultados[\"Parametrização\"].append(nome)\n",
    "        resultados[\"Acuracia\"].append(np.mean(accs_scores))\n",
    "        resultados[\"Recall\"].append(np.mean(recall_scores))\n",
    "        resultados[\"Roc_auc\"].append(np.mean(roc_aucs_scores))"
   ]
  },
  {
   "cell_type": "markdown",
   "id": "5f67b9b9",
   "metadata": {
    "id": "ykGJ8kCQwXbC",
    "papermill": {
     "duration": null,
     "end_time": null,
     "exception": null,
     "start_time": null,
     "status": "completed"
    },
    "tags": []
   },
   "source": [
    "### Questão 6. Criar as parametrizações propriamente ditas para o método SVC."
   ]
  },
  {
   "cell_type": "code",
   "execution_count": null,
   "id": "127f139f",
   "metadata": {
    "id": "color-gazette",
    "outputId": "734ee512-7a7f-4f91-f4fa-2ebc62f16430",
    "papermill": {
     "duration": null,
     "end_time": null,
     "exception": null,
     "start_time": null,
     "status": "completed"
    },
    "tags": []
   },
   "outputs": [],
   "source": [
    "from sklearn.svm import SVC\n",
    "# criando as diferentes parametrizações para o método SVC\n",
    "modelos_svm = {\n",
    "    \"Kernel rbf, gamma auto\": SVC(kernel = 'rbf', gamma='auto', probability=True),\n",
    "    \"Kernel linear\": SVC(kernel = 'linear', probability=True),\n",
    "    \"Kernel sigmoide\": SVC(kernel = 'sigmoid', probability=True),\n",
    "    \"Kernel polinomial grau 2\": SVC(kernel = 'poly', degree=2, probability=True),\n",
    "    \"Kernel polinomial grau 3\": SVC(kernel = 'poly', degree=3, probability=True)\n",
    "}\n",
    "\n",
    "avaliar_modelos(modelos_svm, X, y, resultados)"
   ]
  },
  {
   "cell_type": "markdown",
   "id": "6fe562d4",
   "metadata": {
    "id": "labeled-consent",
    "papermill": {
     "duration": null,
     "end_time": null,
     "exception": null,
     "start_time": null,
     "status": "completed"
    },
    "tags": []
   },
   "source": [
    "### Questão 7 - Vamos gerar um dataframe com o dicionário de resultados para podermos manipulá-lo mais fácilmente:"
   ]
  },
  {
   "cell_type": "code",
   "execution_count": null,
   "id": "e14336df",
   "metadata": {
    "id": "floating-anthony",
    "outputId": "a2433b4b-08a9-4a41-9446-bdfc45af5f15",
    "papermill": {
     "duration": null,
     "end_time": null,
     "exception": null,
     "start_time": null,
     "status": "completed"
    },
    "tags": []
   },
   "outputs": [],
   "source": [
    "# resultados\n",
    "resultados_df = pd.DataFrame.from_dict(resultados)\n",
    "resultados_df"
   ]
  },
  {
   "cell_type": "markdown",
   "id": "cd7fd029",
   "metadata": {
    "id": "faced-offering",
    "papermill": {
     "duration": null,
     "end_time": null,
     "exception": null,
     "start_time": null,
     "status": "completed"
    },
    "tags": []
   },
   "source": [
    "### Questão 8 - Determine a melhor parametrização, baseando-se na métrica Roc AUC, e recupere o modelo associado a ela. \n",
    "- Queremos achar a parametrização que gerou maior roc auc entre as parametrizações testadas:"
   ]
  },
  {
   "cell_type": "code",
   "execution_count": null,
   "id": "33aef85b",
   "metadata": {
    "id": "south-sherman",
    "outputId": "691f9ba6-9714-4578-f317-fd43edd276df",
    "papermill": {
     "duration": null,
     "end_time": null,
     "exception": null,
     "start_time": null,
     "status": "completed"
    },
    "tags": []
   },
   "outputs": [],
   "source": [
    "max_roc_auc = resultados_df[\"Roc_auc\"].max()\n",
    "# Usamos o iloc para pegar apenas o primeiro resultado\n",
    "melhor_parametrizacao = resultados_df.query(\"Roc_auc == @max_roc_auc\").iloc[0]\n",
    "melhor_parametrizacao"
   ]
  },
  {
   "cell_type": "markdown",
   "id": "0e798d60",
   "metadata": {
    "id": "executive-infrastructure",
    "papermill": {
     "duration": null,
     "end_time": null,
     "exception": null,
     "start_time": null,
     "status": "completed"
    },
    "tags": []
   },
   "source": [
    "### Questão 9 - Repetir a questão 8 mas fazendo isso diretamente com o método `idxmax()`:"
   ]
  },
  {
   "cell_type": "code",
   "execution_count": null,
   "id": "2e4ef4ee",
   "metadata": {
    "id": "distributed-basis",
    "outputId": "9c4d2207-8e62-4696-b467-20f7a07d1bbb",
    "papermill": {
     "duration": null,
     "end_time": null,
     "exception": null,
     "start_time": null,
     "status": "completed"
    },
    "tags": []
   },
   "outputs": [],
   "source": [
    "melhor_parametrizacao = resultados_df.loc[resultados_df[\"Roc_auc\"].idxmax()]\n",
    "melhor_parametrizacao"
   ]
  },
  {
   "cell_type": "markdown",
   "id": "8bdc51b2",
   "metadata": {
    "id": "classical-finder",
    "papermill": {
     "duration": null,
     "end_time": null,
     "exception": null,
     "start_time": null,
     "status": "completed"
    },
    "tags": []
   },
   "source": [
    "### Questão 10 - Agora vamos recuperar o modelo com a melhor parametrização:"
   ]
  },
  {
   "cell_type": "code",
   "execution_count": null,
   "id": "2b02e224",
   "metadata": {
    "id": "fifty-continent",
    "outputId": "ef7f344a-344a-42ea-c072-55b0571d4a6b",
    "papermill": {
     "duration": null,
     "end_time": null,
     "exception": null,
     "start_time": null,
     "status": "completed"
    },
    "tags": []
   },
   "outputs": [],
   "source": [
    "# Acessando o valor da parametrização como string:\n",
    "nome_parametrizacao = melhor_parametrizacao[\"Parametrização\"]\n",
    "print(nome_parametrizacao)\n",
    "melhor_modelo_svm = modelos_svm[nome_parametrizacao]\n",
    "type(melhor_modelo_svm)"
   ]
  },
  {
   "cell_type": "markdown",
   "id": "c1f1bc98",
   "metadata": {
    "id": "living-addition",
    "papermill": {
     "duration": null,
     "end_time": null,
     "exception": null,
     "start_time": null,
     "status": "completed"
    },
    "tags": []
   },
   "source": [
    "### Questão 11.\n",
    "Calcule a curva roc para a melhor parametrização encontrada, utilizando 10-fold cross-validation. Plote-as no mesmo gráfico. Para isso, utilize a função `plot_kfold_roc_curves` abaixo"
   ]
  },
  {
   "cell_type": "code",
   "execution_count": null,
   "id": "4df4c29f",
   "metadata": {
    "id": "reverse-bhutan",
    "papermill": {
     "duration": null,
     "end_time": null,
     "exception": null,
     "start_time": null,
     "status": "completed"
    },
    "tags": []
   },
   "outputs": [],
   "source": [
    "from sklearn.metrics import roc_curve\n",
    "import matplotlib.pyplot as plt\n",
    "from sklearn.metrics import plot_roc_curve\n",
    "from sklearn.metrics import auc\n",
    "\n",
    "def plot_kfold_roc_curves(model, X, y, k=10):\n",
    "    tprs = []\n",
    "    aucs = []\n",
    "    mean_fpr = np.linspace(0, 1, 100)\n",
    "    cv = StratifiedKFold(n_splits=10, shuffle=True, random_state=0)    \n",
    "    fig = plt.figure(figsize=(15,10))    \n",
    "    ax = fig.gca()\n",
    "    \n",
    "    # Plota as curvas ROC de cada fold:\n",
    "    print(\"\\tProgresso: [\", end = '')\n",
    "    for i, (train, test) in enumerate(cv.split(X, y)):\n",
    "        model.fit(X[train], y[train])\n",
    "        viz = plot_roc_curve(model, X[test], y[test],\n",
    "                            name='ROC fold {}'.format(i),\n",
    "                            alpha=0.3, lw=1, ax=ax)\n",
    "        interp_tpr = np.interp(mean_fpr, viz.fpr, viz.tpr)\n",
    "        interp_tpr[0] = 0.0\n",
    "        tprs.append(interp_tpr)\n",
    "        aucs.append(viz.roc_auc)  \n",
    "        print(\"#\", end = '')\n",
    "    print(\"]\")\n",
    "\n",
    "    # Plota a curva ROC média dos folds:\n",
    "    mean_tpr = np.mean(tprs, axis=0)\n",
    "    mean_tpr[-1] = 1.0\n",
    "    mean_auc = auc(mean_fpr, mean_tpr)\n",
    "    std_auc = np.std(aucs)\n",
    "    ax.plot(mean_fpr, mean_tpr, color='b',\n",
    "            label=r'ROC Médio (AUC = %0.2f $\\pm$ %0.2f)' % (mean_auc, std_auc),\n",
    "            lw=2, alpha=.8)\n",
    "    \n",
    "    # Plota uma região de +- 1 desvio padrão da média\n",
    "    std_tpr = np.std(tprs, axis=0)\n",
    "    tprs_upper = np.minimum(mean_tpr + std_tpr, 1)\n",
    "    tprs_lower = np.maximum(mean_tpr - std_tpr, 0)\n",
    "    ax.fill_between(mean_fpr, tprs_lower, tprs_upper, color='grey', alpha=.2,\n",
    "            label=r'$\\pm$ 1 desvio padrão')\n",
    "\n",
    "    ax.set(xlim=[-0.05, 1.05], ylim=[-0.05, 1.05],\n",
    "    title=\"Curva ROC para o classificador com %d-fold cross-validation\" % (k))\n",
    "    ax.legend(loc=\"lower right\")\n",
    "    plt.xlabel('Taxa Falsos Positivos')\n",
    "    plt.ylabel('Taxa Verdadeiros Positivos')\n",
    "    "
   ]
  },
  {
   "cell_type": "code",
   "execution_count": null,
   "id": "c9723aeb",
   "metadata": {
    "id": "organized-technician",
    "outputId": "c20c8659-b0b7-4669-995a-a28f8c03e2ae",
    "papermill": {
     "duration": null,
     "end_time": null,
     "exception": null,
     "start_time": null,
     "status": "completed"
    },
    "tags": []
   },
   "outputs": [],
   "source": [
    "plot_kfold_roc_curves(melhor_modelo_svm, X, y)"
   ]
  }
 ],
 "metadata": {
  "colab": {
   "name": "Exercicio_fixação_resolvidoSVM_NB_KNN.ipynb",
   "provenance": []
  },
  "kernelspec": {
   "display_name": "BigData2021",
   "language": "python",
   "name": "bigdata2021"
  },
  "language_info": {
   "codemirror_mode": {
    "name": "ipython",
    "version": 3
   },
   "file_extension": ".py",
   "mimetype": "text/x-python",
   "name": "python",
   "nbconvert_exporter": "python",
   "pygments_lexer": "ipython3",
   "version": "3.8.11"
  },
  "papermill": {
   "default_parameters": {},
   "duration": 0.297175,
   "end_time": "2022-10-01T11:58:15.007365",
   "environment_variables": {},
   "exception": null,
   "input_path": "__notebook__.ipynb",
   "output_path": "__notebook__.ipynb",
   "parameters": {},
   "start_time": "2022-10-01T11:58:14.710190",
   "version": "2.3.4"
  }
 },
 "nbformat": 4,
 "nbformat_minor": 5
}
