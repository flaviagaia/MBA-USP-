{
 "cells": [
  {
   "cell_type": "markdown",
   "id": "918b705a",
   "metadata": {
    "id": "Me8FXaO3-1dv",
    "papermill": {
     "duration": 0.013054,
     "end_time": "2022-11-23T12:06:07.196195",
     "exception": false,
     "start_time": "2022-11-23T12:06:07.183141",
     "status": "completed"
    },
    "tags": []
   },
   "source": [
    "#  **AULA 3 P1: Censo Americano**"
   ]
  },
  {
   "cell_type": "code",
   "execution_count": 1,
   "id": "3333e36c",
   "metadata": {
    "execution": {
     "iopub.execute_input": "2022-11-23T12:06:07.222039Z",
     "iopub.status.busy": "2022-11-23T12:06:07.220982Z",
     "iopub.status.idle": "2022-11-23T12:06:07.827016Z",
     "shell.execute_reply": "2022-11-23T12:06:07.825698Z"
    },
    "executionInfo": {
     "elapsed": 2,
     "status": "ok",
     "timestamp": 1633607443314,
     "user": {
      "displayName": "Mariana Curi",
      "photoUrl": "https://lh3.googleusercontent.com/a-/AOh14GiUk4mHVBS2XmbO3T_egBmeE8u-rQFdeJ--jJQJ=s64",
      "userId": "06685422165778027680"
     },
     "user_tz": 180
    },
    "id": "BgKALM7r-1dz",
    "papermill": {
     "duration": 0.621415,
     "end_time": "2022-11-23T12:06:07.829046",
     "exception": true,
     "start_time": "2022-11-23T12:06:07.207631",
     "status": "failed"
    },
    "tags": []
   },
   "outputs": [
    {
     "ename": "ModuleNotFoundError",
     "evalue": "No module named 'pandas'",
     "output_type": "error",
     "traceback": [
      "\u001b[0;31m---------------------------------------------------------------------------\u001b[0m",
      "\u001b[0;31mModuleNotFoundError\u001b[0m                       Traceback (most recent call last)",
      "Cell \u001b[0;32mIn [1], line 2\u001b[0m\n\u001b[1;32m      1\u001b[0m \u001b[38;5;66;03m# importa as bibliotecas\u001b[39;00m\n\u001b[0;32m----> 2\u001b[0m \u001b[38;5;28;01mimport\u001b[39;00m \u001b[38;5;21;01mpandas\u001b[39;00m \u001b[38;5;28;01mas\u001b[39;00m \u001b[38;5;21;01mpd\u001b[39;00m\n\u001b[1;32m      3\u001b[0m \u001b[38;5;28;01mimport\u001b[39;00m \u001b[38;5;21;01mnumpy\u001b[39;00m \u001b[38;5;28;01mas\u001b[39;00m \u001b[38;5;21;01mnp\u001b[39;00m\n",
      "\u001b[0;31mModuleNotFoundError\u001b[0m: No module named 'pandas'"
     ]
    }
   ],
   "source": [
    "# importa as bibliotecas\n",
    "import pandas as pd\n",
    "import numpy as np"
   ]
  },
  {
   "cell_type": "markdown",
   "id": "c758c47a",
   "metadata": {
    "id": "qDRan9Fr-1d0",
    "papermill": {
     "duration": null,
     "end_time": null,
     "exception": null,
     "start_time": null,
     "status": "pending"
    },
    "tags": []
   },
   "source": [
    "Primeiro, é necessário carregar o dataset. Para baixar o dataset e mais informações, acesse: http://archive.ics.uci.edu/ml/datasets/Adult\n",
    "\n",
    "Este dataset contém informações do Censo Americano e o objetivo dele é predizer se uma determinada pessoa tem ganho maior que 50K em um ano. Essa predição é baseada nas informações sociais coletadas no Censo. Essa situação poderia ser utilizada para obter um empréstimo ou não (se ganha mais de 50K libera o empréstimo). "
   ]
  },
  {
   "cell_type": "code",
   "execution_count": null,
   "id": "c745fdf5",
   "metadata": {
    "executionInfo": {
     "elapsed": 76078,
     "status": "ok",
     "timestamp": 1633456330830,
     "user": {
      "displayName": "Mariana Curi",
      "photoUrl": "https://lh3.googleusercontent.com/a-/AOh14GiUk4mHVBS2XmbO3T_egBmeE8u-rQFdeJ--jJQJ=s64",
      "userId": "06685422165778027680"
     },
     "user_tz": 180
    },
    "id": "-xl9Eieo-1d1",
    "outputId": "e8539057-2afc-40b0-a5cd-70a187f64429",
    "papermill": {
     "duration": null,
     "end_time": null,
     "exception": null,
     "start_time": null,
     "status": "pending"
    },
    "scrolled": true,
    "tags": []
   },
   "outputs": [],
   "source": [
    "# importa o data set\n",
    "from google.colab import files\n",
    "uploaded = files.upload()\n",
    "\n",
    "# para baixar o dataset, acesse: \n",
    "# Observação 1: Este dataset já é dividido em treino e teste previamente. Porém, vou usar somente o conjunto de \n",
    "# teste como sendo o dataset original, pois a maioria dos datasets não são previamentes divididos em conjuntos\n",
    "# de teste e conjunto de treino (isso é feito no processo de Aprendizado de Máquina)\n",
    "\n",
    "# do site eu recuperei o nome de cada coluna do data set\n",
    "columns = ['age', 'workclass', 'fnlwgt', 'education', 'education-num', 'marital-status', 'occupation', \n",
    "           'relationship', 'race', 'sex', 'capital-gain', 'capital-loss', 'hours-per-week', 'native-country', \n",
    "           'target']\n",
    "\n",
    "# abro o dataset e nomeio cada coluna com meu vetor columns\n",
    "data = pd.read_csv('adult.data', names=columns)\n",
    "\n",
    "# Fazendo a mesma coisa do Google Colab\n",
    "# from google.colab import drive\n",
    "# drive.mount('/content/drive')\n",
    "# data = pd.read_csv('/content/drive/My Drive/EABDA 2020/adult.data', names=columns)\n",
    "\n",
    "# elimina os espaços no começo e no fim das strings\n",
    "data = data.applymap(lambda x: x.strip() if isinstance(x, str) else x)\n",
    "\n",
    "# visualiza a tabela, o método head() mostra as 5 primeiras linhas da tabela\n",
    "# note que a coluna 'target' é a variável dependente ou resposta (classe).\n",
    "# o restante das colunas são as variáveis explicativas ou independentes ou preditoras (features, atributos), e cada linha é um indivíduo (instância ou exemplo).\n",
    "data.head()"
   ]
  },
  {
   "cell_type": "code",
   "execution_count": null,
   "id": "519863de",
   "metadata": {
    "executionInfo": {
     "elapsed": 335,
     "status": "ok",
     "timestamp": 1633456352985,
     "user": {
      "displayName": "Mariana Curi",
      "photoUrl": "https://lh3.googleusercontent.com/a-/AOh14GiUk4mHVBS2XmbO3T_egBmeE8u-rQFdeJ--jJQJ=s64",
      "userId": "06685422165778027680"
     },
     "user_tz": 180
    },
    "id": "h8vtIJoY-1d2",
    "outputId": "d4c8d43b-dc3d-4d58-94a3-624869012379",
    "papermill": {
     "duration": null,
     "end_time": null,
     "exception": null,
     "start_time": null,
     "status": "pending"
    },
    "tags": []
   },
   "outputs": [],
   "source": [
    "# mostra o número de linhas (unidades amostrais) e colunas (variáveis)\n",
    "data.shape"
   ]
  },
  {
   "cell_type": "markdown",
   "id": "b2e1e67a",
   "metadata": {
    "id": "seVqi-Cn-1d3",
    "papermill": {
     "duration": null,
     "end_time": null,
     "exception": null,
     "start_time": null,
     "status": "pending"
    },
    "tags": []
   },
   "source": [
    "Geralmente, os datasets vem com dados faltantes, no caso deste dataset os dados faltantes é simbolizado pelo caractere '?'. Existem diversas estratégias para trabalhar com dados faltantes. Algumas metodologias podem lidar com \"missings\" sem nenhum problema, mas outras necessitam de dados completos. Nesses casos, pode-se imputar dados. Há formas sofisticadas e simples de imputação, sendo uma delas a substituição pelo valor médio. Porém, no nosso caso, por questões didáticas e de simplificação, vou excluir todos os dados faltantes da nossa base de dados. "
   ]
  },
  {
   "cell_type": "code",
   "execution_count": null,
   "id": "c1a60965",
   "metadata": {
    "executionInfo": {
     "elapsed": 228,
     "status": "ok",
     "timestamp": 1633456356077,
     "user": {
      "displayName": "Mariana Curi",
      "photoUrl": "https://lh3.googleusercontent.com/a-/AOh14GiUk4mHVBS2XmbO3T_egBmeE8u-rQFdeJ--jJQJ=s64",
      "userId": "06685422165778027680"
     },
     "user_tz": 180
    },
    "id": "4MZyhw4a-1d3",
    "outputId": "8c1d4f9c-13c8-4fdb-fd97-0635cbce3d05",
    "papermill": {
     "duration": null,
     "end_time": null,
     "exception": null,
     "start_time": null,
     "status": "pending"
    },
    "tags": []
   },
   "outputs": [],
   "source": [
    "# elimina as linhas com dados faltantes\n",
    "# data = pd.DataFrame\n",
    "# null_symbol = caractere que simboliza que há dados faltantes\n",
    "def remove_rows(data, null_symbol=np.nan):\n",
    "    # salva o total de exemplos\n",
    "    total = len(data)\n",
    "    # substitui o null_symbol por nulo\n",
    "    data = data.replace(null_symbol, np.nan)\n",
    "    # elimina as linhas que contém algum valor nulo\n",
    "    data.dropna(inplace=True)\n",
    "    print('Execute: preprocessing_remove_rows\\n---Removed %d rows in the table' % (total - len(data)))\n",
    "    return data\n",
    "\n",
    "data = remove_rows(data, '?')"
   ]
  },
  {
   "cell_type": "code",
   "execution_count": null,
   "id": "91a9db5a",
   "metadata": {
    "executionInfo": {
     "elapsed": 224,
     "status": "ok",
     "timestamp": 1633456359362,
     "user": {
      "displayName": "Mariana Curi",
      "photoUrl": "https://lh3.googleusercontent.com/a-/AOh14GiUk4mHVBS2XmbO3T_egBmeE8u-rQFdeJ--jJQJ=s64",
      "userId": "06685422165778027680"
     },
     "user_tz": 180
    },
    "id": "UrhzuyUD-1d4",
    "outputId": "6a5baaed-039e-46a7-dfe0-b6d7a1cb2062",
    "papermill": {
     "duration": null,
     "end_time": null,
     "exception": null,
     "start_time": null,
     "status": "pending"
    },
    "tags": []
   },
   "outputs": [],
   "source": [
    "# o tamanho atualizado do conjunto de dados\n",
    "data.shape"
   ]
  },
  {
   "cell_type": "markdown",
   "id": "838350b1",
   "metadata": {
    "id": "3Xa55Ve8LQJO",
    "papermill": {
     "duration": null,
     "end_time": null,
     "exception": null,
     "start_time": null,
     "status": "pending"
    },
    "tags": []
   },
   "source": [
    "Teste para a comparação de 2 proporções: amostras independentes\n"
   ]
  },
  {
   "cell_type": "code",
   "execution_count": null,
   "id": "2dbc1ea7",
   "metadata": {
    "executionInfo": {
     "elapsed": 224,
     "status": "ok",
     "timestamp": 1633456362564,
     "user": {
      "displayName": "Mariana Curi",
      "photoUrl": "https://lh3.googleusercontent.com/a-/AOh14GiUk4mHVBS2XmbO3T_egBmeE8u-rQFdeJ--jJQJ=s64",
      "userId": "06685422165778027680"
     },
     "user_tz": 180
    },
    "id": "IOsQS7oR-1d8",
    "outputId": "7d9e791b-d148-415c-946d-934178f9b703",
    "papermill": {
     "duration": null,
     "end_time": null,
     "exception": null,
     "start_time": null,
     "status": "pending"
    },
    "tags": []
   },
   "outputs": [],
   "source": [
    "# Há injustiça no valor salarial?\n",
    "c = data[\"target\"].value_counts(sort=False)\n",
    "p = data[\"target\"].value_counts(normalize=True,sort=False).round(3) * 100\n",
    "pd.concat([c,p], axis=1, keys=['counts', '%'])\n"
   ]
  },
  {
   "cell_type": "code",
   "execution_count": null,
   "id": "304ed9a4",
   "metadata": {
    "executionInfo": {
     "elapsed": 237,
     "status": "ok",
     "timestamp": 1633456368488,
     "user": {
      "displayName": "Mariana Curi",
      "photoUrl": "https://lh3.googleusercontent.com/a-/AOh14GiUk4mHVBS2XmbO3T_egBmeE8u-rQFdeJ--jJQJ=s64",
      "userId": "06685422165778027680"
     },
     "user_tz": 180
    },
    "id": "GROOK1Zy-1d8",
    "outputId": "4291d372-143a-4a8b-a0f5-a128995c1c37",
    "papermill": {
     "duration": null,
     "end_time": null,
     "exception": null,
     "start_time": null,
     "status": "pending"
    },
    "tags": []
   },
   "outputs": [],
   "source": [
    "# Tabela de frequências cruzadas ou tabela de contingência\n",
    "pd.crosstab(data.sex, data.target,margins=True)"
   ]
  },
  {
   "cell_type": "code",
   "execution_count": null,
   "id": "dda3aaa7",
   "metadata": {
    "executionInfo": {
     "elapsed": 240,
     "status": "ok",
     "timestamp": 1633456659177,
     "user": {
      "displayName": "Mariana Curi",
      "photoUrl": "https://lh3.googleusercontent.com/a-/AOh14GiUk4mHVBS2XmbO3T_egBmeE8u-rQFdeJ--jJQJ=s64",
      "userId": "06685422165778027680"
     },
     "user_tz": 180
    },
    "id": "Za3Mh79j-1d9",
    "outputId": "74e984c1-1d48-4c4a-bb0b-7a630c3f26c2",
    "papermill": {
     "duration": null,
     "end_time": null,
     "exception": null,
     "start_time": null,
     "status": "pending"
    },
    "tags": []
   },
   "outputs": [],
   "source": [
    "# Percentual de linhas\n",
    "pd.crosstab(data.sex, data.target,normalize='index')"
   ]
  },
  {
   "cell_type": "code",
   "execution_count": null,
   "id": "6f9c51e0",
   "metadata": {
    "executionInfo": {
     "elapsed": 459,
     "status": "ok",
     "timestamp": 1633111855438,
     "user": {
      "displayName": "Mariana Curi",
      "photoUrl": "https://lh3.googleusercontent.com/a-/AOh14GiUk4mHVBS2XmbO3T_egBmeE8u-rQFdeJ--jJQJ=s64",
      "userId": "06685422165778027680"
     },
     "user_tz": 180
    },
    "id": "IhpCsPZL-1d9",
    "outputId": "c6e0297b-0807-435a-e858-6064aa3528ed",
    "papermill": {
     "duration": null,
     "end_time": null,
     "exception": null,
     "start_time": null,
     "status": "pending"
    },
    "tags": []
   },
   "outputs": [],
   "source": [
    "from scipy.stats import chi2_contingency\n",
    "\n",
    "# teste quiquadrado para independência/hamogeneidade de distribuição\n",
    "obs = pd.crosstab(data.sex, data.target)\n",
    "chi2_contingency(obs)"
   ]
  },
  {
   "cell_type": "code",
   "execution_count": null,
   "id": "81630452",
   "metadata": {
    "executionInfo": {
     "elapsed": 15,
     "status": "ok",
     "timestamp": 1633421627070,
     "user": {
      "displayName": "Mariana Curi",
      "photoUrl": "https://lh3.googleusercontent.com/a-/AOh14GiUk4mHVBS2XmbO3T_egBmeE8u-rQFdeJ--jJQJ=s64",
      "userId": "06685422165778027680"
     },
     "user_tz": 180
    },
    "id": "BCYHNip4HIpk",
    "outputId": "2bdd8299-8625-43ae-8e62-4bed14881ef1",
    "papermill": {
     "duration": null,
     "end_time": null,
     "exception": null,
     "start_time": null,
     "status": "pending"
    },
    "tags": []
   },
   "outputs": [],
   "source": [
    "import numpy as np\n",
    "from statsmodels.stats.proportion import proportions_ztest\n",
    "\n",
    "count = np.array([1112, 6396])\n",
    "nobs = np.array([9782, 20380])\n",
    "stat, pval = proportions_ztest(count, nobs)\n",
    "print(stat,pval)"
   ]
  },
  {
   "cell_type": "code",
   "execution_count": null,
   "id": "35f303e6",
   "metadata": {
    "executionInfo": {
     "elapsed": 228,
     "status": "ok",
     "timestamp": 1633457374968,
     "user": {
      "displayName": "Mariana Curi",
      "photoUrl": "https://lh3.googleusercontent.com/a-/AOh14GiUk4mHVBS2XmbO3T_egBmeE8u-rQFdeJ--jJQJ=s64",
      "userId": "06685422165778027680"
     },
     "user_tz": 180
    },
    "id": "1hgNWo_7pSRP",
    "outputId": "93f70927-45cc-4018-97c4-9c165543a16f",
    "papermill": {
     "duration": null,
     "end_time": null,
     "exception": null,
     "start_time": null,
     "status": "pending"
    },
    "tags": []
   },
   "outputs": [],
   "source": [
    "from scipy.stats import norm\n",
    "\n",
    "# Qual o valor de Z ~ N(0,1) que deixa 5% dos dados à esquerda : F(z)=0,05\n",
    "z= norm.ppf(0.05)     \n",
    "print(z)\n"
   ]
  },
  {
   "cell_type": "code",
   "execution_count": null,
   "id": "0443c3df",
   "metadata": {
    "executionInfo": {
     "elapsed": 224,
     "status": "ok",
     "timestamp": 1633456952960,
     "user": {
      "displayName": "Mariana Curi",
      "photoUrl": "https://lh3.googleusercontent.com/a-/AOh14GiUk4mHVBS2XmbO3T_egBmeE8u-rQFdeJ--jJQJ=s64",
      "userId": "06685422165778027680"
     },
     "user_tz": 180
    },
    "id": "jcOXkwSBmy0q",
    "outputId": "3fe5234d-4eef-4421-c167-d81eba89faeb",
    "papermill": {
     "duration": null,
     "end_time": null,
     "exception": null,
     "start_time": null,
     "status": "pending"
    },
    "tags": []
   },
   "outputs": [],
   "source": [
    "# Estatística do z teste\n",
    "estat = (0.113678-0.313837)/np.sqrt(0.249*(1-0.249)*(1/9782+1/20380))\n",
    "estat"
   ]
  },
  {
   "cell_type": "code",
   "execution_count": null,
   "id": "02c91d8b",
   "metadata": {
    "executionInfo": {
     "elapsed": 242,
     "status": "ok",
     "timestamp": 1633457931381,
     "user": {
      "displayName": "Mariana Curi",
      "photoUrl": "https://lh3.googleusercontent.com/a-/AOh14GiUk4mHVBS2XmbO3T_egBmeE8u-rQFdeJ--jJQJ=s64",
      "userId": "06685422165778027680"
     },
     "user_tz": 180
    },
    "id": "YXfX2ssfoQu_",
    "outputId": "021fc2e8-2c7e-4ef2-e0ec-2ff00bc8a9e0",
    "papermill": {
     "duration": null,
     "end_time": null,
     "exception": null,
     "start_time": null,
     "status": "pending"
    },
    "tags": []
   },
   "outputs": [],
   "source": [
    "# valor p\n",
    "#2*norm.cdf(estat) # para o teste bicaudal, tem-se que mutiplicar por 2\n",
    "norm.cdf(estat)"
   ]
  },
  {
   "cell_type": "markdown",
   "id": "9eca508e",
   "metadata": {
    "id": "7Q4gzYIuMZmb",
    "papermill": {
     "duration": null,
     "end_time": null,
     "exception": null,
     "start_time": null,
     "status": "pending"
    },
    "tags": []
   },
   "source": [
    "No R, o mesmo teste é feito com:\n",
    "\n",
    "count = c(1112, 6396)\n",
    "\n",
    "nobs = c(9782, 20380)\n",
    "\n",
    "prop.test(count, nobs, p = NULL, alternative = \"two.sided\", correct = FALSE)\n",
    "\n"
   ]
  },
  {
   "cell_type": "markdown",
   "id": "04d70c76",
   "metadata": {
    "id": "N5UU1jBILX_f",
    "papermill": {
     "duration": null,
     "end_time": null,
     "exception": null,
     "start_time": null,
     "status": "pending"
    },
    "tags": []
   },
   "source": [
    "Testes t de Student"
   ]
  },
  {
   "cell_type": "code",
   "execution_count": null,
   "id": "7de256ec",
   "metadata": {
    "executionInfo": {
     "elapsed": 245,
     "status": "ok",
     "timestamp": 1633458592927,
     "user": {
      "displayName": "Mariana Curi",
      "photoUrl": "https://lh3.googleusercontent.com/a-/AOh14GiUk4mHVBS2XmbO3T_egBmeE8u-rQFdeJ--jJQJ=s64",
      "userId": "06685422165778027680"
     },
     "user_tz": 180
    },
    "id": "qeaVqDYO-1d5",
    "outputId": "9dc2bd0d-51a3-4a89-ef9b-d4bf2872cfcc",
    "papermill": {
     "duration": null,
     "end_time": null,
     "exception": null,
     "start_time": null,
     "status": "pending"
    },
    "tags": []
   },
   "outputs": [],
   "source": [
    "dataF = data.loc[data.sex=='Female', \"age\"]\n",
    "dataM = data.loc[data.sex=='Male', \"age\"]\n",
    "\n",
    "data.groupby('sex').agg({'age': ['count',min, max, 'median','mean', 'std']})"
   ]
  },
  {
   "cell_type": "code",
   "execution_count": null,
   "id": "75691974",
   "metadata": {
    "executionInfo": {
     "elapsed": 299,
     "status": "ok",
     "timestamp": 1633458595637,
     "user": {
      "displayName": "Mariana Curi",
      "photoUrl": "https://lh3.googleusercontent.com/a-/AOh14GiUk4mHVBS2XmbO3T_egBmeE8u-rQFdeJ--jJQJ=s64",
      "userId": "06685422165778027680"
     },
     "user_tz": 180
    },
    "id": "L7S93q2Y-1d5",
    "outputId": "a35884c4-fbc1-4e24-c515-d00c51ab04de",
    "papermill": {
     "duration": null,
     "end_time": null,
     "exception": null,
     "start_time": null,
     "status": "pending"
    },
    "tags": []
   },
   "outputs": [],
   "source": [
    "from scipy import stats\n",
    "\n",
    "# Teste t de Student (bicaudal) para média de duas populações Normais com variâncias iguais\n",
    "stats.ttest_ind(dataF,dataM, equal_var = True)"
   ]
  },
  {
   "cell_type": "code",
   "execution_count": null,
   "id": "b07de2ea",
   "metadata": {
    "executionInfo": {
     "elapsed": 224,
     "status": "ok",
     "timestamp": 1633365064138,
     "user": {
      "displayName": "Mariana Curi",
      "photoUrl": "https://lh3.googleusercontent.com/a-/AOh14GiUk4mHVBS2XmbO3T_egBmeE8u-rQFdeJ--jJQJ=s64",
      "userId": "06685422165778027680"
     },
     "user_tz": 180
    },
    "id": "DxcP5xLVIOZg",
    "outputId": "e68e663c-16d6-45f3-c876-ce5f7073f540",
    "papermill": {
     "duration": null,
     "end_time": null,
     "exception": null,
     "start_time": null,
     "status": "pending"
    },
    "tags": []
   },
   "outputs": [],
   "source": [
    "import math\n",
    "(36.883459-39.184004)/math.sqrt((9782*13.532427**2+20380*12.873243**2)/(9782+20380-2)*(1/9782+1/20380))"
   ]
  },
  {
   "cell_type": "code",
   "execution_count": null,
   "id": "dc7aea83",
   "metadata": {
    "executionInfo": {
     "elapsed": 250,
     "status": "ok",
     "timestamp": 1633458988531,
     "user": {
      "displayName": "Mariana Curi",
      "photoUrl": "https://lh3.googleusercontent.com/a-/AOh14GiUk4mHVBS2XmbO3T_egBmeE8u-rQFdeJ--jJQJ=s64",
      "userId": "06685422165778027680"
     },
     "user_tz": 180
    },
    "id": "X1pZlhvB-1d6",
    "outputId": "37505f84-8131-49f0-e4cf-c83ed3c51900",
    "papermill": {
     "duration": null,
     "end_time": null,
     "exception": null,
     "start_time": null,
     "status": "pending"
    },
    "tags": []
   },
   "outputs": [],
   "source": [
    "# Teste de Levene para igualdade de variâncias\n",
    "# stats.levene(dataF,dataM)\n",
    "\n",
    "# Teste de Bartlett para igualdade de variâncias\n",
    "stats.bartlett(dataF,dataM)\n"
   ]
  },
  {
   "cell_type": "code",
   "execution_count": null,
   "id": "fd742719",
   "metadata": {
    "executionInfo": {
     "elapsed": 252,
     "status": "ok",
     "timestamp": 1633458762542,
     "user": {
      "displayName": "Mariana Curi",
      "photoUrl": "https://lh3.googleusercontent.com/a-/AOh14GiUk4mHVBS2XmbO3T_egBmeE8u-rQFdeJ--jJQJ=s64",
      "userId": "06685422165778027680"
     },
     "user_tz": 180
    },
    "id": "LSddVQuN-1d6",
    "outputId": "3adb18f1-4a0c-4ec7-f0d8-49f69ee83181",
    "papermill": {
     "duration": null,
     "end_time": null,
     "exception": null,
     "start_time": null,
     "status": "pending"
    },
    "tags": []
   },
   "outputs": [],
   "source": [
    "# Selecione uma amostra de 95% e outra de 0,5% e repare como o resultado do teste muda\n",
    "sampleF=dataF.sample(frac=0.005)\n",
    "sampleM=dataM.sample(frac=0.005)\n",
    "\n",
    "# Teste t de Student (bicaudal) para média de duas populações Normais com variâncias iguais\n",
    "stats.ttest_ind(sampleF,sampleM, equal_var = True)"
   ]
  },
  {
   "cell_type": "code",
   "execution_count": null,
   "id": "603987c1",
   "metadata": {
    "executionInfo": {
     "elapsed": 219,
     "status": "ok",
     "timestamp": 1633458779110,
     "user": {
      "displayName": "Mariana Curi",
      "photoUrl": "https://lh3.googleusercontent.com/a-/AOh14GiUk4mHVBS2XmbO3T_egBmeE8u-rQFdeJ--jJQJ=s64",
      "userId": "06685422165778027680"
     },
     "user_tz": 180
    },
    "id": "nTvuCKGb-1d6",
    "outputId": "088567ac-436a-4908-80a3-a8734585b596",
    "papermill": {
     "duration": null,
     "end_time": null,
     "exception": null,
     "start_time": null,
     "status": "pending"
    },
    "tags": []
   },
   "outputs": [],
   "source": [
    "sampleF.describe()"
   ]
  },
  {
   "cell_type": "code",
   "execution_count": null,
   "id": "b64c18cf",
   "metadata": {
    "executionInfo": {
     "elapsed": 348,
     "status": "ok",
     "timestamp": 1633458782361,
     "user": {
      "displayName": "Mariana Curi",
      "photoUrl": "https://lh3.googleusercontent.com/a-/AOh14GiUk4mHVBS2XmbO3T_egBmeE8u-rQFdeJ--jJQJ=s64",
      "userId": "06685422165778027680"
     },
     "user_tz": 180
    },
    "id": "QDIf4KFi-1d7",
    "outputId": "0adce912-026d-46a0-f5ed-a5d78340b6b4",
    "papermill": {
     "duration": null,
     "end_time": null,
     "exception": null,
     "start_time": null,
     "status": "pending"
    },
    "tags": []
   },
   "outputs": [],
   "source": [
    "sampleM.describe()"
   ]
  },
  {
   "cell_type": "code",
   "execution_count": null,
   "id": "d3411587",
   "metadata": {
    "executionInfo": {
     "elapsed": 657,
     "status": "ok",
     "timestamp": 1633365376759,
     "user": {
      "displayName": "Mariana Curi",
      "photoUrl": "https://lh3.googleusercontent.com/a-/AOh14GiUk4mHVBS2XmbO3T_egBmeE8u-rQFdeJ--jJQJ=s64",
      "userId": "06685422165778027680"
     },
     "user_tz": 180
    },
    "id": "j6OTMiDA-1d7",
    "outputId": "db2e13b8-febc-47da-b2c6-c3b14bfcb89f",
    "papermill": {
     "duration": null,
     "end_time": null,
     "exception": null,
     "start_time": null,
     "status": "pending"
    },
    "tags": []
   },
   "outputs": [],
   "source": [
    "import matplotlib.pyplot as plt\n",
    "from scipy import stats\n",
    "\n",
    "# Gráfico de probabilidade da Normal, para checar suposição de tal distribuição dos dados\n",
    "# para o teste t de Student\n",
    "stats.probplot(sampleF, plot=plt)\n",
    "stats.probplot(sampleM, plot=plt)\n",
    "fig = plt.figure()"
   ]
  },
  {
   "cell_type": "code",
   "execution_count": null,
   "id": "12a5c403",
   "metadata": {
    "executionInfo": {
     "elapsed": 221,
     "status": "ok",
     "timestamp": 1633365389382,
     "user": {
      "displayName": "Mariana Curi",
      "photoUrl": "https://lh3.googleusercontent.com/a-/AOh14GiUk4mHVBS2XmbO3T_egBmeE8u-rQFdeJ--jJQJ=s64",
      "userId": "06685422165778027680"
     },
     "user_tz": 180
    },
    "id": "uJ-6EGo9-1d7",
    "outputId": "1954a0f6-afce-4c74-ea50-a70e02bbaf03",
    "papermill": {
     "duration": null,
     "end_time": null,
     "exception": null,
     "start_time": null,
     "status": "pending"
    },
    "tags": []
   },
   "outputs": [],
   "source": [
    "# Teste de Shapiro-Wilks para normalidade\n",
    "stats.shapiro(dataM)"
   ]
  },
  {
   "cell_type": "code",
   "execution_count": null,
   "id": "cb75ec8b",
   "metadata": {
    "executionInfo": {
     "elapsed": 230,
     "status": "ok",
     "timestamp": 1633365393318,
     "user": {
      "displayName": "Mariana Curi",
      "photoUrl": "https://lh3.googleusercontent.com/a-/AOh14GiUk4mHVBS2XmbO3T_egBmeE8u-rQFdeJ--jJQJ=s64",
      "userId": "06685422165778027680"
     },
     "user_tz": 180
    },
    "id": "CJNKIjI--1d8",
    "outputId": "23f588ae-ae1b-45e6-f050-cbb25595de81",
    "papermill": {
     "duration": null,
     "end_time": null,
     "exception": null,
     "start_time": null,
     "status": "pending"
    },
    "tags": []
   },
   "outputs": [],
   "source": [
    "# Teste de Kolmogorov-Smirnov para normalidade\n",
    "mu = dataF.mean()\n",
    "sigma = dataF.std()\n",
    "stats.kstest(dataF,'norm',args=(mu,sigma))"
   ]
  },
  {
   "cell_type": "code",
   "execution_count": null,
   "id": "4bb4a840",
   "metadata": {
    "executionInfo": {
     "elapsed": 220,
     "status": "ok",
     "timestamp": 1633365401213,
     "user": {
      "displayName": "Mariana Curi",
      "photoUrl": "https://lh3.googleusercontent.com/a-/AOh14GiUk4mHVBS2XmbO3T_egBmeE8u-rQFdeJ--jJQJ=s64",
      "userId": "06685422165778027680"
     },
     "user_tz": 180
    },
    "id": "os8eEOqo-1d8",
    "outputId": "42441ee8-03d7-4999-df90-c8ca19f4f3eb",
    "papermill": {
     "duration": null,
     "end_time": null,
     "exception": null,
     "start_time": null,
     "status": "pending"
    },
    "tags": []
   },
   "outputs": [],
   "source": [
    "# Teste de Levene para igualdade de variâncias\n",
    "stats.levene(sampleF,sampleM)\n"
   ]
  },
  {
   "cell_type": "markdown",
   "id": "b62ea97e",
   "metadata": {
    "id": "W4fn6xazPQjw",
    "papermill": {
     "duration": null,
     "end_time": null,
     "exception": null,
     "start_time": null,
     "status": "pending"
    },
    "tags": []
   },
   "source": [
    "#  **AULA 3 P1: Projeto 2 (Tempo de realização de tarefas: descritiva, regressão e classificação)**"
   ]
  },
  {
   "cell_type": "code",
   "execution_count": null,
   "id": "7ee7d39c",
   "metadata": {
    "executionInfo": {
     "elapsed": 6747,
     "status": "ok",
     "timestamp": 1633607462620,
     "user": {
      "displayName": "Mariana Curi",
      "photoUrl": "https://lh3.googleusercontent.com/a-/AOh14GiUk4mHVBS2XmbO3T_egBmeE8u-rQFdeJ--jJQJ=s64",
      "userId": "06685422165778027680"
     },
     "user_tz": 180
    },
    "id": "6Tc15fTuMZVd",
    "outputId": "a134e775-8bf2-48dc-adf1-0d977faa6e40",
    "papermill": {
     "duration": null,
     "end_time": null,
     "exception": null,
     "start_time": null,
     "status": "pending"
    },
    "tags": []
   },
   "outputs": [],
   "source": [
    "# importa o data set\n",
    "from google.colab import files\n",
    "uploaded = files.upload()\n",
    "\n",
    "data2 = pd.read_csv('projeto2.csv')\n",
    "data2.head()"
   ]
  },
  {
   "cell_type": "code",
   "execution_count": null,
   "id": "45827d4b",
   "metadata": {
    "executionInfo": {
     "elapsed": 330,
     "status": "ok",
     "timestamp": 1633558690885,
     "user": {
      "displayName": "Mariana Curi",
      "photoUrl": "https://lh3.googleusercontent.com/a-/AOh14GiUk4mHVBS2XmbO3T_egBmeE8u-rQFdeJ--jJQJ=s64",
      "userId": "06685422165778027680"
     },
     "user_tz": 180
    },
    "id": "d2j8g5yzQUN2",
    "outputId": "c6a3bcae-1833-4762-ee14-c56fad815f80",
    "papermill": {
     "duration": null,
     "end_time": null,
     "exception": null,
     "start_time": null,
     "status": "pending"
    },
    "tags": []
   },
   "outputs": [],
   "source": [
    "data2.head()"
   ]
  },
  {
   "cell_type": "code",
   "execution_count": null,
   "id": "9d26c3da",
   "metadata": {
    "executionInfo": {
     "elapsed": 378,
     "status": "ok",
     "timestamp": 1633385142061,
     "user": {
      "displayName": "Mariana Curi",
      "photoUrl": "https://lh3.googleusercontent.com/a-/AOh14GiUk4mHVBS2XmbO3T_egBmeE8u-rQFdeJ--jJQJ=s64",
      "userId": "06685422165778027680"
     },
     "user_tz": 180
    },
    "id": "yrvdFo66U6t3",
    "outputId": "123077c4-f26a-4def-fd2c-2354555f62cb",
    "papermill": {
     "duration": null,
     "end_time": null,
     "exception": null,
     "start_time": null,
     "status": "pending"
    },
    "tags": []
   },
   "outputs": [],
   "source": [
    "# o tamanho atualizado do conjunto de dados\n",
    "data2.shape"
   ]
  },
  {
   "cell_type": "code",
   "execution_count": null,
   "id": "2c619a3b",
   "metadata": {
    "executionInfo": {
     "elapsed": 405,
     "status": "ok",
     "timestamp": 1633607471701,
     "user": {
      "displayName": "Mariana Curi",
      "photoUrl": "https://lh3.googleusercontent.com/a-/AOh14GiUk4mHVBS2XmbO3T_egBmeE8u-rQFdeJ--jJQJ=s64",
      "userId": "06685422165778027680"
     },
     "user_tz": 180
    },
    "id": "NlKF9Mrz2BGq",
    "outputId": "c070d740-aaca-42ca-adea-89af9d69708d",
    "papermill": {
     "duration": null,
     "end_time": null,
     "exception": null,
     "start_time": null,
     "status": "pending"
    },
    "tags": []
   },
   "outputs": [],
   "source": [
    "import matplotlib.pyplot as plt\n",
    "import seaborn as sns\n",
    " \n",
    "# Grouped boxplot\n",
    "box_plot_data=[data2.tA,data2.tB,data2.tC]\n",
    "plt.boxplot(box_plot_data,patch_artist=True,labels=['Descritiva','Regressão','Classificação'])\n",
    "plt.show()\n"
   ]
  },
  {
   "cell_type": "code",
   "execution_count": null,
   "id": "d45da7ba",
   "metadata": {
    "executionInfo": {
     "elapsed": 312,
     "status": "ok",
     "timestamp": 1633385146979,
     "user": {
      "displayName": "Mariana Curi",
      "photoUrl": "https://lh3.googleusercontent.com/a-/AOh14GiUk4mHVBS2XmbO3T_egBmeE8u-rQFdeJ--jJQJ=s64",
      "userId": "06685422165778027680"
     },
     "user_tz": 180
    },
    "id": "-Y3cTO744hIR",
    "outputId": "18b62aef-6ddf-4ff5-fb81-ecd788c557cf",
    "papermill": {
     "duration": null,
     "end_time": null,
     "exception": null,
     "start_time": null,
     "status": "pending"
    },
    "tags": []
   },
   "outputs": [],
   "source": [
    "data2.describe().round(decimals=2)"
   ]
  },
  {
   "cell_type": "code",
   "execution_count": null,
   "id": "2576b7f3",
   "metadata": {
    "executionInfo": {
     "elapsed": 370,
     "status": "ok",
     "timestamp": 1633607481966,
     "user": {
      "displayName": "Mariana Curi",
      "photoUrl": "https://lh3.googleusercontent.com/a-/AOh14GiUk4mHVBS2XmbO3T_egBmeE8u-rQFdeJ--jJQJ=s64",
      "userId": "06685422165778027680"
     },
     "user_tz": 180
    },
    "id": "uYBcKMCK97Ha",
    "outputId": "342e4d9a-393a-4dee-ae30-d78e32878276",
    "papermill": {
     "duration": null,
     "end_time": null,
     "exception": null,
     "start_time": null,
     "status": "pending"
    },
    "tags": []
   },
   "outputs": [],
   "source": [
    "import scipy.stats as stats\n",
    "\n",
    "# ANOVA usando scipy.stats.f_oneway: cada grupo em uma coluna\n",
    "stats.f_oneway(data2.tA, data2.tB, data2.tC)"
   ]
  },
  {
   "cell_type": "code",
   "execution_count": null,
   "id": "67522f2d",
   "metadata": {
    "executionInfo": {
     "elapsed": 380,
     "status": "ok",
     "timestamp": 1633608007186,
     "user": {
      "displayName": "Mariana Curi",
      "photoUrl": "https://lh3.googleusercontent.com/a-/AOh14GiUk4mHVBS2XmbO3T_egBmeE8u-rQFdeJ--jJQJ=s64",
      "userId": "06685422165778027680"
     },
     "user_tz": 180
    },
    "id": "8iTzzLO5V4sn",
    "outputId": "1f72c46b-83e8-4277-d905-42a40d5d89cf",
    "papermill": {
     "duration": null,
     "end_time": null,
     "exception": null,
     "start_time": null,
     "status": "pending"
    },
    "tags": []
   },
   "outputs": [],
   "source": [
    "# Teste de homocedasticidade\n",
    "stats.levene(data2.tA, data2.tB, data2.tC)"
   ]
  },
  {
   "cell_type": "code",
   "execution_count": null,
   "id": "e5360c93",
   "metadata": {
    "executionInfo": {
     "elapsed": 6895,
     "status": "ok",
     "timestamp": 1633607492469,
     "user": {
      "displayName": "Mariana Curi",
      "photoUrl": "https://lh3.googleusercontent.com/a-/AOh14GiUk4mHVBS2XmbO3T_egBmeE8u-rQFdeJ--jJQJ=s64",
      "userId": "06685422165778027680"
     },
     "user_tz": 180
    },
    "id": "HRrFKuYQDbFv",
    "outputId": "8cb2b9de-9968-43b1-be7a-37367bb529e3",
    "papermill": {
     "duration": null,
     "end_time": null,
     "exception": null,
     "start_time": null,
     "status": "pending"
    },
    "tags": []
   },
   "outputs": [],
   "source": [
    "\n",
    "from google.colab import files\n",
    "uploaded = files.upload()\n",
    "\n",
    "data3 = pd.read_csv('projeto2_colunas.csv')\n",
    "data3.head()"
   ]
  },
  {
   "cell_type": "code",
   "execution_count": null,
   "id": "a3c9c4ae",
   "metadata": {
    "executionInfo": {
     "elapsed": 432,
     "status": "ok",
     "timestamp": 1633607505348,
     "user": {
      "displayName": "Mariana Curi",
      "photoUrl": "https://lh3.googleusercontent.com/a-/AOh14GiUk4mHVBS2XmbO3T_egBmeE8u-rQFdeJ--jJQJ=s64",
      "userId": "06685422165778027680"
     },
     "user_tz": 180
    },
    "id": "O4HZFFy9CnDX",
    "outputId": "85fca496-62db-43c7-9a31-1c37d7207bc1",
    "papermill": {
     "duration": null,
     "end_time": null,
     "exception": null,
     "start_time": null,
     "status": "pending"
    },
    "tags": []
   },
   "outputs": [],
   "source": [
    "# Tabela ANOVA (como em R)\n",
    "import statsmodels.api as sm\n",
    "from statsmodels.formula.api import ols\n",
    "\n",
    "# os tempo devem estar em uma única coluna\n",
    "model = ols('tempo ~ C(tarefa)',data=data3).fit()\n",
    "anova_table = sm.stats.anova_lm(model, typ=2) # ou typ=3, para mais fatores\n",
    "anova_table"
   ]
  },
  {
   "cell_type": "code",
   "execution_count": null,
   "id": "9978fd28",
   "metadata": {
    "executionInfo": {
     "elapsed": 528,
     "status": "ok",
     "timestamp": 1633608143393,
     "user": {
      "displayName": "Mariana Curi",
      "photoUrl": "https://lh3.googleusercontent.com/a-/AOh14GiUk4mHVBS2XmbO3T_egBmeE8u-rQFdeJ--jJQJ=s64",
      "userId": "06685422165778027680"
     },
     "user_tz": 180
    },
    "id": "MwAY0DqQUqo2",
    "papermill": {
     "duration": null,
     "end_time": null,
     "exception": null,
     "start_time": null,
     "status": "pending"
    },
    "tags": []
   },
   "outputs": [],
   "source": [
    "# valores preditos da resposta média\n",
    "ypred=model.fittedvalues\n",
    "\n",
    "# Calcula os resíduos (observado-ajustado) do modelo para verificação das suposições\n",
    "res = model.resid\n",
    "\n",
    "# objeto para a análise de pontos influentes\n",
    "infl = model.get_influence()\n",
    "\n",
    "# resíduo studentizado (internamente)\n",
    "res_stud = infl.resid_studentized_internal"
   ]
  },
  {
   "cell_type": "code",
   "execution_count": null,
   "id": "bee6c356",
   "metadata": {
    "executionInfo": {
     "elapsed": 1056,
     "status": "ok",
     "timestamp": 1633607514358,
     "user": {
      "displayName": "Mariana Curi",
      "photoUrl": "https://lh3.googleusercontent.com/a-/AOh14GiUk4mHVBS2XmbO3T_egBmeE8u-rQFdeJ--jJQJ=s64",
      "userId": "06685422165778027680"
     },
     "user_tz": 180
    },
    "id": "qSuIfl2oUu2Y",
    "outputId": "0b273e97-47f1-4b51-eb14-f16d0357f3f0",
    "papermill": {
     "duration": null,
     "end_time": null,
     "exception": null,
     "start_time": null,
     "status": "pending"
    },
    "tags": []
   },
   "outputs": [],
   "source": [
    "fig, (ax1, ax2) = plt.subplots(2)\n",
    "ax1.scatter(ypred, res)\n",
    "ax1.set_ylabel('$y-\\hat{y}$')\n",
    "ax1.set_title('Resíduos')\n",
    "ax1.hlines(0,xmin=min(ypred),xmax=max(ypred),color='gray')\n",
    "ax2.scatter(ypred, res_stud)\n",
    "ax2.set_ylabel('studentizado')\n",
    "ax2.set_xlabel('valor predito')\n",
    "ax2.hlines(0,xmin=min(ypred),xmax=max(ypred),color='gray')\n",
    "\n",
    "for ax in fig.get_axes():\n",
    "    ax.label_outer()"
   ]
  },
  {
   "cell_type": "code",
   "execution_count": null,
   "id": "46206858",
   "metadata": {
    "executionInfo": {
     "elapsed": 362,
     "status": "ok",
     "timestamp": 1633608288856,
     "user": {
      "displayName": "Mariana Curi",
      "photoUrl": "https://lh3.googleusercontent.com/a-/AOh14GiUk4mHVBS2XmbO3T_egBmeE8u-rQFdeJ--jJQJ=s64",
      "userId": "06685422165778027680"
     },
     "user_tz": 180
    },
    "id": "zZTpH7GZU0xk",
    "outputId": "0f3cd5b9-67f7-4201-f122-06de40e4024a",
    "papermill": {
     "duration": null,
     "end_time": null,
     "exception": null,
     "start_time": null,
     "status": "pending"
    },
    "tags": []
   },
   "outputs": [],
   "source": [
    "# Teste de normalidade dos resíduos\n",
    "stats.shapiro(res)"
   ]
  },
  {
   "cell_type": "code",
   "execution_count": null,
   "id": "7c455415",
   "metadata": {
    "executionInfo": {
     "elapsed": 441,
     "status": "ok",
     "timestamp": 1633608307138,
     "user": {
      "displayName": "Mariana Curi",
      "photoUrl": "https://lh3.googleusercontent.com/a-/AOh14GiUk4mHVBS2XmbO3T_egBmeE8u-rQFdeJ--jJQJ=s64",
      "userId": "06685422165778027680"
     },
     "user_tz": 180
    },
    "id": "lgcPWBeDU4QW",
    "outputId": "ed2fa34c-307c-4d3d-f813-8c4f68dc4645",
    "papermill": {
     "duration": null,
     "end_time": null,
     "exception": null,
     "start_time": null,
     "status": "pending"
    },
    "tags": []
   },
   "outputs": [],
   "source": [
    "# Gráfico de probabilidade Normal\n",
    "fig = sm.qqplot(res, line='s')"
   ]
  },
  {
   "cell_type": "code",
   "execution_count": null,
   "id": "aae55e54",
   "metadata": {
    "executionInfo": {
     "elapsed": 309,
     "status": "ok",
     "timestamp": 1633385266475,
     "user": {
      "displayName": "Mariana Curi",
      "photoUrl": "https://lh3.googleusercontent.com/a-/AOh14GiUk4mHVBS2XmbO3T_egBmeE8u-rQFdeJ--jJQJ=s64",
      "userId": "06685422165778027680"
     },
     "user_tz": 180
    },
    "id": "jWu-DwNSWPpJ",
    "outputId": "2600c86b-cdd7-4c50-83e4-c63a43e8ef38",
    "papermill": {
     "duration": null,
     "end_time": null,
     "exception": null,
     "start_time": null,
     "status": "pending"
    },
    "tags": []
   },
   "outputs": [],
   "source": [
    "# Comparações múltiplas\n",
    "\n",
    "from statsmodels.stats.multicomp import (pairwise_tukeyhsd,\n",
    "                                         MultiComparison)\n",
    "\n",
    "# Método de comparações múltiplas de Tukey\n",
    "MultiComp = MultiComparison(data3.tempo,\n",
    "                           data3.tarefa)\n",
    "print(MultiComp.tukeyhsd().summary())"
   ]
  },
  {
   "cell_type": "code",
   "execution_count": null,
   "id": "749de826",
   "metadata": {
    "executionInfo": {
     "elapsed": 315,
     "status": "ok",
     "timestamp": 1633385291148,
     "user": {
      "displayName": "Mariana Curi",
      "photoUrl": "https://lh3.googleusercontent.com/a-/AOh14GiUk4mHVBS2XmbO3T_egBmeE8u-rQFdeJ--jJQJ=s64",
      "userId": "06685422165778027680"
     },
     "user_tz": 180
    },
    "id": "rFJKogEiWXJ-",
    "outputId": "7a8b6bc1-f3a3-4b28-e87e-bf6310e12de9",
    "papermill": {
     "duration": null,
     "end_time": null,
     "exception": null,
     "start_time": null,
     "status": "pending"
    },
    "tags": []
   },
   "outputs": [],
   "source": [
    "# Holm-Bonferroni method \n",
    "comp = MultiComp.allpairtest(stats.ttest_rel, method='Holm')\n",
    "print (comp[0])\n"
   ]
  },
  {
   "cell_type": "code",
   "execution_count": null,
   "id": "a1103c69",
   "metadata": {
    "executionInfo": {
     "elapsed": 225,
     "status": "ok",
     "timestamp": 1633559179311,
     "user": {
      "displayName": "Mariana Curi",
      "photoUrl": "https://lh3.googleusercontent.com/a-/AOh14GiUk4mHVBS2XmbO3T_egBmeE8u-rQFdeJ--jJQJ=s64",
      "userId": "06685422165778027680"
     },
     "user_tz": 180
    },
    "id": "HsmjXw3Yr-7E",
    "outputId": "07512f96-a927-4627-9461-5a4ce37422ea",
    "papermill": {
     "duration": null,
     "end_time": null,
     "exception": null,
     "start_time": null,
     "status": "pending"
    },
    "tags": []
   },
   "outputs": [],
   "source": [
    "# Vamos supor que as bases de dados são as mesmas e comparar se os tempos das tarefas de descrição e regressão \n",
    "import matplotlib.pyplot as plt\n",
    "\n",
    "data2.dif = data2.tA-data2.tB\n",
    "plt.boxplot(data2.dif,labels=['tA-tB'])"
   ]
  },
  {
   "cell_type": "code",
   "execution_count": null,
   "id": "8a340599",
   "metadata": {
    "executionInfo": {
     "elapsed": 353,
     "status": "ok",
     "timestamp": 1633559704679,
     "user": {
      "displayName": "Mariana Curi",
      "photoUrl": "https://lh3.googleusercontent.com/a-/AOh14GiUk4mHVBS2XmbO3T_egBmeE8u-rQFdeJ--jJQJ=s64",
      "userId": "06685422165778027680"
     },
     "user_tz": 180
    },
    "id": "0zxHpG1uurps",
    "outputId": "eb1ec2f8-41e8-4e16-b460-efa262d8d33a",
    "papermill": {
     "duration": null,
     "end_time": null,
     "exception": null,
     "start_time": null,
     "status": "pending"
    },
    "tags": []
   },
   "outputs": [],
   "source": [
    "from statistics import mean, stdev\n",
    "media = mean(data2.dif)\n",
    "dp = stdev(data2.dif)\n",
    "est = media/dp*np.sqrt(50)\n",
    "\n",
    "media, dp,est"
   ]
  },
  {
   "cell_type": "code",
   "execution_count": null,
   "id": "b0d52b16",
   "metadata": {
    "executionInfo": {
     "elapsed": 377,
     "status": "ok",
     "timestamp": 1633609466674,
     "user": {
      "displayName": "Mariana Curi",
      "photoUrl": "https://lh3.googleusercontent.com/a-/AOh14GiUk4mHVBS2XmbO3T_egBmeE8u-rQFdeJ--jJQJ=s64",
      "userId": "06685422165778027680"
     },
     "user_tz": 180
    },
    "id": "K2GfWLt9y4O2",
    "outputId": "9a1cdc20-7bc0-4096-fb26-196a96cdc427",
    "papermill": {
     "duration": null,
     "end_time": null,
     "exception": null,
     "start_time": null,
     "status": "pending"
    },
    "tags": []
   },
   "outputs": [],
   "source": [
    "from scipy.stats import t\n",
    "\n",
    "t.ppf(0.025, 49)"
   ]
  },
  {
   "cell_type": "code",
   "execution_count": null,
   "id": "f7ae5c3c",
   "metadata": {
    "executionInfo": {
     "elapsed": 379,
     "status": "ok",
     "timestamp": 1633609621237,
     "user": {
      "displayName": "Mariana Curi",
      "photoUrl": "https://lh3.googleusercontent.com/a-/AOh14GiUk4mHVBS2XmbO3T_egBmeE8u-rQFdeJ--jJQJ=s64",
      "userId": "06685422165778027680"
     },
     "user_tz": 180
    },
    "id": "NXt04CKdsRI7",
    "outputId": "e465900a-07d7-4667-94a8-f744e4cb890a",
    "papermill": {
     "duration": null,
     "end_time": null,
     "exception": null,
     "start_time": null,
     "status": "pending"
    },
    "tags": []
   },
   "outputs": [],
   "source": [
    "from scipy import stats\n",
    "# Teste t de Student pareado\n",
    "stats.ttest_rel(data2.tA, data2.tB)"
   ]
  },
  {
   "cell_type": "code",
   "execution_count": null,
   "id": "2a6517c3",
   "metadata": {
    "executionInfo": {
     "elapsed": 374,
     "status": "ok",
     "timestamp": 1633609637171,
     "user": {
      "displayName": "Mariana Curi",
      "photoUrl": "https://lh3.googleusercontent.com/a-/AOh14GiUk4mHVBS2XmbO3T_egBmeE8u-rQFdeJ--jJQJ=s64",
      "userId": "06685422165778027680"
     },
     "user_tz": 180
    },
    "id": "MUfAUlogs1XU",
    "outputId": "659758fa-dc3b-48b2-da4c-7f5ffc16c4bb",
    "papermill": {
     "duration": null,
     "end_time": null,
     "exception": null,
     "start_time": null,
     "status": "pending"
    },
    "tags": []
   },
   "outputs": [],
   "source": [
    "# Ou pelo teste para 1 população (equivalente à diferença dos pares de valores igual a 0)\n",
    "stats.ttest_1samp(data2.tA-data2.tB, 0)"
   ]
  }
 ],
 "metadata": {
  "kernelspec": {
   "display_name": "Python 3",
   "language": "python",
   "name": "python3"
  },
  "language_info": {
   "codemirror_mode": {
    "name": "ipython",
    "version": 3
   },
   "file_extension": ".py",
   "mimetype": "text/x-python",
   "name": "python",
   "nbconvert_exporter": "python",
   "pygments_lexer": "ipython3",
   "version": "3.8.10"
  },
  "papermill": {
   "default_parameters": {},
   "duration": 3.374262,
   "end_time": "2022-11-23T12:06:08.161232",
   "environment_variables": {},
   "exception": true,
   "input_path": "__notebook__.ipynb",
   "output_path": "__notebook__.ipynb",
   "parameters": {},
   "start_time": "2022-11-23T12:06:04.786970",
   "version": "2.4.0"
  }
 },
 "nbformat": 4,
 "nbformat_minor": 5
}
