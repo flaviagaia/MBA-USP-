{
 "cells": [
  {
   "cell_type": "code",
   "execution_count": 1,
   "id": "e354e069",
   "metadata": {
    "execution": {
     "iopub.execute_input": "2022-11-23T12:04:55.744665Z",
     "iopub.status.busy": "2022-11-23T12:04:55.743775Z",
     "iopub.status.idle": "2022-11-23T12:04:56.403459Z",
     "shell.execute_reply": "2022-11-23T12:04:56.402060Z"
    },
    "id": "SJpOLRdrUSc4",
    "outputId": "b4711bfd-df33-47db-d402-a7c8a47fb1c2",
    "papermill": {
     "duration": 0.66664,
     "end_time": "2022-11-23T12:04:56.405836",
     "exception": true,
     "start_time": "2022-11-23T12:04:55.739196",
     "status": "failed"
    },
    "tags": []
   },
   "outputs": [
    {
     "ename": "ModuleNotFoundError",
     "evalue": "No module named 'scipy'",
     "output_type": "error",
     "traceback": [
      "\u001b[0;31m---------------------------------------------------------------------------\u001b[0m",
      "\u001b[0;31mModuleNotFoundError\u001b[0m                       Traceback (most recent call last)",
      "Cell \u001b[0;32mIn [1], line 1\u001b[0m\n\u001b[0;32m----> 1\u001b[0m \u001b[38;5;28;01mfrom\u001b[39;00m \u001b[38;5;21;01mscipy\u001b[39;00m\u001b[38;5;21;01m.\u001b[39;00m\u001b[38;5;21;01mstats\u001b[39;00m \u001b[38;5;28;01mimport\u001b[39;00m bernoulli\n\u001b[1;32m      2\u001b[0m \u001b[38;5;28;01mimport\u001b[39;00m \u001b[38;5;21;01mnumpy\u001b[39;00m \u001b[38;5;28;01mas\u001b[39;00m \u001b[38;5;21;01mnp\u001b[39;00m \n\u001b[1;32m      3\u001b[0m \u001b[38;5;28;01mimport\u001b[39;00m \u001b[38;5;21;01mmath\u001b[39;00m\n",
      "\u001b[0;31mModuleNotFoundError\u001b[0m: No module named 'scipy'"
     ]
    }
   ],
   "source": [
    "from scipy.stats import bernoulli\n",
    "import numpy as np \n",
    "import math\n",
    "from scipy.stats import norm\n",
    "\n",
    "# Define os tamanho amostral (n), a probabilidade de sucesso (p) e gera n Bernoullis independentes\n",
    "n=20\n",
    "p=0.5\n",
    "x = bernoulli.rvs(p, size = n)\n",
    "\n",
    "p_hat = np.mean(x)    # proporção estimada \n",
    "\n",
    "# Define o nível de confiança do intervalo e obtém o quantil da Normal\n",
    "conf = .95            \n",
    "z = norm.ppf((1-conf)/2, loc=0, scale=1)\n",
    "\n",
    "# Calcula o intervalo de confiança da proporção aproximado pela Normal\n",
    "L = p_hat+z*math.sqrt(p_hat*(1-p_hat)/n)\n",
    "U = p_hat-z*math.sqrt(p_hat*(1-p_hat)/n)\n",
    "print(x)\n",
    "print(\"p_hat = \",p_hat)\n",
    "print(\"IC(95%) = [\",L,\";\",U,\"]\")"
   ]
  },
  {
   "cell_type": "code",
   "execution_count": null,
   "id": "810614b4",
   "metadata": {
    "id": "3R94qEbRdhB7",
    "outputId": "4e23df77-45e5-4532-f463-b2ffb51c592a",
    "papermill": {
     "duration": null,
     "end_time": null,
     "exception": null,
     "start_time": null,
     "status": "pending"
    },
    "tags": []
   },
   "outputs": [],
   "source": [
    "import statsmodels.api as sm\n",
    "from statsmodels.stats.proportion import proportion_confint   # intervalo de confiança para a proporção\n",
    "\n",
    "proportion_confint(count=np.sum(x),    # número de sucessos\n",
    "                   nobs=n,             # n\n",
    "                   alpha=(1 - conf))   # alpha, que é dado por 1-coeficiente de confiança do intervalo"
   ]
  },
  {
   "cell_type": "code",
   "execution_count": null,
   "id": "cd14bb72",
   "metadata": {
    "id": "nNpWwyCzeKrC",
    "papermill": {
     "duration": null,
     "end_time": null,
     "exception": null,
     "start_time": null,
     "status": "pending"
    },
    "tags": []
   },
   "outputs": [],
   "source": [
    "res = []\n",
    "for i in range(100):\n",
    "  x = bernoulli.rvs(p, size = n)\n",
    "  L,U = proportion_confint(count=np.sum(x), nobs=n, alpha=(1 - conf)) #aproximado pela Normal\n",
    "  if p>L and p<U: pertence=1    # Verifica se o intervalo contém o verdadeiro valor de p\n",
    "  else: pertence=0\n",
    "  #print(x,L,U,pertence)\n",
    "  res.append(pertence)"
   ]
  },
  {
   "cell_type": "code",
   "execution_count": null,
   "id": "b8afc0e8",
   "metadata": {
    "id": "hT_-VmCTgLGw",
    "outputId": "c2595a74-aaf6-4fea-f1aa-a6f2435b1efd",
    "papermill": {
     "duration": null,
     "end_time": null,
     "exception": null,
     "start_time": null,
     "status": "pending"
    },
    "tags": []
   },
   "outputs": [],
   "source": [
    " np.mean(res)   # proporção de intervalos com o verdadeiro valor de p"
   ]
  }
 ],
 "metadata": {
  "kernelspec": {
   "display_name": "Python 3",
   "language": "python",
   "name": "python3"
  },
  "language_info": {
   "codemirror_mode": {
    "name": "ipython",
    "version": 3
   },
   "file_extension": ".py",
   "mimetype": "text/x-python",
   "name": "python",
   "nbconvert_exporter": "python",
   "pygments_lexer": "ipython3",
   "version": "3.8.10"
  },
  "papermill": {
   "default_parameters": {},
   "duration": 3.387154,
   "end_time": "2022-11-23T12:04:56.726561",
   "environment_variables": {},
   "exception": true,
   "input_path": "__notebook__.ipynb",
   "output_path": "__notebook__.ipynb",
   "parameters": {},
   "start_time": "2022-11-23T12:04:53.339407",
   "version": "2.4.0"
  }
 },
 "nbformat": 4,
 "nbformat_minor": 5
}
