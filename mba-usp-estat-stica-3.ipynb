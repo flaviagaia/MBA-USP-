{
 "cells": [
  {
   "cell_type": "markdown",
   "id": "a1926fff",
   "metadata": {
    "id": "-GuFMoxW7k9q",
    "papermill": {
     "duration": 0.008746,
     "end_time": "2022-11-23T12:02:21.238528",
     "exception": false,
     "start_time": "2022-11-23T12:02:21.229782",
     "status": "completed"
    },
    "tags": []
   },
   "source": [
    "#  **AULA 1 - P5: Distribuições de probabilidades**\n"
   ]
  },
  {
   "cell_type": "markdown",
   "id": "5c1e652e",
   "metadata": {
    "id": "RzXkUoDl7k93",
    "papermill": {
     "duration": 0.006319,
     "end_time": "2022-11-23T12:02:21.252369",
     "exception": false,
     "start_time": "2022-11-23T12:02:21.246050",
     "status": "completed"
    },
    "tags": []
   },
   "source": [
    "* **Distribuição Binomial**"
   ]
  },
  {
   "cell_type": "code",
   "execution_count": 1,
   "id": "a66ecda7",
   "metadata": {
    "execution": {
     "iopub.execute_input": "2022-11-23T12:02:21.267599Z",
     "iopub.status.busy": "2022-11-23T12:02:21.267184Z",
     "iopub.status.idle": "2022-11-23T12:02:22.511777Z",
     "shell.execute_reply": "2022-11-23T12:02:22.509915Z"
    },
    "id": "1DNerer57k98",
    "outputId": "8ef85c94-417b-46fa-e4dd-405de87d499f",
    "papermill": {
     "duration": 1.256252,
     "end_time": "2022-11-23T12:02:22.514686",
     "exception": true,
     "start_time": "2022-11-23T12:02:21.258434",
     "status": "failed"
    },
    "tags": []
   },
   "outputs": [
    {
     "ename": "ModuleNotFoundError",
     "evalue": "No module named 'matplotlib'",
     "output_type": "error",
     "traceback": [
      "\u001b[0;31m---------------------------------------------------------------------------\u001b[0m",
      "\u001b[0;31mModuleNotFoundError\u001b[0m                       Traceback (most recent call last)",
      "Cell \u001b[0;32mIn [1], line 3\u001b[0m\n\u001b[1;32m      1\u001b[0m \u001b[38;5;66;03m# importa as bibliotecas\u001b[39;00m\n\u001b[1;32m      2\u001b[0m \u001b[38;5;28;01mimport\u001b[39;00m \u001b[38;5;21;01mnumpy\u001b[39;00m \u001b[38;5;28;01mas\u001b[39;00m \u001b[38;5;21;01mnp\u001b[39;00m\n\u001b[0;32m----> 3\u001b[0m \u001b[38;5;28;01mimport\u001b[39;00m \u001b[38;5;21;01mmatplotlib\u001b[39;00m\u001b[38;5;21;01m.\u001b[39;00m\u001b[38;5;21;01mpyplot\u001b[39;00m \u001b[38;5;28;01mas\u001b[39;00m \u001b[38;5;21;01mplt\u001b[39;00m\n\u001b[1;32m      5\u001b[0m n, p \u001b[38;5;241m=\u001b[39m \u001b[38;5;241m10\u001b[39m, \u001b[38;5;241m.5\u001b[39m  \u001b[38;5;66;03m# nº de repetições do experimento (Bernoulli), probabilidade de sucesso\u001b[39;00m\n\u001b[1;32m      6\u001b[0m s \u001b[38;5;241m=\u001b[39m np\u001b[38;5;241m.\u001b[39mrandom\u001b[38;5;241m.\u001b[39mbinomial(n, p, \u001b[38;5;241m1000\u001b[39m) \u001b[38;5;66;03m# geram-se 1000 valores dessa Binomial(n,p); s contém os 1000 valores da Binomial(n,p)\u001b[39;00m\n",
      "\u001b[0;31mModuleNotFoundError\u001b[0m: No module named 'matplotlib'"
     ]
    }
   ],
   "source": [
    "# importa as bibliotecas\n",
    "import numpy as np\n",
    "import matplotlib.pyplot as plt\n",
    "\n",
    "n, p = 10, .5  # nº de repetições do experimento (Bernoulli), probabilidade de sucesso\n",
    "s = np.random.binomial(n, p, 1000) # geram-se 1000 valores dessa Binomial(n,p); s contém os 1000 valores da Binomial(n,p)\n",
    "plt.hist(s)"
   ]
  },
  {
   "cell_type": "code",
   "execution_count": null,
   "id": "580089f5",
   "metadata": {
    "id": "0DWOsDy17k-D",
    "outputId": "db92d486-05da-463b-a8a1-1130e9c9ac1d",
    "papermill": {
     "duration": null,
     "end_time": null,
     "exception": null,
     "start_time": null,
     "status": "pending"
    },
    "tags": []
   },
   "outputs": [],
   "source": [
    "# importa as bibliotecas\n",
    "from scipy.stats import binom\n",
    "\n",
    "\n",
    "# Usando o scipy.stats\n",
    "n, p = 10, .5  # nº de repetições do experimento (Bernoulli), probabilidade de sucesso\n",
    "s = binom.rvs(n, p, size=1000) # cada elemento de s é Binomial(n,p)\n",
    "plt.hist(s)\n",
    "\n"
   ]
  },
  {
   "cell_type": "code",
   "execution_count": null,
   "id": "7aabe16e",
   "metadata": {
    "id": "U3h-k6Cr7k-H",
    "outputId": "11edd789-0ac0-4fdd-fb5b-be98f71f2fc6",
    "papermill": {
     "duration": null,
     "end_time": null,
     "exception": null,
     "start_time": null,
     "status": "pending"
    },
    "tags": []
   },
   "outputs": [],
   "source": [
    "x = range(0,n+1) # valores de x =0,1,2,3, ..., n\n",
    "p_x = binom.pmf(x,n,p) # distribuição de probabilidade teórica dos resultados\n",
    "\n",
    "# Aqui fazemos o gráfico da função massa de probabilidade de X\n",
    "# Note que trata-se de um gráfico de barras pois X é uma variável discreta\n",
    "import matplotlib.pyplot as plt\n",
    "plt.xlabel('nº de acertos')\n",
    "plt.ylabel('probabilidade')\n",
    "for a,b in zip(x, p_x):\n",
    "    plt.text(a-0.4, b-0.02, str(round(b,2)), color='white')\n",
    "plt.title('Binomial(n=10,p=.5)')\n",
    "plt.bar(x,p_x,color = (0.3,0.1,0.4,0.6))"
   ]
  },
  {
   "cell_type": "code",
   "execution_count": null,
   "id": "3ee2f029",
   "metadata": {
    "id": "RqGuUV1W7k-L",
    "outputId": "bd84f4da-373c-44a3-e4fb-6a30e93c28ad",
    "papermill": {
     "duration": null,
     "end_time": null,
     "exception": null,
     "start_time": null,
     "status": "pending"
    },
    "tags": []
   },
   "outputs": [],
   "source": [
    "binom.pmf(3,n,p) # função (massa) de probabilidade da Binomial (n,p)"
   ]
  },
  {
   "cell_type": "code",
   "execution_count": null,
   "id": "ac0dcfb2",
   "metadata": {
    "id": "bo5-LqF97k-P",
    "outputId": "93f9edda-fcdd-4cd8-baa1-7a3c36930619",
    "papermill": {
     "duration": null,
     "end_time": null,
     "exception": null,
     "start_time": null,
     "status": "pending"
    },
    "tags": []
   },
   "outputs": [],
   "source": [
    "binom.cdf(3,n,p) # função de distribuição acumulada da Binomial (n,p)"
   ]
  },
  {
   "cell_type": "code",
   "execution_count": null,
   "id": "679a0548",
   "metadata": {
    "id": "SfNr6rt57k-T",
    "outputId": "34ea8edd-c561-4361-91cb-b0c86c9c20dc",
    "papermill": {
     "duration": null,
     "end_time": null,
     "exception": null,
     "start_time": null,
     "status": "pending"
    },
    "tags": []
   },
   "outputs": [],
   "source": [
    "binom.mean(n,p) # valor esperado da Binomial (n,p)"
   ]
  },
  {
   "cell_type": "code",
   "execution_count": null,
   "id": "a7f8e15f",
   "metadata": {
    "id": "gNk6YFmP7k-X",
    "outputId": "3d69328c-9c01-448a-f592-cc57fc230a14",
    "papermill": {
     "duration": null,
     "end_time": null,
     "exception": null,
     "start_time": null,
     "status": "pending"
    },
    "tags": []
   },
   "outputs": [],
   "source": [
    "binom.var(n,p) # variância da Binomial (n,p)"
   ]
  },
  {
   "cell_type": "markdown",
   "id": "bab2eaf2",
   "metadata": {
    "id": "qbPzzGUW7k-c",
    "papermill": {
     "duration": null,
     "end_time": null,
     "exception": null,
     "start_time": null,
     "status": "pending"
    },
    "tags": []
   },
   "source": [
    "Exercício Binomial"
   ]
  },
  {
   "cell_type": "code",
   "execution_count": null,
   "id": "0dbb14d9",
   "metadata": {
    "id": "ni_m07kM7k-e",
    "outputId": "4834fb1e-b7a4-4b13-b612-cf37f231f918",
    "papermill": {
     "duration": null,
     "end_time": null,
     "exception": null,
     "start_time": null,
     "status": "pending"
    },
    "tags": []
   },
   "outputs": [],
   "source": [
    "binom.pmf(0,n=4,p=.1) # 0 erros dos 4 bit transmitidos "
   ]
  },
  {
   "cell_type": "code",
   "execution_count": null,
   "id": "3daec7e2",
   "metadata": {
    "id": "tDZx0N6P7k-g",
    "outputId": "4fdc9523-f025-4faf-cfc6-8970ba902f85",
    "papermill": {
     "duration": null,
     "end_time": null,
     "exception": null,
     "start_time": null,
     "status": "pending"
    },
    "tags": []
   },
   "outputs": [],
   "source": [
    "binom.cdf(1,n=3,p=.1) # no máximo 1 bit de diferença transmitido na triplicata"
   ]
  },
  {
   "cell_type": "code",
   "execution_count": null,
   "id": "e41f70af",
   "metadata": {
    "id": "L0aVo1rP7k-i",
    "outputId": "7236f676-ddb5-4053-f030-d1ab721bd96c",
    "papermill": {
     "duration": null,
     "end_time": null,
     "exception": null,
     "start_time": null,
     "status": "pending"
    },
    "tags": []
   },
   "outputs": [],
   "source": [
    "binom.pmf(0,n=4,p=.028) # 0 bits com erros, na transmissão com triplicatas"
   ]
  },
  {
   "cell_type": "markdown",
   "id": "03571864",
   "metadata": {
    "id": "VLO6z1Q47k-k",
    "papermill": {
     "duration": null,
     "end_time": null,
     "exception": null,
     "start_time": null,
     "status": "pending"
    },
    "tags": []
   },
   "source": [
    "* **Distribuição de Poisson**"
   ]
  },
  {
   "cell_type": "code",
   "execution_count": null,
   "id": "946f92f1",
   "metadata": {
    "id": "kwzL5n5w7k-l",
    "outputId": "588a00a4-df16-4d1a-f3a4-4c2806e669a4",
    "papermill": {
     "duration": null,
     "end_time": null,
     "exception": null,
     "start_time": null,
     "status": "pending"
    },
    "tags": []
   },
   "outputs": [],
   "source": [
    "from scipy.stats import poisson\n",
    "import matplotlib.pyplot as plt \n",
    "import seaborn as sns\n",
    "\n",
    "# Gera uma amostra de valores da Poisson\n",
    "sample = poisson.rvs(mu=2, size=10000, random_state=13)\n",
    "\n",
    "# Faz o gráfico de barras da amostra de valores\n",
    "sns.distplot(sample, kde=False)\n",
    "plt.xlabel('x')\n",
    "plt.ylabel('frequência relativa')\n",
    "plt.show()"
   ]
  },
  {
   "cell_type": "code",
   "execution_count": null,
   "id": "adbf44df",
   "metadata": {
    "id": "N0pBaoGz7k-m",
    "outputId": "4e117617-f8d3-4071-94b7-ff6154e08f02",
    "papermill": {
     "duration": null,
     "end_time": null,
     "exception": null,
     "start_time": null,
     "status": "pending"
    },
    "scrolled": true,
    "tags": []
   },
   "outputs": [],
   "source": [
    "n = 100\n",
    "x = range(0,n+1) # valores de x =0,1,2,3, ...\n",
    "p_x = poisson.pmf(x,mu=2) # distribuição de probabilidade dos resultados para Poisson de média 2\n",
    "\n",
    "# Aqui fazemos o gráfico da função massa de probabilidade de X\n",
    "# Note que trata-se de um gráfico de barras pois X é uma variável discreta\n",
    "import matplotlib.pyplot as plt\n",
    "plt.xlabel('nº de eventos')\n",
    "plt.ylabel('probabilidade')\n",
    "plt.xlim(xmax=10,xmin=-.5)\n",
    "plt.title('Poisson(2)')\n",
    "plt.bar(x,p_x)"
   ]
  },
  {
   "cell_type": "markdown",
   "id": "517ad105",
   "metadata": {
    "id": "IXgXchXe7k-n",
    "papermill": {
     "duration": null,
     "end_time": null,
     "exception": null,
     "start_time": null,
     "status": "pending"
    },
    "tags": []
   },
   "source": [
    "Aproximação da Binomial pela Poisson"
   ]
  },
  {
   "cell_type": "code",
   "execution_count": null,
   "id": "dd64a18f",
   "metadata": {
    "id": "Bt36oGQo7k-n",
    "outputId": "78c863f0-0097-43b4-df7f-ab6ceb316511",
    "papermill": {
     "duration": null,
     "end_time": null,
     "exception": null,
     "start_time": null,
     "status": "pending"
    },
    "tags": []
   },
   "outputs": [],
   "source": [
    "n = 1000\n",
    "p = .01\n",
    "mu = n*p\n",
    "x = range(0,n+1) # valores de x =0,1,2,3, ...\n",
    "pa_x = poisson.pmf(x,mu) # distribuição dos resultados para Poisson \n",
    "p_x = binom.pmf(x,n,p) # distribuição dos resultados para Binomial \n",
    "\n",
    "# Aqui fazemos o gráfico da função massa de probabilidade de X\n",
    "# Note que trata-se de um gráfico de barras pois X é uma variável discreta\n",
    "import matplotlib.pyplot as plt\n",
    "plt.xlabel('x')\n",
    "plt.ylabel('f(x)')\n",
    "plt.xlim(xmax=20,xmin=-.5)\n",
    "plt.title('Aproximação da Binomial pela Poisson')\n",
    "plt.bar(x,pa_x,  alpha=0.4, label=r'Poisson: $\\lambda$= %d' % mu)\n",
    "plt.bar(x,p_x, alpha=0.4, label='Binomial: n= %d' % n)\n",
    "plt.legend();"
   ]
  },
  {
   "cell_type": "code",
   "execution_count": null,
   "id": "857e5430",
   "metadata": {
    "id": "I8ZlgOUv7k-o",
    "outputId": "387f0440-662e-4831-dd61-6d301f361595",
    "papermill": {
     "duration": null,
     "end_time": null,
     "exception": null,
     "start_time": null,
     "status": "pending"
    },
    "tags": []
   },
   "outputs": [],
   "source": [
    "binom.pmf(0,n=10000,p=.000001) # 0 erros dos 10^4 bit transmitidos usando a Binomial"
   ]
  },
  {
   "cell_type": "code",
   "execution_count": null,
   "id": "f41ca7ce",
   "metadata": {
    "id": "9ZRgpZuE7k-p",
    "outputId": "b01ea97c-8ef9-4bd7-b03f-c022a0daf97f",
    "papermill": {
     "duration": null,
     "end_time": null,
     "exception": null,
     "start_time": null,
     "status": "pending"
    },
    "tags": []
   },
   "outputs": [],
   "source": [
    "poisson.pmf(0,mu=.01)# 0 erros dos 10^4 bit transmitidos usando a Poisson"
   ]
  },
  {
   "cell_type": "markdown",
   "id": "b99ba827",
   "metadata": {
    "id": "cnULHBnR7k-s",
    "papermill": {
     "duration": null,
     "end_time": null,
     "exception": null,
     "start_time": null,
     "status": "pending"
    },
    "tags": []
   },
   "source": [
    "* **Distribuição Normal**"
   ]
  },
  {
   "cell_type": "code",
   "execution_count": null,
   "id": "fccbedef",
   "metadata": {
    "id": "fM-j2u_N7k-t",
    "outputId": "1696b9f8-f2e1-40c7-eade-7a373419b762",
    "papermill": {
     "duration": null,
     "end_time": null,
     "exception": null,
     "start_time": null,
     "status": "pending"
    },
    "tags": []
   },
   "outputs": [],
   "source": [
    "# importa as bibliotecas\n",
    "import numpy as np\n",
    "import matplotlib.pyplot as plt\n",
    "\n",
    "mu, sigma2 = 10, 2  \n",
    "s = np.random.normal(mu, sigma2, 1000) # geram-se 1000 valores da Normal(mu,sigma2)\n",
    "plt.hist(s)"
   ]
  },
  {
   "cell_type": "code",
   "execution_count": null,
   "id": "5e9779a9",
   "metadata": {
    "id": "nBS-z2Vc7k-w",
    "outputId": "4d24908f-0025-491a-802b-5a9758f0a76e",
    "papermill": {
     "duration": null,
     "end_time": null,
     "exception": null,
     "start_time": null,
     "status": "pending"
    },
    "tags": []
   },
   "outputs": [],
   "source": [
    "from scipy import stats\n",
    "\n",
    "# Gráfico de probabilidade da Normal, para checar suposição de tal distribuição dos dados\n",
    "stats.probplot(s, plot=plt)\n",
    "fig = plt.figure()"
   ]
  },
  {
   "cell_type": "markdown",
   "id": "c02fdfa8",
   "metadata": {
    "id": "0JkVxT48_N6m",
    "papermill": {
     "duration": null,
     "end_time": null,
     "exception": null,
     "start_time": null,
     "status": "pending"
    },
    "tags": []
   },
   "source": [
    "Vários cálculos com a distribuição Normal"
   ]
  },
  {
   "cell_type": "code",
   "execution_count": null,
   "id": "d61f4d90",
   "metadata": {
    "executionInfo": {
     "elapsed": 816,
     "status": "ok",
     "timestamp": 1633010116999,
     "user": {
      "displayName": "Mariana Curi",
      "photoUrl": "https://lh3.googleusercontent.com/a-/AOh14GiUk4mHVBS2XmbO3T_egBmeE8u-rQFdeJ--jJQJ=s64",
      "userId": "06685422165778027680"
     },
     "user_tz": 180
    },
    "id": "Mj4Z9Ffn8P7t",
    "outputId": "c483396b-a865-477c-a23a-805b479f1dc0",
    "papermill": {
     "duration": null,
     "end_time": null,
     "exception": null,
     "start_time": null,
     "status": "pending"
    },
    "tags": []
   },
   "outputs": [],
   "source": [
    "from scipy.stats import norm\n",
    "\n",
    "# Qual o valor de Z ~ N(0,1) que deixa 2,5% dos dados à esquerda : F(z)=0,025\n",
    "z= norm.ppf(0.025)     \n",
    "print(z)\n"
   ]
  },
  {
   "cell_type": "code",
   "execution_count": null,
   "id": "c8c7b1cb",
   "metadata": {
    "executionInfo": {
     "elapsed": 222,
     "status": "ok",
     "timestamp": 1633010141551,
     "user": {
      "displayName": "Mariana Curi",
      "photoUrl": "https://lh3.googleusercontent.com/a-/AOh14GiUk4mHVBS2XmbO3T_egBmeE8u-rQFdeJ--jJQJ=s64",
      "userId": "06685422165778027680"
     },
     "user_tz": 180
    },
    "id": "KIbOl_IW_WS7",
    "outputId": "37c06b1c-d955-441f-a9b8-17116682549c",
    "papermill": {
     "duration": null,
     "end_time": null,
     "exception": null,
     "start_time": null,
     "status": "pending"
    },
    "tags": []
   },
   "outputs": [],
   "source": [
    "# Qual a \"altura\" da curva da função densidade de Z ~ N(0,1) no ponto dado\n",
    "norm.pdf(-1.9599639845400545)"
   ]
  },
  {
   "cell_type": "code",
   "execution_count": null,
   "id": "6adb08ec",
   "metadata": {
    "id": "y6y32P6Y_MmU",
    "outputId": "d5b98846-c3df-4c61-ed65-8eb01bd39003",
    "papermill": {
     "duration": null,
     "end_time": null,
     "exception": null,
     "start_time": null,
     "status": "pending"
    },
    "tags": []
   },
   "outputs": [],
   "source": [
    "# Qual o valor de X ~ N(10,2^2) que deixa 2,5% dos dados à esquerda : F(x)=0,025\n",
    "norm.ppf(0.025,loc=10, scale=2)  "
   ]
  },
  {
   "cell_type": "code",
   "execution_count": null,
   "id": "2d58ce68",
   "metadata": {
    "id": "a-1VldKzCjIa",
    "outputId": "1db7fe5a-263e-41c7-af92-db427d008c39",
    "papermill": {
     "duration": null,
     "end_time": null,
     "exception": null,
     "start_time": null,
     "status": "pending"
    },
    "tags": []
   },
   "outputs": [],
   "source": [
    "# Repare que esse valor é: 2 * z + 10\n",
    "2 * -1.9599639845400545 +10"
   ]
  },
  {
   "cell_type": "code",
   "execution_count": null,
   "id": "ffdbd221",
   "metadata": {
    "id": "yJmaC4PGBj4j",
    "outputId": "90bd07fb-e8fa-4bcc-e258-7c1fd6304f42",
    "papermill": {
     "duration": null,
     "end_time": null,
     "exception": null,
     "start_time": null,
     "status": "pending"
    },
    "tags": []
   },
   "outputs": [],
   "source": [
    "# Qual a probabilidade de X estar entre a média +/- 1 desvio padrão:\n",
    "\n",
    "# Quando X ~ N(0,1)\n",
    "norm.cdf(1)-norm.cdf(-1)"
   ]
  },
  {
   "cell_type": "code",
   "execution_count": null,
   "id": "de23fd37",
   "metadata": {
    "id": "13iwPvOKB_Fk",
    "outputId": "a05cafa9-2710-45b2-a09e-ab84a893ad4f",
    "papermill": {
     "duration": null,
     "end_time": null,
     "exception": null,
     "start_time": null,
     "status": "pending"
    },
    "tags": []
   },
   "outputs": [],
   "source": [
    "# Quando X ~ N(10,2^2)\n",
    "norm.cdf(12,loc=10, scale=2)-norm.cdf(8,loc=10, scale=2)"
   ]
  },
  {
   "cell_type": "code",
   "execution_count": null,
   "id": "bf48dd6f",
   "metadata": {
    "id": "hLDkXWrk7k-x",
    "outputId": "c5a6fec5-2752-4317-ef6f-9322a4c1c180",
    "papermill": {
     "duration": null,
     "end_time": null,
     "exception": null,
     "start_time": null,
     "status": "pending"
    },
    "tags": []
   },
   "outputs": [],
   "source": [
    "# importa as bibliotecas\n",
    "import numpy as np\n",
    "import matplotlib.pyplot as plt\n",
    "\n",
    "l = 4 \n",
    "s = np.random.exponential(l, 1000) # geram-se 1000 valores da Exponencial de média l\n",
    "plt.hist(s)"
   ]
  },
  {
   "cell_type": "code",
   "execution_count": null,
   "id": "275a49c9",
   "metadata": {
    "id": "BqvsiiWO7k-x",
    "outputId": "747c694f-4dce-451e-ed29-ad177c19b274",
    "papermill": {
     "duration": null,
     "end_time": null,
     "exception": null,
     "start_time": null,
     "status": "pending"
    },
    "tags": []
   },
   "outputs": [],
   "source": [
    "# Gráfico de probabilidade da Normal, para checar suposição de tal distribuição dos dados\n",
    "stats.probplot(s, plot=plt)\n",
    "fig = plt.figure()"
   ]
  },
  {
   "cell_type": "code",
   "execution_count": null,
   "id": "b591997e",
   "metadata": {
    "id": "fR6hzol_7k-y",
    "outputId": "4844a928-2dac-4bd1-d235-7f5d50638201",
    "papermill": {
     "duration": null,
     "end_time": null,
     "exception": null,
     "start_time": null,
     "status": "pending"
    },
    "tags": []
   },
   "outputs": [],
   "source": [
    "# Gráfico de probabilidade da Exponencial, para checar suposição de tal distribuição dos dados\n",
    "stats.probplot(s, dist=stats.expon, plot=plt)\n",
    "fig = plt.figure()"
   ]
  },
  {
   "cell_type": "markdown",
   "id": "961cdad1",
   "metadata": {
    "id": "_Cuz2pxf7k-z",
    "papermill": {
     "duration": null,
     "end_time": null,
     "exception": null,
     "start_time": null,
     "status": "pending"
    },
    "tags": []
   },
   "source": [
    "* **Distribuição uniforme**"
   ]
  },
  {
   "cell_type": "code",
   "execution_count": null,
   "id": "19896285",
   "metadata": {
    "id": "L_SYLQwa7k-z",
    "outputId": "a0df1751-ea3d-45ee-9ac2-489d927eca0a",
    "papermill": {
     "duration": null,
     "end_time": null,
     "exception": null,
     "start_time": null,
     "status": "pending"
    },
    "tags": []
   },
   "outputs": [],
   "source": [
    "from scipy.stats import uniform\n",
    "import matplotlib.pyplot as plt\n",
    "fig, ax = plt.subplots(1, 1)\n",
    "\n",
    "x = np.linspace(uniform.ppf(0.01),\n",
    "                uniform.ppf(0.99), 100)\n",
    "ax.plot(x, uniform.pdf(x),'r-', lw=5, alpha=0.6, label='Uniforme(0,1)')\n",
    "rv = uniform()\n",
    "ax.plot(x, rv.pdf(x), 'k-', lw=2, label='f(x)')\n",
    "\n",
    "r = uniform.rvs(size=1000)\n",
    "ax.hist(r, density=True, histtype='stepfilled', alpha=0.2)\n",
    "ax.legend(loc='best', frameon=False)\n",
    "plt.xlabel(\"x\")\n",
    "plt.show()"
   ]
  }
 ],
 "metadata": {
  "kernelspec": {
   "display_name": "Python 3",
   "language": "python",
   "name": "python3"
  },
  "language_info": {
   "codemirror_mode": {
    "name": "ipython",
    "version": 3
   },
   "file_extension": ".py",
   "mimetype": "text/x-python",
   "name": "python",
   "nbconvert_exporter": "python",
   "pygments_lexer": "ipython3",
   "version": "3.8.10"
  },
  "papermill": {
   "default_parameters": {},
   "duration": 4.126912,
   "end_time": "2022-11-23T12:02:22.943877",
   "environment_variables": {},
   "exception": true,
   "input_path": "__notebook__.ipynb",
   "output_path": "__notebook__.ipynb",
   "parameters": {},
   "start_time": "2022-11-23T12:02:18.816965",
   "version": "2.4.0"
  }
 },
 "nbformat": 4,
 "nbformat_minor": 5
}
