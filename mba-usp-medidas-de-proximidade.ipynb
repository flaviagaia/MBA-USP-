{
 "cells": [
  {
   "cell_type": "markdown",
   "id": "2c917af4",
   "metadata": {
    "id": "0nA7ypQ5IB2e",
    "papermill": {
     "duration": 0.011657,
     "end_time": "2022-10-01T11:56:51.132074",
     "exception": false,
     "start_time": "2022-10-01T11:56:51.120417",
     "status": "completed"
    },
    "tags": []
   },
   "source": [
    "# <font color=\"red\"> MBA em IA e Big Data</font>\n",
    "## <span style=\"color:red\">Curso 2 - Ciência de Dados, Aprendizado de Máquina e Mineração de Dados</span>\n",
    "\n",
    "### <span style=\"color:darkred\">Mineração de Dados</span>\n",
    "\n",
    "#### Material de Apoio - Prática sobre Medidas de Proximidade (ver Vídeo)\n",
    "\n",
    "*Ricardo M. Marcacini*<br>\n",
    "*ICMC/USP São Carlos*"
   ]
  },
  {
   "cell_type": "markdown",
   "id": "72dbe5e3",
   "metadata": {
    "id": "2Zcjy7PQv4of",
    "papermill": {
     "duration": 0.007498,
     "end_time": "2022-10-01T11:56:51.150448",
     "exception": false,
     "start_time": "2022-10-01T11:56:51.142950",
     "status": "completed"
    },
    "tags": []
   },
   "source": [
    "# Importando bibliotecas"
   ]
  },
  {
   "cell_type": "code",
   "execution_count": 1,
   "id": "66fce652",
   "metadata": {
    "execution": {
     "iopub.execute_input": "2022-10-01T11:56:51.167415Z",
     "iopub.status.busy": "2022-10-01T11:56:51.166916Z",
     "iopub.status.idle": "2022-10-01T11:56:52.508033Z",
     "shell.execute_reply": "2022-10-01T11:56:52.506883Z"
    },
    "id": "xFQ2rj16vvvu",
    "papermill": {
     "duration": 1.352947,
     "end_time": "2022-10-01T11:56:52.510928",
     "exception": false,
     "start_time": "2022-10-01T11:56:51.157981",
     "status": "completed"
    },
    "tags": []
   },
   "outputs": [],
   "source": [
    "import numpy as np\n",
    "import pandas as pd\n",
    "from sklearn.neighbors import NearestNeighbors\n",
    "from sklearn import preprocessing"
   ]
  },
  {
   "cell_type": "markdown",
   "id": "412413d0",
   "metadata": {
    "id": "_UeQey3JtRA9",
    "papermill": {
     "duration": 0.007085,
     "end_time": "2022-10-01T11:56:52.525548",
     "exception": false,
     "start_time": "2022-10-01T11:56:52.518463",
     "status": "completed"
    },
    "tags": []
   },
   "source": [
    "# Medidas de Proximidade"
   ]
  },
  {
   "cell_type": "markdown",
   "id": "63847625",
   "metadata": {
    "id": "6fcjlHAstYbY",
    "papermill": {
     "duration": 0.006899,
     "end_time": "2022-10-01T11:56:52.539995",
     "exception": false,
     "start_time": "2022-10-01T11:56:52.533096",
     "status": "completed"
    },
    "tags": []
   },
   "source": [
    "Para realizarmos experimentos com medidas de proximidade, usaremos uma amostra de uma base de dados sobre campanhas de marketing direto de uma instituição bancária portuguesa. As campanhas de marketing foram baseadas em ligações telefônicas. Mais informações sobre o conjunto de dados estão disponíveis em Moro et al. (2014).\n",
    "\n",
    "[1] [Moro et al., 2014] S. Moro, P. Cortez and P. Rita. A Data-Driven Approach to Predict the Success of Bank Telemarketing. Decision Support Systems, Elsevier, 62:22-31, June 2014\n",
    "\n"
   ]
  },
  {
   "cell_type": "markdown",
   "id": "d9c68fa8",
   "metadata": {
    "id": "aIa8elq5uBtn",
    "papermill": {
     "duration": 0.006879,
     "end_time": "2022-10-01T11:56:52.554214",
     "exception": false,
     "start_time": "2022-10-01T11:56:52.547335",
     "status": "completed"
    },
    "tags": []
   },
   "source": [
    "# Leitura dos dados *bank_marketing.csv*\n",
    "\n",
    "Usamos o pandas para leitura do arquivo CSV.\n",
    "Em seguida, as 30 primeiras linhas são exibidas.\n",
    "Os dados já estão pré-processados.\n",
    "\n",
    "Cada linha representa um cliente do banco. Cada coluna representa um atributo do cliente.\n",
    "\n",
    "Atributos:\n",
    "\n",
    "* **age**: Idade do cliente\n",
    "* **balance**: saldo em conta do cliente\n",
    "* **duration**: duração (em segundos) do último contato do banco com o cliente"
   ]
  },
  {
   "cell_type": "code",
   "execution_count": 2,
   "id": "80bd415c",
   "metadata": {
    "execution": {
     "iopub.execute_input": "2022-10-01T11:56:52.570430Z",
     "iopub.status.busy": "2022-10-01T11:56:52.569991Z",
     "iopub.status.idle": "2022-10-01T11:56:52.694542Z",
     "shell.execute_reply": "2022-10-01T11:56:52.692611Z"
    },
    "id": "iZ1UN4YMRMkn",
    "outputId": "58b92ca4-8cbd-434b-882a-dd4d38513291",
    "papermill": {
     "duration": 0.135511,
     "end_time": "2022-10-01T11:56:52.696913",
     "exception": true,
     "start_time": "2022-10-01T11:56:52.561402",
     "status": "failed"
    },
    "tags": []
   },
   "outputs": [
    {
     "ename": "FileNotFoundError",
     "evalue": "[Errno 2] No such file or directory: 'bank_marketing.csv'",
     "output_type": "error",
     "traceback": [
      "\u001b[0;31m---------------------------------------------------------------------------\u001b[0m",
      "\u001b[0;31mFileNotFoundError\u001b[0m                         Traceback (most recent call last)",
      "\u001b[0;32m/tmp/ipykernel_20/391499897.py\u001b[0m in \u001b[0;36m<module>\u001b[0;34m\u001b[0m\n\u001b[0;32m----> 1\u001b[0;31m \u001b[0mdados\u001b[0m \u001b[0;34m=\u001b[0m \u001b[0mpd\u001b[0m\u001b[0;34m.\u001b[0m\u001b[0mread_csv\u001b[0m\u001b[0;34m(\u001b[0m\u001b[0;34m'bank_marketing.csv'\u001b[0m\u001b[0;34m)\u001b[0m\u001b[0;34m\u001b[0m\u001b[0;34m\u001b[0m\u001b[0m\n\u001b[0m\u001b[1;32m      2\u001b[0m \u001b[0mdados\u001b[0m\u001b[0;34m\u001b[0m\u001b[0;34m\u001b[0m\u001b[0m\n",
      "\u001b[0;32m/opt/conda/lib/python3.7/site-packages/pandas/util/_decorators.py\u001b[0m in \u001b[0;36mwrapper\u001b[0;34m(*args, **kwargs)\u001b[0m\n\u001b[1;32m    309\u001b[0m                     \u001b[0mstacklevel\u001b[0m\u001b[0;34m=\u001b[0m\u001b[0mstacklevel\u001b[0m\u001b[0;34m,\u001b[0m\u001b[0;34m\u001b[0m\u001b[0;34m\u001b[0m\u001b[0m\n\u001b[1;32m    310\u001b[0m                 )\n\u001b[0;32m--> 311\u001b[0;31m             \u001b[0;32mreturn\u001b[0m \u001b[0mfunc\u001b[0m\u001b[0;34m(\u001b[0m\u001b[0;34m*\u001b[0m\u001b[0margs\u001b[0m\u001b[0;34m,\u001b[0m \u001b[0;34m**\u001b[0m\u001b[0mkwargs\u001b[0m\u001b[0;34m)\u001b[0m\u001b[0;34m\u001b[0m\u001b[0;34m\u001b[0m\u001b[0m\n\u001b[0m\u001b[1;32m    312\u001b[0m \u001b[0;34m\u001b[0m\u001b[0m\n\u001b[1;32m    313\u001b[0m         \u001b[0;32mreturn\u001b[0m \u001b[0mwrapper\u001b[0m\u001b[0;34m\u001b[0m\u001b[0;34m\u001b[0m\u001b[0m\n",
      "\u001b[0;32m/opt/conda/lib/python3.7/site-packages/pandas/io/parsers/readers.py\u001b[0m in \u001b[0;36mread_csv\u001b[0;34m(filepath_or_buffer, sep, delimiter, header, names, index_col, usecols, squeeze, prefix, mangle_dupe_cols, dtype, engine, converters, true_values, false_values, skipinitialspace, skiprows, skipfooter, nrows, na_values, keep_default_na, na_filter, verbose, skip_blank_lines, parse_dates, infer_datetime_format, keep_date_col, date_parser, dayfirst, cache_dates, iterator, chunksize, compression, thousands, decimal, lineterminator, quotechar, quoting, doublequote, escapechar, comment, encoding, encoding_errors, dialect, error_bad_lines, warn_bad_lines, on_bad_lines, delim_whitespace, low_memory, memory_map, float_precision, storage_options)\u001b[0m\n\u001b[1;32m    584\u001b[0m     \u001b[0mkwds\u001b[0m\u001b[0;34m.\u001b[0m\u001b[0mupdate\u001b[0m\u001b[0;34m(\u001b[0m\u001b[0mkwds_defaults\u001b[0m\u001b[0;34m)\u001b[0m\u001b[0;34m\u001b[0m\u001b[0;34m\u001b[0m\u001b[0m\n\u001b[1;32m    585\u001b[0m \u001b[0;34m\u001b[0m\u001b[0m\n\u001b[0;32m--> 586\u001b[0;31m     \u001b[0;32mreturn\u001b[0m \u001b[0m_read\u001b[0m\u001b[0;34m(\u001b[0m\u001b[0mfilepath_or_buffer\u001b[0m\u001b[0;34m,\u001b[0m \u001b[0mkwds\u001b[0m\u001b[0;34m)\u001b[0m\u001b[0;34m\u001b[0m\u001b[0;34m\u001b[0m\u001b[0m\n\u001b[0m\u001b[1;32m    587\u001b[0m \u001b[0;34m\u001b[0m\u001b[0m\n\u001b[1;32m    588\u001b[0m \u001b[0;34m\u001b[0m\u001b[0m\n",
      "\u001b[0;32m/opt/conda/lib/python3.7/site-packages/pandas/io/parsers/readers.py\u001b[0m in \u001b[0;36m_read\u001b[0;34m(filepath_or_buffer, kwds)\u001b[0m\n\u001b[1;32m    480\u001b[0m \u001b[0;34m\u001b[0m\u001b[0m\n\u001b[1;32m    481\u001b[0m     \u001b[0;31m# Create the parser.\u001b[0m\u001b[0;34m\u001b[0m\u001b[0;34m\u001b[0m\u001b[0;34m\u001b[0m\u001b[0m\n\u001b[0;32m--> 482\u001b[0;31m     \u001b[0mparser\u001b[0m \u001b[0;34m=\u001b[0m \u001b[0mTextFileReader\u001b[0m\u001b[0;34m(\u001b[0m\u001b[0mfilepath_or_buffer\u001b[0m\u001b[0;34m,\u001b[0m \u001b[0;34m**\u001b[0m\u001b[0mkwds\u001b[0m\u001b[0;34m)\u001b[0m\u001b[0;34m\u001b[0m\u001b[0;34m\u001b[0m\u001b[0m\n\u001b[0m\u001b[1;32m    483\u001b[0m \u001b[0;34m\u001b[0m\u001b[0m\n\u001b[1;32m    484\u001b[0m     \u001b[0;32mif\u001b[0m \u001b[0mchunksize\u001b[0m \u001b[0;32mor\u001b[0m \u001b[0miterator\u001b[0m\u001b[0;34m:\u001b[0m\u001b[0;34m\u001b[0m\u001b[0;34m\u001b[0m\u001b[0m\n",
      "\u001b[0;32m/opt/conda/lib/python3.7/site-packages/pandas/io/parsers/readers.py\u001b[0m in \u001b[0;36m__init__\u001b[0;34m(self, f, engine, **kwds)\u001b[0m\n\u001b[1;32m    809\u001b[0m             \u001b[0mself\u001b[0m\u001b[0;34m.\u001b[0m\u001b[0moptions\u001b[0m\u001b[0;34m[\u001b[0m\u001b[0;34m\"has_index_names\"\u001b[0m\u001b[0;34m]\u001b[0m \u001b[0;34m=\u001b[0m \u001b[0mkwds\u001b[0m\u001b[0;34m[\u001b[0m\u001b[0;34m\"has_index_names\"\u001b[0m\u001b[0;34m]\u001b[0m\u001b[0;34m\u001b[0m\u001b[0;34m\u001b[0m\u001b[0m\n\u001b[1;32m    810\u001b[0m \u001b[0;34m\u001b[0m\u001b[0m\n\u001b[0;32m--> 811\u001b[0;31m         \u001b[0mself\u001b[0m\u001b[0;34m.\u001b[0m\u001b[0m_engine\u001b[0m \u001b[0;34m=\u001b[0m \u001b[0mself\u001b[0m\u001b[0;34m.\u001b[0m\u001b[0m_make_engine\u001b[0m\u001b[0;34m(\u001b[0m\u001b[0mself\u001b[0m\u001b[0;34m.\u001b[0m\u001b[0mengine\u001b[0m\u001b[0;34m)\u001b[0m\u001b[0;34m\u001b[0m\u001b[0;34m\u001b[0m\u001b[0m\n\u001b[0m\u001b[1;32m    812\u001b[0m \u001b[0;34m\u001b[0m\u001b[0m\n\u001b[1;32m    813\u001b[0m     \u001b[0;32mdef\u001b[0m \u001b[0mclose\u001b[0m\u001b[0;34m(\u001b[0m\u001b[0mself\u001b[0m\u001b[0;34m)\u001b[0m\u001b[0;34m:\u001b[0m\u001b[0;34m\u001b[0m\u001b[0;34m\u001b[0m\u001b[0m\n",
      "\u001b[0;32m/opt/conda/lib/python3.7/site-packages/pandas/io/parsers/readers.py\u001b[0m in \u001b[0;36m_make_engine\u001b[0;34m(self, engine)\u001b[0m\n\u001b[1;32m   1038\u001b[0m             )\n\u001b[1;32m   1039\u001b[0m         \u001b[0;31m# error: Too many arguments for \"ParserBase\"\u001b[0m\u001b[0;34m\u001b[0m\u001b[0;34m\u001b[0m\u001b[0;34m\u001b[0m\u001b[0m\n\u001b[0;32m-> 1040\u001b[0;31m         \u001b[0;32mreturn\u001b[0m \u001b[0mmapping\u001b[0m\u001b[0;34m[\u001b[0m\u001b[0mengine\u001b[0m\u001b[0;34m]\u001b[0m\u001b[0;34m(\u001b[0m\u001b[0mself\u001b[0m\u001b[0;34m.\u001b[0m\u001b[0mf\u001b[0m\u001b[0;34m,\u001b[0m \u001b[0;34m**\u001b[0m\u001b[0mself\u001b[0m\u001b[0;34m.\u001b[0m\u001b[0moptions\u001b[0m\u001b[0;34m)\u001b[0m  \u001b[0;31m# type: ignore[call-arg]\u001b[0m\u001b[0;34m\u001b[0m\u001b[0;34m\u001b[0m\u001b[0m\n\u001b[0m\u001b[1;32m   1041\u001b[0m \u001b[0;34m\u001b[0m\u001b[0m\n\u001b[1;32m   1042\u001b[0m     \u001b[0;32mdef\u001b[0m \u001b[0m_failover_to_python\u001b[0m\u001b[0;34m(\u001b[0m\u001b[0mself\u001b[0m\u001b[0;34m)\u001b[0m\u001b[0;34m:\u001b[0m\u001b[0;34m\u001b[0m\u001b[0;34m\u001b[0m\u001b[0m\n",
      "\u001b[0;32m/opt/conda/lib/python3.7/site-packages/pandas/io/parsers/c_parser_wrapper.py\u001b[0m in \u001b[0;36m__init__\u001b[0;34m(self, src, **kwds)\u001b[0m\n\u001b[1;32m     49\u001b[0m \u001b[0;34m\u001b[0m\u001b[0m\n\u001b[1;32m     50\u001b[0m         \u001b[0;31m# open handles\u001b[0m\u001b[0;34m\u001b[0m\u001b[0;34m\u001b[0m\u001b[0;34m\u001b[0m\u001b[0m\n\u001b[0;32m---> 51\u001b[0;31m         \u001b[0mself\u001b[0m\u001b[0;34m.\u001b[0m\u001b[0m_open_handles\u001b[0m\u001b[0;34m(\u001b[0m\u001b[0msrc\u001b[0m\u001b[0;34m,\u001b[0m \u001b[0mkwds\u001b[0m\u001b[0;34m)\u001b[0m\u001b[0;34m\u001b[0m\u001b[0;34m\u001b[0m\u001b[0m\n\u001b[0m\u001b[1;32m     52\u001b[0m         \u001b[0;32massert\u001b[0m \u001b[0mself\u001b[0m\u001b[0;34m.\u001b[0m\u001b[0mhandles\u001b[0m \u001b[0;32mis\u001b[0m \u001b[0;32mnot\u001b[0m \u001b[0;32mNone\u001b[0m\u001b[0;34m\u001b[0m\u001b[0;34m\u001b[0m\u001b[0m\n\u001b[1;32m     53\u001b[0m \u001b[0;34m\u001b[0m\u001b[0m\n",
      "\u001b[0;32m/opt/conda/lib/python3.7/site-packages/pandas/io/parsers/base_parser.py\u001b[0m in \u001b[0;36m_open_handles\u001b[0;34m(self, src, kwds)\u001b[0m\n\u001b[1;32m    227\u001b[0m             \u001b[0mmemory_map\u001b[0m\u001b[0;34m=\u001b[0m\u001b[0mkwds\u001b[0m\u001b[0;34m.\u001b[0m\u001b[0mget\u001b[0m\u001b[0;34m(\u001b[0m\u001b[0;34m\"memory_map\"\u001b[0m\u001b[0;34m,\u001b[0m \u001b[0;32mFalse\u001b[0m\u001b[0;34m)\u001b[0m\u001b[0;34m,\u001b[0m\u001b[0;34m\u001b[0m\u001b[0;34m\u001b[0m\u001b[0m\n\u001b[1;32m    228\u001b[0m             \u001b[0mstorage_options\u001b[0m\u001b[0;34m=\u001b[0m\u001b[0mkwds\u001b[0m\u001b[0;34m.\u001b[0m\u001b[0mget\u001b[0m\u001b[0;34m(\u001b[0m\u001b[0;34m\"storage_options\"\u001b[0m\u001b[0;34m,\u001b[0m \u001b[0;32mNone\u001b[0m\u001b[0;34m)\u001b[0m\u001b[0;34m,\u001b[0m\u001b[0;34m\u001b[0m\u001b[0;34m\u001b[0m\u001b[0m\n\u001b[0;32m--> 229\u001b[0;31m             \u001b[0merrors\u001b[0m\u001b[0;34m=\u001b[0m\u001b[0mkwds\u001b[0m\u001b[0;34m.\u001b[0m\u001b[0mget\u001b[0m\u001b[0;34m(\u001b[0m\u001b[0;34m\"encoding_errors\"\u001b[0m\u001b[0;34m,\u001b[0m \u001b[0;34m\"strict\"\u001b[0m\u001b[0;34m)\u001b[0m\u001b[0;34m,\u001b[0m\u001b[0;34m\u001b[0m\u001b[0;34m\u001b[0m\u001b[0m\n\u001b[0m\u001b[1;32m    230\u001b[0m         )\n\u001b[1;32m    231\u001b[0m \u001b[0;34m\u001b[0m\u001b[0m\n",
      "\u001b[0;32m/opt/conda/lib/python3.7/site-packages/pandas/io/common.py\u001b[0m in \u001b[0;36mget_handle\u001b[0;34m(path_or_buf, mode, encoding, compression, memory_map, is_text, errors, storage_options)\u001b[0m\n\u001b[1;32m    705\u001b[0m                 \u001b[0mencoding\u001b[0m\u001b[0;34m=\u001b[0m\u001b[0mioargs\u001b[0m\u001b[0;34m.\u001b[0m\u001b[0mencoding\u001b[0m\u001b[0;34m,\u001b[0m\u001b[0;34m\u001b[0m\u001b[0;34m\u001b[0m\u001b[0m\n\u001b[1;32m    706\u001b[0m                 \u001b[0merrors\u001b[0m\u001b[0;34m=\u001b[0m\u001b[0merrors\u001b[0m\u001b[0;34m,\u001b[0m\u001b[0;34m\u001b[0m\u001b[0;34m\u001b[0m\u001b[0m\n\u001b[0;32m--> 707\u001b[0;31m                 \u001b[0mnewline\u001b[0m\u001b[0;34m=\u001b[0m\u001b[0;34m\"\"\u001b[0m\u001b[0;34m,\u001b[0m\u001b[0;34m\u001b[0m\u001b[0;34m\u001b[0m\u001b[0m\n\u001b[0m\u001b[1;32m    708\u001b[0m             )\n\u001b[1;32m    709\u001b[0m         \u001b[0;32melse\u001b[0m\u001b[0;34m:\u001b[0m\u001b[0;34m\u001b[0m\u001b[0;34m\u001b[0m\u001b[0m\n",
      "\u001b[0;31mFileNotFoundError\u001b[0m: [Errno 2] No such file or directory: 'bank_marketing.csv'"
     ]
    }
   ],
   "source": [
    "dados = pd.read_csv('bank_marketing.csv')\n",
    "dados"
   ]
  },
  {
   "cell_type": "markdown",
   "id": "078ce2a7",
   "metadata": {
    "id": "3oa5Au3_u3Mf",
    "papermill": {
     "duration": null,
     "end_time": null,
     "exception": null,
     "start_time": null,
     "status": "pending"
    },
    "tags": []
   },
   "source": [
    "# Uma breve análise dos atributos"
   ]
  },
  {
   "cell_type": "code",
   "execution_count": null,
   "id": "aab33fd8",
   "metadata": {
    "id": "HpmBlV_Ru-qm",
    "outputId": "27a95dee-82a4-46de-a2f5-6486b61c1a5f",
    "papermill": {
     "duration": null,
     "end_time": null,
     "exception": null,
     "start_time": null,
     "status": "pending"
    },
    "tags": []
   },
   "outputs": [],
   "source": [
    "dados.age.hist()"
   ]
  },
  {
   "cell_type": "code",
   "execution_count": null,
   "id": "03fd26f8",
   "metadata": {
    "id": "uw07IwKMvCGt",
    "outputId": "38430157-e855-4bb9-8eea-5505c4f2a643",
    "papermill": {
     "duration": null,
     "end_time": null,
     "exception": null,
     "start_time": null,
     "status": "pending"
    },
    "tags": []
   },
   "outputs": [],
   "source": [
    "dados.balance.hist()"
   ]
  },
  {
   "cell_type": "code",
   "execution_count": null,
   "id": "537c1ea0",
   "metadata": {
    "id": "gTUDxh2lvNJn",
    "outputId": "60c73a94-ab55-48c6-c44c-4fb663a63386",
    "papermill": {
     "duration": null,
     "end_time": null,
     "exception": null,
     "start_time": null,
     "status": "pending"
    },
    "tags": []
   },
   "outputs": [],
   "source": [
    "dados.duration.hist()"
   ]
  },
  {
   "cell_type": "markdown",
   "id": "41439070",
   "metadata": {
    "id": "xJeFWN0pv8V2",
    "papermill": {
     "duration": null,
     "end_time": null,
     "exception": null,
     "start_time": null,
     "status": "pending"
    },
    "tags": []
   },
   "source": [
    "# Testando medidas de proximidade\n",
    "Medidas: Euclidiana, Manhattan, Suprema (chebyshev)"
   ]
  },
  {
   "cell_type": "markdown",
   "id": "5d4ae3f9",
   "metadata": {
    "id": "nydnXaLcwPCf",
    "papermill": {
     "duration": null,
     "end_time": null,
     "exception": null,
     "start_time": null,
     "status": "pending"
    },
    "tags": []
   },
   "source": [
    "Usaremos o método NearestNeighbors do Scikit-Learn para testar nossas medidas de proximidade.\n",
    "\n",
    "**metric** = define a medida de proximidade desejada\n",
    "\n",
    "**n_neighbors** = determina quantos vizinhos mais próximos iremos localizar considerando a medida selecionada."
   ]
  },
  {
   "cell_type": "code",
   "execution_count": null,
   "id": "eec6d2e3",
   "metadata": {
    "id": "1xuetvEdJvov",
    "papermill": {
     "duration": null,
     "end_time": null,
     "exception": null,
     "start_time": null,
     "status": "pending"
    },
    "tags": []
   },
   "outputs": [],
   "source": [
    "nbrs = NearestNeighbors(metric='euclidean',n_neighbors=7).fit(dados)"
   ]
  },
  {
   "cell_type": "markdown",
   "id": "369ca231",
   "metadata": {
    "id": "HRRe_cNgxwvi",
    "papermill": {
     "duration": null,
     "end_time": null,
     "exception": null,
     "start_time": null,
     "status": "pending"
    },
    "tags": []
   },
   "source": [
    "Vamos localizar 7 objetos mais próximos de acordo com atributos definidos manualmente."
   ]
  },
  {
   "cell_type": "code",
   "execution_count": null,
   "id": "590aeb3d",
   "metadata": {
    "id": "qn4gLBLyK-k2",
    "papermill": {
     "duration": null,
     "end_time": null,
     "exception": null,
     "start_time": null,
     "status": "pending"
    },
    "tags": []
   },
   "outputs": [],
   "source": [
    "age = 30\n",
    "balance = 200\n",
    "duration = 30\n",
    "\n",
    "distances, indices = nbrs.kneighbors([[age,balance,duration]])"
   ]
  },
  {
   "cell_type": "markdown",
   "id": "aae633d4",
   "metadata": {
    "id": "-QqbYg5YyLNQ",
    "papermill": {
     "duration": null,
     "end_time": null,
     "exception": null,
     "start_time": null,
     "status": "pending"
    },
    "tags": []
   },
   "source": [
    "A variável *indices* armazena os IDs (pandas) dos objetos mais próximos encontrados.\n",
    "\n",
    "A variável *distances* armazena os valores das distâncias."
   ]
  },
  {
   "cell_type": "code",
   "execution_count": null,
   "id": "1f102e98",
   "metadata": {
    "id": "YwxBrYUJLfjm",
    "outputId": "a4ac1821-8d6e-4c82-fbdc-a0514120d855",
    "papermill": {
     "duration": null,
     "end_time": null,
     "exception": null,
     "start_time": null,
     "status": "pending"
    },
    "tags": []
   },
   "outputs": [],
   "source": [
    "indices[0]"
   ]
  },
  {
   "cell_type": "code",
   "execution_count": null,
   "id": "42c96ccf",
   "metadata": {
    "id": "0ITo6nokyZRv",
    "outputId": "c62a39ef-6531-4e1e-dff7-57b0b079fe11",
    "papermill": {
     "duration": null,
     "end_time": null,
     "exception": null,
     "start_time": null,
     "status": "pending"
    },
    "tags": []
   },
   "outputs": [],
   "source": [
    "distances"
   ]
  },
  {
   "cell_type": "markdown",
   "id": "83463864",
   "metadata": {
    "id": "MupQu_ODyd5g",
    "papermill": {
     "duration": null,
     "end_time": null,
     "exception": null,
     "start_time": null,
     "status": "pending"
    },
    "tags": []
   },
   "source": [
    "Vamos usar essas variáveis para filtrar os objetos mais próximos em um dataframe do pandas."
   ]
  },
  {
   "cell_type": "code",
   "execution_count": null,
   "id": "6a68bf75",
   "metadata": {
    "id": "VnrTkY5bK9jO",
    "outputId": "6151fbfe-b88b-452e-df59-29bdddf56c0f",
    "papermill": {
     "duration": null,
     "end_time": null,
     "exception": null,
     "start_time": null,
     "status": "pending"
    },
    "tags": []
   },
   "outputs": [],
   "source": [
    "resultado = dados.iloc[indices[0]]\n",
    "resultado"
   ]
  },
  {
   "cell_type": "markdown",
   "id": "b2a71529",
   "metadata": {
    "id": "e4Dy4UNcyo7X",
    "papermill": {
     "duration": null,
     "end_time": null,
     "exception": null,
     "start_time": null,
     "status": "pending"
    },
    "tags": []
   },
   "source": [
    "Vamos adicionar os valores de distância nos nossos resultados."
   ]
  },
  {
   "cell_type": "code",
   "execution_count": null,
   "id": "3eb634a2",
   "metadata": {
    "id": "VfpVXuZGLz6G",
    "papermill": {
     "duration": null,
     "end_time": null,
     "exception": null,
     "start_time": null,
     "status": "pending"
    },
    "tags": []
   },
   "outputs": [],
   "source": [
    "resultado['distance'] = distances[0]"
   ]
  },
  {
   "cell_type": "code",
   "execution_count": null,
   "id": "7291e03d",
   "metadata": {
    "id": "DOmaIWVLLvCe",
    "outputId": "d6a4eec2-bea8-46e5-d2ea-fdcbad047cd7",
    "papermill": {
     "duration": null,
     "end_time": null,
     "exception": null,
     "start_time": null,
     "status": "pending"
    },
    "tags": []
   },
   "outputs": [],
   "source": [
    "resultado"
   ]
  },
  {
   "cell_type": "markdown",
   "id": "c72b7707",
   "metadata": {
    "id": "piUNgOnIyywP",
    "papermill": {
     "duration": null,
     "end_time": null,
     "exception": null,
     "start_time": null,
     "status": "pending"
    },
    "tags": []
   },
   "source": [
    "Agora, vamos repetir esse procedimento para outras medidas de proximidade e comparar os resultados."
   ]
  },
  {
   "cell_type": "code",
   "execution_count": null,
   "id": "98be3507",
   "metadata": {
    "id": "YbL1Vyz8Nr83",
    "outputId": "41971168-64da-4b72-a814-06f907024826",
    "papermill": {
     "duration": null,
     "end_time": null,
     "exception": null,
     "start_time": null,
     "status": "pending"
    },
    "tags": []
   },
   "outputs": [],
   "source": [
    "nbrs = NearestNeighbors(metric='manhattan',n_neighbors=7).fit(dados)\n",
    "\n",
    "age = 30\n",
    "balance = 200\n",
    "duration = 30\n",
    "\n",
    "distances, indices = nbrs.kneighbors([[age,balance,duration]])\n",
    "resultado = dados.iloc[indices[0]]\n",
    "resultado['distance'] = distances[0]\n",
    "\n",
    "resultado"
   ]
  },
  {
   "cell_type": "code",
   "execution_count": null,
   "id": "2d9f0b2f",
   "metadata": {
    "id": "CBMUf_NIzaV4",
    "outputId": "ecf701be-5d18-4ff0-ace7-7ea4b66446dc",
    "papermill": {
     "duration": null,
     "end_time": null,
     "exception": null,
     "start_time": null,
     "status": "pending"
    },
    "tags": []
   },
   "outputs": [],
   "source": [
    "nbrs = NearestNeighbors(metric='chebyshev',n_neighbors=7).fit(dados)\n",
    "\n",
    "age = 30\n",
    "balance = 200\n",
    "duration = 30\n",
    "\n",
    "distances, indices = nbrs.kneighbors([[age,balance,duration]])\n",
    "resultado = dados.iloc[indices[0]]\n",
    "resultado['distance'] = distances[0]\n",
    "\n",
    "resultado"
   ]
  },
  {
   "cell_type": "code",
   "execution_count": null,
   "id": "488c8145",
   "metadata": {
    "id": "lj3-8FUJ2Usn",
    "outputId": "4253be00-60bf-4fda-ec45-0a739352a708",
    "papermill": {
     "duration": null,
     "end_time": null,
     "exception": null,
     "start_time": null,
     "status": "pending"
    },
    "tags": []
   },
   "outputs": [],
   "source": [
    "nbrs = NearestNeighbors(metric='minkowski',n_neighbors=7, p=2).fit(dados)\n",
    "\n",
    "age = 30\n",
    "balance = 200\n",
    "duration = 30\n",
    "\n",
    "distances, indices = nbrs.kneighbors([[age,balance,duration]])\n",
    "resultado = dados.iloc[indices[0]]\n",
    "resultado['distance'] = distances[0]\n",
    "\n",
    "resultado"
   ]
  },
  {
   "cell_type": "markdown",
   "id": "37a8d60b",
   "metadata": {
    "id": "ENPr9WJAzvUb",
    "papermill": {
     "duration": null,
     "end_time": null,
     "exception": null,
     "start_time": null,
     "status": "pending"
    },
    "tags": []
   },
   "source": [
    "# Testando o efeito da normalização dos dados na medida de proximidade"
   ]
  },
  {
   "cell_type": "code",
   "execution_count": null,
   "id": "044203af",
   "metadata": {
    "id": "nQOp2tdjNacW",
    "outputId": "01a8bff2-afd9-4011-82b2-54b35c8c1297",
    "papermill": {
     "duration": null,
     "end_time": null,
     "exception": null,
     "start_time": null,
     "status": "pending"
    },
    "tags": []
   },
   "outputs": [],
   "source": [
    "dados.var()"
   ]
  },
  {
   "cell_type": "code",
   "execution_count": null,
   "id": "3f94a662",
   "metadata": {
    "id": "yoJJcE180naQ",
    "outputId": "e8563b60-f0b1-419b-a0b0-1192ffbecd67",
    "papermill": {
     "duration": null,
     "end_time": null,
     "exception": null,
     "start_time": null,
     "status": "pending"
    },
    "tags": []
   },
   "outputs": [],
   "source": [
    "nbrs = NearestNeighbors(metric='euclidean',n_neighbors=7).fit(dados)\n",
    "\n",
    "objeto_id = 5\n",
    "print(dados.loc[objeto_id],\"\\n\")\n",
    "age = dados.loc[objeto_id].age\n",
    "balance = dados.loc[objeto_id].balance\n",
    "duration = dados.loc[objeto_id].duration\n",
    "\n",
    "distances, indices = nbrs.kneighbors([[age,balance,duration]])\n",
    "resultado = dados.iloc[indices[0]]\n",
    "resultado['distance'] = distances[0]\n",
    "\n",
    "resultado"
   ]
  },
  {
   "cell_type": "code",
   "execution_count": null,
   "id": "a67340bd",
   "metadata": {
    "id": "oDBrrFb-Nz5e",
    "outputId": "f8682d67-6b72-4db9-e0cf-384f9f7fdaf7",
    "papermill": {
     "duration": null,
     "end_time": null,
     "exception": null,
     "start_time": null,
     "status": "pending"
    },
    "tags": []
   },
   "outputs": [],
   "source": [
    "min_max_scaler = preprocessing.MinMaxScaler() # normalização min-max\n",
    "dados_norm = pd.DataFrame(min_max_scaler.fit_transform(dados))\n",
    "dados_norm.columns = dados.columns\n",
    "dados_norm"
   ]
  },
  {
   "cell_type": "code",
   "execution_count": null,
   "id": "c624b062",
   "metadata": {
    "id": "RoZ3dGik0JL6",
    "outputId": "11a934c7-30fb-469e-829b-27551986cb6d",
    "papermill": {
     "duration": null,
     "end_time": null,
     "exception": null,
     "start_time": null,
     "status": "pending"
    },
    "tags": []
   },
   "outputs": [],
   "source": [
    "dados_norm.var()"
   ]
  },
  {
   "cell_type": "code",
   "execution_count": null,
   "id": "0f3b6733",
   "metadata": {
    "id": "dUX1t9ib1Fk5",
    "outputId": "1b53d3f3-282b-4e61-feee-6d950b8a00d8",
    "papermill": {
     "duration": null,
     "end_time": null,
     "exception": null,
     "start_time": null,
     "status": "pending"
    },
    "tags": []
   },
   "outputs": [],
   "source": [
    "dados_norm"
   ]
  },
  {
   "cell_type": "code",
   "execution_count": null,
   "id": "7efe5e1b",
   "metadata": {
    "id": "P9yOwwKvN8Lu",
    "outputId": "8dfca090-13a0-4bf0-9770-16b22848d6ef",
    "papermill": {
     "duration": null,
     "end_time": null,
     "exception": null,
     "start_time": null,
     "status": "pending"
    },
    "tags": []
   },
   "outputs": [],
   "source": [
    "nbrs = NearestNeighbors(metric='euclidean',n_neighbors=7).fit(dados_norm)\n",
    "\n",
    "objeto_id = 5\n",
    "print(dados_norm.loc[objeto_id],\"\\n\")\n",
    "age = dados_norm.loc[objeto_id].age\n",
    "balance = dados_norm.loc[objeto_id].balance\n",
    "duration = dados_norm.loc[objeto_id].duration\n",
    "\n",
    "distances, indices = nbrs.kneighbors([[age,balance,duration]])\n",
    "resultado = dados_norm.iloc[indices[0]]\n",
    "resultado['distance'] = distances[0]\n",
    "\n",
    "resultado"
   ]
  },
  {
   "cell_type": "markdown",
   "id": "cf1470c1",
   "metadata": {
    "id": "QN5eDiiY1WuD",
    "papermill": {
     "duration": null,
     "end_time": null,
     "exception": null,
     "start_time": null,
     "status": "pending"
    },
    "tags": []
   },
   "source": [
    "# Leitura dos dados *bank_marketing_binary.csv*\n",
    "\n",
    "Usamos o pandas para leitura do arquivo CSV.\n",
    "Em seguida, as 30 primeiras linhas são exibidas.\n",
    "Os dados já estão pré-processados.\n",
    "\n",
    "Cada linha representa um cliente do banco. Cada coluna representa um **atributo binário** do cliente."
   ]
  },
  {
   "cell_type": "code",
   "execution_count": null,
   "id": "0315c13c",
   "metadata": {
    "id": "WaCMW-5tN-JV",
    "outputId": "723260c8-8c2b-4b47-e024-a26d5aee2c52",
    "papermill": {
     "duration": null,
     "end_time": null,
     "exception": null,
     "start_time": null,
     "status": "pending"
    },
    "tags": []
   },
   "outputs": [],
   "source": [
    "dados = pd.read_csv('bank_marketing_binary.csv')\n",
    "dados.head(30)"
   ]
  },
  {
   "cell_type": "code",
   "execution_count": null,
   "id": "886aaad3",
   "metadata": {
    "id": "WEr-ZMzEdrHc",
    "outputId": "13d1f29a-99cc-458f-998a-44510fea8349",
    "papermill": {
     "duration": null,
     "end_time": null,
     "exception": null,
     "start_time": null,
     "status": "pending"
    },
    "tags": []
   },
   "outputs": [],
   "source": [
    "nbrs = NearestNeighbors(metric='jaccard',n_neighbors=7).fit(dados)\n",
    "\n",
    "marital_divorced=0\n",
    "marital_married=1\n",
    "marital_single=0\n",
    "\n",
    "education_primary=0\n",
    "education_secondary=0\n",
    "education_tertiary=1\n",
    "\n",
    "contact_cellular=1\n",
    "loan=0\n",
    "housing=1\n",
    "\n",
    "distances, indices = nbrs.kneighbors([[marital_divorced,\n",
    "                                       marital_married,\n",
    "                                       marital_single,\n",
    "                                       education_primary,\n",
    "                                       education_secondary,\n",
    "                                       education_tertiary,\n",
    "                                       contact_cellular,\n",
    "                                       loan,\n",
    "                                       housing]])\n",
    "resultado = dados.iloc[indices[0]]\n",
    "resultado['distance'] = distances[0]\n",
    "\n",
    "resultado"
   ]
  },
  {
   "cell_type": "markdown",
   "id": "f907a531",
   "metadata": {
    "id": "5A-_cVsf336B",
    "papermill": {
     "duration": null,
     "end_time": null,
     "exception": null,
     "start_time": null,
     "status": "pending"
    },
    "tags": []
   },
   "source": [
    "# Informações complementares\n",
    "\n",
    "* Outra medidas de distâncias no Scikit-Learn:\n",
    "\n",
    "https://scikit-learn.org/stable/modules/generated/sklearn.neighbors.DistanceMetric.html#sklearn.neighbors.DistanceMetric\n"
   ]
  }
 ],
 "metadata": {
  "kernelspec": {
   "display_name": "Python 3",
   "language": "python",
   "name": "python3"
  },
  "language_info": {
   "codemirror_mode": {
    "name": "ipython",
    "version": 3
   },
   "file_extension": ".py",
   "mimetype": "text/x-python",
   "name": "python",
   "nbconvert_exporter": "python",
   "pygments_lexer": "ipython3",
   "version": "3.7.12"
  },
  "papermill": {
   "default_parameters": {},
   "duration": 11.948641,
   "end_time": "2022-10-01T11:56:53.530288",
   "environment_variables": {},
   "exception": true,
   "input_path": "__notebook__.ipynb",
   "output_path": "__notebook__.ipynb",
   "parameters": {},
   "start_time": "2022-10-01T11:56:41.581647",
   "version": "2.3.4"
  }
 },
 "nbformat": 4,
 "nbformat_minor": 5
}
