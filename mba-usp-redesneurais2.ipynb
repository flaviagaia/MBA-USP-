{
 "cells": [
  {
   "cell_type": "markdown",
   "id": "fd985532",
   "metadata": {
    "id": "zI6LDVYrkk3t",
    "papermill": {
     "duration": 0.011319,
     "end_time": "2022-10-23T14:35:28.850374",
     "exception": false,
     "start_time": "2022-10-23T14:35:28.839055",
     "status": "completed"
    },
    "tags": []
   },
   "source": [
    "# <font color=\"red\"> MBA em IA e Big Data</font>\n",
    "## <span style=\"color:red\">Redes Neurais e Deep Learning</span>\n",
    "\n",
    "\n",
    "## Keras para Implementação de Redes Neurais Profundas\n",
    "\n",
    "*Roseli Aparecida Francelin Romero*<br>\n",
    "*ICMC/USP São Carlos*"
   ]
  },
  {
   "cell_type": "markdown",
   "id": "5628a5c2",
   "metadata": {
    "id": "uO3aJvGdlKcR",
    "papermill": {
     "duration": 0.009188,
     "end_time": "2022-10-23T14:35:28.869652",
     "exception": false,
     "start_time": "2022-10-23T14:35:28.860464",
     "status": "completed"
    },
    "tags": []
   },
   "source": [
    "### Estudo de caso: dados estruturados\n",
    "### Classificação de Estados segundo sua população, UF e PIB"
   ]
  },
  {
   "cell_type": "code",
   "execution_count": 1,
   "id": "3238b364",
   "metadata": {
    "execution": {
     "iopub.execute_input": "2022-10-23T14:35:28.893392Z",
     "iopub.status.busy": "2022-10-23T14:35:28.892414Z",
     "iopub.status.idle": "2022-10-23T14:35:36.790160Z",
     "shell.execute_reply": "2022-10-23T14:35:36.788610Z"
    },
    "executionInfo": {
     "elapsed": 271,
     "status": "ok",
     "timestamp": 1666136702917,
     "user": {
      "displayName": "Roseli Aparecida Francelin Romero",
      "userId": "04295547795514221387"
     },
     "user_tz": 180
    },
    "id": "55mHEidxkOa8",
    "papermill": {
     "duration": 7.91304,
     "end_time": "2022-10-23T14:35:36.792104",
     "exception": true,
     "start_time": "2022-10-23T14:35:28.879064",
     "status": "failed"
    },
    "tags": []
   },
   "outputs": [
    {
     "ename": "AttributeError",
     "evalue": "module 'keras.api._v2.keras.utils' has no attribute 'set_random_seed'",
     "output_type": "error",
     "traceback": [
      "\u001b[0;31m---------------------------------------------------------------------------\u001b[0m",
      "\u001b[0;31mAttributeError\u001b[0m                            Traceback (most recent call last)",
      "\u001b[0;32m/tmp/ipykernel_19/2386303441.py\u001b[0m in \u001b[0;36m<module>\u001b[0;34m\u001b[0m\n\u001b[1;32m      6\u001b[0m \u001b[0;31m#\u001b[0m\u001b[0;34m\u001b[0m\u001b[0;34m\u001b[0m\u001b[0;34m\u001b[0m\u001b[0m\n\u001b[1;32m      7\u001b[0m \u001b[0;31m# Fixando uma semente geradora\u001b[0m\u001b[0;34m\u001b[0m\u001b[0;34m\u001b[0m\u001b[0;34m\u001b[0m\u001b[0m\n\u001b[0;32m----> 8\u001b[0;31m \u001b[0mkeras\u001b[0m\u001b[0;34m.\u001b[0m\u001b[0mutils\u001b[0m\u001b[0;34m.\u001b[0m\u001b[0mset_random_seed\u001b[0m\u001b[0;34m(\u001b[0m\u001b[0;36m2\u001b[0m\u001b[0;34m)\u001b[0m \u001b[0;31m# para garantir reprodutibilidade\u001b[0m\u001b[0;34m\u001b[0m\u001b[0;34m\u001b[0m\u001b[0m\n\u001b[0m\u001b[1;32m      9\u001b[0m \u001b[0;31m#\u001b[0m\u001b[0;34m\u001b[0m\u001b[0;34m\u001b[0m\u001b[0;34m\u001b[0m\u001b[0m\n\u001b[1;32m     10\u001b[0m \u001b[0;31m# carregando base com Pandas\u001b[0m\u001b[0;34m\u001b[0m\u001b[0;34m\u001b[0m\u001b[0;34m\u001b[0m\u001b[0m\n",
      "\u001b[0;31mAttributeError\u001b[0m: module 'keras.api._v2.keras.utils' has no attribute 'set_random_seed'"
     ]
    }
   ],
   "source": [
    "import numpy as np\n",
    "import pandas as pd\n",
    "import matplotlib.pyplot as plt\n",
    "from tensorflow import keras\n",
    "from sklearn.model_selection import train_test_split\n",
    "#\n",
    "# Fixando uma semente geradora\n",
    "keras.utils.set_random_seed(2) # para garantir reprodutibilidade\n",
    "#\n",
    "# carregando base com Pandas\n",
    "# Este  arquivo esta disponível na página do curso para download\n",
    "df = pd.read_csv(\"vw_pib_percapita_clean.csv\")\n",
    "df = df.dropna()"
   ]
  },
  {
   "cell_type": "code",
   "execution_count": null,
   "id": "29261547",
   "metadata": {
    "id": "TeP-d0A3lyBt",
    "outputId": "89ed7a31-d0bb-40d7-aa55-e52813906c25",
    "papermill": {
     "duration": null,
     "end_time": null,
     "exception": null,
     "start_time": null,
     "status": "pending"
    },
    "tags": []
   },
   "outputs": [],
   "source": [
    "df"
   ]
  },
  {
   "cell_type": "markdown",
   "id": "8257c0b2",
   "metadata": {
    "id": "odVxTvCzJScK",
    "papermill": {
     "duration": null,
     "end_time": null,
     "exception": null,
     "start_time": null,
     "status": "pending"
    },
    "tags": []
   },
   "source": [
    "Vamos obter uma codificação numérica para o estado (UF)"
   ]
  },
  {
   "cell_type": "code",
   "execution_count": null,
   "id": "b5ae619c",
   "metadata": {
    "executionInfo": {
     "elapsed": 416,
     "status": "ok",
     "timestamp": 1666136800292,
     "user": {
      "displayName": "Roseli Aparecida Francelin Romero",
      "userId": "04295547795514221387"
     },
     "user_tz": 180
    },
    "id": "hBK8g6Xf29dI",
    "outputId": "1f0ff167-bd7b-4b88-d0f0-6bc17d99790b",
    "papermill": {
     "duration": null,
     "end_time": null,
     "exception": null,
     "start_time": null,
     "status": "pending"
    },
    "tags": []
   },
   "outputs": [],
   "source": [
    "ufcode = df['UF'].astype(\"category\").cat.codes\n",
    "\n",
    "df.insert(1,\"UF_code\", ufcode.astype(float))\n",
    "df"
   ]
  },
  {
   "cell_type": "markdown",
   "id": "3c968773",
   "metadata": {
    "id": "jOnOa3KhoyPM",
    "papermill": {
     "duration": null,
     "end_time": null,
     "exception": null,
     "start_time": null,
     "status": "pending"
    },
    "tags": []
   },
   "source": [
    "### Discriminar cidades 1 e 2 das demais (3+)"
   ]
  },
  {
   "cell_type": "code",
   "execution_count": null,
   "id": "062829b9",
   "metadata": {
    "executionInfo": {
     "elapsed": 298,
     "status": "ok",
     "timestamp": 1666136885892,
     "user": {
      "displayName": "Roseli Aparecida Francelin Romero",
      "userId": "04295547795514221387"
     },
     "user_tz": 180
    },
    "id": "cOdIcO_Bmc0o",
    "outputId": "95995dd5-907f-4512-b15d-693aa4da2be2",
    "papermill": {
     "duration": null,
     "end_time": null,
     "exception": null,
     "start_time": null,
     "status": "pending"
    },
    "tags": []
   },
   "outputs": [],
   "source": [
    "df['classe'].value_counts().plot(kind = 'bar')"
   ]
  },
  {
   "cell_type": "code",
   "execution_count": null,
   "id": "0d027fda",
   "metadata": {
    "executionInfo": {
     "elapsed": 309,
     "status": "ok",
     "timestamp": 1666136897167,
     "user": {
      "displayName": "Roseli Aparecida Francelin Romero",
      "userId": "04295547795514221387"
     },
     "user_tz": 180
    },
    "id": "2o4JiN19mqdY",
    "outputId": "bbf87233-46ae-48fd-8bef-d17e89f47799",
    "papermill": {
     "duration": null,
     "end_time": null,
     "exception": null,
     "start_time": null,
     "status": "pending"
    },
    "scrolled": true,
    "tags": []
   },
   "outputs": [],
   "source": [
    "df['classe'].value_counts()"
   ]
  },
  {
   "cell_type": "markdown",
   "id": "fd2b9004",
   "metadata": {
    "id": "tqfg5g1Ro2sY",
    "papermill": {
     "duration": null,
     "end_time": null,
     "exception": null,
     "start_time": null,
     "status": "pending"
    },
    "tags": []
   },
   "source": [
    "#### Passos preliminares\n",
    "* converter o dataframe para numpy array \n",
    "* separar as features (entrada) dos alvos (saída)"
   ]
  },
  {
   "cell_type": "code",
   "execution_count": null,
   "id": "97d24b49",
   "metadata": {
    "executionInfo": {
     "elapsed": 283,
     "status": "ok",
     "timestamp": 1666136940113,
     "user": {
      "displayName": "Roseli Aparecida Francelin Romero",
      "userId": "04295547795514221387"
     },
     "user_tz": 180
    },
    "id": "Ls0LDOsXm7Yq",
    "papermill": {
     "duration": null,
     "end_time": null,
     "exception": null,
     "start_time": null,
     "status": "pending"
    },
    "tags": []
   },
   "outputs": [],
   "source": [
    "nparray = df.to_numpy()"
   ]
  },
  {
   "cell_type": "code",
   "execution_count": null,
   "id": "c1cad128",
   "metadata": {
    "executionInfo": {
     "elapsed": 286,
     "status": "ok",
     "timestamp": 1666137008681,
     "user": {
      "displayName": "Roseli Aparecida Francelin Romero",
      "userId": "04295547795514221387"
     },
     "user_tz": 180
    },
    "id": "S2u5HD7eoYUl",
    "outputId": "c8496b48-2441-4514-fe4a-f598018512b4",
    "papermill": {
     "duration": null,
     "end_time": null,
     "exception": null,
     "start_time": null,
     "status": "pending"
    },
    "tags": []
   },
   "outputs": [],
   "source": [
    "features = (nparray[:,1:-1]).astype(float)\n",
    "targets = (nparray[:,-1] > 2).astype(int)  ## cria problema binário\n",
    "print(\"Features = \", features.shape)\n",
    "print(\"Targets = \", targets.shape)"
   ]
  },
  {
   "cell_type": "markdown",
   "id": "182868a9",
   "metadata": {
    "id": "W7VOgujapRcS",
    "papermill": {
     "duration": null,
     "end_time": null,
     "exception": null,
     "start_time": null,
     "status": "pending"
    },
    "tags": []
   },
   "source": [
    "### 1) Preparando conjuntos de treinamento e validação"
   ]
  },
  {
   "cell_type": "code",
   "execution_count": null,
   "id": "78abd889",
   "metadata": {
    "executionInfo": {
     "elapsed": 271,
     "status": "ok",
     "timestamp": 1666137036916,
     "user": {
      "displayName": "Roseli Aparecida Francelin Romero",
      "userId": "04295547795514221387"
     },
     "user_tz": 180
    },
    "id": "jNrg8WLxVPG_",
    "papermill": {
     "duration": null,
     "end_time": null,
     "exception": null,
     "start_time": null,
     "status": "pending"
    },
    "tags": []
   },
   "outputs": [],
   "source": [
    "X_train, X_val, y_train, y_val = train_test_split(features, targets, \n",
    "                                     test_size=0.25, random_state=0)"
   ]
  },
  {
   "cell_type": "code",
   "execution_count": null,
   "id": "bbbc8101",
   "metadata": {
    "executionInfo": {
     "elapsed": 253,
     "status": "ok",
     "timestamp": 1666137067382,
     "user": {
      "displayName": "Roseli Aparecida Francelin Romero",
      "userId": "04295547795514221387"
     },
     "user_tz": 180
    },
    "id": "MvusEAx0oZbw",
    "outputId": "331bb351-6d2a-4b8b-e4d0-c5bfeb8ae8af",
    "papermill": {
     "duration": null,
     "end_time": null,
     "exception": null,
     "start_time": null,
     "status": "pending"
    },
    "tags": []
   },
   "outputs": [],
   "source": [
    "num_inst_teste = int(len(features)*0.2)\n",
    "print(\"Exemplos de treinamento:\", len(X_train))\n",
    "print(\"Exemplos de validacao:\", len(X_val))"
   ]
  },
  {
   "cell_type": "code",
   "execution_count": null,
   "id": "4197645e",
   "metadata": {
    "executionInfo": {
     "elapsed": 276,
     "status": "ok",
     "timestamp": 1666137082595,
     "user": {
      "displayName": "Roseli Aparecida Francelin Romero",
      "userId": "04295547795514221387"
     },
     "user_tz": 180
    },
    "id": "M6-wMTds2ZA1",
    "outputId": "9cc70b40-feed-4356-9ef8-0cebf906fcbe",
    "papermill": {
     "duration": null,
     "end_time": null,
     "exception": null,
     "start_time": null,
     "status": "pending"
    },
    "tags": []
   },
   "outputs": [],
   "source": [
    "X_train"
   ]
  },
  {
   "cell_type": "code",
   "execution_count": null,
   "id": "5609e1c2",
   "metadata": {
    "executionInfo": {
     "elapsed": 266,
     "status": "ok",
     "timestamp": 1666137089285,
     "user": {
      "displayName": "Roseli Aparecida Francelin Romero",
      "userId": "04295547795514221387"
     },
     "user_tz": 180
    },
    "id": "XUvnDFab31Af",
    "outputId": "9efb4e8c-12bb-4460-8c0b-2d06266684e1",
    "papermill": {
     "duration": null,
     "end_time": null,
     "exception": null,
     "start_time": null,
     "status": "pending"
    },
    "tags": []
   },
   "outputs": [],
   "source": [
    "y_train"
   ]
  },
  {
   "cell_type": "code",
   "execution_count": null,
   "id": "abef4ba2",
   "metadata": {
    "executionInfo": {
     "elapsed": 251,
     "status": "ok",
     "timestamp": 1666137185208,
     "user": {
      "displayName": "Roseli Aparecida Francelin Romero",
      "userId": "04295547795514221387"
     },
     "user_tz": 180
    },
    "id": "f_frKjeHpzPg",
    "outputId": "475116e1-dbc0-4324-923b-f3b4bc720637",
    "papermill": {
     "duration": null,
     "end_time": null,
     "exception": null,
     "start_time": null,
     "status": "pending"
    },
    "tags": []
   },
   "outputs": [],
   "source": [
    "counts_train = np.bincount(y_train)\n",
    "counts_val = np.bincount(y_val)\n",
    "\n",
    "print(\"Porcentagem da classe minoritária treinamento: {} ({:.2f}% of total)\".format(\n",
    "        counts_train[1], 100 * float(counts_train[1]) / len(y_train)\n",
    "    ))\n",
    "\n",
    "print(\"Porcentagem da classe minoritária validacao: {} ({:.2f}% of total)\".format(\n",
    "        counts_val[1], 100 * float(counts_val[1]) / len(y_val)\n",
    "    ))"
   ]
  },
  {
   "cell_type": "markdown",
   "id": "006a9dac",
   "metadata": {
    "id": "nj7baTNmq2Ic",
    "papermill": {
     "duration": null,
     "end_time": null,
     "exception": null,
     "start_time": null,
     "status": "pending"
    },
    "tags": []
   },
   "source": [
    "## 2) Montando a rede neural para classificação\n",
    "\n",
    "Utilizaremos primeiro uma rede rasa (\"MLP\" com uma camada)"
   ]
  },
  {
   "cell_type": "code",
   "execution_count": null,
   "id": "aa17fc3e",
   "metadata": {
    "executionInfo": {
     "elapsed": 299,
     "status": "ok",
     "timestamp": 1666137352360,
     "user": {
      "displayName": "Roseli Aparecida Francelin Romero",
      "userId": "04295547795514221387"
     },
     "user_tz": 180
    },
    "id": "NuMsZENop9-t",
    "outputId": "6da039dc-c4b5-45f7-a5f8-c42ed58f4985",
    "papermill": {
     "duration": null,
     "end_time": null,
     "exception": null,
     "start_time": null,
     "status": "pending"
    },
    "tags": []
   },
   "outputs": [],
   "source": [
    "model1 = keras.Sequential(\n",
    " [\n",
    "   keras.layers.Dense(8, activation=\"sigmoid\", input_shape=(X_train.shape[-1],)),\n",
    "   keras.layers.Dense(1, activation=\"sigmoid\"),\n",
    " ]\n",
    ")\n",
    "\n",
    "model1.summary()\n",
    "\n",
    "# 3 x 8 = 24 + 8 = 32\n",
    "# 8 x 1 = 8 + 1 = 9"
   ]
  },
  {
   "cell_type": "markdown",
   "id": "fcfcaae7",
   "metadata": {
    "id": "EGYnX8v2rO2v",
    "papermill": {
     "duration": null,
     "end_time": null,
     "exception": null,
     "start_time": null,
     "status": "pending"
    },
    "tags": []
   },
   "source": [
    "**Avaliação**: a base é muito desbalanceada portanto:\n",
    "* Falsos positivos / negativos\n",
    "* Verdadeiros positivos / negativos\n",
    "* Precisão e Revocação\n",
    "\n",
    "**Preparação do modelo**: otimizadores e outros"
   ]
  },
  {
   "cell_type": "code",
   "execution_count": null,
   "id": "5ae3eb8b",
   "metadata": {
    "executionInfo": {
     "elapsed": 250,
     "status": "ok",
     "timestamp": 1666137520447,
     "user": {
      "displayName": "Roseli Aparecida Francelin Romero",
      "userId": "04295547795514221387"
     },
     "user_tz": 180
    },
    "id": "9jiq0kejrBBY",
    "papermill": {
     "duration": null,
     "end_time": null,
     "exception": null,
     "start_time": null,
     "status": "pending"
    },
    "tags": []
   },
   "outputs": [],
   "source": [
    "metrics = [\n",
    "    keras.metrics.FalseNegatives(name=\"fn\"),\n",
    "    keras.metrics.FalsePositives(name=\"fp\"),\n",
    "    keras.metrics.TrueNegatives(name=\"tn\"),\n",
    "    keras.metrics.TruePositives(name=\"tp\"),\n",
    "    keras.metrics.Precision(name=\"precision\"),\n",
    "    keras.metrics.Recall(name=\"recall\"),\n",
    "]\n",
    "\n",
    "# compilamos o modelo utilizando:\n",
    "#- um otimizador SGD\n",
    "#- a função de perda entropia cruzada\n",
    "#- as métricas acima\n",
    "model1.compile(\n",
    "    optimizer=keras.optimizers.SGD(), loss=\"mse\", metrics=metrics\n",
    ")"
   ]
  },
  {
   "cell_type": "markdown",
   "id": "e1656c07",
   "metadata": {
    "id": "W3rSe3LTrkeA",
    "papermill": {
     "duration": null,
     "end_time": null,
     "exception": null,
     "start_time": null,
     "status": "pending"
    },
    "tags": []
   },
   "source": [
    "**Treinamento do modelo**\n",
    "\n",
    "Aqui aparecem:\n",
    "* **batchsize**\n",
    "* número de épocas (**epochs**). \n",
    "\n",
    "Uma época ocorre após as iterações (cada batch) completarem<br>\n",
    "o total de exemplos de treinamento\n",
    "\n",
    "* Temos 4174 exemplos de treinamento. \n",
    "* Se usarmos batchsize = 10, \n",
    "* 1 época precisa de 4174/10 = 417 iterações (mini-batchs selecionados)\n"
   ]
  },
  {
   "cell_type": "code",
   "execution_count": null,
   "id": "935e26b6",
   "metadata": {
    "executionInfo": {
     "elapsed": 263,
     "status": "ok",
     "timestamp": 1666137570415,
     "user": {
      "displayName": "Roseli Aparecida Francelin Romero",
      "userId": "04295547795514221387"
     },
     "user_tz": 180
    },
    "id": "QCuTxLshVPHD",
    "papermill": {
     "duration": null,
     "end_time": null,
     "exception": null,
     "start_time": null,
     "status": "pending"
    },
    "tags": []
   },
   "outputs": [],
   "source": [
    "batch_size = 10\n",
    "epochs = 30"
   ]
  },
  {
   "cell_type": "code",
   "execution_count": null,
   "id": "0d516efb",
   "metadata": {
    "executionInfo": {
     "elapsed": 277,
     "status": "ok",
     "timestamp": 1666137624154,
     "user": {
      "displayName": "Roseli Aparecida Francelin Romero",
      "userId": "04295547795514221387"
     },
     "user_tz": 180
    },
    "id": "M16Uwl6qxJ7d",
    "outputId": "99c0713e-521f-44bc-a314-f6018b2865e5",
    "papermill": {
     "duration": null,
     "end_time": null,
     "exception": null,
     "start_time": null,
     "status": "pending"
    },
    "tags": []
   },
   "outputs": [],
   "source": [
    "len(X_train)/batch_size"
   ]
  },
  {
   "cell_type": "code",
   "execution_count": null,
   "id": "c053744e",
   "metadata": {
    "executionInfo": {
     "elapsed": 43249,
     "status": "ok",
     "timestamp": 1666137728937,
     "user": {
      "displayName": "Roseli Aparecida Francelin Romero",
      "userId": "04295547795514221387"
     },
     "user_tz": 180
    },
    "id": "q1G4RN3wrgoJ",
    "outputId": "7bf714a2-74ec-409c-e75c-8649b62b7da6",
    "papermill": {
     "duration": null,
     "end_time": null,
     "exception": null,
     "start_time": null,
     "status": "pending"
    },
    "tags": []
   },
   "outputs": [],
   "source": [
    "history1 = model1.fit(\n",
    "    X_train,\n",
    "    y_train,\n",
    "    batch_size=batch_size,\n",
    "    epochs=epochs,\n",
    "    verbose=1,  ## mostra as iteracoes\n",
    "    validation_data=(X_val, y_val),\n",
    ")"
   ]
  },
  {
   "cell_type": "markdown",
   "id": "89aa282d",
   "metadata": {
    "id": "GD-CviKWsI46",
    "papermill": {
     "duration": null,
     "end_time": null,
     "exception": null,
     "start_time": null,
     "status": "pending"
    },
    "tags": []
   },
   "source": [
    "Com o Keras podemos plotar as funções de perda ao longo do treinamento"
   ]
  },
  {
   "cell_type": "code",
   "execution_count": null,
   "id": "cfe1d5b2",
   "metadata": {
    "executionInfo": {
     "elapsed": 349,
     "status": "ok",
     "timestamp": 1666137867047,
     "user": {
      "displayName": "Roseli Aparecida Francelin Romero",
      "userId": "04295547795514221387"
     },
     "user_tz": 180
    },
    "id": "vhnGiYjmrmBf",
    "outputId": "5f3462e5-589f-4709-9831-d57aedaa83e5",
    "papermill": {
     "duration": null,
     "end_time": null,
     "exception": null,
     "start_time": null,
     "status": "pending"
    },
    "tags": []
   },
   "outputs": [],
   "source": [
    "plt.plot(history1.history[\"loss\"])\n",
    "plt.plot(history1.history[\"val_loss\"])\n",
    "plt.title(\"model loss\")\n",
    "plt.ylabel(\"loss\")\n",
    "plt.xlabel(\"epoch\")\n",
    "plt.legend([\"train\", \"val\"], loc=\"upper left\")\n",
    "plt.show()"
   ]
  },
  {
   "cell_type": "code",
   "execution_count": null,
   "id": "a924c995",
   "metadata": {
    "executionInfo": {
     "elapsed": 249,
     "status": "ok",
     "timestamp": 1666137922381,
     "user": {
      "displayName": "Roseli Aparecida Francelin Romero",
      "userId": "04295547795514221387"
     },
     "user_tz": 180
    },
    "id": "qybsE72PsRgl",
    "papermill": {
     "duration": null,
     "end_time": null,
     "exception": null,
     "start_time": null,
     "status": "pending"
    },
    "tags": []
   },
   "outputs": [],
   "source": [
    "# Computando as métricas para a validacao\n",
    "score = model1.evaluate(X_val, y_val, verbose=0)"
   ]
  },
  {
   "cell_type": "code",
   "execution_count": null,
   "id": "271441bc",
   "metadata": {
    "executionInfo": {
     "elapsed": 254,
     "status": "ok",
     "timestamp": 1666137974981,
     "user": {
      "displayName": "Roseli Aparecida Francelin Romero",
      "userId": "04295547795514221387"
     },
     "user_tz": 180
    },
    "id": "yfj7KmvEsmd7",
    "outputId": "b1e83b8e-09e4-4301-dc18-5f0c6e03001e",
    "papermill": {
     "duration": null,
     "end_time": null,
     "exception": null,
     "start_time": null,
     "status": "pending"
    },
    "tags": []
   },
   "outputs": [],
   "source": [
    "print(\"Perda (mse): \", score[0])\n",
    "print(\"Falsos negativos: \", score[1])\n",
    "print(\"Falsos positivos: \", score[2])\n",
    "print(\"Verdadeiros negativos: \", score[3])\n",
    "print(\"Verdadeiros positivos: \", score[4])\n",
    "print(\"Precisao: \", score[5])\n",
    "print(\"Revocacao: \", score[6])"
   ]
  },
  {
   "cell_type": "markdown",
   "id": "0420c466",
   "metadata": {
    "id": "YiYubRpitshR",
    "papermill": {
     "duration": null,
     "end_time": null,
     "exception": null,
     "start_time": null,
     "status": "pending"
    },
    "tags": []
   },
   "source": [
    "## 3) Melhorando o classificador\n",
    "\n",
    "1. Ponderar as classes pois estão muito desbalanceadas\n",
    "2. Padronizar os atributos\n"
   ]
  },
  {
   "cell_type": "code",
   "execution_count": null,
   "id": "96e32f13",
   "metadata": {
    "executionInfo": {
     "elapsed": 265,
     "status": "ok",
     "timestamp": 1666138189197,
     "user": {
      "displayName": "Roseli Aparecida Francelin Romero",
      "userId": "04295547795514221387"
     },
     "user_tz": 180
    },
    "id": "-IvoJtO8tels",
    "papermill": {
     "duration": null,
     "end_time": null,
     "exception": null,
     "start_time": null,
     "status": "pending"
    },
    "tags": []
   },
   "outputs": [],
   "source": [
    "# padronizacao z-score\n",
    "# calculamos média e desvio no treinamento e aplicamos em treinamento e teste\n",
    "mean = np.mean(X_train, axis=0)\n",
    "std = np.std(X_train, axis=0)\n",
    "\n",
    "X_train -= mean\n",
    "X_val -= mean\n",
    "\n",
    "X_train /= std\n",
    "X_val /= std"
   ]
  },
  {
   "cell_type": "code",
   "execution_count": null,
   "id": "bad32449",
   "metadata": {
    "executionInfo": {
     "elapsed": 259,
     "status": "ok",
     "timestamp": 1666138341643,
     "user": {
      "displayName": "Roseli Aparecida Francelin Romero",
      "userId": "04295547795514221387"
     },
     "user_tz": 180
    },
    "id": "nP8quMvAuFw-",
    "outputId": "0c97e220-8f52-4520-d540-46a63102ff04",
    "papermill": {
     "duration": null,
     "end_time": null,
     "exception": null,
     "start_time": null,
     "status": "pending"
    },
    "tags": []
   },
   "outputs": [],
   "source": [
    "# vamos ponderar o total de cada classe e formar um peso\n",
    "peso_0 = round(1.0 - (counts_train[0]/len(X_train)), 2)\n",
    "peso_1 = round(1.0 - (counts_train[1]/len(X_train)), 2)\n",
    "print(\"pesos: \", peso_0, peso_1)\n",
    "\n",
    "# ponderacao das classes\n",
    "class_weight = {0: peso_0, 1: peso_1}"
   ]
  },
  {
   "cell_type": "code",
   "execution_count": null,
   "id": "5f3ef73f",
   "metadata": {
    "executionInfo": {
     "elapsed": 42700,
     "status": "ok",
     "timestamp": 1666138398410,
     "user": {
      "displayName": "Roseli Aparecida Francelin Romero",
      "userId": "04295547795514221387"
     },
     "user_tz": 180
    },
    "id": "iEKaF2HJuSMr",
    "outputId": "cc3a7e2c-8635-4004-fd47-7f42501f0839",
    "papermill": {
     "duration": null,
     "end_time": null,
     "exception": null,
     "start_time": null,
     "status": "pending"
    },
    "tags": []
   },
   "outputs": [],
   "source": [
    "model2 = keras.Sequential(\n",
    "   [\n",
    "     keras.layers.Dense(8, activation=\"sigmoid\", input_shape=(X_train.shape[-1],)),\n",
    "     keras.layers.Dense(1, activation=\"sigmoid\"),\n",
    "   ]\n",
    ")\n",
    "model2.summary()\n",
    "\n",
    "# compilamos o modelo utilizando:\n",
    "#- um otimizador SGD\n",
    "#- a função de perda entropia cruzada\n",
    "#- as métricas acima\n",
    "model2.compile(\n",
    "    optimizer=keras.optimizers.SGD(), loss=\"mse\", metrics=metrics\n",
    ")\n",
    "\n",
    "history2 = model2.fit(\n",
    "    X_train,\n",
    "    y_train,\n",
    "    batch_size=batch_size,\n",
    "    epochs=epochs,\n",
    "    verbose=1,\n",
    "    validation_data=(X_val, y_val),\n",
    "    class_weight=class_weight,\n",
    ")"
   ]
  },
  {
   "cell_type": "code",
   "execution_count": null,
   "id": "873d9e45",
   "metadata": {
    "executionInfo": {
     "elapsed": 284,
     "status": "ok",
     "timestamp": 1666138437648,
     "user": {
      "displayName": "Roseli Aparecida Francelin Romero",
      "userId": "04295547795514221387"
     },
     "user_tz": 180
    },
    "id": "6bngEVJkvOc3",
    "outputId": "b20f37fa-2fba-4b86-aa9c-59d2519316a6",
    "papermill": {
     "duration": null,
     "end_time": null,
     "exception": null,
     "start_time": null,
     "status": "pending"
    },
    "tags": []
   },
   "outputs": [],
   "source": [
    "# Computando as métricas para a validacao\n",
    "score2 = model2.evaluate(X_val, y_val, verbose=0)\n",
    "print(\"Falsos negativos: \", score2[1])\n",
    "print(\"Falsos positivos: \", score2[2])\n",
    "print(\"Verdadeiros negativos: \", score2[3])\n",
    "print(\"Verdadeiros positivos: \", score2[4])\n",
    "print(\"Precisao: \", score2[5])\n",
    "print(\"Revocacao: \", score2[6])"
   ]
  },
  {
   "cell_type": "markdown",
   "id": "95ca244e",
   "metadata": {
    "id": "OSGmRLBfvzTH",
    "papermill": {
     "duration": null,
     "end_time": null,
     "exception": null,
     "start_time": null,
     "status": "pending"
    },
    "tags": []
   },
   "source": [
    "## 4) Adicionando mais camadas\n"
   ]
  },
  {
   "cell_type": "code",
   "execution_count": null,
   "id": "7ef5c09b",
   "metadata": {
    "executionInfo": {
     "elapsed": 42848,
     "status": "ok",
     "timestamp": 1666138595024,
     "user": {
      "displayName": "Roseli Aparecida Francelin Romero",
      "userId": "04295547795514221387"
     },
     "user_tz": 180
    },
    "id": "lPzA5QPzv3kd",
    "outputId": "610fe155-7a7c-4a5f-a6bd-b9ebc80c127f",
    "papermill": {
     "duration": null,
     "end_time": null,
     "exception": null,
     "start_time": null,
     "status": "pending"
    },
    "tags": []
   },
   "outputs": [],
   "source": [
    "model3 = keras.Sequential(\n",
    " [\n",
    "    keras.layers.Dense(8, activation=\"sigmoid\", input_shape=(X_train.shape[-1],)),\n",
    "    keras.layers.Dense(10, activation=\"sigmoid\"),\n",
    "    keras.layers.Dense(4, activation=\"sigmoid\"),\n",
    "    keras.layers.Dense(1, activation=\"sigmoid\"),\n",
    " ]\n",
    ")\n",
    "model3.summary()\n",
    "\n",
    "# compilamos o modelo utilizando:\n",
    "#- um otimizador SGD\n",
    "#- a função de perda entropia cruzada\n",
    "#- as métricas acima\n",
    "model3.compile(\n",
    "    optimizer=keras.optimizers.SGD(), loss=\"mse\", metrics=metrics\n",
    ")\n",
    "\n",
    "history3 = model3.fit(\n",
    "    X_train,\n",
    "    y_train,\n",
    "    batch_size=batch_size,\n",
    "    epochs=epochs,\n",
    "    verbose=1,\n",
    "    validation_data=(X_val, y_val),\n",
    "    class_weight=class_weight,\n",
    ")"
   ]
  },
  {
   "cell_type": "code",
   "execution_count": null,
   "id": "067bad65",
   "metadata": {
    "executionInfo": {
     "elapsed": 305,
     "status": "ok",
     "timestamp": 1666138690801,
     "user": {
      "displayName": "Roseli Aparecida Francelin Romero",
      "userId": "04295547795514221387"
     },
     "user_tz": 180
    },
    "id": "8lNTaFAXVPHH",
    "outputId": "d181f0c8-aa4d-48ab-e89f-d96574de8b19",
    "papermill": {
     "duration": null,
     "end_time": null,
     "exception": null,
     "start_time": null,
     "status": "pending"
    },
    "tags": []
   },
   "outputs": [],
   "source": [
    "plt.plot(history2.history[\"loss\"], '-b', label=\"1L-train\")\n",
    "plt.plot(history3.history[\"loss\"], '-g', label=\"2L-train\")\n",
    "plt.title(\"model loss\")\n",
    "plt.ylabel(\"loss\")\n",
    "plt.xlabel(\"epoch\")\n",
    "plt.legend(loc=\"upper left\")\n",
    "plt.show()"
   ]
  },
  {
   "cell_type": "code",
   "execution_count": null,
   "id": "3ab53684",
   "metadata": {
    "executionInfo": {
     "elapsed": 273,
     "status": "ok",
     "timestamp": 1666138772497,
     "user": {
      "displayName": "Roseli Aparecida Francelin Romero",
      "userId": "04295547795514221387"
     },
     "user_tz": 180
    },
    "id": "b7bZy--DwKQc",
    "outputId": "ff1c15df-8ead-4fbf-8ee6-570f3880d41a",
    "papermill": {
     "duration": null,
     "end_time": null,
     "exception": null,
     "start_time": null,
     "status": "pending"
    },
    "scrolled": true,
    "tags": []
   },
   "outputs": [],
   "source": [
    "# Computando as métricas para o teste\n",
    "score3 = model3.evaluate(X_val, y_val, verbose=0)\n",
    "\n",
    "print(\"Rede rasa\")\n",
    "print(\"--------\")\n",
    "print(\"Falsos negativos: \", score2[1])\n",
    "print(\"Falsos positivos: \", score2[2])\n",
    "print(\"Verdadeiros negativos: \", score2[3])\n",
    "print(\"Verdadeiros positivos: \", score2[4])\n",
    "print(\"Precisao: %.3f\" % score2[5])\n",
    "print(\"Revocacao: %.3f\\n\" % score2[6])\n",
    "\n",
    "print(\"Rede profunda\")\n",
    "print(\"--------\")\n",
    "print(\"Falsos negativos: \", score3[1])\n",
    "print(\"Falsos positivos: \", score3[2])\n",
    "print(\"Verdadeiros negativos: \", score3[3])\n",
    "print(\"Verdadeiros positivos: \", score3[4])\n",
    "print(\"Precisao: %.3f\" % score3[5])\n",
    "print(\"Revocacao: %.3f\" % score3[6])"
   ]
  },
  {
   "cell_type": "code",
   "execution_count": null,
   "id": "1cd83656",
   "metadata": {
    "id": "8_Z2u7NDVPHH",
    "papermill": {
     "duration": null,
     "end_time": null,
     "exception": null,
     "start_time": null,
     "status": "pending"
    },
    "tags": []
   },
   "outputs": [],
   "source": []
  }
 ],
 "metadata": {
  "kernelspec": {
   "display_name": "Python 3",
   "language": "python",
   "name": "python3"
  },
  "language_info": {
   "codemirror_mode": {
    "name": "ipython",
    "version": 3
   },
   "file_extension": ".py",
   "mimetype": "text/x-python",
   "name": "python",
   "nbconvert_exporter": "python",
   "pygments_lexer": "ipython3",
   "version": "3.7.12"
  },
  "papermill": {
   "default_parameters": {},
   "duration": 19.142614,
   "end_time": "2022-10-23T14:35:39.466420",
   "environment_variables": {},
   "exception": true,
   "input_path": "__notebook__.ipynb",
   "output_path": "__notebook__.ipynb",
   "parameters": {},
   "start_time": "2022-10-23T14:35:20.323806",
   "version": "2.3.4"
  }
 },
 "nbformat": 4,
 "nbformat_minor": 5
}
