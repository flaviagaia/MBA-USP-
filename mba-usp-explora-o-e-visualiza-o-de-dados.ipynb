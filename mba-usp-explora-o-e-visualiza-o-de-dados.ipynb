{
 "cells": [
  {
   "cell_type": "markdown",
   "id": "d76200bb",
   "metadata": {
    "id": "HaabIE4ETRhY",
    "papermill": {
     "duration": null,
     "end_time": null,
     "exception": null,
     "start_time": null,
     "status": "completed"
    },
    "tags": []
   },
   "source": [
    "# **CURSO 2 - CD, AM E DM**\n",
    "## **PROFa. Roseli A F Romero**\n",
    "\n",
    "#** MBA EM IA E BIGDATA**\n",
    "\n",
    "# Exercício 01 - **Exploração e visualização de dados**\n",
    "\n",
    "# **Objetivo**: Trabalhar com Dados unidimensionais e multidimensionais\n"
   ]
  },
  {
   "cell_type": "code",
   "execution_count": null,
   "id": "6e22a364",
   "metadata": {
    "id": "oxq0hsZLKbpq",
    "papermill": {
     "duration": null,
     "end_time": null,
     "exception": null,
     "start_time": null,
     "status": "completed"
    },
    "tags": []
   },
   "outputs": [],
   "source": [
    "# Permissão de leitura para o Drive\n",
    "# Autorize o Collab a acessar seus arquivos no drive\n",
    "from google.colab import drive\n",
    "drive.mount('/content/drive')"
   ]
  },
  {
   "cell_type": "markdown",
   "id": "bc22e784",
   "metadata": {
    "id": "RLBs7_E_KaAF",
    "papermill": {
     "duration": null,
     "end_time": null,
     "exception": null,
     "start_time": null,
     "status": "completed"
    },
    "tags": []
   },
   "source": [
    "Suponha que duas cidades diferentes tenham te fornecido as temperaturas máximas (celsius) durante diferente dias do ano.\n",
    "Os dados foram disponibilizados nos arquivos \"cidade_1.txt\" e \"cidade_2.txt\".\n",
    "\n",
    "As leituras estão em ordem cronológica, porém, o sensor da cidade 1 falhou em alguns dias. Nesses casos, a leitura foi substituida pelo o caracter \"?\".\n",
    "\n",
    "\n",
    "### **Questão 0**\n",
    "\n",
    "Substitua os valores faltantes pela média das leituras do dia anterior e do dia seguinte.\n",
    "\n",
    "---"
   ]
  },
  {
   "cell_type": "markdown",
   "id": "a3a25b7a",
   "metadata": {
    "id": "dKhpIYdSU18I",
    "papermill": {
     "duration": null,
     "end_time": null,
     "exception": null,
     "start_time": null,
     "status": "completed"
    },
    "tags": []
   },
   "source": [
    "Lendo dados das cidades 1 e 2. Especificamos que os valores ausentes são representados pelo caractere '?'. Use o comando info() para verificar se os dados foram carregados corretamente."
   ]
  },
  {
   "cell_type": "code",
   "execution_count": null,
   "id": "e40c4861",
   "metadata": {
    "id": "9p4v0FJRMUW_",
    "outputId": "ac48101f-a93e-42f4-f217-5d12d4d3164c",
    "papermill": {
     "duration": null,
     "end_time": null,
     "exception": null,
     "start_time": null,
     "status": "completed"
    },
    "tags": []
   },
   "outputs": [],
   "source": [
    "import numpy as np\n",
    "import pandas as pd\n",
    "\n",
    "cidade1 = pd.read_csv(\"cidade_1.txt\", names=[\"Temperatura\"], na_values=['?'])\n",
    "cidade1.info()"
   ]
  },
  {
   "cell_type": "code",
   "execution_count": null,
   "id": "2ef708da",
   "metadata": {
    "id": "oiSG1HgDU18K",
    "outputId": "fc16e887-160c-447b-90d2-3e901ee37141",
    "papermill": {
     "duration": null,
     "end_time": null,
     "exception": null,
     "start_time": null,
     "status": "completed"
    },
    "tags": []
   },
   "outputs": [],
   "source": [
    "cidade2 = pd.read_csv(\"cidade_2.txt\", names=[\"Temperatura\"], na_values=['?'])\n",
    "cidade2.info()"
   ]
  },
  {
   "cell_type": "markdown",
   "id": "87ff3500",
   "metadata": {
    "id": "vZqbPKI0U18L",
    "papermill": {
     "duration": null,
     "end_time": null,
     "exception": null,
     "start_time": null,
     "status": "completed"
    },
    "tags": []
   },
   "source": [
    "Notamos que apenas a cidade 1 possui valores faltantes, como esperado. Vamos verificar quais os índices que possuem valores faltantes:"
   ]
  },
  {
   "cell_type": "code",
   "execution_count": null,
   "id": "1b26746c",
   "metadata": {
    "id": "CzheSHMLU18L",
    "outputId": "98ff8f0e-b492-4564-9556-eb98912817f2",
    "papermill": {
     "duration": null,
     "end_time": null,
     "exception": null,
     "start_time": null,
     "status": "completed"
    },
    "tags": []
   },
   "outputs": [],
   "source": [
    "nans = cidade1.loc[np.any(cidade1.isna(),axis=1)]\n",
    "nans"
   ]
  },
  {
   "cell_type": "markdown",
   "id": "efc4d327",
   "metadata": {
    "id": "-RhoKhVDU18M",
    "papermill": {
     "duration": null,
     "end_time": null,
     "exception": null,
     "start_time": null,
     "status": "completed"
    },
    "tags": []
   },
   "source": [
    "Substituindo valores dos elementos 37 e 93 pela média do dia anterior e posterior"
   ]
  },
  {
   "cell_type": "code",
   "execution_count": null,
   "id": "8b7defc6",
   "metadata": {
    "id": "vMx_aK5WU18N",
    "outputId": "852f9cac-acea-49be-f39f-a83454887c0b",
    "papermill": {
     "duration": null,
     "end_time": null,
     "exception": null,
     "start_time": null,
     "status": "completed"
    },
    "tags": []
   },
   "outputs": [],
   "source": [
    "for index, row in nans.iterrows():\n",
    "    media = np.mean([cidade1.loc[index-1, 'Temperatura'],cidade1.loc[index+1, 'Temperatura']])\n",
    "    cidade1.loc[index, 'Temperatura'] = media\n",
    "cidade1.info()"
   ]
  },
  {
   "cell_type": "code",
   "execution_count": null,
   "id": "5c6029f0",
   "metadata": {
    "id": "QZJBm_XGU18O",
    "outputId": "71d10495-bfba-4716-f486-01b32fff3546",
    "papermill": {
     "duration": null,
     "end_time": null,
     "exception": null,
     "start_time": null,
     "status": "completed"
    },
    "tags": []
   },
   "outputs": [],
   "source": [
    "cidade1.loc[ 34:39]"
   ]
  },
  {
   "cell_type": "code",
   "execution_count": null,
   "id": "f8692e8b",
   "metadata": {
    "id": "TRU8vQRZU18P",
    "outputId": "57189381-58cb-46a9-916e-e637948e1f05",
    "papermill": {
     "duration": null,
     "end_time": null,
     "exception": null,
     "start_time": null,
     "status": "completed"
    },
    "tags": []
   },
   "outputs": [],
   "source": [
    "cidade1.loc[90:95]"
   ]
  },
  {
   "cell_type": "markdown",
   "id": "782a6db4",
   "metadata": {
    "id": "EjMiZQwCPEm5",
    "papermill": {
     "duration": null,
     "end_time": null,
     "exception": null,
     "start_time": null,
     "status": "completed"
    },
    "tags": []
   },
   "source": [
    "### **Questão 1**. \n",
    "Calcule a média e a variância de temperatura no ano para cada cidade.\n",
    "\n",
    "---"
   ]
  },
  {
   "cell_type": "markdown",
   "id": "202c8c42",
   "metadata": {
    "id": "oGmNYN_QU18P",
    "papermill": {
     "duration": null,
     "end_time": null,
     "exception": null,
     "start_time": null,
     "status": "completed"
    },
    "tags": []
   },
   "source": [
    "- Utilizando numpy:"
   ]
  },
  {
   "cell_type": "code",
   "execution_count": null,
   "id": "f03cf6c1",
   "metadata": {
    "id": "unbEq2aNMeIJ",
    "outputId": "f5e34d0f-436b-44fe-c8d3-72d91a2bf536",
    "papermill": {
     "duration": null,
     "end_time": null,
     "exception": null,
     "start_time": null,
     "status": "completed"
    },
    "scrolled": true,
    "tags": []
   },
   "outputs": [],
   "source": [
    "cidade1_temp_values = cidade1['Temperatura'].values\n",
    "cidade2_temp_values = cidade2['Temperatura'].values\n",
    "print('Media cidade 1 igual a: %.2f '% (np.mean(cidade1_temp_values)))\n",
    "print('Media cidade 2 igual a: %.2f '% (np.mean(cidade2_temp_values)))\n",
    "\n",
    "print('Variancia  da cidade 1 igual a: %.2f '% (np.var(cidade1_temp_values, ddof=1)))\n",
    "print('Variancia da cidade 2 igual a: %.2f '% (np.var(cidade2_temp_values, ddof=1)))\n",
    "# ddof=1 faz com que numpy use estimação não enviesada do desvio padrão. Isso é padrão no pandas\n",
    "# Mais info em https://en.wikipedia.org/wiki/Unbiased_estimation_of_standard_deviation\n"
   ]
  },
  {
   "cell_type": "markdown",
   "id": "aeaa4e5a",
   "metadata": {
    "id": "JugUyFuxU18Q",
    "papermill": {
     "duration": null,
     "end_time": null,
     "exception": null,
     "start_time": null,
     "status": "completed"
    },
    "tags": []
   },
   "source": [
    "- Utilizando `describe()` do pandas:"
   ]
  },
  {
   "cell_type": "code",
   "execution_count": null,
   "id": "8e9f9256",
   "metadata": {
    "id": "QW42I7vGU18Q",
    "outputId": "b002963e-e6d7-41e0-c79e-4c828627bd2c",
    "papermill": {
     "duration": null,
     "end_time": null,
     "exception": null,
     "start_time": null,
     "status": "completed"
    },
    "tags": []
   },
   "outputs": [],
   "source": [
    "cidade1.describe()"
   ]
  },
  {
   "cell_type": "code",
   "execution_count": null,
   "id": "b35b5c77",
   "metadata": {
    "id": "BEHep8AMU18R",
    "outputId": "7fa15495-1898-463a-c266-9070cd10b84a",
    "papermill": {
     "duration": null,
     "end_time": null,
     "exception": null,
     "start_time": null,
     "status": "completed"
    },
    "tags": []
   },
   "outputs": [],
   "source": [
    "cidade1.var()"
   ]
  },
  {
   "cell_type": "code",
   "execution_count": null,
   "id": "aa18449e",
   "metadata": {
    "id": "UtdXyLohU18R",
    "outputId": "a08971f6-a2be-4a86-a0bb-9bc9c96c5481",
    "papermill": {
     "duration": null,
     "end_time": null,
     "exception": null,
     "start_time": null,
     "status": "completed"
    },
    "tags": []
   },
   "outputs": [],
   "source": [
    "cidade2.describe()"
   ]
  },
  {
   "cell_type": "code",
   "execution_count": null,
   "id": "1c9453eb",
   "metadata": {
    "id": "u0Ex2R95U18S",
    "outputId": "105e3b9e-5310-497f-b23f-cd75d05c5f49",
    "papermill": {
     "duration": null,
     "end_time": null,
     "exception": null,
     "start_time": null,
     "status": "completed"
    },
    "tags": []
   },
   "outputs": [],
   "source": [
    "cidade2.var()"
   ]
  },
  {
   "cell_type": "markdown",
   "id": "25017452",
   "metadata": {
    "id": "mFsihmmueiSh",
    "papermill": {
     "duration": null,
     "end_time": null,
     "exception": null,
     "start_time": null,
     "status": "completed"
    },
    "tags": []
   },
   "source": [
    "### **Questão 2**.\n",
    "\n",
    "Construa o histograma para os dados da cidade 1 e para a cidade 2 (importar a biblioteca **seaborn**)\n",
    "\n",
    "---"
   ]
  },
  {
   "cell_type": "code",
   "execution_count": null,
   "id": "625950db",
   "metadata": {
    "id": "1ocKM0xcfg4o",
    "outputId": "a907c1eb-66cf-409e-c4e6-669a126f954d",
    "papermill": {
     "duration": null,
     "end_time": null,
     "exception": null,
     "start_time": null,
     "status": "completed"
    },
    "tags": []
   },
   "outputs": [],
   "source": [
    "import seaborn as sns\n",
    "\n",
    "# Usamos essa opção para melhor visualizar os gráficos\n",
    "sns.set(rc={'figure.figsize':(11.7,8.27)})\n",
    "\n",
    "sns.distplot(cidade1, bins=20, color=\"red\")\n",
    "sns.distplot(cidade2, bins=20, color=\"blue\")"
   ]
  },
  {
   "cell_type": "markdown",
   "id": "2ee65215",
   "metadata": {
    "id": "LfUgVvewegqP",
    "papermill": {
     "duration": null,
     "end_time": null,
     "exception": null,
     "start_time": null,
     "status": "completed"
    },
    "tags": []
   },
   "source": [
    "### **Questão 3**.\n",
    "\n",
    "Construa o boxplot para os dados da cidade 1 e para a cidade 2.\n",
    "\n",
    "---"
   ]
  },
  {
   "cell_type": "code",
   "execution_count": null,
   "id": "17111a3b",
   "metadata": {
    "id": "LlSWcsDFfVLG",
    "outputId": "dec2bbb8-aa21-4945-c712-c9e8bda122c3",
    "papermill": {
     "duration": null,
     "end_time": null,
     "exception": null,
     "start_time": null,
     "status": "completed"
    },
    "tags": []
   },
   "outputs": [],
   "source": [
    "df_cidades = pd.concat([cidade1.assign(Cidade=1), cidade2.assign(Cidade=2)])\n",
    "df_cidades = df_cidades.reset_index(drop=True)\n",
    "df_cidades"
   ]
  },
  {
   "cell_type": "code",
   "execution_count": null,
   "id": "b5354d2c",
   "metadata": {
    "id": "FIdkuCg3U18T",
    "outputId": "ab3080a0-96f0-470f-e3cd-bac90390a8cc",
    "papermill": {
     "duration": null,
     "end_time": null,
     "exception": null,
     "start_time": null,
     "status": "completed"
    },
    "tags": []
   },
   "outputs": [],
   "source": [
    "sns.boxplot(x='Cidade', y='Temperatura', data=df_cidades, showmeans=True)"
   ]
  },
  {
   "cell_type": "markdown",
   "id": "22c1a102",
   "metadata": {
    "id": "xywncXQHd8Ol",
    "papermill": {
     "duration": null,
     "end_time": null,
     "exception": null,
     "start_time": null,
     "status": "completed"
    },
    "tags": []
   },
   "source": [
    "Apesar da média da cidade 2 ser maior, percebemos que são apenas alguns outliers que puxam seu valor para cima. Pelo bloxplot, percebemos também que a cidade 1 teve uma variância menor do que a cidade 2. "
   ]
  },
  {
   "cell_type": "markdown",
   "id": "e9c46e09",
   "metadata": {
    "id": "JZWmSWQkc213",
    "papermill": {
     "duration": null,
     "end_time": null,
     "exception": null,
     "start_time": null,
     "status": "completed"
    },
    "tags": []
   },
   "source": [
    "### **Questão 4**. \n",
    "Calcule o número de dias quentes em cada cidade. Consideramos um dia como quente caso sua temperatura máxima tenha sido maior ou igual 25 graus celsius.\n",
    "- Dica: Use a função `argwhere` da biblioteca **numpy** ou `query` do **pandas**.\n",
    "\n",
    "---"
   ]
  },
  {
   "cell_type": "markdown",
   "id": "e63d031f",
   "metadata": {
    "id": "r9uvVSE1U18U",
    "papermill": {
     "duration": null,
     "end_time": null,
     "exception": null,
     "start_time": null,
     "status": "completed"
    },
    "tags": []
   },
   "source": [
    "- Usando numpy:"
   ]
  },
  {
   "cell_type": "code",
   "execution_count": null,
   "id": "f46f782a",
   "metadata": {
    "id": "H3bTA1hEMiB0",
    "outputId": "87a6540b-3ca3-4fb4-e84a-1161e8d25322",
    "papermill": {
     "duration": null,
     "end_time": null,
     "exception": null,
     "start_time": null,
     "status": "completed"
    },
    "scrolled": true,
    "tags": []
   },
   "outputs": [],
   "source": [
    "#Dias quentes cidade 1\n",
    "dias_quentes_1 = np.argwhere(cidade1.values>=25)\n",
    "print(\"Numero de Dias quentes cidade 1:\" , len(dias_quentes_1))\n",
    "\n",
    "#Dias quentes cidade 2\n",
    "dias_quentes_2 = np.argwhere(cidade2.values>=25)\n",
    "print(\"Numero de Dias quentes cidade 2:\" , len(dias_quentes_2))\n"
   ]
  },
  {
   "cell_type": "markdown",
   "id": "f6c66d97",
   "metadata": {
    "id": "y3ulMnXlU18V",
    "papermill": {
     "duration": null,
     "end_time": null,
     "exception": null,
     "start_time": null,
     "status": "completed"
    },
    "tags": []
   },
   "source": [
    "- Usando pandas:"
   ]
  },
  {
   "cell_type": "code",
   "execution_count": null,
   "id": "3af8cd9f",
   "metadata": {
    "id": "Ge_8hPe2vGBn",
    "outputId": "449b4b16-0ae6-418f-bdfd-04e4dc4786e1",
    "papermill": {
     "duration": null,
     "end_time": null,
     "exception": null,
     "start_time": null,
     "status": "completed"
    },
    "tags": []
   },
   "outputs": [],
   "source": [
    "dias_quentes_1 = cidade1.query('Temperatura >= 25').size\n",
    "print(\"Numero de Dias quentes cidade 1:\", dias_quentes_1)\n",
    "\n",
    "dias_quentes_2 = cidade2.query('Temperatura >= 25').size\n",
    "print(\"Numero de Dias quentes cidade 2:\" , dias_quentes_2)"
   ]
  },
  {
   "cell_type": "markdown",
   "id": "eb88ba9c",
   "metadata": {
    "id": "eKwZoSVU2VcP",
    "papermill": {
     "duration": null,
     "end_time": null,
     "exception": null,
     "start_time": null,
     "status": "completed"
    },
    "tags": []
   },
   "source": [
    "## **Dados multidimensionais** \n",
    "\n",
    "Considere o conjunto de dados dos jogadores de futebol fornecido, que possui vários atributos (08) sendo  3 atributos numericos: height, weight, age. Faça a leitura do arquivo: jogadores_exercicio1.csv.\n",
    " \n",
    "\n",
    "---"
   ]
  },
  {
   "cell_type": "code",
   "execution_count": null,
   "id": "810c7519",
   "metadata": {
    "id": "yma46nUyUUpS",
    "outputId": "a53a85ca-7b4e-4613-80b2-237a8009af51",
    "papermill": {
     "duration": null,
     "end_time": null,
     "exception": null,
     "start_time": null,
     "status": "completed"
    },
    "tags": []
   },
   "outputs": [],
   "source": [
    "players = pd.read_csv(\"jogadores_exercicio1.csv\")\n",
    "players"
   ]
  },
  {
   "cell_type": "code",
   "execution_count": null,
   "id": "25dcac6f",
   "metadata": {
    "id": "a8czJ8Y0U18W",
    "outputId": "4ee79e17-a9d7-4617-9000-e43a504612b5",
    "papermill": {
     "duration": null,
     "end_time": null,
     "exception": null,
     "start_time": null,
     "status": "completed"
    },
    "tags": []
   },
   "outputs": [],
   "source": [
    "players.info()"
   ]
  },
  {
   "cell_type": "markdown",
   "id": "c8bb8d93",
   "metadata": {
    "id": "ESFpa2pDU_xu",
    "papermill": {
     "duration": null,
     "end_time": null,
     "exception": null,
     "start_time": null,
     "status": "completed"
    },
    "tags": []
   },
   "source": [
    "\n",
    "\n",
    "### **Questão 5**. \n",
    "\n",
    "Calcule os quatro momentos (média, variância, obliquidade e achatamento) para os atributos `height`, `weight` e `age`.\n",
    "\n",
    " - Dica: Utilize os métodos `mean()`,  `var()`, `skew()` e `kurtosis()` do `pandas.DataFrame`.\n",
    " \n",
    " ---"
   ]
  },
  {
   "cell_type": "code",
   "execution_count": null,
   "id": "90edaecd",
   "metadata": {
    "id": "bep2a06hU18W",
    "outputId": "dc7a006d-1176-4272-fb71-9d3643ed5554",
    "papermill": {
     "duration": null,
     "end_time": null,
     "exception": null,
     "start_time": null,
     "status": "completed"
    },
    "tags": []
   },
   "outputs": [],
   "source": [
    "numeric_attribs1 = players[ ['height'] ]\n",
    "numeric_attribs1"
   ]
  },
  {
   "cell_type": "code",
   "execution_count": null,
   "id": "8eca3852",
   "metadata": {
    "id": "KANPXxGLU18X",
    "outputId": "56c9a9a4-1c86-4ac0-932b-5af91530d107",
    "papermill": {
     "duration": null,
     "end_time": null,
     "exception": null,
     "start_time": null,
     "status": "completed"
    },
    "tags": []
   },
   "outputs": [],
   "source": [
    "print(\"Média:\")\n",
    "print(numeric_attribs1.mean().to_string())"
   ]
  },
  {
   "cell_type": "code",
   "execution_count": null,
   "id": "ef778ce2",
   "metadata": {
    "id": "2mC7rtymU18X",
    "outputId": "b5e6fce4-b132-4165-ae4f-4d3aa2c0c4e2",
    "papermill": {
     "duration": null,
     "end_time": null,
     "exception": null,
     "start_time": null,
     "status": "completed"
    },
    "tags": []
   },
   "outputs": [],
   "source": [
    "print(\"Variância:\")\n",
    "print(numeric_attribs1.var().to_string())"
   ]
  },
  {
   "cell_type": "code",
   "execution_count": null,
   "id": "1c069e07",
   "metadata": {
    "id": "Fhpc1cPBU18X",
    "outputId": "192138b9-c62e-4f54-9e10-3f1ef83f66c4",
    "papermill": {
     "duration": null,
     "end_time": null,
     "exception": null,
     "start_time": null,
     "status": "completed"
    },
    "tags": []
   },
   "outputs": [],
   "source": [
    "print(\"Obliquidade:\")\n",
    "print(numeric_attribs1.skew().to_string())"
   ]
  },
  {
   "cell_type": "code",
   "execution_count": null,
   "id": "198c7e91",
   "metadata": {
    "id": "MaIMyeadU18X",
    "outputId": "be9a873f-9ebf-4342-c744-343e3919796a",
    "papermill": {
     "duration": null,
     "end_time": null,
     "exception": null,
     "start_time": null,
     "status": "completed"
    },
    "tags": []
   },
   "outputs": [],
   "source": [
    "print(\"Achatamento:\")\n",
    "print(numeric_attribs1.kurtosis().to_string())"
   ]
  },
  {
   "cell_type": "markdown",
   "id": "66dfa811",
   "metadata": {
    "id": "ULRqO72eYtBz",
    "papermill": {
     "duration": null,
     "end_time": null,
     "exception": null,
     "start_time": null,
     "status": "completed"
    },
    "tags": []
   },
   "source": [
    "###**Questão 6**.\n",
    "\n",
    "Gere o boxplot de atributo Height do conjunto, analise se os dados estão centrados (simetria) e estime os quartis deste atributo.\n",
    "\n",
    "---"
   ]
  },
  {
   "cell_type": "code",
   "execution_count": null,
   "id": "946b42ac",
   "metadata": {
    "id": "5kKke_Q1U18Y",
    "outputId": "3543a6e8-cbe8-455d-a152-1fa2a5cf0cb1",
    "papermill": {
     "duration": null,
     "end_time": null,
     "exception": null,
     "start_time": null,
     "status": "completed"
    },
    "tags": []
   },
   "outputs": [],
   "source": [
    "sns.boxplot(y = 'height', data=players, showmeans=True)"
   ]
  },
  {
   "cell_type": "code",
   "execution_count": null,
   "id": "b2e9f78f",
   "metadata": {
    "id": "eOgYGH7tBpE2",
    "outputId": "29a8330b-564b-4a6f-a8e5-5e13fe06f9d2",
    "papermill": {
     "duration": null,
     "end_time": null,
     "exception": null,
     "start_time": null,
     "status": "completed"
    },
    "tags": []
   },
   "outputs": [],
   "source": [
    "print(players['height'].describe())\n",
    "print('Mediana: ', players['height'].median())\n",
    "print('Media:  ', players['height'].mean())\n",
    "print('Obliquidade: ', players['height'].skew())"
   ]
  },
  {
   "cell_type": "markdown",
   "id": "ba486fe2",
   "metadata": {
    "id": "H37h_Wf4gjLD",
    "papermill": {
     "duration": null,
     "end_time": null,
     "exception": null,
     "start_time": null,
     "status": "completed"
    },
    "tags": []
   },
   "source": [
    "Observamos uma sutil diferença entre a média e mediana, mostrando que os dados estão praticamente centralizados uma vez que sua obliquidade é desconsiderável.\n",
    "\n",
    "Podemos confirmar calculando diretamente a obliquidade da distribuição, que teve resultado negativo porém perto de 0, indicando que a distribuição tem uma cauda à esquerda porém não muito significativa.\n"
   ]
  },
  {
   "cell_type": "markdown",
   "id": "d6169439",
   "metadata": {
    "id": "yFFBNqDdE2oZ",
    "papermill": {
     "duration": null,
     "end_time": null,
     "exception": null,
     "start_time": null,
     "status": "completed"
    },
    "tags": []
   },
   "source": [
    "###**Questão 7**.\n",
    "Calcule os quatro momentos (média, variância, obliquidade e achatamento) para o atributo **weight**."
   ]
  },
  {
   "cell_type": "code",
   "execution_count": null,
   "id": "48d16006",
   "metadata": {
    "id": "mVZXDOq8FXmt",
    "outputId": "ac7f5293-e43e-4460-cd53-0ff823538165",
    "papermill": {
     "duration": null,
     "end_time": null,
     "exception": null,
     "start_time": null,
     "status": "completed"
    },
    "tags": []
   },
   "outputs": [],
   "source": [
    "numeric_attribs2 = players[ ['weight'] ]\n",
    "numeric_attribs2"
   ]
  },
  {
   "cell_type": "code",
   "execution_count": null,
   "id": "538bbb4d",
   "metadata": {
    "id": "vQensxIzFdjM",
    "outputId": "6560eff5-9ffc-4a65-adf9-fcba469a8544",
    "papermill": {
     "duration": null,
     "end_time": null,
     "exception": null,
     "start_time": null,
     "status": "completed"
    },
    "tags": []
   },
   "outputs": [],
   "source": [
    "print(\"Média:\")\n",
    "print(numeric_attribs2.mean().to_string())\n",
    "print(\"Variância:\")\n",
    "print(numeric_attribs2.var().to_string())\n",
    "print(\"Obliquidade:\")\n",
    "print(numeric_attribs2.skew().to_string())\n",
    "print(\"Achatamento:\")\n",
    "print(numeric_attribs2.kurtosis().to_string())"
   ]
  },
  {
   "cell_type": "markdown",
   "id": "1a7861aa",
   "metadata": {
    "id": "nTE_ivHuE2ze",
    "papermill": {
     "duration": null,
     "end_time": null,
     "exception": null,
     "start_time": null,
     "status": "completed"
    },
    "tags": []
   },
   "source": [
    "###**Questão 8**.\n",
    "Gere o boxplot de atributo **weight** do conjunto, analise se os dados estão centrados (simetria) e estime os quartis deste atributo."
   ]
  },
  {
   "cell_type": "code",
   "execution_count": null,
   "id": "d03a59da",
   "metadata": {
    "id": "GGN27IzzF8Bt",
    "outputId": "45a3a3b6-28c9-46aa-bab1-1fd6fa3d3aa7",
    "papermill": {
     "duration": null,
     "end_time": null,
     "exception": null,
     "start_time": null,
     "status": "completed"
    },
    "tags": []
   },
   "outputs": [],
   "source": [
    "sns.boxplot(y = 'weight', data=players, showmeans=True)"
   ]
  },
  {
   "cell_type": "code",
   "execution_count": null,
   "id": "ff56c6aa",
   "metadata": {
    "id": "5DyYwucGGUo7",
    "outputId": "c1541bf7-1969-4b90-86b9-6cbb3509de00",
    "papermill": {
     "duration": null,
     "end_time": null,
     "exception": null,
     "start_time": null,
     "status": "completed"
    },
    "tags": []
   },
   "outputs": [],
   "source": [
    "print(players['weight'].describe())\n",
    "print('Mediana: ', players['weight'].median())\n",
    "print('Media:  ', players['weight'].mean())\n",
    "print('Obliquidade: ', players['weight'].skew())"
   ]
  },
  {
   "cell_type": "markdown",
   "id": "a63c9965",
   "metadata": {
    "id": "RE2s3bP-G_GS",
    "papermill": {
     "duration": null,
     "end_time": null,
     "exception": null,
     "start_time": null,
     "status": "completed"
    },
    "tags": []
   },
   "source": [
    "Observamos que não existe diferença entre a média e mediana, mostrando que os dados estã centralizados uma vez que sua obliquidade é desconsiderável (muito próximo de zero).\n",
    "\n",
    "Podemos confirmar calculando diretamente a obliquidade da distribuição, que teve resultado positivo porém perto de 0, indicando que a distribuição está centrada na média."
   ]
  },
  {
   "cell_type": "markdown",
   "id": "ab2c252d",
   "metadata": {
    "id": "3xhGLz0FE29G",
    "papermill": {
     "duration": null,
     "end_time": null,
     "exception": null,
     "start_time": null,
     "status": "completed"
    },
    "tags": []
   },
   "source": [
    "###**Questão 9**.\n",
    "Calcule os quatro momentos (média, variância, obliquidade e achatamento) para o atributo **age**."
   ]
  },
  {
   "cell_type": "code",
   "execution_count": null,
   "id": "fb367a98",
   "metadata": {
    "id": "rtBgmW43HCGg",
    "outputId": "d69ad70c-fc27-4d65-f446-25c47ec3a133",
    "papermill": {
     "duration": null,
     "end_time": null,
     "exception": null,
     "start_time": null,
     "status": "completed"
    },
    "tags": []
   },
   "outputs": [],
   "source": [
    "numeric_attribs3 = players[ ['age'] ]\n",
    "numeric_attribs3"
   ]
  },
  {
   "cell_type": "code",
   "execution_count": null,
   "id": "003276e9",
   "metadata": {
    "id": "1s5DttshHCuX",
    "outputId": "56c1f121-c301-4007-8ee7-d4a988123f08",
    "papermill": {
     "duration": null,
     "end_time": null,
     "exception": null,
     "start_time": null,
     "status": "completed"
    },
    "tags": []
   },
   "outputs": [],
   "source": [
    "print(\"Média:\")\n",
    "print(numeric_attribs3.mean().to_string())\n",
    "print(\"Variância:\")\n",
    "print(numeric_attribs3.var().to_string())\n",
    "print(\"Obliquidade:\")\n",
    "print(numeric_attribs3.skew().to_string())\n",
    "print(\"Achatamento:\")\n",
    "print(numeric_attribs3.kurtosis().to_string())"
   ]
  },
  {
   "cell_type": "markdown",
   "id": "471a7364",
   "metadata": {
    "id": "xSrAKlrUE3Im",
    "papermill": {
     "duration": null,
     "end_time": null,
     "exception": null,
     "start_time": null,
     "status": "completed"
    },
    "tags": []
   },
   "source": [
    "###**Questão 10**.\n",
    "Gere o boxplot de atributo **Age** do conjunto, analise se os dados estão centrados (simetria) e estime os quartis deste atributo."
   ]
  },
  {
   "cell_type": "code",
   "execution_count": null,
   "id": "7274a0cf",
   "metadata": {
    "id": "3jPM0b6VHV2n",
    "outputId": "938c7a43-6f57-4213-f0ee-28fa1c9558d5",
    "papermill": {
     "duration": null,
     "end_time": null,
     "exception": null,
     "start_time": null,
     "status": "completed"
    },
    "tags": []
   },
   "outputs": [],
   "source": [
    "sns.boxplot(y = 'age', data=players, showmeans=True)"
   ]
  },
  {
   "cell_type": "code",
   "execution_count": null,
   "id": "08186910",
   "metadata": {
    "id": "gwcj3KtUHV-u",
    "outputId": "93b3e7e3-61c4-4cd7-fadf-9027ce1985bc",
    "papermill": {
     "duration": null,
     "end_time": null,
     "exception": null,
     "start_time": null,
     "status": "completed"
    },
    "tags": []
   },
   "outputs": [],
   "source": [
    "print(players['age'].describe())\n",
    "print('Mediana: ', players['age'].median())\n",
    "print('Media:  ', players['age'].mean())\n",
    "print('Obliquidade: ', players['age'].skew())"
   ]
  },
  {
   "cell_type": "markdown",
   "id": "56320356",
   "metadata": {
    "id": "BAdlT-4DHrpI",
    "papermill": {
     "duration": null,
     "end_time": null,
     "exception": null,
     "start_time": null,
     "status": "completed"
    },
    "tags": []
   },
   "source": [
    "Observamos que não existe diferença entre a média e mediana, mostrando que os dados estão centralizados sendo que a obliquidade aponta que a cauda tem uma leve tendencia para a direita.\n",
    "\n",
    "A obliquidade da distribuição tem o valor aproximado de 0.3, positivo porém perto de 0."
   ]
  }
 ],
 "metadata": {
  "colab": {
   "collapsed_sections": [],
   "name": "Exercicio_01_Fixação_Resolvido.ipynb",
   "provenance": []
  },
  "kernelspec": {
   "display_name": "BigData2021",
   "language": "python",
   "name": "bigdata2021"
  },
  "language_info": {
   "codemirror_mode": {
    "name": "ipython",
    "version": 3
   },
   "file_extension": ".py",
   "mimetype": "text/x-python",
   "name": "python",
   "nbconvert_exporter": "python",
   "pygments_lexer": "ipython3",
   "version": "3.8.11"
  },
  "papermill": {
   "default_parameters": {},
   "duration": 0.400185,
   "end_time": "2022-10-01T12:03:52.605989",
   "environment_variables": {},
   "exception": null,
   "input_path": "__notebook__.ipynb",
   "output_path": "__notebook__.ipynb",
   "parameters": {},
   "start_time": "2022-10-01T12:03:52.205804",
   "version": "2.3.4"
  }
 },
 "nbformat": 4,
 "nbformat_minor": 5
}
